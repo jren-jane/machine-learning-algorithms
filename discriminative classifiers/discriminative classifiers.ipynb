{
 "cells": [
  {
   "cell_type": "code",
   "execution_count": 140,
   "metadata": {
    "id": "2CohoKCA6bnN"
   },
   "outputs": [],
   "source": [
    "from math import sqrt\n",
    "import matplotlib.pyplot as plt\n",
    "import matplotlib as mpl\n",
    "import numpy as np\n",
    "from numpy.linalg import multi_dot\n",
    "from numpy.linalg import inv\n",
    "from numpy.linalg import det\n",
    "import pandas as pd\n",
    "import random\n",
    "import math"
   ]
  },
  {
   "cell_type": "markdown",
   "metadata": {
    "id": "7c2RZmGacVRF"
   },
   "source": [
    "# Auxilary classes and methods"
   ]
  },
  {
   "cell_type": "code",
   "execution_count": 141,
   "metadata": {
    "id": "neQLfDc3cVRF"
   },
   "outputs": [],
   "source": [
    "def train_test_split(data, test_ratio):\n",
    "    shuffled_indices = np.random.permutation(len(data))\n",
    "    test_size = int(len(data) * test_ratio)\n",
    "    test_indices = shuffled_indices[:test_size]\n",
    "    train_indices = shuffled_indices[test_size:]\n",
    "    return data.iloc[train_indices], data.iloc[test_indices]"
   ]
  },
  {
   "cell_type": "code",
   "execution_count": 142,
   "metadata": {
    "id": "KAYZTfP6cVRG"
   },
   "outputs": [],
   "source": [
    "def feature_normalize(df, mu=None, sigma=None):\n",
    "    # copy the dataframe\n",
    "    if df.size == 0:\n",
    "        return df, None, None\n",
    "    df_normalized = df.copy()\n",
    "    if mu is None and sigma is None:\n",
    "        mu = df_normalized.mean(axis=0)\n",
    "        sigma = df_normalized.std(axis=0, ddof=1)\n",
    "    df_normalized = (df_normalized - mu) / sigma\n",
    "    return df_normalized, mu, sigma"
   ]
  },
  {
   "cell_type": "code",
   "execution_count": 143,
   "metadata": {
    "id": "AfTV19M0cVRG"
   },
   "outputs": [],
   "source": [
    "def feature_minmax(df, min_value=None, minmax_gap=None):\n",
    "    # copy the dataframe\n",
    "    if df.size == 0:\n",
    "        return df, None, None\n",
    "    df_normalized = df.copy()\n",
    "    if min_value is None and minmax_gap is None:\n",
    "        min_value = df_normalized.min(axis=0)\n",
    "        minmax_gap = df_normalized.max(axis=0) - df_normalized.min(axis=0)\n",
    "    df_normalized = (df_normalized - min_value) / minmax_gap\n",
    "    return df_normalized, min_value, minmax_gap"
   ]
  },
  {
   "cell_type": "code",
   "execution_count": 144,
   "metadata": {
    "id": "ZKhKgjU16bnR"
   },
   "outputs": [],
   "source": [
    "# This method transforms a group set vector into a binary group set matrix\n",
    "def transform_labels(classLabels):\n",
    "    new_label = np.zeros((len(classLabels), len(np.unique(classLabels))))\n",
    "    for i in range(len(classLabels)):\n",
    "        if classLabels[i] == 1:\n",
    "            new_label[i][0] = 1\n",
    "        elif classLabels[i] == 2:\n",
    "            new_label[i][1] = 1\n",
    "        else:\n",
    "            new_label[i][2] = 1\n",
    "    return new_label"
   ]
  },
  {
   "cell_type": "code",
   "execution_count": 145,
   "metadata": {
    "id": "gztQ7-WMcVRH"
   },
   "outputs": [],
   "source": [
    "def transform_perceptron_sign(array):\n",
    "    for i in range(len(array)):\n",
    "        if array[i] == 3: # Here I am hard-coding a class 3 for just this problem. In general, we need to map two class labels into -1 and 1.\n",
    "            array[i] = -1\n",
    "    return array\n",
    "\n",
    "def loss(y, y_pred, type_of_loss=None, features_set=None, beta=None):\n",
    "    y = np.array(y).ravel()\n",
    "    y_pred = np.array(y_pred).ravel()\n",
    "    if type_of_loss == 'mse':\n",
    "        loss = (y - y_pred) ** 2 / len(y)\n",
    "        return loss\n",
    "    elif type_of_loss == '0-1':\n",
    "        # binary classification\n",
    "        # assume that wine type 1 is for positive, type 2 is for negative\n",
    "        # however, we have to reassign the group numbers if we classify wine type 3\n",
    "        if len(np.unique(y_pred)) <= 2:\n",
    "            loss = np.sum(y != y_pred)\n",
    "            # false positive: true 2 classified as 1\n",
    "            type_i_error = np.sum(y_pred < y)\n",
    "            # false negative: true 1 classified as 2\n",
    "            type_ii_error = np.sum(y < y_pred)\n",
    "            return loss, type_i_error, type_ii_error\n",
    "        else:\n",
    "            loss = np.sum(y != y_pred)\n",
    "            return loss\n",
    "    elif type_of_loss == 'hinge':\n",
    "        loss = 0\n",
    "        y = transform_perceptron_sign(np.array(y)).ravel()\n",
    "        y_pred = transform_perceptron_sign(np.array(y_pred)).ravel()\n",
    "        for i in range(len(y)):\n",
    "            if y[i] * y_pred[i] < 1:\n",
    "                loss += 1 - y[i] * np.dot(np.array(features_set)[i].T, beta[0])\n",
    "        return loss\n",
    "    else: \n",
    "        message = 'type of error not specified'\n",
    "        return message"
   ]
  },
  {
   "cell_type": "markdown",
   "metadata": {
    "id": "KY_hn6ExcVRI"
   },
   "source": [
    "# Logistic classifier"
   ]
  },
  {
   "cell_type": "code",
   "execution_count": 146,
   "metadata": {
    "id": "RU6wKSPocVRI"
   },
   "outputs": [],
   "source": [
    "class LogisticClassifier():\n",
    "    def __init__(self):\n",
    "        self.logit_param = None\n",
    "        self.class_labels = None\n",
    "        self.mu = None\n",
    "        self.sigma = None\n",
    "\n",
    "    def fit(self, features_set, group_set, class_labels, alpha=0.1, num_iter=250, reg_opt = None, lambda_ = 0.01):\n",
    "        complete_set = pd.concat([group_set, features_set], axis=1)\n",
    "        sorted_complete_set = pd.merge(class_labels, complete_set, on='Label', sort=False)\n",
    "        features_set = np.array(sorted_complete_set.iloc[:, 1:])\n",
    "        features_set, self.mu, self.sigma = feature_normalize(features_set)\n",
    "        group_set = np.array(sorted_complete_set.iloc[:, 0])\n",
    "        class_labels = np.array(class_labels).ravel()\n",
    "        sample_size = features_set.shape[0]\n",
    "        self.class_labels = class_labels\n",
    "        \n",
    "        if len(self.class_labels) == 2:\n",
    "            weight = np.zeros(features_set.shape[1])\n",
    "            bias = 0\n",
    "            class_labels_transform = (group_set==class_labels[0])\n",
    "            for i in range(num_iter):\n",
    "                sigma = 1 / (1 + np.exp(-np.dot(features_set, weight) - bias))\n",
    "                if reg_opt == 'l1': # Lasso regression\n",
    "                    gradient = np.dot(features_set.T, (sigma * np.ones(sample_size) - class_labels_transform)) / sample_size + lambda_ * np.sign(weight) \n",
    "                elif reg_opt == 'l2': # Ridge regression\n",
    "                    gradient = np.dot(features_set.T, (sigma * np.ones(sample_size) - class_labels_transform)) / sample_size + lambda_ * weight \n",
    "                else:\n",
    "                    gradient = np.dot(features_set.T, (sigma * np.ones(sample_size) - class_labels_transform)) / sample_size\n",
    "                #db = np.sum(sigma - group_set) / features_set.shape[0]\n",
    "                db = np.sum(sigma * np.ones(features_set.shape[0]) - (group_set==class_labels[0])) / sample_size\n",
    "                weight -= alpha * gradient\n",
    "                bias -= alpha * db\n",
    "        else:\n",
    "            weight = np.zeros((features_set.shape[1], len(np.unique(group_set))))\n",
    "            bias = 0\n",
    "            class_labels_transform = transform_labels(group_set)\n",
    "            for i in range(num_iter):\n",
    "                # sigma = np.exp(np.dot(featuresSet, weight) + bias) / 1 + np.sum(np.exp(np.dot(featuresSet, weight) + bias))\n",
    "                # sigma = softmax(np.dot(features_set, weight) + bias)\n",
    "                sigma = np.exp(np.dot(features_set, weight) + bias) / np.sum(np.exp(np.dot(features_set, weight) + bias), axis = 1).reshape(-1, 1)\n",
    "                if reg_opt == 'l1': # Lasso regression\n",
    "                    gradient = np.dot(features_set.T, (sigma - class_labels_transform)) / sample_size + lambda_ * np.sign(weight) \n",
    "                elif reg_opt == 'l2': # Ridge regression\n",
    "                    gradient = np.dot(features_set.T, (sigma - class_labels_transform)) / sample_size + lambda_ * weight\n",
    "                else:\n",
    "                    gradient = np.dot(features_set.T, (sigma - class_labels_transform)) / sample_size\n",
    "                db = np.sum(sigma - class_labels_transform) / features_set.shape[0]\n",
    "                weight -= alpha * gradient\n",
    "                bias -= alpha * db\n",
    "        self.logit_param = weight, bias\n",
    "        return self\n",
    "\n",
    "    def predict(self, features_set):\n",
    "        features_set = feature_normalize(features_set, self.mu, self.sigma)[0]\n",
    "        if len(self.class_labels) == 2:\n",
    "            result = 1 / (1 + np.exp(-np.dot(features_set, self.logit_param[0]) - self.logit_param[1]))\n",
    "            # y_pred = np.where(result >= 0.5, 1, 0)\n",
    "            y_pred = np.zeros(result.shape[0])\n",
    "            for i in range(len(y_pred)):\n",
    "                if result[i] >= 0.5:  # threshold = 0.5\n",
    "                    y_pred[i] = self.class_labels[0]\n",
    "                else:\n",
    "                    y_pred[i] = self.class_labels[1]\n",
    "        else:\n",
    "            # result = np.exp(np.dot(featuresSet, logit_param[0]) + logit_param[1]) / 1 + np.sum(np.exp(np.dot(featuresSet, logit_param[0]) + logit_param[1]))\n",
    "            # result = softmax(np.dot(features_set, self.logit_param[0]) + self.logit_param[1])\n",
    "            result = np.exp(np.dot(features_set, self.logit_param[0]) + self.logit_param[1]) / np.sum(np.exp(np.dot(features_set, self.logit_param[0]) + self.logit_param[1]), axis = 1).reshape(-1, 1)\n",
    "            y_pred = self.class_labels[np.argmax(result, axis=1)]\n",
    "        return y_pred"
   ]
  },
  {
   "cell_type": "markdown",
   "metadata": {
    "id": "RMDnC93FcVRJ"
   },
   "source": [
    "# Perceptron"
   ]
  },
  {
   "cell_type": "code",
   "execution_count": 147,
   "metadata": {
    "id": "KMi5Dk3Z6bnU"
   },
   "outputs": [],
   "source": [
    "def step(features_set, weight, bias):\n",
    "        z = np.dot(weight, features_set) + bias\n",
    "        if z >= 0:\n",
    "            return 1\n",
    "        else:\n",
    "            return 0\n",
    "        \n",
    "class Perceptron():\n",
    "\n",
    "    def __init__(self):\n",
    "        self.class_labels = None\n",
    "        self.beta = None\n",
    "        self.min_value = None\n",
    "        self.minmax_gap = None\n",
    "\n",
    "    def fit(self, features_set, group_set, class_labels, alpha=0.01, num_iter=1000):\n",
    "        complete_set = pd.concat([group_set, features_set], axis=1)\n",
    "        sorted_complete_set = pd.merge(class_labels, complete_set, on='Label', sort=False)\n",
    "        features_set = np.array(sorted_complete_set.iloc[:, 1:])\n",
    "        features_set, self.min_value, self.minmax_gap = feature_minmax(features_set)\n",
    "        group_set = np.array(sorted_complete_set.iloc[:, 0])\n",
    "        class_labels = np.array(class_labels).ravel()\n",
    "        self.class_labels = class_labels\n",
    "        class_labels_transform = (group_set==class_labels[0])\n",
    "        weight = np.random.randn(features_set.shape[1])\n",
    "        bias = np.random.randn()\n",
    "        for i in range(num_iter):\n",
    "            for m in range(len(features_set)):\n",
    "                y_ = step(features_set[m], weight, bias)\n",
    "                for n in range(len(weight)):\n",
    "                    weight[n] += alpha * (class_labels_transform[m] - y_) * features_set[m][n]\n",
    "                    bias += alpha * (class_labels_transform[m] - y_)\n",
    "        self.beta = weight, bias\n",
    "        return self\n",
    "\n",
    "    def predict(self, features_set):\n",
    "        features_set = feature_minmax(features_set, self.min_value, self.minmax_gap)[0]\n",
    "        result = np.dot(features_set, self.beta[0]) + self.beta[1]\n",
    "        y_pred = np.zeros(result.shape[0])\n",
    "        for i in range(len(y_pred)):\n",
    "            if result[i] >= 0:\n",
    "                y_pred[i] = self.class_labels[0]\n",
    "            else:\n",
    "                y_pred[i] = self.class_labels[1]\n",
    "        return y_pred"
   ]
  },
  {
   "cell_type": "markdown",
   "metadata": {
    "id": "15eYkb__cVRJ"
   },
   "source": [
    "# K nearest neighbours"
   ]
  },
  {
   "cell_type": "code",
   "execution_count": 148,
   "metadata": {
    "id": "W4VkbTpLcVRK"
   },
   "outputs": [],
   "source": [
    "def KNN_fit(train_sample, train_class, test, k):\n",
    "    train_sample, mu, sigma = feature_normalize(train_sample)\n",
    "    train_sample = np.array(train_sample)\n",
    "    train_class = np.array(train_class).ravel().astype(np.int)\n",
    "    test = feature_normalize(test, mu, sigma)[0]\n",
    "    test = np.array(test)\n",
    "    sample_size = train_sample.shape[0]\n",
    "    test_size = test.shape[0]\n",
    "    result = []\n",
    "    for i in range(test_size):\n",
    "        distance_all = []\n",
    "        for j in range(sample_size):\n",
    "            distance = np.sum((test[i] - train_sample[j])**2)\n",
    "            distance_all.append(distance)\n",
    "        neighbours_index = np.argsort(distance_all)[0 : k]\n",
    "        class_counts = np.bincount(train_class[neighbours_index])\n",
    "        most_frequent_class = np.argmax(class_counts)\n",
    "        result.append(most_frequent_class)\n",
    "    return result"
   ]
  },
  {
   "cell_type": "markdown",
   "metadata": {
    "id": "nXpgZ7ge6bnX"
   },
   "source": [
    "# Binary classification"
   ]
  },
  {
   "cell_type": "code",
   "execution_count": 149,
   "metadata": {
    "id": "q2ET_FhDcVRK"
   },
   "outputs": [],
   "source": [
    "# import data\n",
    "data = pd.read_csv('wine.csv', header = None)\n",
    "column_names = ['Label', 'Alcohol', 'Malic acid', 'Ash', 'Alcalinity of ash',\n",
    "                'Magnesium', 'Total phenols', 'Flavanoids', 'Nonflavanoid phenols',\n",
    "                'Proanthocyanins', 'Color intensity', 'Hue', 'OD280/OD315 of diluted wines',\n",
    "                'Proline']\n",
    "wine = pd.DataFrame(data)\n",
    "wine.columns = column_names"
   ]
  },
  {
   "cell_type": "code",
   "execution_count": 150,
   "metadata": {
    "id": "zDCaJwpIcVRL"
   },
   "outputs": [],
   "source": [
    "train_sample, test_sample = train_test_split(wine, 0.2)"
   ]
  },
  {
   "cell_type": "code",
   "execution_count": 151,
   "metadata": {
    "id": "_LuvIszbcVRL"
   },
   "outputs": [],
   "source": [
    "# Choose predictors\n",
    "train_features_set = train_sample[train_sample['Label'].isin([1, 3])][['Alcalinity of ash','Proanthocyanins']]\n",
    "train_group_set = train_sample[train_sample['Label'].isin([1, 3])][['Label']]\n",
    "class_labels = pd.DataFrame([1, 3], columns=['Label'])\n",
    "test_features_set = test_sample[test_sample['Label'].isin([1, 3])][['Alcalinity of ash','Proanthocyanins']]\n",
    "test_group_set = test_sample[test_sample['Label'].isin([1, 3])].iloc[:, 0]"
   ]
  },
  {
   "cell_type": "code",
   "execution_count": 152,
   "metadata": {},
   "outputs": [],
   "source": [
    "# Helper function to plot a decision boundary.\n",
    "# If you don't fully understand this function don't worry, it just generates the contour plot below.\n",
    "def plot_decision_boundary(pred_func):\n",
    "    # Set min and max values and give it some padding\n",
    "    x_min, x_max = train_features_set.iloc[:, 0].min() - .5, train_features_set.iloc[:, 0].max() + .5\n",
    "    y_min, y_max = train_features_set.iloc[:, 1].min() - .5, train_features_set.iloc[:, 1].max() + .5\n",
    "    h = 0.01\n",
    "    # Generate a grid of points with distance h between them\n",
    "    xx, yy = np.meshgrid(np.arange(x_min, x_max, h), np.arange(y_min, y_max, h))\n",
    "    # Predict the function value for the whole gid\n",
    "    Z = pred_func(np.c_[xx.ravel(), yy.ravel()])\n",
    "    Z = Z.reshape(xx.shape)\n",
    "    # Plot the contour and training examples\n",
    "    plt.contourf(xx, yy, Z, cmap=plt.cm.Spectral)\n",
    "    plt.scatter(train_features_set.iloc[:, 0], train_features_set.iloc[:, 1], c=train_group_set.values, cmap=plt.cm.Spectral)"
   ]
  },
  {
   "cell_type": "markdown",
   "metadata": {
    "id": "eHnO6j9ucVRM"
   },
   "source": [
    "## Logistic classifier"
   ]
  },
  {
   "cell_type": "markdown",
   "metadata": {
    "id": "a48I8M3JcVRM"
   },
   "source": [
    "### Choosing regularization parameter using cross validation"
   ]
  },
  {
   "cell_type": "markdown",
   "metadata": {
    "id": "p3lBdLcQcVRN"
   },
   "source": [
    "#### For Lasso"
   ]
  },
  {
   "cell_type": "code",
   "execution_count": 153,
   "metadata": {
    "id": "rNjWXOoIcVRN",
    "outputId": "6a0617c2-a0d0-43a5-b463-5005a4e4c6f4"
   },
   "outputs": [
    {
     "name": "stdout",
     "output_type": "stream",
     "text": [
      "0.0\n"
     ]
    }
   ],
   "source": [
    "n_train = train_features_set.shape[0]\n",
    "num_fold = 5\n",
    "n_fold = math.floor(n_train / num_fold)\n",
    "\n",
    "total_error_all = []\n",
    "type_i_error_all = []\n",
    "type_ii_error_all = []\n",
    "meshgrid = np.arange(0, 0.1, 0.01)\n",
    "\n",
    "features_set = train_features_set\n",
    "group_set = train_group_set\n",
    "\n",
    "for lambda_ in meshgrid:\n",
    "    total_error = 0\n",
    "    type_i_error = 0\n",
    "    type_ii_error = 0\n",
    "    for cur_fold in range(num_fold):\n",
    "        features_set_fold = features_set.iloc[cur_fold * n_fold : (cur_fold + 1) * n_fold]\n",
    "        group_set_fold = group_set.iloc[cur_fold * n_fold : (cur_fold + 1) * n_fold]\n",
    "        features_set_train_fold = features_set.iloc[np.r_[0 : cur_fold * n_fold, (cur_fold + 1) * n_fold : n_train]]\n",
    "        group_set_train_fold = group_set.iloc[np.r_[0 : cur_fold * n_fold, (cur_fold + 1) * n_fold : n_train]]\n",
    "\n",
    "        pr = LogisticClassifier().fit(features_set_train_fold, group_set_train_fold, class_labels, reg_opt='l1', lambda_ = lambda_)\n",
    "        group_set_pred = pr.predict(features_set_fold)\n",
    "        total_error += loss(group_set_fold, group_set_pred, '0-1')[0]\n",
    "        type_i_error += loss(group_set_fold, group_set_pred, '0-1')[1]\n",
    "        type_ii_error += loss(group_set_fold, group_set_pred, '0-1')[2]\n",
    "    total_error_all.append(total_error)\n",
    "    type_i_error_all.append(type_i_error)\n",
    "    type_ii_error_all.append(type_ii_error)\n",
    "    \n",
    "best_lambda = meshgrid[np.argsort(total_error_all)[0]]\n",
    "print(best_lambda)"
   ]
  },
  {
   "cell_type": "markdown",
   "metadata": {
    "id": "lEvKK3YPcVRO"
   },
   "source": [
    "#### For Ridge"
   ]
  },
  {
   "cell_type": "code",
   "execution_count": 154,
   "metadata": {
    "id": "G4m9ZOJhcVRP",
    "outputId": "a15bc16f-44c4-4e06-e49c-bb732ee1ccfc"
   },
   "outputs": [
    {
     "name": "stdout",
     "output_type": "stream",
     "text": [
      "0.0\n"
     ]
    }
   ],
   "source": [
    "n_train = train_features_set.shape[0]\n",
    "num_fold = 5\n",
    "n_fold = math.floor(n_train / num_fold)\n",
    "\n",
    "total_error_all = []\n",
    "type_i_error_all = []\n",
    "type_ii_error_all = []\n",
    "meshgrid = np.arange(0, 0.1, 0.01)\n",
    "\n",
    "features_set = train_features_set\n",
    "group_set = train_group_set\n",
    "\n",
    "for lambda_ in meshgrid:\n",
    "    total_error = 0\n",
    "    type_i_error = 0\n",
    "    type_ii_error = 0\n",
    "    for cur_fold in range(num_fold):\n",
    "        features_set_fold = features_set.iloc[cur_fold * n_fold : (cur_fold + 1) * n_fold]\n",
    "        group_set_fold = group_set.iloc[cur_fold * n_fold : (cur_fold + 1) * n_fold]\n",
    "        features_set_train_fold = features_set.iloc[np.r_[0 : cur_fold * n_fold, (cur_fold + 1) * n_fold : n_train]]\n",
    "        group_set_train_fold = group_set.iloc[np.r_[0 : cur_fold * n_fold, (cur_fold + 1) * n_fold : n_train]]\n",
    "\n",
    "        pr = LogisticClassifier().fit(features_set_train_fold, group_set_train_fold, class_labels, reg_opt='l2', lambda_ = lambda_)\n",
    "        group_set_pred = pr.predict(features_set_fold)\n",
    "        total_error += loss(group_set_fold, group_set_pred, '0-1')[0]\n",
    "        type_i_error += loss(group_set_fold, group_set_pred, '0-1')[1]\n",
    "        type_ii_error += loss(group_set_fold, group_set_pred, '0-1')[2]\n",
    "    total_error_all.append(total_error)\n",
    "    type_i_error_all.append(type_i_error)\n",
    "    type_ii_error_all.append(type_ii_error)\n",
    "    \n",
    "best_lambda = meshgrid[np.argsort(total_error_all)[0]]\n",
    "print(best_lambda)"
   ]
  },
  {
   "cell_type": "markdown",
   "metadata": {
    "id": "VZbOhbI9cVRP"
   },
   "source": [
    "### Training and testing error without the regularization parameter"
   ]
  },
  {
   "cell_type": "code",
   "execution_count": 155,
   "metadata": {
    "id": "bwlsRx-9cVRP",
    "scrolled": false
   },
   "outputs": [],
   "source": [
    "lr = LogisticClassifier().fit(train_features_set, train_group_set, class_labels)\n",
    "train_group_set_pred = lr.predict(train_features_set)\n",
    "test_group_set_pred = lr.predict(test_features_set)"
   ]
  },
  {
   "cell_type": "code",
   "execution_count": 156,
   "metadata": {
    "id": "QMjJ-50LcVRQ",
    "outputId": "f47e1330-927c-4066-93fc-d931a50fefeb"
   },
   "outputs": [
    {
     "name": "stdout",
     "output_type": "stream",
     "text": [
      "total_error      8\n",
      "type_i_error     5\n",
      "type_ii_error    3\n",
      "dtype: int32\n"
     ]
    }
   ],
   "source": [
    "result = pd.Series(loss(train_group_set, train_group_set_pred, '0-1'), index = ['total_error', 'type_i_error', 'type_ii_error'])\n",
    "print(result)"
   ]
  },
  {
   "cell_type": "code",
   "execution_count": 157,
   "metadata": {
    "id": "BkxGsKG7cVRQ",
    "outputId": "9cb4e352-3ace-4f91-c37f-ac55d6a7ce7c"
   },
   "outputs": [
    {
     "name": "stdout",
     "output_type": "stream",
     "text": [
      "total_error      0\n",
      "type_i_error     0\n",
      "type_ii_error    0\n",
      "dtype: int32\n"
     ]
    }
   ],
   "source": [
    "result = pd.Series(loss(test_group_set, test_group_set_pred, '0-1'), index = ['total_error', 'type_i_error', 'type_ii_error'])\n",
    "print(result)"
   ]
  },
  {
   "cell_type": "markdown",
   "metadata": {
    "id": "66xxYXkEcVRR"
   },
   "source": [
    "### Training and testing error for Lasso regression"
   ]
  },
  {
   "cell_type": "code",
   "execution_count": 158,
   "metadata": {
    "id": "U8rZzjGOcVRR"
   },
   "outputs": [],
   "source": [
    "lr = LogisticClassifier().fit(train_features_set, train_group_set, class_labels, reg_opt = 'l1', lambda_ = 0.02)\n",
    "train_group_set_pred = lr.predict(train_features_set)\n",
    "test_group_set_pred = lr.predict(test_features_set)"
   ]
  },
  {
   "cell_type": "code",
   "execution_count": 159,
   "metadata": {
    "id": "vN32r2zBcVRR",
    "outputId": "46f2ccae-9222-4035-b569-65c554cbfcb8"
   },
   "outputs": [
    {
     "name": "stdout",
     "output_type": "stream",
     "text": [
      "total_error      8\n",
      "type_i_error     5\n",
      "type_ii_error    3\n",
      "dtype: int32\n"
     ]
    }
   ],
   "source": [
    "result = pd.Series(loss(train_group_set, train_group_set_pred, '0-1'), index = ['total_error', 'type_i_error', 'type_ii_error'])\n",
    "print(result)"
   ]
  },
  {
   "cell_type": "code",
   "execution_count": 160,
   "metadata": {
    "id": "iRxmOphocVRS",
    "outputId": "391b14a3-3836-4dc0-aa61-3739802fe771"
   },
   "outputs": [
    {
     "name": "stdout",
     "output_type": "stream",
     "text": [
      "total_error      0\n",
      "type_i_error     0\n",
      "type_ii_error    0\n",
      "dtype: int32\n"
     ]
    }
   ],
   "source": [
    "result = pd.Series(loss(test_group_set, test_group_set_pred, '0-1'), index = ['total_error', 'type_i_error', 'type_ii_error'])\n",
    "print(result)"
   ]
  },
  {
   "cell_type": "markdown",
   "metadata": {
    "id": "R8NUQT9bcVRS"
   },
   "source": [
    "### Training and testing error for Ridge regression"
   ]
  },
  {
   "cell_type": "code",
   "execution_count": 161,
   "metadata": {
    "id": "06_kXt9ecVRT"
   },
   "outputs": [],
   "source": [
    "lr = LogisticClassifier().fit(train_features_set, train_group_set, class_labels, reg_opt = 'l2', lambda_ = 0.02)\n",
    "train_group_set_pred = lr.predict(train_features_set)\n",
    "test_group_set_pred = lr.predict(test_features_set)"
   ]
  },
  {
   "cell_type": "code",
   "execution_count": 162,
   "metadata": {
    "id": "bmCfZcVscVRU",
    "outputId": "72132f04-b407-4eb5-c644-4fbc10117a43"
   },
   "outputs": [
    {
     "name": "stdout",
     "output_type": "stream",
     "text": [
      "total_error      8\n",
      "type_i_error     5\n",
      "type_ii_error    3\n",
      "dtype: int32\n"
     ]
    }
   ],
   "source": [
    "result = pd.Series(loss(train_group_set, train_group_set_pred, '0-1'), index = ['total_error', 'type_i_error', 'type_ii_error'])\n",
    "print(result)"
   ]
  },
  {
   "cell_type": "code",
   "execution_count": 163,
   "metadata": {
    "id": "NfZzLAqscVRV",
    "outputId": "20a382be-1ec4-4f47-e064-dd3b8bc146ba"
   },
   "outputs": [
    {
     "name": "stdout",
     "output_type": "stream",
     "text": [
      "total_error      0\n",
      "type_i_error     0\n",
      "type_ii_error    0\n",
      "dtype: int32\n"
     ]
    }
   ],
   "source": [
    "result = pd.Series(loss(test_group_set, test_group_set_pred, '0-1'), index = ['total_error', 'type_i_error', 'type_ii_error'])\n",
    "print(result)"
   ]
  },
  {
   "cell_type": "markdown",
   "metadata": {
    "id": "Vo4nOH2BcVRW"
   },
   "source": [
    "### Classification result plot"
   ]
  },
  {
   "cell_type": "code",
   "execution_count": 164,
   "metadata": {
    "id": "k1QfWYGmcVRX",
    "outputId": "c9cc6696-eae6-40b5-8fb9-55e67c367aa7"
   },
   "outputs": [
    {
     "data": {
      "text/plain": [
       "<function matplotlib.pyplot.show(close=None, block=None)>"
      ]
     },
     "execution_count": 164,
     "metadata": {},
     "output_type": "execute_result"
    },
    {
     "data": {
      "image/png": "[encoded data removed]",
      "text/plain": [
       "<Figure size 432x288 with 1 Axes>"
      ]
     },
     "metadata": {
      "needs_background": "light"
     },
     "output_type": "display_data"
    }
   ],
   "source": [
    "fig = plt.figure()\n",
    "\n",
    "lr_plot_1 = train_features_set.iloc[:, 0]\n",
    "lr_plot_2 = train_group_set_pred\n",
    "lr_plot = np.column_stack((lr_plot_1, lr_plot_2))\n",
    "lr_plot_x1 = lr_plot[lr_plot[:, 1] == 1]\n",
    "lr_plot_x2 = lr_plot[lr_plot[:, 1] == 3]\n",
    "\n",
    "plt.hist(lr_plot_x1[:, 0], color='red')\n",
    "plt.hist(lr_plot_x2[:, 0], color='blue')\n",
    "\n",
    "plt.title('Logistic classification - feature 1')\n",
    "plt.show"
   ]
  },
  {
   "cell_type": "code",
   "execution_count": 165,
   "metadata": {},
   "outputs": [
    {
     "data": {
      "text/plain": [
       "<function matplotlib.pyplot.show(close=None, block=None)>"
      ]
     },
     "execution_count": 165,
     "metadata": {},
     "output_type": "execute_result"
    },
    {
     "data": {
      "image/png": "[encoded data removed]",
      "text/plain": [
       "<Figure size 432x288 with 1 Axes>"
      ]
     },
     "metadata": {
      "needs_background": "light"
     },
     "output_type": "display_data"
    }
   ],
   "source": [
    "fig = plt.figure()\n",
    "\n",
    "lr_plot_1 = train_features_set.iloc[:, 1]\n",
    "lr_plot_2 = train_group_set_pred\n",
    "lr_plot = np.column_stack((lr_plot_1, lr_plot_2))\n",
    "lr_plot_x1 = lr_plot[lr_plot[:, 1] == 1]\n",
    "lr_plot_x2 = lr_plot[lr_plot[:, 1] == 3]\n",
    "\n",
    "plt.hist(lr_plot_x1[:, 0], color='red')\n",
    "plt.hist(lr_plot_x2[:, 0], color='blue')\n",
    "\n",
    "plt.title('Logistic classification - feature 2')\n",
    "plt.show"
   ]
  },
  {
   "cell_type": "code",
   "execution_count": 166,
   "metadata": {},
   "outputs": [
    {
     "data": {
      "text/plain": [
       "Text(0.5, 1.0, 'Logistic Regression')"
      ]
     },
     "execution_count": 166,
     "metadata": {},
     "output_type": "execute_result"
    },
    {
     "data": {
      "image/png": "[encoded data removed]",
      "text/plain": [
       "<Figure size 432x288 with 1 Axes>"
      ]
     },
     "metadata": {
      "needs_background": "light"
     },
     "output_type": "display_data"
    }
   ],
   "source": [
    "# Plot the decision boundary\n",
    "plot_decision_boundary(lambda x: lr.predict(x))\n",
    "plt.title(\"Logistic Regression\")"
   ]
  },
  {
   "cell_type": "markdown",
   "metadata": {
    "id": "t7qj6iJXcVRX"
   },
   "source": [
    "## Perceptron"
   ]
  },
  {
   "cell_type": "markdown",
   "metadata": {
    "id": "fv5AyC-qcVRX"
   },
   "source": [
    "### Training and testing error"
   ]
  },
  {
   "cell_type": "code",
   "execution_count": 167,
   "metadata": {
    "id": "ma-zYJ5mcVRY"
   },
   "outputs": [],
   "source": [
    "p = Perceptron().fit(train_features_set, train_group_set, class_labels)\n",
    "train_group_set_pred = p.predict(train_features_set)\n",
    "test_group_set_pred = p.predict(test_features_set)"
   ]
  },
  {
   "cell_type": "code",
   "execution_count": 168,
   "metadata": {
    "id": "b5mYsgdicVRY",
    "outputId": "05c13155-7704-4733-f294-f794c8b579e2",
    "scrolled": true
   },
   "outputs": [
    {
     "name": "stdout",
     "output_type": "stream",
     "text": [
      "total_error    76.611574\n",
      "dtype: float64\n"
     ]
    }
   ],
   "source": [
    "result = pd.Series(loss(train_group_set, train_group_set_pred, 'hinge', train_features_set, p.beta), index = ['total_error'])\n",
    "print(result)"
   ]
  },
  {
   "cell_type": "code",
   "execution_count": 169,
   "metadata": {
    "id": "KIviUG9LcVRY",
    "outputId": "1e9518b5-e906-4b99-ce59-46a7798234ec",
    "scrolled": true
   },
   "outputs": [
    {
     "name": "stdout",
     "output_type": "stream",
     "text": [
      "total_error    23.481336\n",
      "dtype: float64\n"
     ]
    }
   ],
   "source": [
    "result = pd.Series(loss(test_group_set, test_group_set_pred, 'hinge', test_features_set, p.beta), index = ['total_error'])\n",
    "print(result)"
   ]
  },
  {
   "cell_type": "code",
   "execution_count": 170,
   "metadata": {},
   "outputs": [
    {
     "data": {
      "text/plain": [
       "<function matplotlib.pyplot.show(close=None, block=None)>"
      ]
     },
     "execution_count": 170,
     "metadata": {},
     "output_type": "execute_result"
    },
    {
     "data": {
      "image/png": "[encoded data removed]",
      "text/plain": [
       "<Figure size 432x288 with 1 Axes>"
      ]
     },
     "metadata": {
      "needs_background": "light"
     },
     "output_type": "display_data"
    }
   ],
   "source": [
    "fig = plt.figure()\n",
    "\n",
    "lr_plot_1 = train_features_set.iloc[:, 0]\n",
    "lr_plot_2 = train_group_set_pred\n",
    "lr_plot = np.column_stack((lr_plot_1, lr_plot_2))\n",
    "lr_plot_x1 = lr_plot[lr_plot[:, 1] == 1]\n",
    "lr_plot_x2 = lr_plot[lr_plot[:, 1] == 3]\n",
    "\n",
    "plt.hist(lr_plot_x1[:, 0], color='red')\n",
    "plt.hist(lr_plot_x2[:, 0], color='blue')\n",
    "\n",
    "plt.title('Perceptron classification - feature 1')\n",
    "plt.show"
   ]
  },
  {
   "cell_type": "code",
   "execution_count": 171,
   "metadata": {},
   "outputs": [
    {
     "data": {
      "text/plain": [
       "<function matplotlib.pyplot.show(close=None, block=None)>"
      ]
     },
     "execution_count": 171,
     "metadata": {},
     "output_type": "execute_result"
    },
    {
     "data": {
      "image/png": "[encoded data removed]",
      "text/plain": [
       "<Figure size 432x288 with 1 Axes>"
      ]
     },
     "metadata": {
      "needs_background": "light"
     },
     "output_type": "display_data"
    }
   ],
   "source": [
    "fig = plt.figure()\n",
    "\n",
    "lr_plot_1 = train_features_set.iloc[:, 1]\n",
    "lr_plot_2 = train_group_set_pred\n",
    "lr_plot = np.column_stack((lr_plot_1, lr_plot_2))\n",
    "lr_plot_x1 = lr_plot[lr_plot[:, 1] == 1]\n",
    "lr_plot_x2 = lr_plot[lr_plot[:, 1] == 3]\n",
    "\n",
    "plt.hist(lr_plot_x1[:, 0], color='red')\n",
    "plt.hist(lr_plot_x2[:, 0], color='blue')\n",
    "\n",
    "plt.title('Perceptron classification - feature 2')\n",
    "plt.show"
   ]
  },
  {
   "cell_type": "code",
   "execution_count": 172,
   "metadata": {},
   "outputs": [
    {
     "data": {
      "text/plain": [
       "Text(0.5, 1.0, 'Perceptron')"
      ]
     },
     "execution_count": 172,
     "metadata": {},
     "output_type": "execute_result"
    },
    {
     "data": {
      "image/png": "[encoded data removed]",
      "text/plain": [
       "<Figure size 432x288 with 1 Axes>"
      ]
     },
     "metadata": {
      "needs_background": "light"
     },
     "output_type": "display_data"
    }
   ],
   "source": [
    "# Plot the decision boundary\n",
    "plot_decision_boundary(lambda x: p.predict(x))\n",
    "plt.title(\"Perceptron\")"
   ]
  },
  {
   "cell_type": "markdown",
   "metadata": {
    "id": "uQx_llX-cVRZ"
   },
   "source": [
    "## KNN"
   ]
  },
  {
   "cell_type": "markdown",
   "metadata": {
    "id": "o7cYKOJ0cVRZ"
   },
   "source": [
    "### Choosing the number of neighbours using cross validation"
   ]
  },
  {
   "cell_type": "code",
   "execution_count": 173,
   "metadata": {
    "id": "yEBa4PKIcVRa",
    "outputId": "18d41ff9-c2ac-42bc-8dcd-ee7ad42eb878"
   },
   "outputs": [
    {
     "name": "stdout",
     "output_type": "stream",
     "text": [
      "4\n"
     ]
    }
   ],
   "source": [
    "n_train = train_features_set.shape[0]\n",
    "num_fold = 10\n",
    "n_fold = math.floor(n_train / num_fold)\n",
    "\n",
    "total_error_all = []\n",
    "type_i_error_all = []\n",
    "type_ii_error_all = []\n",
    "meshgrid = np.arange(1, 30, 1)\n",
    "\n",
    "features_set = train_features_set\n",
    "group_set = train_group_set\n",
    "\n",
    "for k in meshgrid:\n",
    "    total_error = 0\n",
    "    type_i_error = 0\n",
    "    type_ii_error = 0\n",
    "    for cur_fold in range(num_fold):\n",
    "        features_set_fold = features_set.iloc[cur_fold * n_fold : (cur_fold + 1) * n_fold]\n",
    "        group_set_fold = group_set.iloc[cur_fold * n_fold : (cur_fold + 1) * n_fold]\n",
    "        features_set_train_fold = features_set.iloc[np.r_[0 : cur_fold * n_fold, (cur_fold + 1) * n_fold : n_train]]\n",
    "        group_set_train_fold = group_set.iloc[np.r_[0 : cur_fold * n_fold, (cur_fold + 1) * n_fold : n_train]]\n",
    "\n",
    "        group_set_pred = KNN_fit(features_set_train_fold, group_set_train_fold, features_set_fold, k)\n",
    "        total_error += loss(group_set_fold, group_set_pred, '0-1')[0]\n",
    "        type_i_error += loss(group_set_fold, group_set_pred, '0-1')[1]\n",
    "        type_ii_error += loss(group_set_fold, group_set_pred, '0-1')[2]\n",
    "    total_error_all.append(total_error)\n",
    "    type_i_error_all.append(type_i_error)\n",
    "    type_ii_error_all.append(type_ii_error)\n",
    "    \n",
    "best_k = meshgrid[np.argsort(total_error_all)[0]]\n",
    "print(best_k)"
   ]
  },
  {
   "cell_type": "markdown",
   "metadata": {
    "id": "4bUOMBmKcVRa"
   },
   "source": [
    "### Training and testing error"
   ]
  },
  {
   "cell_type": "code",
   "execution_count": 174,
   "metadata": {
    "id": "ke_ppd1wcVRa",
    "scrolled": true
   },
   "outputs": [],
   "source": [
    "train_group_pred = KNN_fit(train_features_set, train_group_set, train_features_set, 29)\n",
    "test_group_pred = KNN_fit(train_features_set, train_group_set, test_features_set, 29)"
   ]
  },
  {
   "cell_type": "code",
   "execution_count": 175,
   "metadata": {
    "id": "1y35TucbcVRa",
    "outputId": "5c337867-a8d2-46ee-e867-3033ba10862d"
   },
   "outputs": [
    {
     "name": "stdout",
     "output_type": "stream",
     "text": [
      "total_error      8\n",
      "type_i_error     5\n",
      "type_ii_error    3\n",
      "dtype: int32\n"
     ]
    }
   ],
   "source": [
    "result = pd.Series(loss(train_group_set, train_group_pred, '0-1'), index = ['total_error', 'type_i_error', 'type_ii_error'])\n",
    "print(result)"
   ]
  },
  {
   "cell_type": "code",
   "execution_count": 176,
   "metadata": {
    "id": "kxKoJbpMcVRa",
    "outputId": "21e4a849-d6d7-4f35-a576-8925c29bf83d"
   },
   "outputs": [
    {
     "name": "stdout",
     "output_type": "stream",
     "text": [
      "total_error      0\n",
      "type_i_error     0\n",
      "type_ii_error    0\n",
      "dtype: int32\n"
     ]
    }
   ],
   "source": [
    "result = pd.Series(loss(test_group_set, test_group_pred, '0-1'), index = ['total_error', 'type_i_error', 'type_ii_error'])\n",
    "print(result)"
   ]
  },
  {
   "cell_type": "code",
   "execution_count": 177,
   "metadata": {},
   "outputs": [
    {
     "data": {
      "text/plain": [
       "<function matplotlib.pyplot.show(close=None, block=None)>"
      ]
     },
     "execution_count": 177,
     "metadata": {},
     "output_type": "execute_result"
    },
    {
     "data": {
      "image/png": "[encoded data removed]",
      "text/plain": [
       "<Figure size 432x288 with 1 Axes>"
      ]
     },
     "metadata": {
      "needs_background": "light"
     },
     "output_type": "display_data"
    }
   ],
   "source": [
    "fig = plt.figure()\n",
    "\n",
    "lr_plot_1 = train_features_set.iloc[:, 0]\n",
    "lr_plot_2 = train_group_pred\n",
    "lr_plot = np.column_stack((lr_plot_1, lr_plot_2))\n",
    "lr_plot_x1 = lr_plot[lr_plot[:, 1] == 1]\n",
    "lr_plot_x2 = lr_plot[lr_plot[:, 1] == 3]\n",
    "\n",
    "plt.hist(lr_plot_x1[:, 0], color='red')\n",
    "plt.hist(lr_plot_x2[:, 0], color='blue')\n",
    "\n",
    "plt.title('KNN classification - feature 1')\n",
    "plt.show"
   ]
  },
  {
   "cell_type": "code",
   "execution_count": 178,
   "metadata": {},
   "outputs": [
    {
     "data": {
      "text/plain": [
       "<function matplotlib.pyplot.show(close=None, block=None)>"
      ]
     },
     "execution_count": 178,
     "metadata": {},
     "output_type": "execute_result"
    },
    {
     "data": {
      "image/png": "[encoded data removed]",
      "text/plain": [
       "<Figure size 432x288 with 1 Axes>"
      ]
     },
     "metadata": {
      "needs_background": "light"
     },
     "output_type": "display_data"
    }
   ],
   "source": [
    "fig = plt.figure()\n",
    "\n",
    "lr_plot_1 = train_features_set.iloc[:, 1]\n",
    "lr_plot_2 = train_group_pred\n",
    "lr_plot = np.column_stack((lr_plot_1, lr_plot_2))\n",
    "lr_plot_x1 = lr_plot[lr_plot[:, 1] == 1]\n",
    "lr_plot_x2 = lr_plot[lr_plot[:, 1] == 3]\n",
    "\n",
    "plt.hist(lr_plot_x1[:, 0], color='red')\n",
    "plt.hist(lr_plot_x2[:, 0], color='blue')\n",
    "\n",
    "plt.title('KNN classification - feature 2')\n",
    "plt.show"
   ]
  },
  {
   "cell_type": "markdown",
   "metadata": {
    "id": "5RbMvqQncVRb"
   },
   "source": [
    "# 3-Classes classification"
   ]
  },
  {
   "cell_type": "code",
   "execution_count": 179,
   "metadata": {
    "id": "C6Oqz11scVRb"
   },
   "outputs": [],
   "source": [
    "# Choose predictors\n",
    "train_features_set = train_sample[['Alcohol', 'Flavanoids', 'Proanthocyanins', 'Color intensity']]\n",
    "train_group_set = train_sample[['Label']]\n",
    "class_labels = pd.DataFrame([1, 2, 3], columns=['Label'])\n",
    "test_features_set = test_sample[['Alcohol', 'Flavanoids', 'Proanthocyanins', 'Color intensity']]\n",
    "test_group_set = test_sample[['Label']]"
   ]
  },
  {
   "cell_type": "markdown",
   "metadata": {
    "id": "HxTJrShycVRb"
   },
   "source": [
    "## Logistic classifier"
   ]
  },
  {
   "cell_type": "markdown",
   "metadata": {
    "id": "7czGf45YcVRb"
   },
   "source": [
    "### Choosing regularization parameter using cross validation"
   ]
  },
  {
   "cell_type": "markdown",
   "metadata": {
    "id": "dyY2FB20cVRb"
   },
   "source": [
    "#### For Lasso"
   ]
  },
  {
   "cell_type": "code",
   "execution_count": 180,
   "metadata": {
    "id": "AzmA_iZicVRb",
    "outputId": "321a4db0-4784-4e51-ccae-0f9bb28c665e"
   },
   "outputs": [
    {
     "name": "stdout",
     "output_type": "stream",
     "text": [
      "0.0\n"
     ]
    }
   ],
   "source": [
    "n_train = train_features_set.shape[0]\n",
    "num_fold = 5\n",
    "n_fold = math.floor(n_train / num_fold)\n",
    "\n",
    "total_error_all = []\n",
    "type_i_error_all = []\n",
    "type_ii_error_all = []\n",
    "meshgrid = np.arange(0, 0.1, 0.01)\n",
    "\n",
    "features_set = train_features_set\n",
    "group_set = train_group_set\n",
    "\n",
    "for lambda_ in meshgrid:\n",
    "    total_error = 0\n",
    "    for cur_fold in range(num_fold):\n",
    "        features_set_fold = features_set.iloc[cur_fold * n_fold : (cur_fold + 1) * n_fold]\n",
    "        group_set_fold = group_set.iloc[cur_fold * n_fold : (cur_fold + 1) * n_fold]\n",
    "        features_set_train_fold = features_set.iloc[np.r_[0 : cur_fold * n_fold, (cur_fold + 1) * n_fold : n_train]]\n",
    "        group_set_train_fold = group_set.iloc[np.r_[0 : cur_fold * n_fold, (cur_fold + 1) * n_fold : n_train]]\n",
    "\n",
    "        pr = LogisticClassifier().fit(features_set_train_fold, group_set_train_fold, class_labels, reg_opt='l1', lambda_ = lambda_)\n",
    "        group_set_pred = pr.predict(features_set_fold)\n",
    "        total_error += loss(group_set_fold, group_set_pred, '0-1')\n",
    "    total_error_all.append(total_error)\n",
    "    \n",
    "best_lambda = meshgrid[np.argsort(total_error_all)[0]]\n",
    "print(best_lambda)"
   ]
  },
  {
   "cell_type": "code",
   "execution_count": 181,
   "metadata": {
    "id": "LXNqIJlrcVRc",
    "outputId": "ddff54d4-8ab6-425d-d5f7-bf9e39f6c1e6"
   },
   "outputs": [
    {
     "name": "stdout",
     "output_type": "stream",
     "text": [
      "0.0\n"
     ]
    }
   ],
   "source": [
    "n_train = train_features_set.shape[0]\n",
    "num_fold = 5\n",
    "n_fold = math.floor(n_train / num_fold)\n",
    "\n",
    "total_error_all = []\n",
    "type_i_error_all = []\n",
    "type_ii_error_all = []\n",
    "meshgrid = np.arange(0, 0.1, 0.01)\n",
    "\n",
    "features_set = train_features_set\n",
    "group_set = train_group_set\n",
    "\n",
    "for lambda_ in meshgrid:\n",
    "    total_error = 0\n",
    "    for cur_fold in range(num_fold):\n",
    "        features_set_fold = features_set.iloc[cur_fold * n_fold : (cur_fold + 1) * n_fold]\n",
    "        group_set_fold = group_set.iloc[cur_fold * n_fold : (cur_fold + 1) * n_fold]\n",
    "        features_set_train_fold = features_set.iloc[np.r_[0 : cur_fold * n_fold, (cur_fold + 1) * n_fold : n_train]]\n",
    "        group_set_train_fold = group_set.iloc[np.r_[0 : cur_fold * n_fold, (cur_fold + 1) * n_fold : n_train]]\n",
    "\n",
    "        pr = LogisticClassifier().fit(features_set_train_fold, group_set_train_fold, class_labels, reg_opt='l2', lambda_ = lambda_)\n",
    "        group_set_pred = pr.predict(features_set_fold)\n",
    "        total_error += loss(group_set_fold, group_set_pred, '0-1')\n",
    "    total_error_all.append(total_error)\n",
    "    \n",
    "best_lambda = meshgrid[np.argsort(total_error_all)[0]]\n",
    "print(best_lambda)"
   ]
  },
  {
   "cell_type": "markdown",
   "metadata": {
    "id": "UuerYvUvcVRc"
   },
   "source": [
    "## Training and testing error without regularization parameter"
   ]
  },
  {
   "cell_type": "code",
   "execution_count": 182,
   "metadata": {
    "id": "8d9CsHQBcVRc"
   },
   "outputs": [],
   "source": [
    "lr = LogisticClassifier().fit(train_features_set, train_group_set, class_labels)\n",
    "train_group_set_pred = lr.predict(train_features_set)\n",
    "test_group_set_pred = lr.predict(test_features_set)"
   ]
  },
  {
   "cell_type": "code",
   "execution_count": 183,
   "metadata": {
    "id": "G43ZuHYvcVRc",
    "outputId": "5e97c7b5-40ae-4321-e139-d84995988355",
    "scrolled": true
   },
   "outputs": [
    {
     "name": "stdout",
     "output_type": "stream",
     "text": [
      "total_error    9\n",
      "dtype: int32\n"
     ]
    }
   ],
   "source": [
    "result = pd.Series(loss(train_group_set, train_group_set_pred, '0-1'), index = ['total_error'])\n",
    "print(result)"
   ]
  },
  {
   "cell_type": "code",
   "execution_count": 184,
   "metadata": {
    "id": "Ndqr8jTvcVRd",
    "outputId": "96b7a41b-489b-4672-c1bf-52be312b32fd"
   },
   "outputs": [
    {
     "name": "stdout",
     "output_type": "stream",
     "text": [
      "total_error    3\n",
      "dtype: int32\n"
     ]
    }
   ],
   "source": [
    "result = pd.Series(loss(test_group_set, test_group_set_pred, '0-1'), index = ['total_error'])\n",
    "print(result)"
   ]
  },
  {
   "cell_type": "markdown",
   "metadata": {
    "id": "Tq2zx2JzcVRd"
   },
   "source": [
    "# Model comparison"
   ]
  },
  {
   "cell_type": "markdown",
   "metadata": {
    "id": "TdUPE3VfcVRd"
   },
   "source": [
    "## Binary classification"
   ]
  },
  {
   "cell_type": "code",
   "execution_count": 185,
   "metadata": {
    "id": "okZjXkGecVRd"
   },
   "outputs": [],
   "source": [
    "# Choose predictors\n",
    "train_features_set = train_sample[train_sample['Label'].isin([1, 3])][['Alcalinity of ash','Proanthocyanins']]\n",
    "train_group_set = train_sample[train_sample['Label'].isin([1, 3])][['Label']]\n",
    "class_labels = pd.DataFrame([1, 3], columns=['Label'])\n",
    "test_features_set = test_sample[test_sample['Label'].isin([1, 3])][['Alcalinity of ash','Proanthocyanins']]\n",
    "test_group_set = test_sample[test_sample['Label'].isin([1, 3])].iloc[:, 0]"
   ]
  },
  {
   "cell_type": "markdown",
   "metadata": {
    "id": "w0b31iZ6cVRd"
   },
   "source": [
    "### Naive Bayes Gaussian"
   ]
  },
  {
   "cell_type": "code",
   "execution_count": 186,
   "metadata": {
    "id": "piUmtGkccVRe"
   },
   "outputs": [],
   "source": [
    "# Note: the input to the methods should be pandas dataframes, especially that feature_set has to be 2-d\n",
    "class NaiveBayesGaussian():\n",
    "    def __init__(self):\n",
    "        self.mu_params = None\n",
    "        self.cov_params = None\n",
    "        self.pi_params = None\n",
    "        self.class_labels = None\n",
    "        \n",
    "    def fit(self, feature_set, group_set, class_labels):\n",
    "        feature_set, self.mu, self.sigma = feature_normalize(feature_set)\n",
    "        complete_set = pd.concat([group_set, feature_set], axis=1)\n",
    "        sorted_complete_set = pd.merge(class_labels, complete_set, on='Label', sort=False)\n",
    "        class_labels = np.array(class_labels).ravel()\n",
    "        self.class_labels = class_labels\n",
    "        \n",
    "        self.mu_params = sorted_complete_set.groupby(sorted_complete_set.iloc[:, 0]).mean().iloc[:, 1:]\n",
    "        self.cov_params = sorted_complete_set.groupby(sorted_complete_set.iloc[:, 0]).var().iloc[:, 1:]\n",
    "        self.pi_params = sorted_complete_set.groupby(sorted_complete_set.iloc[:, 0]).count().iloc[:, 0] / sorted_complete_set.iloc[:, 0].count()\n",
    "        \n",
    "        return self\n",
    "    \n",
    "    def predict(self, feature_set, threshold=0.5):\n",
    "        # use numpy for better performance\n",
    "        feature_set = feature_normalize(feature_set, self.mu, self.sigma)[0]\n",
    "        feature_set = np.array(feature_set)\n",
    "        mu_params = np.array(self.mu_params)\n",
    "        cov_params = np.array(self.cov_params)\n",
    "        pi_params = np.array(self.pi_params)\n",
    "        \n",
    "        k = len(self.class_labels) # number of classes\n",
    "        n = feature_set.shape[0] # sample size\n",
    "        \n",
    "        # Treat 1d and 2d feature set separately\n",
    "        if len(feature_set.shape) == 1:\n",
    "            d = 1\n",
    "        else:\n",
    "            d = feature_set.shape[1] # number of features\n",
    "        \n",
    "        # for binary classification\n",
    "        if len(self.class_labels) == 2:\n",
    "            group_set = np.zeros((n, 1))\n",
    "            for i in range(n):\n",
    "                numerator = np.zeros((1, 2))\n",
    "                likelihood_0 = np.exp(- 0.5 * np.square((feature_set[i] - mu_params[0]) / np.sqrt(cov_params[0]))) / (np.sqrt(2 * np.pi) * np.sqrt(cov_params[0]))\n",
    "                likelihood_1 = np.exp(- 0.5 * np.square((feature_set[i] - mu_params[1]) / np.sqrt(cov_params[1]))) / (np.sqrt(2 * np.pi) * np.sqrt(cov_params[1]))\n",
    "                numerator_0 = pi_params[0] * np.prod(likelihood_0)\n",
    "                numerator_1 = pi_params[1] * np.prod(likelihood_1)\n",
    "                posterior_0 = numerator_0 / (numerator_0 + numerator_1)\n",
    "                if posterior_0 > threshold:\n",
    "                    group_set[i] = self.class_labels[0]\n",
    "                else:\n",
    "                    group_set[i] = self.class_labels[1]\n",
    "        \n",
    "        # for non-binary classification\n",
    "        else:\n",
    "            group_set = np.zeros((n, 1))\n",
    "            for i in range(n):\n",
    "                winning_class = 0\n",
    "                max_prob = 0\n",
    "                for r in range(k):\n",
    "                    likelihood = np.exp(- 0.5 * np.square((feature_set[i] - mu_params[r]) / np.sqrt(cov_params[r]))) / (np.sqrt(2 * np.pi) * np.sqrt(cov_params[r]))\n",
    "                    class_prob = pi_params[r] * np.prod(likelihood)\n",
    "                    if class_prob > max_prob:\n",
    "                        winning_class = r\n",
    "                        max_prob = class_prob\n",
    "                group_set[i] = self.class_labels[winning_class]\n",
    "    \n",
    "        return group_set.ravel().astype(int)"
   ]
  },
  {
   "cell_type": "code",
   "execution_count": 187,
   "metadata": {
    "id": "MvhVZ6XncVRe"
   },
   "outputs": [],
   "source": [
    "nbg = NaiveBayesGaussian().fit(train_features_set, train_group_set, class_labels)\n",
    "train_group_set_pred = nbg.predict(train_features_set)\n",
    "test_group_set_pred = nbg.predict(test_features_set)"
   ]
  },
  {
   "cell_type": "code",
   "execution_count": 188,
   "metadata": {
    "id": "xDA-C4XFcVRe",
    "outputId": "0aa533f2-ec32-4be6-aac9-aaba5b6c5697"
   },
   "outputs": [
    {
     "name": "stdout",
     "output_type": "stream",
     "text": [
      "total_error      7\n",
      "type_i_error     4\n",
      "type_ii_error    3\n",
      "dtype: int32\n"
     ]
    }
   ],
   "source": [
    "result = pd.Series(loss(train_group_set, train_group_set_pred, '0-1'), index = ['total_error', 'type_i_error', 'type_ii_error'])\n",
    "print(result)"
   ]
  },
  {
   "cell_type": "code",
   "execution_count": 189,
   "metadata": {
    "id": "woZI4Fq1cVRe",
    "outputId": "3ba0d69b-2d2c-4f8b-c7b0-ad721cd62413"
   },
   "outputs": [
    {
     "name": "stdout",
     "output_type": "stream",
     "text": [
      "total_error      1\n",
      "type_i_error     0\n",
      "type_ii_error    1\n",
      "dtype: int32\n"
     ]
    }
   ],
   "source": [
    "result = pd.Series(loss(test_group_set, test_group_set_pred, '0-1'), index = ['total_error', 'type_i_error', 'type_ii_error'])\n",
    "print(result)"
   ]
  },
  {
   "cell_type": "code",
   "execution_count": 190,
   "metadata": {},
   "outputs": [],
   "source": [
    "meshgrid = np.linspace(0, 1, num = 100)"
   ]
  },
  {
   "cell_type": "code",
   "execution_count": 191,
   "metadata": {},
   "outputs": [],
   "source": [
    "# total class 1 items\n",
    "total_positive = train_group_set.groupby(train_group_set.iloc[:, 0]).count().iloc[0, 0]\n",
    "# total class 2 items\n",
    "total_negative = train_group_set.groupby(train_group_set.iloc[:, 0]).count().iloc[1, 0]"
   ]
  },
  {
   "cell_type": "code",
   "execution_count": 192,
   "metadata": {},
   "outputs": [],
   "source": [
    "true_positive_rate_all = []\n",
    "false_positive_rate_all = []\n",
    "for threshold in meshgrid:\n",
    "    group_set_pred = nbg.predict(train_features_set, threshold)\n",
    "    type_i_error = loss(train_group_set, group_set_pred, '0-1')[1] # true 2 classified as 1\n",
    "    type_ii_error = loss(train_group_set, group_set_pred, '0-1')[2] # true 1 classified as 2\n",
    "    true_positive_rate = (total_positive - type_ii_error) / total_positive\n",
    "    false_positive_rate = type_i_error / total_negative\n",
    "    true_positive_rate_all.append(true_positive_rate)\n",
    "    false_positive_rate_all.append(false_positive_rate)"
   ]
  },
  {
   "cell_type": "code",
   "execution_count": 193,
   "metadata": {},
   "outputs": [
    {
     "data": {
      "text/plain": [
       "[<matplotlib.lines.Line2D at 0x1ade0105f10>,\n",
       " <matplotlib.lines.Line2D at 0x1ade0105610>]"
      ]
     },
     "execution_count": 193,
     "metadata": {},
     "output_type": "execute_result"
    },
    {
     "data": {
      "image/png": "[encoded data removed]",
      "text/plain": [
       "<Figure size 432x288 with 1 Axes>"
      ]
     },
     "metadata": {
      "needs_background": "light"
     },
     "output_type": "display_data"
    }
   ],
   "source": [
    "plt.plot(false_positive_rate_all, true_positive_rate_all, 1, 1)"
   ]
  },
  {
   "cell_type": "markdown",
   "metadata": {
    "id": "eCwVe88zcVRe"
   },
   "source": [
    "### Linear Discriminant Analysis"
   ]
  },
  {
   "cell_type": "code",
   "execution_count": 194,
   "metadata": {
    "id": "p2PRfslQcVRe"
   },
   "outputs": [],
   "source": [
    "# Note: the input to the methods should be pandas dataframes\n",
    "class LinearDiscriminantAnalysis():\n",
    "    def __init__(self):\n",
    "        self.mu_params = None\n",
    "        self.cov_params = None\n",
    "        self.pi_params = None\n",
    "        self.class_labels = None\n",
    "        \n",
    "    def fit(self, feature_set, group_set, class_labels):\n",
    "        feature_set, self.mu, self.sigma = feature_normalize(feature_set)\n",
    "        complete_set = pd.concat([group_set, feature_set], axis=1)\n",
    "        sorted_complete_set = pd.merge(class_labels, complete_set, on='Label', sort=False)\n",
    "        class_labels = np.array(class_labels).ravel()\n",
    "        self.class_labels = class_labels\n",
    "        \n",
    "        self.mu_params = sorted_complete_set.groupby(sorted_complete_set.iloc[:, 0]).mean().iloc[:, 1:]\n",
    "        self.cov_params = sorted_complete_set.iloc[:, 1:].cov()\n",
    "        self.pi_params = sorted_complete_set.groupby(sorted_complete_set.iloc[:, 0]).count().iloc[:, 0] / sorted_complete_set.iloc[:, 0].count()\n",
    "        \n",
    "        return self\n",
    "    \n",
    "    def predict(self, feature_set, threshold=0.5):\n",
    "        # use numpy for better performance\n",
    "        feature_set = feature_normalize(feature_set, self.mu, self.sigma)[0]\n",
    "        feature_set = np.array(feature_set)\n",
    "        mu_params = np.array(self.mu_params)\n",
    "        cov_params = np.array(self.cov_params)\n",
    "        pi_params = np.array(self.pi_params)\n",
    "        \n",
    "        k = len(self.class_labels) # number of classes\n",
    "        n = feature_set.shape[0] # sample size\n",
    "        \n",
    "        # Treat 1d and 2d feature set separately\n",
    "        if len(feature_set.shape) == 1:\n",
    "            d = 1\n",
    "        else:\n",
    "            d = feature_set.shape[1] # number of features\n",
    "        \n",
    "        # for binary classification\n",
    "        if len(self.class_labels) == 2:\n",
    "            group_set = np.zeros((n, 1))\n",
    "            for i in range(n):\n",
    "                numerator = np.zeros((1, 2))\n",
    "                likelihood_0 = np.exp(- 0.5 * np.linalg.multi_dot([(feature_set[i] - mu_params[0]), np.linalg.inv(cov_params), np.transpose(feature_set[i] - mu_params[0])])) / (np.power(2 * np.pi, d/2) * np.sqrt(np.linalg.det(cov_params)))\n",
    "                likelihood_1 = np.exp(- 0.5 * np.linalg.multi_dot([(feature_set[i] - mu_params[1]), np.linalg.inv(cov_params), np.transpose(feature_set[i] - mu_params[1])])) / (np.power(2 * np.pi, d/2) * np.sqrt(np.linalg.det(cov_params)))\n",
    "                numerator_0 = pi_params[0] * likelihood_0\n",
    "                numerator_1 = pi_params[1] * likelihood_1\n",
    "                posterior_0 = numerator_0 / (numerator_0 + numerator_1)\n",
    "                if posterior_0 > threshold:\n",
    "                    group_set[i] = self.class_labels[0]\n",
    "                else: \n",
    "                    group_set[i] = self.class_labels[1]\n",
    "        \n",
    "        # for non-binary classification\n",
    "        else:\n",
    "            group_set = np.zeros((n, 1))\n",
    "            for i in range(n):\n",
    "                winning_class = 0\n",
    "                max_prob = 0\n",
    "                for r in range(k):\n",
    "                    likelihood = np.exp(- 0.5 * np.linalg.multi_dot([(feature_set[i] - mu_params[r]), np.linalg.inv(cov_params), np.transpose(feature_set[i] - mu_params[r])])) / (np.power(2 * np.pi, d/2) * np.sqrt(np.linalg.det(cov_params)))\n",
    "                    class_prob = pi_params[r] * likelihood\n",
    "                    if class_prob > max_prob:\n",
    "                        winning_class = r\n",
    "                        max_prob = class_prob\n",
    "                group_set[i] = self.class_labels[winning_class]\n",
    "        \n",
    "        return group_set.ravel().astype(int)\n",
    "        "
   ]
  },
  {
   "cell_type": "code",
   "execution_count": 195,
   "metadata": {
    "id": "FQ2ICplmcVRf",
    "scrolled": false
   },
   "outputs": [],
   "source": [
    "lda = LinearDiscriminantAnalysis().fit(train_features_set, train_group_set, class_labels)\n",
    "train_group_set_pred = lda.predict(train_features_set)\n",
    "test_group_set_pred = lda.predict(test_features_set)"
   ]
  },
  {
   "cell_type": "code",
   "execution_count": 196,
   "metadata": {
    "id": "lgaoTsbbcVRf",
    "outputId": "02fc400f-360f-4825-bb54-30f404a258ce"
   },
   "outputs": [
    {
     "name": "stdout",
     "output_type": "stream",
     "text": [
      "total_error      8\n",
      "type_i_error     5\n",
      "type_ii_error    3\n",
      "dtype: int32\n"
     ]
    }
   ],
   "source": [
    "result = pd.Series(loss(train_group_set, train_group_set_pred, '0-1'), index = ['total_error', 'type_i_error', 'type_ii_error'])\n",
    "print(result)"
   ]
  },
  {
   "cell_type": "code",
   "execution_count": 197,
   "metadata": {
    "id": "2YkJA6fWcVRf",
    "outputId": "e85a3f67-10de-4624-f07f-85a95f2e5ead"
   },
   "outputs": [
    {
     "name": "stdout",
     "output_type": "stream",
     "text": [
      "total_error      0\n",
      "type_i_error     0\n",
      "type_ii_error    0\n",
      "dtype: int32\n"
     ]
    }
   ],
   "source": [
    "result = pd.Series(loss(test_group_set, test_group_set_pred, '0-1'), index = ['total_error', 'type_i_error', 'type_ii_error'])\n",
    "print(result)"
   ]
  },
  {
   "cell_type": "code",
   "execution_count": 198,
   "metadata": {},
   "outputs": [],
   "source": [
    "meshgrid = np.linspace(0, 1, num = 100)"
   ]
  },
  {
   "cell_type": "code",
   "execution_count": 199,
   "metadata": {},
   "outputs": [],
   "source": [
    "# total class 1 items\n",
    "total_positive = train_group_set.groupby(train_group_set.iloc[:, 0]).count().iloc[0, 0]\n",
    "# total class 2 items\n",
    "total_negative = train_group_set.groupby(train_group_set.iloc[:, 0]).count().iloc[1, 0]"
   ]
  },
  {
   "cell_type": "code",
   "execution_count": 200,
   "metadata": {},
   "outputs": [],
   "source": [
    "true_positive_rate_all = []\n",
    "false_positive_rate_all = []\n",
    "for threshold in meshgrid:\n",
    "    group_set_pred = lda.predict(train_features_set, threshold)\n",
    "    type_i_error = loss(train_group_set, group_set_pred, '0-1')[1] # true 2 classified as 1\n",
    "    type_ii_error = loss(train_group_set, group_set_pred, '0-1')[2] # true 1 classified as 2\n",
    "    true_positive_rate = (total_positive - type_ii_error) / total_positive\n",
    "    false_positive_rate = type_i_error / total_negative\n",
    "    true_positive_rate_all.append(true_positive_rate)\n",
    "    false_positive_rate_all.append(false_positive_rate)"
   ]
  },
  {
   "cell_type": "code",
   "execution_count": 201,
   "metadata": {},
   "outputs": [
    {
     "data": {
      "text/plain": [
       "[<matplotlib.lines.Line2D at 0x1addfe61070>,\n",
       " <matplotlib.lines.Line2D at 0x1addfe61670>]"
      ]
     },
     "execution_count": 201,
     "metadata": {},
     "output_type": "execute_result"
    },
    {
     "data": {
      "image/png": "[encoded data removed]",
      "text/plain": [
       "<Figure size 432x288 with 1 Axes>"
      ]
     },
     "metadata": {
      "needs_background": "light"
     },
     "output_type": "display_data"
    }
   ],
   "source": [
    "plt.plot(false_positive_rate_all, true_positive_rate_all, 1, 1)"
   ]
  },
  {
   "cell_type": "markdown",
   "metadata": {
    "id": "A_ooorXUcVRf"
   },
   "source": [
    "### Quadratic Discriminant Analysis"
   ]
  },
  {
   "cell_type": "code",
   "execution_count": 202,
   "metadata": {
    "id": "QjwV9wjxcVRf"
   },
   "outputs": [],
   "source": [
    "# Note: the input to the methods should be pandas dataframes\n",
    "class QuadraticDiscriminantAnalysis():\n",
    "    def __init__(self):\n",
    "        self.mu_params = None\n",
    "        self.cov_params = None\n",
    "        self.pi_params = None\n",
    "        self.class_labels = None\n",
    "        \n",
    "    def fit(self, feature_set, group_set, class_labels):\n",
    "        feature_set, self.mu, self.sigma = feature_normalize(feature_set)\n",
    "        complete_set = pd.concat([group_set, feature_set], axis=1)\n",
    "        sorted_complete_set = pd.merge(class_labels, complete_set, on='Label', sort=False)\n",
    "        class_labels = np.array(class_labels).ravel()\n",
    "        self.class_labels = class_labels\n",
    "        self.mu_params = sorted_complete_set.groupby(sorted_complete_set.iloc[:, 0]).mean().iloc[:, 1:]\n",
    "        cov_params = []\n",
    "        for i in class_labels:\n",
    "            cov_class = sorted_complete_set[sorted_complete_set.iloc[:, 0] == i].iloc[:, 1:].cov()\n",
    "            cov_params.append(cov_class)\n",
    "        self.cov_params = cov_params\n",
    "        self.pi_params = sorted_complete_set.groupby(sorted_complete_set.iloc[:, 0]).count().iloc[:, 0] / sorted_complete_set.iloc[:, 0].count()\n",
    "        \n",
    "        return self\n",
    "    \n",
    "    def predict(self, feature_set, threshold=0.5):\n",
    "        # use numpy for better performance\n",
    "        feature_set = feature_normalize(feature_set, self.mu, self.sigma)[0]\n",
    "        feature_set = np.array(feature_set)\n",
    "        mu_params = np.array(self.mu_params)\n",
    "        cov_params = np.array(self.cov_params)\n",
    "        pi_params = np.array(self.pi_params)\n",
    "        \n",
    "        k = len(self.class_labels) # number of classes\n",
    "        n = feature_set.shape[0] # sample size\n",
    "        \n",
    "        # Treat 1d and 2d feature set separately\n",
    "        if len(feature_set.shape) == 1:\n",
    "            d = 1\n",
    "        else:\n",
    "            d = feature_set.shape[1] # number of features\n",
    "        \n",
    "        # for binary classification\n",
    "        if len(self.class_labels) == 2:\n",
    "            group_set = np.zeros((n, 1))\n",
    "            for i in range(n):\n",
    "                numerator = np.zeros((1, 2))\n",
    "                likelihood_0 = np.exp(- 0.5 * np.linalg.multi_dot([(feature_set[i] - mu_params[0]), np.linalg.inv(cov_params[0]), np.transpose(feature_set[i] - mu_params[0])])) / (np.power(2 * np.pi, d/2) * np.sqrt(np.linalg.det(cov_params[0])))\n",
    "                likelihood_1 = np.exp(- 0.5 * np.linalg.multi_dot([(feature_set[i] - mu_params[1]), np.linalg.inv(cov_params[1]), np.transpose(feature_set[i] - mu_params[1])])) / (np.power(2 * np.pi, d/2) * np.sqrt(np.linalg.det(cov_params[1])))\n",
    "                numerator_0 = pi_params[0] * likelihood_0\n",
    "                numerator_1 = pi_params[1] * likelihood_1\n",
    "                posterior_0 = numerator_0 / (numerator_0 + numerator_1)\n",
    "                if posterior_0 > threshold: # probability threshold for classifying into the first group\n",
    "                    group_set[i] = self.class_labels[0]\n",
    "                else: \n",
    "                    group_set[i] = self.class_labels[1]\n",
    "        \n",
    "        # for non-binary classification\n",
    "        else:\n",
    "            group_set = np.zeros((n, 1))\n",
    "            for i in range(n):\n",
    "                winning_class = 0\n",
    "                max_prob = 0\n",
    "                for r in range(k):\n",
    "                    likelihood = np.exp(- 0.5 * np.linalg.multi_dot([(feature_set[i] - mu_params[r]), np.linalg.inv(cov_params[r]), np.transpose(feature_set[i] - mu_params[r])])) / (np.power(2 * np.pi, d/2) * np.sqrt(np.linalg.det(cov_params[r])))\n",
    "                    class_prob = pi_params[r] * likelihood\n",
    "                    if class_prob > max_prob:\n",
    "                        winning_class = r\n",
    "                        max_prob = class_prob\n",
    "                group_set[i] = self.class_labels[winning_class]\n",
    "                \n",
    "        return group_set.ravel().astype(int)"
   ]
  },
  {
   "cell_type": "code",
   "execution_count": 203,
   "metadata": {
    "id": "CutpAsBgcVRg",
    "scrolled": true
   },
   "outputs": [],
   "source": [
    "qda = QuadraticDiscriminantAnalysis().fit(train_features_set, train_group_set, class_labels)\n",
    "train_group_set_pred = qda.predict(train_features_set)\n",
    "test_group_set_pred = qda.predict(test_features_set)"
   ]
  },
  {
   "cell_type": "code",
   "execution_count": 204,
   "metadata": {
    "id": "YDGsiF72cVRg",
    "outputId": "d59305c6-c604-4a65-eb78-88b5fe02eeba"
   },
   "outputs": [
    {
     "name": "stdout",
     "output_type": "stream",
     "text": [
      "total_error      7\n",
      "type_i_error     4\n",
      "type_ii_error    3\n",
      "dtype: int32\n"
     ]
    }
   ],
   "source": [
    "result = pd.Series(loss(train_group_set, train_group_set_pred, '0-1'), index = ['total_error', 'type_i_error', 'type_ii_error'])\n",
    "print(result)"
   ]
  },
  {
   "cell_type": "code",
   "execution_count": 205,
   "metadata": {
    "id": "nVsI7DV7cVRg",
    "outputId": "c8d3d3d1-6bd7-4c00-db1e-815efe87e313"
   },
   "outputs": [
    {
     "name": "stdout",
     "output_type": "stream",
     "text": [
      "total_error      0\n",
      "type_i_error     0\n",
      "type_ii_error    0\n",
      "dtype: int32\n"
     ]
    }
   ],
   "source": [
    "result = pd.Series(loss(test_group_set, test_group_set_pred, '0-1'), index = ['total_error', 'type_i_error', 'type_ii_error'])\n",
    "print(result)"
   ]
  },
  {
   "cell_type": "code",
   "execution_count": 206,
   "metadata": {},
   "outputs": [],
   "source": [
    "meshgrid = np.linspace(0, 1, num = 100)"
   ]
  },
  {
   "cell_type": "code",
   "execution_count": 207,
   "metadata": {},
   "outputs": [],
   "source": [
    "# total class 1 items\n",
    "total_positive = train_group_set.groupby(train_group_set.iloc[:, 0]).count().iloc[0, 0]\n",
    "# total class 2 items\n",
    "total_negative = train_group_set.groupby(train_group_set.iloc[:, 0]).count().iloc[1, 0]"
   ]
  },
  {
   "cell_type": "code",
   "execution_count": 208,
   "metadata": {},
   "outputs": [],
   "source": [
    "true_positive_rate_all = []\n",
    "false_positive_rate_all = []\n",
    "for threshold in meshgrid:\n",
    "    group_set_pred = qda.predict(train_features_set, threshold)\n",
    "    type_i_error = loss(train_group_set, group_set_pred, '0-1')[1] # true 2 classified as 1\n",
    "    type_ii_error = loss(train_group_set, group_set_pred, '0-1')[2] # true 1 classified as 2\n",
    "    true_positive_rate = (total_positive - type_ii_error) / total_positive\n",
    "    false_positive_rate = type_i_error / total_negative\n",
    "    true_positive_rate_all.append(true_positive_rate)\n",
    "    false_positive_rate_all.append(false_positive_rate)"
   ]
  },
  {
   "cell_type": "code",
   "execution_count": 209,
   "metadata": {},
   "outputs": [
    {
     "data": {
      "text/plain": [
       "[<matplotlib.lines.Line2D at 0x1addf8a34f0>,\n",
       " <matplotlib.lines.Line2D at 0x1addf8a3f70>]"
      ]
     },
     "execution_count": 209,
     "metadata": {},
     "output_type": "execute_result"
    },
    {
     "data": {
      "image/png": "[encoded data removed]",
      "text/plain": [
       "<Figure size 432x288 with 1 Axes>"
      ]
     },
     "metadata": {
      "needs_background": "light"
     },
     "output_type": "display_data"
    }
   ],
   "source": [
    "plt.plot(false_positive_rate_all, true_positive_rate_all, 1, 1)"
   ]
  },
  {
   "cell_type": "markdown",
   "metadata": {
    "id": "tWxEwwbIcVRg"
   },
   "source": [
    "## 3-Classes classification\n",
    "### Naive Bayes Gaussian"
   ]
  },
  {
   "cell_type": "code",
   "execution_count": 210,
   "metadata": {},
   "outputs": [],
   "source": [
    "# Choose predictors\n",
    "train_features_set = train_sample[['Alcohol', 'Flavanoids', 'Proanthocyanins', 'Color intensity']]\n",
    "train_group_set = train_sample[['Label']]\n",
    "class_labels = pd.DataFrame([1, 2, 3], columns=['Label'])\n",
    "test_features_set = test_sample[['Alcohol', 'Flavanoids', 'Proanthocyanins', 'Color intensity']]\n",
    "test_group_set = test_sample[['Label']]"
   ]
  },
  {
   "cell_type": "code",
   "execution_count": 211,
   "metadata": {},
   "outputs": [],
   "source": [
    "nbg = NaiveBayesGaussian().fit(train_features_set, train_group_set, class_labels)\n",
    "train_group_set_pred = nbg.predict(train_features_set)\n",
    "test_group_set_pred = nbg.predict(test_features_set)"
   ]
  },
  {
   "cell_type": "code",
   "execution_count": 212,
   "metadata": {},
   "outputs": [
    {
     "name": "stdout",
     "output_type": "stream",
     "text": [
      "total_error    9\n",
      "dtype: int32\n"
     ]
    }
   ],
   "source": [
    "result = pd.Series(loss(train_group_set, train_group_set_pred, '0-1'), index = ['total_error'])\n",
    "print(result)"
   ]
  },
  {
   "cell_type": "code",
   "execution_count": 213,
   "metadata": {},
   "outputs": [
    {
     "name": "stdout",
     "output_type": "stream",
     "text": [
      "total_error    2\n",
      "dtype: int32\n"
     ]
    }
   ],
   "source": [
    "result = pd.Series(loss(test_group_set, test_group_set_pred, '0-1'), index = ['total_error'])\n",
    "print(result)"
   ]
  },
  {
   "cell_type": "markdown",
   "metadata": {},
   "source": [
    "### Linear Discriminant Analysis"
   ]
  },
  {
   "cell_type": "code",
   "execution_count": 214,
   "metadata": {},
   "outputs": [],
   "source": [
    "lda = LinearDiscriminantAnalysis().fit(train_features_set, train_group_set, class_labels)\n",
    "train_group_set_pred = lda.predict(train_features_set)\n",
    "test_group_set_pred = lda.predict(test_features_set)"
   ]
  },
  {
   "cell_type": "code",
   "execution_count": 215,
   "metadata": {},
   "outputs": [
    {
     "name": "stdout",
     "output_type": "stream",
     "text": [
      "total_error    10\n",
      "dtype: int32\n"
     ]
    }
   ],
   "source": [
    "result = pd.Series(loss(train_group_set, train_group_set_pred, '0-1'), index = ['total_error'])\n",
    "print(result)"
   ]
  },
  {
   "cell_type": "code",
   "execution_count": 216,
   "metadata": {},
   "outputs": [
    {
     "name": "stdout",
     "output_type": "stream",
     "text": [
      "total_error    2\n",
      "dtype: int32\n"
     ]
    }
   ],
   "source": [
    "result = pd.Series(loss(test_group_set, test_group_set_pred, '0-1'), index = ['total_error'])\n",
    "print(result)"
   ]
  },
  {
   "cell_type": "markdown",
   "metadata": {},
   "source": [
    "### Quadratic Discriminant Analysis"
   ]
  },
  {
   "cell_type": "code",
   "execution_count": 217,
   "metadata": {},
   "outputs": [],
   "source": [
    "qda = QuadraticDiscriminantAnalysis().fit(train_features_set, train_group_set, class_labels)\n",
    "train_group_set_pred = qda.predict(train_features_set)\n",
    "test_group_set_pred = qda.predict(test_features_set)"
   ]
  },
  {
   "cell_type": "code",
   "execution_count": 218,
   "metadata": {},
   "outputs": [
    {
     "name": "stdout",
     "output_type": "stream",
     "text": [
      "total_error    5\n",
      "dtype: int32\n"
     ]
    }
   ],
   "source": [
    "result = pd.Series(loss(train_group_set, train_group_set_pred, '0-1'), index = ['total_error'])\n",
    "print(result)"
   ]
  },
  {
   "cell_type": "code",
   "execution_count": 219,
   "metadata": {},
   "outputs": [
    {
     "name": "stdout",
     "output_type": "stream",
     "text": [
      "total_error    1\n",
      "dtype: int32\n"
     ]
    }
   ],
   "source": [
    "result = pd.Series(loss(test_group_set, test_group_set_pred, '0-1'), index = ['total_error'])\n",
    "print(result)"
   ]
  },
  {
   "cell_type": "markdown",
   "metadata": {},
   "source": [
    "### Comparison between Generative and Discriminative Models\n",
    "Except that perceptron gives a worse result (but its hyperparameters are still to be tuned and the result highly depends on the initialization,) in general, there is no very obvious performance difference between generative and discriminative models in our results."
   ]
  },
  {
   "cell_type": "code",
   "execution_count": null,
   "metadata": {},
   "outputs": [],
   "source": []
  }
 ],
 "metadata": {
  "colab": {
   "name": "ML homework04_v3.ipynb",
   "provenance": []
  },
  "interpreter": {
   "hash": "04b0022e25506edf1123745eb6a5641eeb58f4c6825d53cb9267480276f19e42"
  },
  "kernelspec": {
   "display_name": "Python 3",
   "language": "python",
   "name": "python3"
  },
  "language_info": {
   "codemirror_mode": {
    "name": "ipython",
    "version": 3
   },
   "file_extension": ".py",
   "mimetype": "text/x-python",
   "name": "python",
   "nbconvert_exporter": "python",
   "pygments_lexer": "ipython3",
   "version": "3.8.5"
  }
 },
 "nbformat": 4,
 "nbformat_minor": 1
}
