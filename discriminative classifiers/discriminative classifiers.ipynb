{
 "cells": [
  {
   "cell_type": "code",
   "execution_count": 95,
   "metadata": {
    "id": "2CohoKCA6bnN"
   },
   "outputs": [],
   "source": [
    "from math import sqrt\n",
    "import matplotlib.pyplot as plt\n",
    "import matplotlib as mpl\n",
    "import numpy as np\n",
    "from numpy.linalg import multi_dot\n",
    "from numpy.linalg import inv\n",
    "from numpy.linalg import det\n",
    "import pandas as pd\n",
    "import random\n",
    "import math"
   ]
  },
  {
   "cell_type": "markdown",
   "metadata": {
    "id": "7c2RZmGacVRF"
   },
   "source": [
    "# Auxilary classes and methods"
   ]
  },
  {
   "cell_type": "code",
   "execution_count": 96,
   "metadata": {
    "id": "neQLfDc3cVRF"
   },
   "outputs": [],
   "source": [
    "def train_test_split(data, test_ratio):\n",
    "    shuffled_indices = np.random.permutation(len(data))\n",
    "    test_size = int(len(data) * test_ratio)\n",
    "    test_indices = shuffled_indices[:test_size]\n",
    "    train_indices = shuffled_indices[test_size:]\n",
    "    return data.iloc[train_indices], data.iloc[test_indices]"
   ]
  },
  {
   "cell_type": "code",
   "execution_count": 97,
   "metadata": {
    "id": "KAYZTfP6cVRG"
   },
   "outputs": [],
   "source": [
    "def feature_normalize(df, mu=None, sigma=None):\n",
    "    # copy the dataframe\n",
    "    if df.size == 0:\n",
    "        return df, None, None\n",
    "    df_normalized = df.copy()\n",
    "    if mu is None and sigma is None:\n",
    "        mu = df_normalized.mean(axis=0)\n",
    "        sigma = df_normalized.std(axis=0, ddof=1)\n",
    "    df_normalized = (df_normalized - mu) / sigma\n",
    "    return df_normalized, mu, sigma"
   ]
  },
  {
   "cell_type": "code",
   "execution_count": 98,
   "metadata": {
    "id": "AfTV19M0cVRG"
   },
   "outputs": [],
   "source": [
    "def feature_minmax(df, min_value=None, minmax_gap=None):\n",
    "    # copy the dataframe\n",
    "    if df.size == 0:\n",
    "        return df, None, None\n",
    "    df_normalized = df.copy()\n",
    "    if min_value is None and minmax_gap is None:\n",
    "        min_value = df_normalized.min(axis=0)\n",
    "        minmax_gap = df_normalized.max(axis=0) - df_normalized.min(axis=0)\n",
    "    df_normalized = (df_normalized - min_value) / minmax_gap\n",
    "    return df_normalized, min_value, minmax_gap"
   ]
  },
  {
   "cell_type": "code",
   "execution_count": 99,
   "metadata": {
    "id": "ZKhKgjU16bnR"
   },
   "outputs": [],
   "source": [
    "# This method transforms a group set vector into a binary group set matrix\n",
    "def transform_labels(classLabels):\n",
    "    new_label = np.zeros((len(classLabels), len(np.unique(classLabels))))\n",
    "    for i in range(len(classLabels)):\n",
    "        if classLabels[i] == 1:\n",
    "            new_label[i][0] = 1\n",
    "        elif classLabels[i] == 2:\n",
    "            new_label[i][1] = 1\n",
    "        else:\n",
    "            new_label[i][2] = 1\n",
    "    return new_label"
   ]
  },
  {
   "cell_type": "code",
   "execution_count": 100,
   "metadata": {
    "id": "gztQ7-WMcVRH"
   },
   "outputs": [],
   "source": [
    "def transform_perceptron_sign(array):\n",
    "    for i in range(len(array)):\n",
    "        if array[i] == 0:\n",
    "            array[i] = -1\n",
    "    return array\n",
    "\n",
    "def loss(y, y_pred, type_of_loss=None, features_set=None, beta=None):\n",
    "    y = np.array(y).ravel()\n",
    "    y_pred = np.array(y_pred).ravel()\n",
    "    if type_of_loss == 'mse':\n",
    "        loss = (y - y_pred) ** 2 / len(y)\n",
    "        return loss\n",
    "    elif type_of_loss == '0-1':\n",
    "        # binary classification\n",
    "        # assume that wine type 1 is for positive, type 2 is for negative\n",
    "        # however, we have to reassign the group numbers if we classify wine type 3\n",
    "        if len(np.unique(y_pred)) <= 2:\n",
    "            loss = np.sum(y != y_pred)\n",
    "            # false positive: true 2 classified as 1\n",
    "            type_i_error = np.sum(y_pred < y)\n",
    "            # false negative: true 1 classified as 2\n",
    "            type_ii_error = np.sum(y < y_pred)\n",
    "            return loss, type_i_error, type_ii_error\n",
    "        else:\n",
    "            loss = np.sum(y != y_pred)\n",
    "            return loss\n",
    "    elif type_of_loss == 'hinge':\n",
    "        loss = 0\n",
    "        y = transform_perceptron_sign(y)\n",
    "        y_pred = transform_perceptron_sign(y_pred)\n",
    "        for i in range(len(y)):\n",
    "            if y[i] * y_pred[i] < 1:\n",
    "                loss += 1 - y[i] * np.dot(features_set[i].T, beta[0])\n",
    "        return loss\n",
    "    else: \n",
    "        message = 'type of error not specified'\n",
    "        return message"
   ]
  },
  {
   "cell_type": "markdown",
   "metadata": {
    "id": "KY_hn6ExcVRI"
   },
   "source": [
    "# Logistic classifier"
   ]
  },
  {
   "cell_type": "code",
   "execution_count": 101,
   "metadata": {
    "id": "RU6wKSPocVRI"
   },
   "outputs": [],
   "source": [
    "class LogisticClassifier():\n",
    "    def __init__(self):\n",
    "        self.logit_param = None\n",
    "        self.class_labels = None\n",
    "        self.mu = None\n",
    "        self.sigma = None\n",
    "\n",
    "    def fit(self, features_set, group_set, class_labels, alpha=0.1, num_iter=250, reg_opt = None, lambda_ = 0.01):\n",
    "        complete_set = pd.concat([group_set, features_set], axis=1)\n",
    "        sorted_complete_set = pd.merge(class_labels, complete_set, on='Label', sort=False)\n",
    "        features_set = np.array(sorted_complete_set.iloc[:, 1:])\n",
    "        features_set, self.mu, self.sigma = feature_normalize(features_set)\n",
    "        group_set = np.array(sorted_complete_set.iloc[:, 0])\n",
    "        class_labels = np.array(class_labels).ravel()\n",
    "        sample_size = features_set.shape[0]\n",
    "        self.class_labels = class_labels\n",
    "        \n",
    "        if len(self.class_labels) == 2:\n",
    "            weight = np.zeros(features_set.shape[1])\n",
    "            bias = 0\n",
    "            class_labels_transform = (group_set==class_labels[0])\n",
    "            for i in range(num_iter):\n",
    "                sigma = 1 / (1 + np.exp(-np.dot(features_set, weight) - bias))\n",
    "                if reg_opt == 'l1': # Lasso regression\n",
    "                    gradient = np.dot(features_set.T, (sigma * np.ones(sample_size) - class_labels_transform)) / sample_size + lambda_ * np.sign(weight) \n",
    "                elif reg_opt == 'l2': # Ridge regression\n",
    "                    gradient = np.dot(features_set.T, (sigma * np.ones(sample_size) - class_labels_transform)) / sample_size + lambda_ * weight \n",
    "                else:\n",
    "                    gradient = np.dot(features_set.T, (sigma * np.ones(sample_size) - class_labels_transform)) / sample_size\n",
    "                #db = np.sum(sigma - group_set) / features_set.shape[0]\n",
    "                db = np.sum(sigma * np.ones(features_set.shape[0]) - (group_set==class_labels[0])) / sample_size\n",
    "                weight -= alpha * gradient\n",
    "                bias -= alpha * db\n",
    "        else:\n",
    "            weight = np.zeros((features_set.shape[1], len(np.unique(group_set))))\n",
    "            bias = 0\n",
    "            class_labels_transform = transform_labels(group_set)\n",
    "            for i in range(num_iter):\n",
    "                # sigma = np.exp(np.dot(featuresSet, weight) + bias) / 1 + np.sum(np.exp(np.dot(featuresSet, weight) + bias))\n",
    "                # sigma = softmax(np.dot(features_set, weight) + bias)\n",
    "                sigma = np.exp(np.dot(features_set, weight) + bias) / np.sum(np.exp(np.dot(features_set, weight) + bias), axis = 1).reshape(-1, 1)\n",
    "                if reg_opt == 'l1': # Lasso regression\n",
    "                    gradient = np.dot(features_set.T, (sigma - class_labels_transform)) / sample_size + lambda_ * np.sign(weight) \n",
    "                elif reg_opt == 'l2': # Ridge regression\n",
    "                    gradient = np.dot(features_set.T, (sigma - class_labels_transform)) / sample_size + lambda_ * weight\n",
    "                else:\n",
    "                    gradient = np.dot(features_set.T, (sigma - class_labels_transform)) / sample_size\n",
    "                db = np.sum(sigma - class_labels_transform) / features_set.shape[0]\n",
    "                weight -= alpha * gradient\n",
    "                bias -= alpha * db\n",
    "        self.logit_param = weight, bias\n",
    "        return self\n",
    "\n",
    "    def predict(self, features_set):\n",
    "        features_set = feature_normalize(features_set, self.mu, self.sigma)[0]\n",
    "        if len(self.class_labels) == 2:\n",
    "            result = 1 / (1 + np.exp(-np.dot(features_set, self.logit_param[0]) - self.logit_param[1]))\n",
    "            # y_pred = np.where(result >= 0.5, 1, 0)\n",
    "            y_pred = np.zeros(result.shape[0])\n",
    "            for i in range(len(y_pred)):\n",
    "                if result[i] >= 0.5:  # threshold = 0.5\n",
    "                    y_pred[i] = self.class_labels[0]\n",
    "                else:\n",
    "                    y_pred[i] = self.class_labels[1]\n",
    "        else:\n",
    "            # result = np.exp(np.dot(featuresSet, logit_param[0]) + logit_param[1]) / 1 + np.sum(np.exp(np.dot(featuresSet, logit_param[0]) + logit_param[1]))\n",
    "            # result = softmax(np.dot(features_set, self.logit_param[0]) + self.logit_param[1])\n",
    "            result = np.exp(np.dot(features_set, self.logit_param[0]) + self.logit_param[1]) / np.sum(np.exp(np.dot(features_set, self.logit_param[0]) + self.logit_param[1]), axis = 1).reshape(-1, 1)\n",
    "            y_pred = self.class_labels[np.argmax(result, axis=1)]\n",
    "        return y_pred"
   ]
  },
  {
   "cell_type": "markdown",
   "metadata": {
    "id": "RMDnC93FcVRJ"
   },
   "source": [
    "# Perceptron"
   ]
  },
  {
   "cell_type": "code",
   "execution_count": 102,
   "metadata": {
    "id": "KMi5Dk3Z6bnU"
   },
   "outputs": [],
   "source": [
    "def step(features_set, weight, bias):\n",
    "        z = np.dot(weight, features_set) + bias\n",
    "        if z >= 0:\n",
    "            return 1\n",
    "        else:\n",
    "            return 0\n",
    "        \n",
    "class Perceptron():\n",
    "\n",
    "    def __init__(self):\n",
    "        self.class_labels = None\n",
    "        self.beta = None\n",
    "        self.min_value = None\n",
    "        self.minmax_gap = None\n",
    "\n",
    "    def fit(self, features_set, group_set, class_labels, alpha=0.1, num_iter=250):\n",
    "        complete_set = pd.concat([group_set, features_set], axis=1)\n",
    "        sorted_complete_set = pd.merge(class_labels, complete_set, on='Label', sort=False)\n",
    "        features_set = np.array(sorted_complete_set.iloc[:, 1:])\n",
    "        features_set, self.min_value, self.minmax_gap = feature_minmax(features_set)\n",
    "        group_set = np.array(sorted_complete_set.iloc[:, 0])\n",
    "        class_labels = np.array(class_labels).ravel()\n",
    "        self.class_labels = class_labels\n",
    "        class_labels_transform = (group_set==class_labels[0])\n",
    "        weight = np.zeros(features_set.shape[1])\n",
    "        bias = 0\n",
    "        for i in range(num_iter):\n",
    "            for m in range(len(features_set)):\n",
    "                y_ = step(features_set[m], weight, bias)\n",
    "                for n in range(len(weight)):\n",
    "                    weight[n] += alpha * (class_labels_transform[m] - y_) * features_set[m][n]\n",
    "                    bias += alpha * (class_labels_transform[m] - y_)\n",
    "        self.beta = weight, bias\n",
    "        return self\n",
    "\n",
    "    def predict(self, features_set):\n",
    "        features_set = feature_minmax(features_set, self.min_value, self.minmax_gap)[0]\n",
    "        result = np.dot(features_set, self.beta[0]) + self.beta[1]\n",
    "        y_pred = np.zeros(result.shape[0])\n",
    "        for i in range(len(y_pred)):\n",
    "            if result[i] >= 0:\n",
    "                y_pred[i] = self.class_labels[0]\n",
    "            else:\n",
    "                y_pred[i] = self.class_labels[1]\n",
    "        return y_pred"
   ]
  },
  {
   "cell_type": "markdown",
   "metadata": {
    "id": "15eYkb__cVRJ"
   },
   "source": [
    "# K nearest neighbours"
   ]
  },
  {
   "cell_type": "code",
   "execution_count": 103,
   "metadata": {
    "id": "W4VkbTpLcVRK"
   },
   "outputs": [],
   "source": [
    "def KNN_fit(train_sample, train_class, test, k):\n",
    "    train_sample, mu, sigma = feature_normalize(train_sample)\n",
    "    train_sample = np.array(train_sample)\n",
    "    train_class = np.array(train_class).ravel().astype(np.int)\n",
    "    test = feature_normalize(test, mu, sigma)[0]\n",
    "    test = np.array(test)\n",
    "    sample_size = train_sample.shape[0]\n",
    "    test_size = test.shape[0]\n",
    "    result = []\n",
    "    for i in range(test_size):\n",
    "        distance_all = []\n",
    "        for j in range(sample_size):\n",
    "            distance = np.sum((test[i] - train_sample[j])**2)\n",
    "            distance_all.append(distance)\n",
    "        neighbours_index = np.argsort(distance_all)[0 : k]\n",
    "        class_counts = np.bincount(train_class[neighbours_index])\n",
    "        most_frequent_class = np.argmax(class_counts)\n",
    "        result.append(most_frequent_class)\n",
    "    return result"
   ]
  },
  {
   "cell_type": "markdown",
   "metadata": {
    "id": "nXpgZ7ge6bnX"
   },
   "source": [
    "# Binary classification"
   ]
  },
  {
   "cell_type": "code",
   "execution_count": 104,
   "metadata": {
    "id": "q2ET_FhDcVRK"
   },
   "outputs": [],
   "source": [
    "# import data\n",
    "data = pd.read_csv('wine.csv', header = None)\n",
    "column_names = ['Label', 'Alcohol', 'Malic acid', 'Ash', 'Alcalinity of ash',\n",
    "                'Magnesium', 'Total phenols', 'Flavanoids', 'Nonflavanoid phenols',\n",
    "                'Proanthocyanins', 'Color intensity', 'Hue', 'OD280/OD315 of diluted wines',\n",
    "                'Proline']\n",
    "wine = pd.DataFrame(data)\n",
    "wine.columns = column_names"
   ]
  },
  {
   "cell_type": "code",
   "execution_count": 105,
   "metadata": {
    "id": "zDCaJwpIcVRL"
   },
   "outputs": [],
   "source": [
    "train_sample, test_sample = train_test_split(wine, 0.2)"
   ]
  },
  {
   "cell_type": "code",
   "execution_count": 106,
   "metadata": {
    "id": "_LuvIszbcVRL"
   },
   "outputs": [],
   "source": [
    "# Choose predictors\n",
    "train_features_set = train_sample[train_sample['Label'].isin([1, 3])][['Alcalinity of ash','Proanthocyanins']]\n",
    "train_group_set = train_sample[train_sample['Label'].isin([1, 3])][['Label']]\n",
    "class_labels = pd.DataFrame([1, 3], columns=['Label'])\n",
    "test_features_set = test_sample[test_sample['Label'].isin([1, 3])][['Alcalinity of ash','Proanthocyanins']]\n",
    "test_group_set = test_sample[test_sample['Label'].isin([1, 3])].iloc[:, 0]"
   ]
  },
  {
   "cell_type": "code",
   "execution_count": 107,
   "metadata": {},
   "outputs": [],
   "source": [
    "# Helper function to plot a decision boundary.\n",
    "# If you don't fully understand this function don't worry, it just generates the contour plot below.\n",
    "def plot_decision_boundary(pred_func):\n",
    "    # Set min and max values and give it some padding\n",
    "    x_min, x_max = train_features_set.iloc[:, 0].min() - .5, train_features_set.iloc[:, 0].max() + .5\n",
    "    y_min, y_max = train_features_set.iloc[:, 1].min() - .5, train_features_set.iloc[:, 1].max() + .5\n",
    "    h = 0.01\n",
    "    # Generate a grid of points with distance h between them\n",
    "    xx, yy = np.meshgrid(np.arange(x_min, x_max, h), np.arange(y_min, y_max, h))\n",
    "    # Predict the function value for the whole gid\n",
    "    Z = pred_func(np.c_[xx.ravel(), yy.ravel()])\n",
    "    Z = Z.reshape(xx.shape)\n",
    "    # Plot the contour and training examples\n",
    "    plt.contourf(xx, yy, Z, cmap=plt.cm.Spectral)\n",
    "    plt.scatter(train_features_set.iloc[:, 0], train_features_set.iloc[:, 1], c=train_group_set.values, cmap=plt.cm.Spectral)"
   ]
  },
  {
   "cell_type": "markdown",
   "metadata": {
    "id": "eHnO6j9ucVRM"
   },
   "source": [
    "## Logistic classifier"
   ]
  },
  {
   "cell_type": "markdown",
   "metadata": {
    "id": "a48I8M3JcVRM"
   },
   "source": [
    "### Choosing regularization parameter using cross validation"
   ]
  },
  {
   "cell_type": "markdown",
   "metadata": {
    "id": "p3lBdLcQcVRN"
   },
   "source": [
    "#### For Lasso"
   ]
  },
  {
   "cell_type": "code",
   "execution_count": 108,
   "metadata": {
    "id": "rNjWXOoIcVRN",
    "outputId": "6a0617c2-a0d0-43a5-b463-5005a4e4c6f4"
   },
   "outputs": [
    {
     "name": "stdout",
     "output_type": "stream",
     "text": [
      "0.0\n"
     ]
    }
   ],
   "source": [
    "n_train = train_features_set.shape[0]\n",
    "num_fold = 5\n",
    "n_fold = math.floor(n_train / num_fold)\n",
    "\n",
    "total_error_all = []\n",
    "type_i_error_all = []\n",
    "type_ii_error_all = []\n",
    "meshgrid = np.arange(0, 0.1, 0.01)\n",
    "\n",
    "features_set = train_features_set\n",
    "group_set = train_group_set\n",
    "\n",
    "for lambda_ in meshgrid:\n",
    "    total_error = 0\n",
    "    type_i_error = 0\n",
    "    type_ii_error = 0\n",
    "    for cur_fold in range(num_fold):\n",
    "        features_set_fold = features_set.iloc[cur_fold * n_fold : (cur_fold + 1) * n_fold]\n",
    "        group_set_fold = group_set.iloc[cur_fold * n_fold : (cur_fold + 1) * n_fold]\n",
    "        features_set_train_fold = features_set.iloc[np.r_[0 : cur_fold * n_fold, (cur_fold + 1) * n_fold : n_train]]\n",
    "        group_set_train_fold = group_set.iloc[np.r_[0 : cur_fold * n_fold, (cur_fold + 1) * n_fold : n_train]]\n",
    "\n",
    "        pr = LogisticClassifier().fit(features_set_train_fold, group_set_train_fold, class_labels, reg_opt='l1', lambda_ = lambda_)\n",
    "        group_set_pred = pr.predict(features_set_fold)\n",
    "        total_error += loss(group_set_fold, group_set_pred, '0-1')[0]\n",
    "        type_i_error += loss(group_set_fold, group_set_pred, '0-1')[1]\n",
    "        type_ii_error += loss(group_set_fold, group_set_pred, '0-1')[2]\n",
    "    total_error_all.append(total_error)\n",
    "    type_i_error_all.append(type_i_error)\n",
    "    type_ii_error_all.append(type_ii_error)\n",
    "    \n",
    "best_lambda = meshgrid[np.argsort(total_error_all)[0]]\n",
    "print(best_lambda)"
   ]
  },
  {
   "cell_type": "markdown",
   "metadata": {
    "id": "lEvKK3YPcVRO"
   },
   "source": [
    "#### For Ridge"
   ]
  },
  {
   "cell_type": "code",
   "execution_count": 109,
   "metadata": {
    "id": "G4m9ZOJhcVRP",
    "outputId": "a15bc16f-44c4-4e06-e49c-bb732ee1ccfc"
   },
   "outputs": [
    {
     "name": "stdout",
     "output_type": "stream",
     "text": [
      "0.0\n"
     ]
    }
   ],
   "source": [
    "n_train = train_features_set.shape[0]\n",
    "num_fold = 5\n",
    "n_fold = math.floor(n_train / num_fold)\n",
    "\n",
    "total_error_all = []\n",
    "type_i_error_all = []\n",
    "type_ii_error_all = []\n",
    "meshgrid = np.arange(0, 0.1, 0.01)\n",
    "\n",
    "features_set = train_features_set\n",
    "group_set = train_group_set\n",
    "\n",
    "for lambda_ in meshgrid:\n",
    "    total_error = 0\n",
    "    type_i_error = 0\n",
    "    type_ii_error = 0\n",
    "    for cur_fold in range(num_fold):\n",
    "        features_set_fold = features_set.iloc[cur_fold * n_fold : (cur_fold + 1) * n_fold]\n",
    "        group_set_fold = group_set.iloc[cur_fold * n_fold : (cur_fold + 1) * n_fold]\n",
    "        features_set_train_fold = features_set.iloc[np.r_[0 : cur_fold * n_fold, (cur_fold + 1) * n_fold : n_train]]\n",
    "        group_set_train_fold = group_set.iloc[np.r_[0 : cur_fold * n_fold, (cur_fold + 1) * n_fold : n_train]]\n",
    "\n",
    "        pr = LogisticClassifier().fit(features_set_train_fold, group_set_train_fold, class_labels, reg_opt='l2', lambda_ = lambda_)\n",
    "        group_set_pred = pr.predict(features_set_fold)\n",
    "        total_error += loss(group_set_fold, group_set_pred, '0-1')[0]\n",
    "        type_i_error += loss(group_set_fold, group_set_pred, '0-1')[1]\n",
    "        type_ii_error += loss(group_set_fold, group_set_pred, '0-1')[2]\n",
    "    total_error_all.append(total_error)\n",
    "    type_i_error_all.append(type_i_error)\n",
    "    type_ii_error_all.append(type_ii_error)\n",
    "    \n",
    "best_lambda = meshgrid[np.argsort(total_error_all)[0]]\n",
    "print(best_lambda)"
   ]
  },
  {
   "cell_type": "markdown",
   "metadata": {
    "id": "VZbOhbI9cVRP"
   },
   "source": [
    "### Training and testing error without the regularization parameter"
   ]
  },
  {
   "cell_type": "code",
   "execution_count": 110,
   "metadata": {
    "id": "bwlsRx-9cVRP",
    "scrolled": false
   },
   "outputs": [],
   "source": [
    "lr = LogisticClassifier().fit(train_features_set, train_group_set, class_labels)\n",
    "train_group_set_pred = lr.predict(train_features_set)\n",
    "test_group_set_pred = lr.predict(test_features_set)"
   ]
  },
  {
   "cell_type": "code",
   "execution_count": 111,
   "metadata": {
    "id": "QMjJ-50LcVRQ",
    "outputId": "f47e1330-927c-4066-93fc-d931a50fefeb"
   },
   "outputs": [
    {
     "name": "stdout",
     "output_type": "stream",
     "text": [
      "total_error      6\n",
      "type_i_error     3\n",
      "type_ii_error    3\n",
      "dtype: int32\n"
     ]
    }
   ],
   "source": [
    "result = pd.Series(loss(train_group_set, train_group_set_pred, '0-1'), index = ['total_error', 'type_i_error', 'type_ii_error'])\n",
    "print(result)"
   ]
  },
  {
   "cell_type": "code",
   "execution_count": 112,
   "metadata": {
    "id": "BkxGsKG7cVRQ",
    "outputId": "9cb4e352-3ace-4f91-c37f-ac55d6a7ce7c"
   },
   "outputs": [
    {
     "name": "stdout",
     "output_type": "stream",
     "text": [
      "total_error      2\n",
      "type_i_error     2\n",
      "type_ii_error    0\n",
      "dtype: int32\n"
     ]
    }
   ],
   "source": [
    "result = pd.Series(loss(test_group_set, test_group_set_pred, '0-1'), index = ['total_error', 'type_i_error', 'type_ii_error'])\n",
    "print(result)"
   ]
  },
  {
   "cell_type": "markdown",
   "metadata": {
    "id": "66xxYXkEcVRR"
   },
   "source": [
    "### Training and testing error for Lasso regression"
   ]
  },
  {
   "cell_type": "code",
   "execution_count": 113,
   "metadata": {
    "id": "U8rZzjGOcVRR"
   },
   "outputs": [],
   "source": [
    "lr = LogisticClassifier().fit(train_features_set, train_group_set, class_labels, reg_opt = 'l1', lambda_ = 0.02)\n",
    "train_group_set_pred = lr.predict(train_features_set)\n",
    "test_group_set_pred = lr.predict(test_features_set)"
   ]
  },
  {
   "cell_type": "code",
   "execution_count": 114,
   "metadata": {
    "id": "vN32r2zBcVRR",
    "outputId": "46f2ccae-9222-4035-b569-65c554cbfcb8"
   },
   "outputs": [
    {
     "name": "stdout",
     "output_type": "stream",
     "text": [
      "total_error      6\n",
      "type_i_error     3\n",
      "type_ii_error    3\n",
      "dtype: int32\n"
     ]
    }
   ],
   "source": [
    "result = pd.Series(loss(train_group_set, train_group_set_pred, '0-1'), index = ['total_error', 'type_i_error', 'type_ii_error'])\n",
    "print(result)"
   ]
  },
  {
   "cell_type": "code",
   "execution_count": 115,
   "metadata": {
    "id": "iRxmOphocVRS",
    "outputId": "391b14a3-3836-4dc0-aa61-3739802fe771"
   },
   "outputs": [
    {
     "name": "stdout",
     "output_type": "stream",
     "text": [
      "total_error      2\n",
      "type_i_error     2\n",
      "type_ii_error    0\n",
      "dtype: int32\n"
     ]
    }
   ],
   "source": [
    "result = pd.Series(loss(test_group_set, test_group_set_pred, '0-1'), index = ['total_error', 'type_i_error', 'type_ii_error'])\n",
    "print(result)"
   ]
  },
  {
   "cell_type": "markdown",
   "metadata": {
    "id": "R8NUQT9bcVRS"
   },
   "source": [
    "### Training and testing error for Ridge regression"
   ]
  },
  {
   "cell_type": "code",
   "execution_count": 116,
   "metadata": {
    "id": "06_kXt9ecVRT"
   },
   "outputs": [],
   "source": [
    "lr = LogisticClassifier().fit(train_features_set, train_group_set, class_labels, reg_opt = 'l2', lambda_ = 0.02)\n",
    "train_group_set_pred = lr.predict(train_features_set)\n",
    "test_group_set_pred = lr.predict(test_features_set)"
   ]
  },
  {
   "cell_type": "code",
   "execution_count": 117,
   "metadata": {
    "id": "bmCfZcVscVRU",
    "outputId": "72132f04-b407-4eb5-c644-4fbc10117a43"
   },
   "outputs": [
    {
     "name": "stdout",
     "output_type": "stream",
     "text": [
      "total_error      6\n",
      "type_i_error     3\n",
      "type_ii_error    3\n",
      "dtype: int32\n"
     ]
    }
   ],
   "source": [
    "result = pd.Series(loss(train_group_set, train_group_set_pred, '0-1'), index = ['total_error', 'type_i_error', 'type_ii_error'])\n",
    "print(result)"
   ]
  },
  {
   "cell_type": "code",
   "execution_count": 118,
   "metadata": {
    "id": "NfZzLAqscVRV",
    "outputId": "20a382be-1ec4-4f47-e064-dd3b8bc146ba"
   },
   "outputs": [
    {
     "name": "stdout",
     "output_type": "stream",
     "text": [
      "total_error      2\n",
      "type_i_error     2\n",
      "type_ii_error    0\n",
      "dtype: int32\n"
     ]
    }
   ],
   "source": [
    "result = pd.Series(loss(test_group_set, test_group_set_pred, '0-1'), index = ['total_error', 'type_i_error', 'type_ii_error'])\n",
    "print(result)"
   ]
  },
  {
   "cell_type": "markdown",
   "metadata": {
    "id": "Vo4nOH2BcVRW"
   },
   "source": [
    "### Classification result plot"
   ]
  },
  {
   "cell_type": "code",
   "execution_count": 119,
   "metadata": {
    "id": "k1QfWYGmcVRX",
    "outputId": "c9cc6696-eae6-40b5-8fb9-55e67c367aa7"
   },
   "outputs": [
    {
     "data": {
      "text/plain": [
       "<function matplotlib.pyplot.show(close=None, block=None)>"
      ]
     },
     "execution_count": 119,
     "metadata": {},
     "output_type": "execute_result"
    },
    {
     "data": {
      "image/png": "[encoded data removed]",
      "text/plain": [
       "<Figure size 432x288 with 1 Axes>"
      ]
     },
     "metadata": {
      "needs_background": "light"
     },
     "output_type": "display_data"
    }
   ],
   "source": [
    "fig = plt.figure()\n",
    "\n",
    "lr_plot_1 = train_features_set.iloc[:, 0]\n",
    "lr_plot_2 = train_group_set_pred\n",
    "lr_plot = np.column_stack((lr_plot_1, lr_plot_2))\n",
    "lr_plot_x1 = lr_plot[lr_plot[:, 1] == 1]\n",
    "lr_plot_x2 = lr_plot[lr_plot[:, 1] == 3]\n",
    "\n",
    "plt.hist(lr_plot_x1[:, 0], color='red')\n",
    "plt.hist(lr_plot_x2[:, 0], color='blue')\n",
    "\n",
    "plt.title('Logistic classification - feature 1')\n",
    "plt.show"
   ]
  },
  {
   "cell_type": "code",
   "execution_count": 120,
   "metadata": {},
   "outputs": [
    {
     "data": {
      "text/plain": [
       "<function matplotlib.pyplot.show(close=None, block=None)>"
      ]
     },
     "execution_count": 120,
     "metadata": {},
     "output_type": "execute_result"
    },
    {
     "data": {
      "image/png": "[encoded data removed]",
      "text/plain": [
       "<Figure size 432x288 with 1 Axes>"
      ]
     },
     "metadata": {
      "needs_background": "light"
     },
     "output_type": "display_data"
    }
   ],
   "source": [
    "fig = plt.figure()\n",
    "\n",
    "lr_plot_1 = train_features_set.iloc[:, 1]\n",
    "lr_plot_2 = train_group_set_pred\n",
    "lr_plot = np.column_stack((lr_plot_1, lr_plot_2))\n",
    "lr_plot_x1 = lr_plot[lr_plot[:, 1] == 1]\n",
    "lr_plot_x2 = lr_plot[lr_plot[:, 1] == 3]\n",
    "\n",
    "plt.hist(lr_plot_x1[:, 0], color='red')\n",
    "plt.hist(lr_plot_x2[:, 0], color='blue')\n",
    "\n",
    "plt.title('Logistic classification - feature 2')\n",
    "plt.show"
   ]
  },
  {
   "cell_type": "code",
   "execution_count": 121,
   "metadata": {},
   "outputs": [
    {
     "data": {
      "text/plain": [
       "Text(0.5, 1.0, 'Logistic Regression')"
      ]
     },
     "execution_count": 121,
     "metadata": {},
     "output_type": "execute_result"
    },
    {
     "data": {
      "image/png": "[encoded data removed]",
      "text/plain": [
       "<Figure size 432x288 with 1 Axes>"
      ]
     },
     "metadata": {
      "needs_background": "light"
     },
     "output_type": "display_data"
    }
   ],
   "source": [
    "# Plot the decision boundary\n",
    "plot_decision_boundary(lambda x: lr.predict(x))\n",
    "plt.title(\"Logistic Regression\")"
   ]
  },
  {
   "cell_type": "markdown",
   "metadata": {
    "id": "t7qj6iJXcVRX"
   },
   "source": [
    "## Perceptron"
   ]
  },
  {
   "cell_type": "markdown",
   "metadata": {
    "id": "fv5AyC-qcVRX"
   },
   "source": [
    "### Training and testing error"
   ]
  },
  {
   "cell_type": "code",
   "execution_count": 122,
   "metadata": {
    "id": "ma-zYJ5mcVRY"
   },
   "outputs": [],
   "source": [
    "p = Perceptron().fit(train_features_set, train_group_set, class_labels)\n",
    "train_group_set_pred = p.predict(train_features_set)\n",
    "test_group_set_pred = p.predict(test_features_set)"
   ]
  },
  {
   "cell_type": "code",
   "execution_count": 123,
   "metadata": {
    "id": "b5mYsgdicVRY",
    "outputId": "05c13155-7704-4733-f294-f794c8b579e2"
   },
   "outputs": [
    {
     "name": "stdout",
     "output_type": "stream",
     "text": [
      "total_error      0\n",
      "type_i_error     0\n",
      "type_ii_error    0\n",
      "dtype: int64\n"
     ]
    }
   ],
   "source": [
    "result = pd.Series(loss(train_group_set, train_group_set_pred, 'hinge', train_features_set, p.beta), index = ['total_error', 'type_i_error', 'type_ii_error'])\n",
    "print(result)"
   ]
  },
  {
   "cell_type": "code",
   "execution_count": 124,
   "metadata": {
    "id": "KIviUG9LcVRY",
    "outputId": "1e9518b5-e906-4b99-ce59-46a7798234ec",
    "scrolled": true
   },
   "outputs": [
    {
     "name": "stdout",
     "output_type": "stream",
     "text": [
      "total_error      0\n",
      "type_i_error     0\n",
      "type_ii_error    0\n",
      "dtype: int64\n"
     ]
    }
   ],
   "source": [
    "result = pd.Series(loss(test_group_set, test_group_set_pred, 'hinge', test_features_set, p.beta), index = ['total_error', 'type_i_error', 'type_ii_error'])\n",
    "print(result)"
   ]
  },
  {
   "cell_type": "code",
   "execution_count": 125,
   "metadata": {},
   "outputs": [
    {
     "data": {
      "text/plain": [
       "<function matplotlib.pyplot.show(close=None, block=None)>"
      ]
     },
     "execution_count": 125,
     "metadata": {},
     "output_type": "execute_result"
    },
    {
     "data": {
      "image/png": "[encoded data removed]",
      "text/plain": [
       "<Figure size 432x288 with 1 Axes>"
      ]
     },
     "metadata": {
      "needs_background": "light"
     },
     "output_type": "display_data"
    }
   ],
   "source": [
    "fig = plt.figure()\n",
    "\n",
    "lr_plot_1 = train_features_set.iloc[:, 0]\n",
    "lr_plot_2 = train_group_set_pred\n",
    "lr_plot = np.column_stack((lr_plot_1, lr_plot_2))\n",
    "lr_plot_x1 = lr_plot[lr_plot[:, 1] == 1]\n",
    "lr_plot_x2 = lr_plot[lr_plot[:, 1] == 3]\n",
    "\n",
    "plt.hist(lr_plot_x1[:, 0], color='red')\n",
    "plt.hist(lr_plot_x2[:, 0], color='blue')\n",
    "\n",
    "plt.title('Perceptron classification - feature 1')\n",
    "plt.show"
   ]
  },
  {
   "cell_type": "code",
   "execution_count": 126,
   "metadata": {},
   "outputs": [
    {
     "data": {
      "text/plain": [
       "<function matplotlib.pyplot.show(close=None, block=None)>"
      ]
     },
     "execution_count": 126,
     "metadata": {},
     "output_type": "execute_result"
    },
    {
     "data": {
      "image/png": "[encoded data removed]",
      "text/plain": [
       "<Figure size 432x288 with 1 Axes>"
      ]
     },
     "metadata": {
      "needs_background": "light"
     },
     "output_type": "display_data"
    }
   ],
   "source": [
    "fig = plt.figure()\n",
    "\n",
    "lr_plot_1 = train_features_set.iloc[:, 1]\n",
    "lr_plot_2 = train_group_set_pred\n",
    "lr_plot = np.column_stack((lr_plot_1, lr_plot_2))\n",
    "lr_plot_x1 = lr_plot[lr_plot[:, 1] == 1]\n",
    "lr_plot_x2 = lr_plot[lr_plot[:, 1] == 3]\n",
    "\n",
    "plt.hist(lr_plot_x1[:, 0], color='red')\n",
    "plt.hist(lr_plot_x2[:, 0], color='blue')\n",
    "\n",
    "plt.title('Perceptron classification - feature 2')\n",
    "plt.show"
   ]
  },
  {
   "cell_type": "code",
   "execution_count": 127,
   "metadata": {},
   "outputs": [
    {
     "data": {
      "text/plain": [
       "Text(0.5, 1.0, 'Perceptron')"
      ]
     },
     "execution_count": 127,
     "metadata": {},
     "output_type": "execute_result"
    },
    {
     "data": {
      "image/png": "[encoded data removed]",
      "text/plain": [
       "<Figure size 432x288 with 1 Axes>"
      ]
     },
     "metadata": {
      "needs_background": "light"
     },
     "output_type": "display_data"
    }
   ],
   "source": [
    "# Plot the decision boundary\n",
    "plot_decision_boundary(lambda x: p.predict(x))\n",
    "plt.title(\"Perceptron\")"
   ]
  },
  {
   "cell_type": "markdown",
   "metadata": {
    "id": "uQx_llX-cVRZ"
   },
   "source": [
    "## KNN"
   ]
  },
  {
   "cell_type": "markdown",
   "metadata": {
    "id": "o7cYKOJ0cVRZ"
   },
   "source": [
    "### Choosing the number of neighbours using cross validation"
   ]
  },
  {
   "cell_type": "code",
   "execution_count": 84,
   "metadata": {
    "id": "yEBa4PKIcVRa",
    "outputId": "18d41ff9-c2ac-42bc-8dcd-ee7ad42eb878"
   },
   "outputs": [
    {
     "name": "stdout",
     "output_type": "stream",
     "text": [
      "29\n"
     ]
    }
   ],
   "source": [
    "n_train = train_features_set.shape[0]\n",
    "num_fold = 10\n",
    "n_fold = math.floor(n_train / num_fold)\n",
    "\n",
    "total_error_all = []\n",
    "type_i_error_all = []\n",
    "type_ii_error_all = []\n",
    "meshgrid = np.arange(1, 30, 1)\n",
    "\n",
    "features_set = train_features_set\n",
    "group_set = train_group_set\n",
    "\n",
    "for k in meshgrid:\n",
    "    total_error = 0\n",
    "    type_i_error = 0\n",
    "    type_ii_error = 0\n",
    "    for cur_fold in range(num_fold):\n",
    "        features_set_fold = features_set.iloc[cur_fold * n_fold : (cur_fold + 1) * n_fold]\n",
    "        group_set_fold = group_set.iloc[cur_fold * n_fold : (cur_fold + 1) * n_fold]\n",
    "        features_set_train_fold = features_set.iloc[np.r_[0 : cur_fold * n_fold, (cur_fold + 1) * n_fold : n_train]]\n",
    "        group_set_train_fold = group_set.iloc[np.r_[0 : cur_fold * n_fold, (cur_fold + 1) * n_fold : n_train]]\n",
    "\n",
    "        group_set_pred = KNN_fit(features_set_train_fold, group_set_train_fold, features_set_fold, k)\n",
    "        total_error += loss(group_set_fold, group_set_pred, '0-1')[0]\n",
    "        type_i_error += loss(group_set_fold, group_set_pred, '0-1')[1]\n",
    "        type_ii_error += loss(group_set_fold, group_set_pred, '0-1')[2]\n",
    "    total_error_all.append(total_error)\n",
    "    type_i_error_all.append(type_i_error)\n",
    "    type_ii_error_all.append(type_ii_error)\n",
    "    \n",
    "best_k = meshgrid[np.argsort(total_error_all)[0]]\n",
    "print(best_k)"
   ]
  },
  {
   "cell_type": "markdown",
   "metadata": {
    "id": "4bUOMBmKcVRa"
   },
   "source": [
    "### Training and testing error"
   ]
  },
  {
   "cell_type": "code",
   "execution_count": 85,
   "metadata": {
    "id": "ke_ppd1wcVRa",
    "scrolled": true
   },
   "outputs": [],
   "source": [
    "train_group_pred = KNN_fit(train_features_set, train_group_set, train_features_set, 29)\n",
    "test_group_pred = KNN_fit(train_features_set, train_group_set, test_features_set, 29)"
   ]
  },
  {
   "cell_type": "code",
   "execution_count": 86,
   "metadata": {
    "id": "1y35TucbcVRa",
    "outputId": "5c337867-a8d2-46ee-e867-3033ba10862d"
   },
   "outputs": [
    {
     "name": "stdout",
     "output_type": "stream",
     "text": [
      "total_error      5\n",
      "type_i_error     2\n",
      "type_ii_error    3\n",
      "dtype: int32\n"
     ]
    }
   ],
   "source": [
    "result = pd.Series(loss(train_group_set, train_group_pred, '0-1'), index = ['total_error', 'type_i_error', 'type_ii_error'])\n",
    "print(result)"
   ]
  },
  {
   "cell_type": "code",
   "execution_count": 87,
   "metadata": {
    "id": "kxKoJbpMcVRa",
    "outputId": "21e4a849-d6d7-4f35-a576-8925c29bf83d"
   },
   "outputs": [
    {
     "name": "stdout",
     "output_type": "stream",
     "text": [
      "total_error      3\n",
      "type_i_error     3\n",
      "type_ii_error    0\n",
      "dtype: int32\n"
     ]
    }
   ],
   "source": [
    "result = pd.Series(loss(test_group_set, test_group_pred, '0-1'), index = ['total_error', 'type_i_error', 'type_ii_error'])\n",
    "print(result)"
   ]
  },
  {
   "cell_type": "code",
   "execution_count": 93,
   "metadata": {},
   "outputs": [
    {
     "data": {
      "text/plain": [
       "<function matplotlib.pyplot.show(close=None, block=None)>"
      ]
     },
     "execution_count": 93,
     "metadata": {},
     "output_type": "execute_result"
    },
    {
     "data": {
      "image/png": "[encoded data removed]",
      "text/plain": [
       "<Figure size 432x288 with 1 Axes>"
      ]
     },
     "metadata": {
      "needs_background": "light"
     },
     "output_type": "display_data"
    }
   ],
   "source": [
    "fig = plt.figure()\n",
    "\n",
    "lr_plot_1 = train_features_set.iloc[:, 0]\n",
    "lr_plot_2 = train_group_pred\n",
    "lr_plot = np.column_stack((lr_plot_1, lr_plot_2))\n",
    "lr_plot_x1 = lr_plot[lr_plot[:, 1] == 1]\n",
    "lr_plot_x2 = lr_plot[lr_plot[:, 1] == 3]\n",
    "\n",
    "plt.hist(lr_plot_x1[:, 0], color='red')\n",
    "plt.hist(lr_plot_x2[:, 0], color='blue')\n",
    "\n",
    "plt.title('KNN classification - feature 1')\n",
    "plt.show"
   ]
  },
  {
   "cell_type": "code",
   "execution_count": 94,
   "metadata": {},
   "outputs": [
    {
     "data": {
      "text/plain": [
       "<function matplotlib.pyplot.show(close=None, block=None)>"
      ]
     },
     "execution_count": 94,
     "metadata": {},
     "output_type": "execute_result"
    },
    {
     "data": {
      "image/png": "[encoded data removed]",
      "text/plain": [
       "<Figure size 432x288 with 1 Axes>"
      ]
     },
     "metadata": {
      "needs_background": "light"
     },
     "output_type": "display_data"
    }
   ],
   "source": [
    "fig = plt.figure()\n",
    "\n",
    "lr_plot_1 = train_features_set.iloc[:, 1]\n",
    "lr_plot_2 = train_group_pred\n",
    "lr_plot = np.column_stack((lr_plot_1, lr_plot_2))\n",
    "lr_plot_x1 = lr_plot[lr_plot[:, 1] == 1]\n",
    "lr_plot_x2 = lr_plot[lr_plot[:, 1] == 3]\n",
    "\n",
    "plt.hist(lr_plot_x1[:, 0], color='red')\n",
    "plt.hist(lr_plot_x2[:, 0], color='blue')\n",
    "\n",
    "plt.title('KNN classification - feature 2')\n",
    "plt.show"
   ]
  },
  {
   "cell_type": "markdown",
   "metadata": {
    "id": "5RbMvqQncVRb"
   },
   "source": [
    "# 3-Classes classification"
   ]
  },
  {
   "cell_type": "code",
   "execution_count": 242,
   "metadata": {
    "id": "C6Oqz11scVRb"
   },
   "outputs": [],
   "source": [
    "# Choose predictors\n",
    "train_features_set = train_sample[['Alcohol', 'Flavanoids', 'Proanthocyanins', 'Color intensity']]\n",
    "train_group_set = train_sample[['Label']]\n",
    "class_labels = pd.DataFrame([1, 2, 3], columns=['Label'])\n",
    "test_features_set = test_sample[['Alcohol', 'Flavanoids', 'Proanthocyanins', 'Color intensity']]\n",
    "test_group_set = test_sample[['Label']]"
   ]
  },
  {
   "cell_type": "markdown",
   "metadata": {
    "id": "HxTJrShycVRb"
   },
   "source": [
    "## Logistic classifier"
   ]
  },
  {
   "cell_type": "markdown",
   "metadata": {
    "id": "7czGf45YcVRb"
   },
   "source": [
    "### Choosing regularization parameter using cross validation"
   ]
  },
  {
   "cell_type": "markdown",
   "metadata": {
    "id": "dyY2FB20cVRb"
   },
   "source": [
    "#### For Lasso"
   ]
  },
  {
   "cell_type": "code",
   "execution_count": 243,
   "metadata": {
    "id": "AzmA_iZicVRb",
    "outputId": "321a4db0-4784-4e51-ccae-0f9bb28c665e"
   },
   "outputs": [
    {
     "name": "stdout",
     "output_type": "stream",
     "text": [
      "0.09\n"
     ]
    }
   ],
   "source": [
    "n_train = train_features_set.shape[0]\n",
    "num_fold = 5\n",
    "n_fold = math.floor(n_train / num_fold)\n",
    "\n",
    "total_error_all = []\n",
    "type_i_error_all = []\n",
    "type_ii_error_all = []\n",
    "meshgrid = np.arange(0, 0.1, 0.01)\n",
    "\n",
    "features_set = train_features_set\n",
    "group_set = train_group_set\n",
    "\n",
    "for lambda_ in meshgrid:\n",
    "    total_error = 0\n",
    "    for cur_fold in range(num_fold):\n",
    "        features_set_fold = features_set.iloc[cur_fold * n_fold : (cur_fold + 1) * n_fold]\n",
    "        group_set_fold = group_set.iloc[cur_fold * n_fold : (cur_fold + 1) * n_fold]\n",
    "        features_set_train_fold = features_set.iloc[np.r_[0 : cur_fold * n_fold, (cur_fold + 1) * n_fold : n_train]]\n",
    "        group_set_train_fold = group_set.iloc[np.r_[0 : cur_fold * n_fold, (cur_fold + 1) * n_fold : n_train]]\n",
    "\n",
    "        pr = LogisticClassifier().fit(features_set_train_fold, group_set_train_fold, class_labels, reg_opt='l1', lambda_ = lambda_)\n",
    "        group_set_pred = pr.predict(features_set_fold)\n",
    "        total_error += loss(group_set_fold, group_set_pred, '0-1')\n",
    "    total_error_all.append(total_error)\n",
    "    \n",
    "best_lambda = meshgrid[np.argsort(total_error_all)[0]]\n",
    "print(best_lambda)"
   ]
  },
  {
   "cell_type": "code",
   "execution_count": 244,
   "metadata": {
    "id": "LXNqIJlrcVRc",
    "outputId": "ddff54d4-8ab6-425d-d5f7-bf9e39f6c1e6"
   },
   "outputs": [
    {
     "name": "stdout",
     "output_type": "stream",
     "text": [
      "0.0\n"
     ]
    }
   ],
   "source": [
    "n_train = train_features_set.shape[0]\n",
    "num_fold = 5\n",
    "n_fold = math.floor(n_train / num_fold)\n",
    "\n",
    "total_error_all = []\n",
    "type_i_error_all = []\n",
    "type_ii_error_all = []\n",
    "meshgrid = np.arange(0, 0.1, 0.01)\n",
    "\n",
    "features_set = train_features_set\n",
    "group_set = train_group_set\n",
    "\n",
    "for lambda_ in meshgrid:\n",
    "    total_error = 0\n",
    "    for cur_fold in range(num_fold):\n",
    "        features_set_fold = features_set.iloc[cur_fold * n_fold : (cur_fold + 1) * n_fold]\n",
    "        group_set_fold = group_set.iloc[cur_fold * n_fold : (cur_fold + 1) * n_fold]\n",
    "        features_set_train_fold = features_set.iloc[np.r_[0 : cur_fold * n_fold, (cur_fold + 1) * n_fold : n_train]]\n",
    "        group_set_train_fold = group_set.iloc[np.r_[0 : cur_fold * n_fold, (cur_fold + 1) * n_fold : n_train]]\n",
    "\n",
    "        pr = LogisticClassifier().fit(features_set_train_fold, group_set_train_fold, class_labels, reg_opt='l2', lambda_ = lambda_)\n",
    "        group_set_pred = pr.predict(features_set_fold)\n",
    "        total_error += loss(group_set_fold, group_set_pred, '0-1')\n",
    "    total_error_all.append(total_error)\n",
    "    \n",
    "best_lambda = meshgrid[np.argsort(total_error_all)[0]]\n",
    "print(best_lambda)"
   ]
  },
  {
   "cell_type": "markdown",
   "metadata": {
    "id": "UuerYvUvcVRc"
   },
   "source": [
    "## Training and testing error without regularization parameter"
   ]
  },
  {
   "cell_type": "code",
   "execution_count": 245,
   "metadata": {
    "id": "8d9CsHQBcVRc"
   },
   "outputs": [],
   "source": [
    "lr = LogisticClassifier().fit(train_features_set, train_group_set, class_labels)\n",
    "train_group_set_pred = lr.predict(train_features_set)\n",
    "test_group_set_pred = lr.predict(test_features_set)"
   ]
  },
  {
   "cell_type": "code",
   "execution_count": 246,
   "metadata": {
    "id": "G43ZuHYvcVRc",
    "outputId": "5e97c7b5-40ae-4321-e139-d84995988355",
    "scrolled": true
   },
   "outputs": [
    {
     "name": "stdout",
     "output_type": "stream",
     "text": [
      "total_error    11\n",
      "dtype: int64\n"
     ]
    }
   ],
   "source": [
    "result = pd.Series(loss(train_group_set, train_group_set_pred, '0-1'), index = ['total_error'])\n",
    "print(result)"
   ]
  },
  {
   "cell_type": "code",
   "execution_count": 247,
   "metadata": {
    "id": "Ndqr8jTvcVRd",
    "outputId": "96b7a41b-489b-4672-c1bf-52be312b32fd"
   },
   "outputs": [
    {
     "name": "stdout",
     "output_type": "stream",
     "text": [
      "total_error    1\n",
      "dtype: int64\n"
     ]
    }
   ],
   "source": [
    "result = pd.Series(loss(test_group_set, test_group_set_pred, '0-1'), index = ['total_error'])\n",
    "print(result)"
   ]
  },
  {
   "cell_type": "markdown",
   "metadata": {
    "id": "Tq2zx2JzcVRd"
   },
   "source": [
    "# Model comparison"
   ]
  },
  {
   "cell_type": "markdown",
   "metadata": {
    "id": "TdUPE3VfcVRd"
   },
   "source": [
    "## Binary classification"
   ]
  },
  {
   "cell_type": "code",
   "execution_count": 255,
   "metadata": {
    "id": "okZjXkGecVRd"
   },
   "outputs": [],
   "source": [
    "# Choose predictors\n",
    "train_features_set = train_sample[train_sample['Label'].isin([1, 3])][['Alcalinity of ash','Proanthocyanins']]\n",
    "train_group_set = train_sample[train_sample['Label'].isin([1, 3])][['Label']]\n",
    "class_labels = pd.DataFrame([1, 3], columns=['Label'])\n",
    "test_features_set = test_sample[test_sample['Label'].isin([1, 3])][['Alcalinity of ash','Proanthocyanins']]\n",
    "test_group_set = test_sample[test_sample['Label'].isin([1, 3])].iloc[:, 0]"
   ]
  },
  {
   "cell_type": "markdown",
   "metadata": {
    "id": "w0b31iZ6cVRd"
   },
   "source": [
    "### Naive Bayes Gaussian"
   ]
  },
  {
   "cell_type": "code",
   "execution_count": 256,
   "metadata": {
    "id": "piUmtGkccVRe"
   },
   "outputs": [],
   "source": [
    "# Note: the input to the methods should be pandas dataframes, especially that feature_set has to be 2-d\n",
    "class NaiveBayesGaussian():\n",
    "    def __init__(self):\n",
    "        self.mu_params = None\n",
    "        self.cov_params = None\n",
    "        self.pi_params = None\n",
    "        self.class_labels = None\n",
    "        \n",
    "    def fit(self, feature_set, group_set, class_labels):\n",
    "        feature_set, self.mu, self.sigma = feature_normalize(feature_set)\n",
    "        complete_set = pd.concat([group_set, feature_set], axis=1)\n",
    "        sorted_complete_set = pd.merge(class_labels, complete_set, on='Label', sort=False)\n",
    "        class_labels = np.array(class_labels).ravel()\n",
    "        self.class_labels = class_labels\n",
    "        \n",
    "        self.mu_params = sorted_complete_set.groupby(sorted_complete_set.iloc[:, 0]).mean().iloc[:, 1:]\n",
    "        self.cov_params = sorted_complete_set.groupby(sorted_complete_set.iloc[:, 0]).var().iloc[:, 1:]\n",
    "        self.pi_params = sorted_complete_set.groupby(sorted_complete_set.iloc[:, 0]).count().iloc[:, 0] / sorted_complete_set.iloc[:, 0].count()\n",
    "        \n",
    "        return self\n",
    "    \n",
    "    def predict(self, feature_set, threshold=0.5):\n",
    "        # use numpy for better performance\n",
    "        feature_set = feature_normalize(feature_set, self.mu, self.sigma)[0]\n",
    "        feature_set = np.array(feature_set)\n",
    "        mu_params = np.array(self.mu_params)\n",
    "        cov_params = np.array(self.cov_params)\n",
    "        pi_params = np.array(self.pi_params)\n",
    "        \n",
    "        k = len(self.class_labels) # number of classes\n",
    "        n = feature_set.shape[0] # sample size\n",
    "        \n",
    "        # Treat 1d and 2d feature set separately\n",
    "        if len(feature_set.shape) == 1:\n",
    "            d = 1\n",
    "        else:\n",
    "            d = feature_set.shape[1] # number of features\n",
    "        \n",
    "        # for binary classification\n",
    "        if len(self.class_labels) == 2:\n",
    "            group_set = np.zeros((n, 1))\n",
    "            for i in range(n):\n",
    "                numerator = np.zeros((1, 2))\n",
    "                likelihood_0 = np.exp(- 0.5 * np.square((feature_set[i] - mu_params[0]) / np.sqrt(cov_params[0]))) / (np.sqrt(2 * np.pi) * np.sqrt(cov_params[0]))\n",
    "                likelihood_1 = np.exp(- 0.5 * np.square((feature_set[i] - mu_params[1]) / np.sqrt(cov_params[1]))) / (np.sqrt(2 * np.pi) * np.sqrt(cov_params[1]))\n",
    "                numerator_0 = pi_params[0] * np.prod(likelihood_0)\n",
    "                numerator_1 = pi_params[1] * np.prod(likelihood_1)\n",
    "                posterior_0 = numerator_0 / (numerator_0 + numerator_1)\n",
    "                if posterior_0 > threshold:\n",
    "                    group_set[i] = self.class_labels[0]\n",
    "                else:\n",
    "                    group_set[i] = self.class_labels[1]\n",
    "        \n",
    "        # for non-binary classification\n",
    "        else:\n",
    "            group_set = np.zeros((n, 1))\n",
    "            for i in range(n):\n",
    "                winning_class = 0\n",
    "                max_prob = 0\n",
    "                for r in range(k):\n",
    "                    likelihood = np.exp(- 0.5 * np.square((feature_set[i] - mu_params[r]) / np.sqrt(cov_params[r]))) / (np.sqrt(2 * np.pi) * np.sqrt(cov_params[r]))\n",
    "                    class_prob = pi_params[r] * np.prod(likelihood)\n",
    "                    if class_prob > max_prob:\n",
    "                        winning_class = r\n",
    "                        max_prob = class_prob\n",
    "                group_set[i] = self.class_labels[winning_class]\n",
    "    \n",
    "        return group_set.ravel().astype(int)"
   ]
  },
  {
   "cell_type": "code",
   "execution_count": 257,
   "metadata": {
    "id": "MvhVZ6XncVRe"
   },
   "outputs": [],
   "source": [
    "nbg = NaiveBayesGaussian().fit(train_features_set, train_group_set, class_labels)\n",
    "train_group_set_pred = nbg.predict(train_features_set)\n",
    "test_group_set_pred = nbg.predict(test_features_set)"
   ]
  },
  {
   "cell_type": "code",
   "execution_count": 258,
   "metadata": {
    "id": "xDA-C4XFcVRe",
    "outputId": "0aa533f2-ec32-4be6-aac9-aaba5b6c5697"
   },
   "outputs": [
    {
     "name": "stdout",
     "output_type": "stream",
     "text": [
      "total_error      7\n",
      "type_i_error     4\n",
      "type_ii_error    3\n",
      "dtype: int64\n"
     ]
    }
   ],
   "source": [
    "result = pd.Series(loss(train_group_set, train_group_set_pred, '0-1'), index = ['total_error', 'type_i_error', 'type_ii_error'])\n",
    "print(result)"
   ]
  },
  {
   "cell_type": "code",
   "execution_count": 259,
   "metadata": {
    "id": "woZI4Fq1cVRe",
    "outputId": "3ba0d69b-2d2c-4f8b-c7b0-ad721cd62413"
   },
   "outputs": [
    {
     "name": "stdout",
     "output_type": "stream",
     "text": [
      "total_error      2\n",
      "type_i_error     0\n",
      "type_ii_error    2\n",
      "dtype: int64\n"
     ]
    }
   ],
   "source": [
    "result = pd.Series(loss(test_group_set, test_group_set_pred, '0-1'), index = ['total_error', 'type_i_error', 'type_ii_error'])\n",
    "print(result)"
   ]
  },
  {
   "cell_type": "code",
   "execution_count": 260,
   "metadata": {},
   "outputs": [],
   "source": [
    "meshgrid = np.linspace(0, 1, num = 100)"
   ]
  },
  {
   "cell_type": "code",
   "execution_count": 261,
   "metadata": {},
   "outputs": [],
   "source": [
    "# total class 1 items\n",
    "total_positive = train_group_set.groupby(train_group_set.iloc[:, 0]).count().iloc[0, 0]\n",
    "# total class 2 items\n",
    "total_negative = train_group_set.groupby(train_group_set.iloc[:, 0]).count().iloc[1, 0]"
   ]
  },
  {
   "cell_type": "code",
   "execution_count": 262,
   "metadata": {},
   "outputs": [],
   "source": [
    "true_positive_rate_all = []\n",
    "false_positive_rate_all = []\n",
    "for threshold in meshgrid:\n",
    "    group_set_pred = nbg.predict(train_features_set, threshold)\n",
    "    type_i_error = loss(train_group_set, group_set_pred, '0-1')[1] # true 2 classified as 1\n",
    "    type_ii_error = loss(train_group_set, group_set_pred, '0-1')[2] # true 1 classified as 2\n",
    "    true_positive_rate = (total_positive - type_ii_error) / total_positive\n",
    "    false_positive_rate = type_i_error / total_negative\n",
    "    true_positive_rate_all.append(true_positive_rate)\n",
    "    false_positive_rate_all.append(false_positive_rate)"
   ]
  },
  {
   "cell_type": "code",
   "execution_count": 263,
   "metadata": {},
   "outputs": [
    {
     "data": {
      "text/plain": [
       "[<matplotlib.lines.Line2D at 0x7fd2c8ea2810>,\n",
       " <matplotlib.lines.Line2D at 0x7fd2c8e8fb10>]"
      ]
     },
     "execution_count": 263,
     "metadata": {},
     "output_type": "execute_result"
    },
    {
     "data": {
      "image/png": "[encoded data removed]",
      "image/svg+xml": [
       "<?xml version=\"1.0\" encoding=\"utf-8\" standalone=\"no\"?>\n",
       "<!DOCTYPE svg PUBLIC \"-//W3C//DTD SVG 1.1//EN\"\n",
       "  \"http://www.w3.org/Graphics/SVG/1.1/DTD/svg11.dtd\">\n",
       "<svg height=\"248.518125pt\" version=\"1.1\" viewBox=\"0 0 372.103125 248.518125\" width=\"372.103125pt\" xmlns=\"http://www.w3.org/2000/svg\" xmlns:xlink=\"http://www.w3.org/1999/xlink\">\n",
       " <metadata>\n",
       "  <rdf:RDF xmlns:cc=\"http://creativecommons.org/ns#\" xmlns:dc=\"http://purl.org/dc/elements/1.1/\" xmlns:rdf=\"http://www.w3.org/1999/02/22-rdf-syntax-ns#\">\n",
       "   <cc:Work>\n",
       "    <dc:type rdf:resource=\"http://purl.org/dc/dcmitype/StillImage\"/>\n",
       "    <dc:date>2021-07-06T23:10:21.211243</dc:date>\n",
       "    <dc:format>image/svg+xml</dc:format>\n",
       "    <dc:creator>\n",
       "     <cc:Agent>\n",
       "      <dc:title>Matplotlib v3.4.2, https://matplotlib.org/</dc:title>\n",
       "     </cc:Agent>\n",
       "    </dc:creator>\n",
       "   </cc:Work>\n",
       "  </rdf:RDF>\n",
       " </metadata>\n",
       " <defs>\n",
       "  <style type=\"text/css\">*{stroke-linecap:butt;stroke-linejoin:round;}</style>\n",
       " </defs>\n",
       " <g id=\"figure_1\">\n",
       "  <g id=\"patch_1\">\n",
       "   <path d=\"M 0 248.518125 \n",
       "L 372.103125 248.518125 \n",
       "L 372.103125 0 \n",
       "L 0 0 \n",
       "z\n",
       "\" style=\"fill:none;\"/>\n",
       "  </g>\n",
       "  <g id=\"axes_1\">\n",
       "   <g id=\"patch_2\">\n",
       "    <path d=\"M 30.103125 224.64 \n",
       "L 364.903125 224.64 \n",
       "L 364.903125 7.2 \n",
       "L 30.103125 7.2 \n",
       "z\n",
       "\" style=\"fill:#ffffff;\"/>\n",
       "   </g>\n",
       "   <g id=\"matplotlib.axis_1\">\n",
       "    <g id=\"xtick_1\">\n",
       "     <g id=\"line2d_1\">\n",
       "      <defs>\n",
       "       <path d=\"M 0 0 \n",
       "L 0 3.5 \n",
       "\" id=\"mb8218b7f3c\" style=\"stroke:#000000;stroke-width:0.8;\"/>\n",
       "      </defs>\n",
       "      <g>\n",
       "       <use style=\"stroke:#000000;stroke-width:0.8;\" x=\"45.321307\" xlink:href=\"#mb8218b7f3c\" y=\"224.64\"/>\n",
       "      </g>\n",
       "     </g>\n",
       "     <g id=\"text_1\">\n",
       "      <!-- 0.0 -->\n",
       "      <g transform=\"translate(37.369744 239.238437)scale(0.1 -0.1)\">\n",
       "       <defs>\n",
       "        <path d=\"M 2034 4250 \n",
       "Q 1547 4250 1301 3770 \n",
       "Q 1056 3291 1056 2328 \n",
       "Q 1056 1369 1301 889 \n",
       "Q 1547 409 2034 409 \n",
       "Q 2525 409 2770 889 \n",
       "Q 3016 1369 3016 2328 \n",
       "Q 3016 3291 2770 3770 \n",
       "Q 2525 4250 2034 4250 \n",
       "z\n",
       "M 2034 4750 \n",
       "Q 2819 4750 3233 4129 \n",
       "Q 3647 3509 3647 2328 \n",
       "Q 3647 1150 3233 529 \n",
       "Q 2819 -91 2034 -91 \n",
       "Q 1250 -91 836 529 \n",
       "Q 422 1150 422 2328 \n",
       "Q 422 3509 836 4129 \n",
       "Q 1250 4750 2034 4750 \n",
       "z\n",
       "\" id=\"DejaVuSans-30\" transform=\"scale(0.015625)\"/>\n",
       "        <path d=\"M 684 794 \n",
       "L 1344 794 \n",
       "L 1344 0 \n",
       "L 684 0 \n",
       "L 684 794 \n",
       "z\n",
       "\" id=\"DejaVuSans-2e\" transform=\"scale(0.015625)\"/>\n",
       "       </defs>\n",
       "       <use xlink:href=\"#DejaVuSans-30\"/>\n",
       "       <use x=\"63.623047\" xlink:href=\"#DejaVuSans-2e\"/>\n",
       "       <use x=\"95.410156\" xlink:href=\"#DejaVuSans-30\"/>\n",
       "      </g>\n",
       "     </g>\n",
       "    </g>\n",
       "    <g id=\"xtick_2\">\n",
       "     <g id=\"line2d_2\">\n",
       "      <g>\n",
       "       <use style=\"stroke:#000000;stroke-width:0.8;\" x=\"106.194034\" xlink:href=\"#mb8218b7f3c\" y=\"224.64\"/>\n",
       "      </g>\n",
       "     </g>\n",
       "     <g id=\"text_2\">\n",
       "      <!-- 0.2 -->\n",
       "      <g transform=\"translate(98.242472 239.238437)scale(0.1 -0.1)\">\n",
       "       <defs>\n",
       "        <path d=\"M 1228 531 \n",
       "L 3431 531 \n",
       "L 3431 0 \n",
       "L 469 0 \n",
       "L 469 531 \n",
       "Q 828 903 1448 1529 \n",
       "Q 2069 2156 2228 2338 \n",
       "Q 2531 2678 2651 2914 \n",
       "Q 2772 3150 2772 3378 \n",
       "Q 2772 3750 2511 3984 \n",
       "Q 2250 4219 1831 4219 \n",
       "Q 1534 4219 1204 4116 \n",
       "Q 875 4013 500 3803 \n",
       "L 500 4441 \n",
       "Q 881 4594 1212 4672 \n",
       "Q 1544 4750 1819 4750 \n",
       "Q 2544 4750 2975 4387 \n",
       "Q 3406 4025 3406 3419 \n",
       "Q 3406 3131 3298 2873 \n",
       "Q 3191 2616 2906 2266 \n",
       "Q 2828 2175 2409 1742 \n",
       "Q 1991 1309 1228 531 \n",
       "z\n",
       "\" id=\"DejaVuSans-32\" transform=\"scale(0.015625)\"/>\n",
       "       </defs>\n",
       "       <use xlink:href=\"#DejaVuSans-30\"/>\n",
       "       <use x=\"63.623047\" xlink:href=\"#DejaVuSans-2e\"/>\n",
       "       <use x=\"95.410156\" xlink:href=\"#DejaVuSans-32\"/>\n",
       "      </g>\n",
       "     </g>\n",
       "    </g>\n",
       "    <g id=\"xtick_3\">\n",
       "     <g id=\"line2d_3\">\n",
       "      <g>\n",
       "       <use style=\"stroke:#000000;stroke-width:0.8;\" x=\"167.066761\" xlink:href=\"#mb8218b7f3c\" y=\"224.64\"/>\n",
       "      </g>\n",
       "     </g>\n",
       "     <g id=\"text_3\">\n",
       "      <!-- 0.4 -->\n",
       "      <g transform=\"translate(159.115199 239.238437)scale(0.1 -0.1)\">\n",
       "       <defs>\n",
       "        <path d=\"M 2419 4116 \n",
       "L 825 1625 \n",
       "L 2419 1625 \n",
       "L 2419 4116 \n",
       "z\n",
       "M 2253 4666 \n",
       "L 3047 4666 \n",
       "L 3047 1625 \n",
       "L 3713 1625 \n",
       "L 3713 1100 \n",
       "L 3047 1100 \n",
       "L 3047 0 \n",
       "L 2419 0 \n",
       "L 2419 1100 \n",
       "L 313 1100 \n",
       "L 313 1709 \n",
       "L 2253 4666 \n",
       "z\n",
       "\" id=\"DejaVuSans-34\" transform=\"scale(0.015625)\"/>\n",
       "       </defs>\n",
       "       <use xlink:href=\"#DejaVuSans-30\"/>\n",
       "       <use x=\"63.623047\" xlink:href=\"#DejaVuSans-2e\"/>\n",
       "       <use x=\"95.410156\" xlink:href=\"#DejaVuSans-34\"/>\n",
       "      </g>\n",
       "     </g>\n",
       "    </g>\n",
       "    <g id=\"xtick_4\">\n",
       "     <g id=\"line2d_4\">\n",
       "      <g>\n",
       "       <use style=\"stroke:#000000;stroke-width:0.8;\" x=\"227.939489\" xlink:href=\"#mb8218b7f3c\" y=\"224.64\"/>\n",
       "      </g>\n",
       "     </g>\n",
       "     <g id=\"text_4\">\n",
       "      <!-- 0.6 -->\n",
       "      <g transform=\"translate(219.987926 239.238437)scale(0.1 -0.1)\">\n",
       "       <defs>\n",
       "        <path d=\"M 2113 2584 \n",
       "Q 1688 2584 1439 2293 \n",
       "Q 1191 2003 1191 1497 \n",
       "Q 1191 994 1439 701 \n",
       "Q 1688 409 2113 409 \n",
       "Q 2538 409 2786 701 \n",
       "Q 3034 994 3034 1497 \n",
       "Q 3034 2003 2786 2293 \n",
       "Q 2538 2584 2113 2584 \n",
       "z\n",
       "M 3366 4563 \n",
       "L 3366 3988 \n",
       "Q 3128 4100 2886 4159 \n",
       "Q 2644 4219 2406 4219 \n",
       "Q 1781 4219 1451 3797 \n",
       "Q 1122 3375 1075 2522 \n",
       "Q 1259 2794 1537 2939 \n",
       "Q 1816 3084 2150 3084 \n",
       "Q 2853 3084 3261 2657 \n",
       "Q 3669 2231 3669 1497 \n",
       "Q 3669 778 3244 343 \n",
       "Q 2819 -91 2113 -91 \n",
       "Q 1303 -91 875 529 \n",
       "Q 447 1150 447 2328 \n",
       "Q 447 3434 972 4092 \n",
       "Q 1497 4750 2381 4750 \n",
       "Q 2619 4750 2861 4703 \n",
       "Q 3103 4656 3366 4563 \n",
       "z\n",
       "\" id=\"DejaVuSans-36\" transform=\"scale(0.015625)\"/>\n",
       "       </defs>\n",
       "       <use xlink:href=\"#DejaVuSans-30\"/>\n",
       "       <use x=\"63.623047\" xlink:href=\"#DejaVuSans-2e\"/>\n",
       "       <use x=\"95.410156\" xlink:href=\"#DejaVuSans-36\"/>\n",
       "      </g>\n",
       "     </g>\n",
       "    </g>\n",
       "    <g id=\"xtick_5\">\n",
       "     <g id=\"line2d_5\">\n",
       "      <g>\n",
       "       <use style=\"stroke:#000000;stroke-width:0.8;\" x=\"288.812216\" xlink:href=\"#mb8218b7f3c\" y=\"224.64\"/>\n",
       "      </g>\n",
       "     </g>\n",
       "     <g id=\"text_5\">\n",
       "      <!-- 0.8 -->\n",
       "      <g transform=\"translate(280.860653 239.238437)scale(0.1 -0.1)\">\n",
       "       <defs>\n",
       "        <path d=\"M 2034 2216 \n",
       "Q 1584 2216 1326 1975 \n",
       "Q 1069 1734 1069 1313 \n",
       "Q 1069 891 1326 650 \n",
       "Q 1584 409 2034 409 \n",
       "Q 2484 409 2743 651 \n",
       "Q 3003 894 3003 1313 \n",
       "Q 3003 1734 2745 1975 \n",
       "Q 2488 2216 2034 2216 \n",
       "z\n",
       "M 1403 2484 \n",
       "Q 997 2584 770 2862 \n",
       "Q 544 3141 544 3541 \n",
       "Q 544 4100 942 4425 \n",
       "Q 1341 4750 2034 4750 \n",
       "Q 2731 4750 3128 4425 \n",
       "Q 3525 4100 3525 3541 \n",
       "Q 3525 3141 3298 2862 \n",
       "Q 3072 2584 2669 2484 \n",
       "Q 3125 2378 3379 2068 \n",
       "Q 3634 1759 3634 1313 \n",
       "Q 3634 634 3220 271 \n",
       "Q 2806 -91 2034 -91 \n",
       "Q 1263 -91 848 271 \n",
       "Q 434 634 434 1313 \n",
       "Q 434 1759 690 2068 \n",
       "Q 947 2378 1403 2484 \n",
       "z\n",
       "M 1172 3481 \n",
       "Q 1172 3119 1398 2916 \n",
       "Q 1625 2713 2034 2713 \n",
       "Q 2441 2713 2670 2916 \n",
       "Q 2900 3119 2900 3481 \n",
       "Q 2900 3844 2670 4047 \n",
       "Q 2441 4250 2034 4250 \n",
       "Q 1625 4250 1398 4047 \n",
       "Q 1172 3844 1172 3481 \n",
       "z\n",
       "\" id=\"DejaVuSans-38\" transform=\"scale(0.015625)\"/>\n",
       "       </defs>\n",
       "       <use xlink:href=\"#DejaVuSans-30\"/>\n",
       "       <use x=\"63.623047\" xlink:href=\"#DejaVuSans-2e\"/>\n",
       "       <use x=\"95.410156\" xlink:href=\"#DejaVuSans-38\"/>\n",
       "      </g>\n",
       "     </g>\n",
       "    </g>\n",
       "    <g id=\"xtick_6\">\n",
       "     <g id=\"line2d_6\">\n",
       "      <g>\n",
       "       <use style=\"stroke:#000000;stroke-width:0.8;\" x=\"349.684943\" xlink:href=\"#mb8218b7f3c\" y=\"224.64\"/>\n",
       "      </g>\n",
       "     </g>\n",
       "     <g id=\"text_6\">\n",
       "      <!-- 1.0 -->\n",
       "      <g transform=\"translate(341.733381 239.238437)scale(0.1 -0.1)\">\n",
       "       <defs>\n",
       "        <path d=\"M 794 531 \n",
       "L 1825 531 \n",
       "L 1825 4091 \n",
       "L 703 3866 \n",
       "L 703 4441 \n",
       "L 1819 4666 \n",
       "L 2450 4666 \n",
       "L 2450 531 \n",
       "L 3481 531 \n",
       "L 3481 0 \n",
       "L 794 0 \n",
       "L 794 531 \n",
       "z\n",
       "\" id=\"DejaVuSans-31\" transform=\"scale(0.015625)\"/>\n",
       "       </defs>\n",
       "       <use xlink:href=\"#DejaVuSans-31\"/>\n",
       "       <use x=\"63.623047\" xlink:href=\"#DejaVuSans-2e\"/>\n",
       "       <use x=\"95.410156\" xlink:href=\"#DejaVuSans-30\"/>\n",
       "      </g>\n",
       "     </g>\n",
       "    </g>\n",
       "   </g>\n",
       "   <g id=\"matplotlib.axis_2\">\n",
       "    <g id=\"ytick_1\">\n",
       "     <g id=\"line2d_7\">\n",
       "      <defs>\n",
       "       <path d=\"M 0 0 \n",
       "L -3.5 0 \n",
       "\" id=\"ma068a257f8\" style=\"stroke:#000000;stroke-width:0.8;\"/>\n",
       "      </defs>\n",
       "      <g>\n",
       "       <use style=\"stroke:#000000;stroke-width:0.8;\" x=\"30.103125\" xlink:href=\"#ma068a257f8\" y=\"214.756364\"/>\n",
       "      </g>\n",
       "     </g>\n",
       "     <g id=\"text_7\">\n",
       "      <!-- 0.0 -->\n",
       "      <g transform=\"translate(7.2 218.555582)scale(0.1 -0.1)\">\n",
       "       <use xlink:href=\"#DejaVuSans-30\"/>\n",
       "       <use x=\"63.623047\" xlink:href=\"#DejaVuSans-2e\"/>\n",
       "       <use x=\"95.410156\" xlink:href=\"#DejaVuSans-30\"/>\n",
       "      </g>\n",
       "     </g>\n",
       "    </g>\n",
       "    <g id=\"ytick_2\">\n",
       "     <g id=\"line2d_8\">\n",
       "      <g>\n",
       "       <use style=\"stroke:#000000;stroke-width:0.8;\" x=\"30.103125\" xlink:href=\"#ma068a257f8\" y=\"175.221818\"/>\n",
       "      </g>\n",
       "     </g>\n",
       "     <g id=\"text_8\">\n",
       "      <!-- 0.2 -->\n",
       "      <g transform=\"translate(7.2 179.021037)scale(0.1 -0.1)\">\n",
       "       <use xlink:href=\"#DejaVuSans-30\"/>\n",
       "       <use x=\"63.623047\" xlink:href=\"#DejaVuSans-2e\"/>\n",
       "       <use x=\"95.410156\" xlink:href=\"#DejaVuSans-32\"/>\n",
       "      </g>\n",
       "     </g>\n",
       "    </g>\n",
       "    <g id=\"ytick_3\">\n",
       "     <g id=\"line2d_9\">\n",
       "      <g>\n",
       "       <use style=\"stroke:#000000;stroke-width:0.8;\" x=\"30.103125\" xlink:href=\"#ma068a257f8\" y=\"135.687273\"/>\n",
       "      </g>\n",
       "     </g>\n",
       "     <g id=\"text_9\">\n",
       "      <!-- 0.4 -->\n",
       "      <g transform=\"translate(7.2 139.486491)scale(0.1 -0.1)\">\n",
       "       <use xlink:href=\"#DejaVuSans-30\"/>\n",
       "       <use x=\"63.623047\" xlink:href=\"#DejaVuSans-2e\"/>\n",
       "       <use x=\"95.410156\" xlink:href=\"#DejaVuSans-34\"/>\n",
       "      </g>\n",
       "     </g>\n",
       "    </g>\n",
       "    <g id=\"ytick_4\">\n",
       "     <g id=\"line2d_10\">\n",
       "      <g>\n",
       "       <use style=\"stroke:#000000;stroke-width:0.8;\" x=\"30.103125\" xlink:href=\"#ma068a257f8\" y=\"96.152727\"/>\n",
       "      </g>\n",
       "     </g>\n",
       "     <g id=\"text_10\">\n",
       "      <!-- 0.6 -->\n",
       "      <g transform=\"translate(7.2 99.951946)scale(0.1 -0.1)\">\n",
       "       <use xlink:href=\"#DejaVuSans-30\"/>\n",
       "       <use x=\"63.623047\" xlink:href=\"#DejaVuSans-2e\"/>\n",
       "       <use x=\"95.410156\" xlink:href=\"#DejaVuSans-36\"/>\n",
       "      </g>\n",
       "     </g>\n",
       "    </g>\n",
       "    <g id=\"ytick_5\">\n",
       "     <g id=\"line2d_11\">\n",
       "      <g>\n",
       "       <use style=\"stroke:#000000;stroke-width:0.8;\" x=\"30.103125\" xlink:href=\"#ma068a257f8\" y=\"56.618182\"/>\n",
       "      </g>\n",
       "     </g>\n",
       "     <g id=\"text_11\">\n",
       "      <!-- 0.8 -->\n",
       "      <g transform=\"translate(7.2 60.417401)scale(0.1 -0.1)\">\n",
       "       <use xlink:href=\"#DejaVuSans-30\"/>\n",
       "       <use x=\"63.623047\" xlink:href=\"#DejaVuSans-2e\"/>\n",
       "       <use x=\"95.410156\" xlink:href=\"#DejaVuSans-38\"/>\n",
       "      </g>\n",
       "     </g>\n",
       "    </g>\n",
       "    <g id=\"ytick_6\">\n",
       "     <g id=\"line2d_12\">\n",
       "      <g>\n",
       "       <use style=\"stroke:#000000;stroke-width:0.8;\" x=\"30.103125\" xlink:href=\"#ma068a257f8\" y=\"17.083636\"/>\n",
       "      </g>\n",
       "     </g>\n",
       "     <g id=\"text_12\">\n",
       "      <!-- 1.0 -->\n",
       "      <g transform=\"translate(7.2 20.882855)scale(0.1 -0.1)\">\n",
       "       <use xlink:href=\"#DejaVuSans-31\"/>\n",
       "       <use x=\"63.623047\" xlink:href=\"#DejaVuSans-2e\"/>\n",
       "       <use x=\"95.410156\" xlink:href=\"#DejaVuSans-30\"/>\n",
       "      </g>\n",
       "     </g>\n",
       "    </g>\n",
       "   </g>\n",
       "   <g id=\"line2d_13\">\n",
       "    <path clip-path=\"url(#p22f81243a6)\" d=\"M 349.684943 17.083636 \n",
       "L 277.598819 17.083636 \n",
       "L 237.550972 17.083636 \n",
       "L 205.512694 17.083636 \n",
       "L 181.483986 17.083636 \n",
       "L 157.455278 17.083636 \n",
       "L 133.42657 17.083636 \n",
       "L 133.42657 17.083636 \n",
       "L 133.42657 17.083636 \n",
       "L 133.42657 17.083636 \n",
       "L 125.417001 17.083636 \n",
       "L 125.417001 17.083636 \n",
       "L 125.417001 17.083636 \n",
       "L 125.417001 17.083636 \n",
       "L 125.417001 17.083636 \n",
       "L 117.407431 17.083636 \n",
       "L 117.407431 17.083636 \n",
       "L 117.407431 21.38087 \n",
       "L 117.407431 21.38087 \n",
       "L 117.407431 21.38087 \n",
       "L 109.397862 21.38087 \n",
       "L 109.397862 21.38087 \n",
       "L 109.397862 21.38087 \n",
       "L 101.388292 21.38087 \n",
       "L 93.378723 21.38087 \n",
       "L 93.378723 21.38087 \n",
       "L 93.378723 25.678103 \n",
       "L 93.378723 25.678103 \n",
       "L 93.378723 25.678103 \n",
       "L 85.369154 25.678103 \n",
       "L 85.369154 25.678103 \n",
       "L 85.369154 25.678103 \n",
       "L 85.369154 25.678103 \n",
       "L 85.369154 25.678103 \n",
       "L 85.369154 25.678103 \n",
       "L 85.369154 25.678103 \n",
       "L 85.369154 25.678103 \n",
       "L 85.369154 25.678103 \n",
       "L 85.369154 25.678103 \n",
       "L 85.369154 25.678103 \n",
       "L 85.369154 25.678103 \n",
       "L 85.369154 25.678103 \n",
       "L 85.369154 25.678103 \n",
       "L 85.369154 25.678103 \n",
       "L 85.369154 25.678103 \n",
       "L 85.369154 25.678103 \n",
       "L 85.369154 25.678103 \n",
       "L 85.369154 25.678103 \n",
       "L 77.359584 25.678103 \n",
       "L 77.359584 25.678103 \n",
       "L 77.359584 29.975336 \n",
       "L 77.359584 29.975336 \n",
       "L 69.350015 34.272569 \n",
       "L 69.350015 34.272569 \n",
       "L 69.350015 34.272569 \n",
       "L 69.350015 38.569802 \n",
       "L 69.350015 42.867036 \n",
       "L 69.350015 42.867036 \n",
       "L 69.350015 42.867036 \n",
       "L 69.350015 42.867036 \n",
       "L 69.350015 42.867036 \n",
       "L 69.350015 42.867036 \n",
       "L 69.350015 42.867036 \n",
       "L 69.350015 47.164269 \n",
       "L 69.350015 47.164269 \n",
       "L 69.350015 47.164269 \n",
       "L 69.350015 47.164269 \n",
       "L 69.350015 47.164269 \n",
       "L 69.350015 47.164269 \n",
       "L 69.350015 51.461502 \n",
       "L 69.350015 55.758735 \n",
       "L 69.350015 55.758735 \n",
       "L 69.350015 55.758735 \n",
       "L 61.340446 55.758735 \n",
       "L 61.340446 55.758735 \n",
       "L 61.340446 55.758735 \n",
       "L 61.340446 55.758735 \n",
       "L 61.340446 55.758735 \n",
       "L 61.340446 64.353202 \n",
       "L 61.340446 68.650435 \n",
       "L 53.330876 68.650435 \n",
       "L 53.330876 68.650435 \n",
       "L 53.330876 68.650435 \n",
       "L 53.330876 68.650435 \n",
       "L 53.330876 68.650435 \n",
       "L 53.330876 68.650435 \n",
       "L 53.330876 72.947668 \n",
       "L 53.330876 77.244901 \n",
       "L 45.321307 77.244901 \n",
       "L 45.321307 81.542134 \n",
       "L 45.321307 85.839368 \n",
       "L 45.321307 90.136601 \n",
       "L 45.321307 94.433834 \n",
       "L 45.321307 94.433834 \n",
       "L 45.321307 98.731067 \n",
       "L 45.321307 98.731067 \n",
       "L 45.321307 98.731067 \n",
       "L 45.321307 115.92 \n",
       "L 45.321307 141.703399 \n",
       "L 45.321307 214.756364 \n",
       "\" style=\"fill:none;stroke:#1f77b4;stroke-linecap:square;stroke-width:1.5;\"/>\n",
       "   </g>\n",
       "   <g id=\"line2d_14\">\n",
       "    <path clip-path=\"url(#p22f81243a6)\" d=\"M 349.684943 17.083636 \n",
       "\" style=\"fill:none;stroke:#ff7f0e;stroke-linecap:square;stroke-width:1.5;\"/>\n",
       "   </g>\n",
       "   <g id=\"patch_3\">\n",
       "    <path d=\"M 30.103125 224.64 \n",
       "L 30.103125 7.2 \n",
       "\" style=\"fill:none;stroke:#000000;stroke-linecap:square;stroke-linejoin:miter;stroke-width:0.8;\"/>\n",
       "   </g>\n",
       "   <g id=\"patch_4\">\n",
       "    <path d=\"M 364.903125 224.64 \n",
       "L 364.903125 7.2 \n",
       "\" style=\"fill:none;stroke:#000000;stroke-linecap:square;stroke-linejoin:miter;stroke-width:0.8;\"/>\n",
       "   </g>\n",
       "   <g id=\"patch_5\">\n",
       "    <path d=\"M 30.103125 224.64 \n",
       "L 364.903125 224.64 \n",
       "\" style=\"fill:none;stroke:#000000;stroke-linecap:square;stroke-linejoin:miter;stroke-width:0.8;\"/>\n",
       "   </g>\n",
       "   <g id=\"patch_6\">\n",
       "    <path d=\"M 30.103125 7.2 \n",
       "L 364.903125 7.2 \n",
       "\" style=\"fill:none;stroke:#000000;stroke-linecap:square;stroke-linejoin:miter;stroke-width:0.8;\"/>\n",
       "   </g>\n",
       "  </g>\n",
       " </g>\n",
       " <defs>\n",
       "  <clipPath id=\"p22f81243a6\">\n",
       "   <rect height=\"217.44\" width=\"334.8\" x=\"30.103125\" y=\"7.2\"/>\n",
       "  </clipPath>\n",
       " </defs>\n",
       "</svg>\n"
      ],
      "text/plain": [
       "<Figure size 432x288 with 1 Axes>"
      ]
     },
     "metadata": {
      "needs_background": "light"
     },
     "output_type": "display_data"
    }
   ],
   "source": [
    "plt.plot(false_positive_rate_all, true_positive_rate_all, 1, 1)"
   ]
  },
  {
   "cell_type": "markdown",
   "metadata": {
    "id": "eCwVe88zcVRe"
   },
   "source": [
    "### Linear Discriminant Analysis"
   ]
  },
  {
   "cell_type": "code",
   "execution_count": 264,
   "metadata": {
    "id": "p2PRfslQcVRe"
   },
   "outputs": [],
   "source": [
    "# Note: the input to the methods should be pandas dataframes\n",
    "class LinearDiscriminantAnalysis():\n",
    "    def __init__(self):\n",
    "        self.mu_params = None\n",
    "        self.cov_params = None\n",
    "        self.pi_params = None\n",
    "        self.class_labels = None\n",
    "        \n",
    "    def fit(self, feature_set, group_set, class_labels):\n",
    "        feature_set, self.mu, self.sigma = feature_normalize(feature_set)\n",
    "        complete_set = pd.concat([group_set, feature_set], axis=1)\n",
    "        sorted_complete_set = pd.merge(class_labels, complete_set, on='Label', sort=False)\n",
    "        class_labels = np.array(class_labels).ravel()\n",
    "        self.class_labels = class_labels\n",
    "        \n",
    "        self.mu_params = sorted_complete_set.groupby(sorted_complete_set.iloc[:, 0]).mean().iloc[:, 1:]\n",
    "        self.cov_params = sorted_complete_set.iloc[:, 1:].cov()\n",
    "        self.pi_params = sorted_complete_set.groupby(sorted_complete_set.iloc[:, 0]).count().iloc[:, 0] / sorted_complete_set.iloc[:, 0].count()\n",
    "        \n",
    "        return self\n",
    "    \n",
    "    def predict(self, feature_set, threshold=0.5):\n",
    "        # use numpy for better performance\n",
    "        feature_set = feature_normalize(feature_set, self.mu, self.sigma)[0]\n",
    "        feature_set = np.array(feature_set)\n",
    "        mu_params = np.array(self.mu_params)\n",
    "        cov_params = np.array(self.cov_params)\n",
    "        pi_params = np.array(self.pi_params)\n",
    "        \n",
    "        k = len(self.class_labels) # number of classes\n",
    "        n = feature_set.shape[0] # sample size\n",
    "        \n",
    "        # Treat 1d and 2d feature set separately\n",
    "        if len(feature_set.shape) == 1:\n",
    "            d = 1\n",
    "        else:\n",
    "            d = feature_set.shape[1] # number of features\n",
    "        \n",
    "        # for binary classification\n",
    "        if len(self.class_labels) == 2:\n",
    "            group_set = np.zeros((n, 1))\n",
    "            for i in range(n):\n",
    "                numerator = np.zeros((1, 2))\n",
    "                likelihood_0 = np.exp(- 0.5 * np.linalg.multi_dot([(feature_set[i] - mu_params[0]), np.linalg.inv(cov_params), np.transpose(feature_set[i] - mu_params[0])])) / (np.power(2 * np.pi, d/2) * np.sqrt(np.linalg.det(cov_params)))\n",
    "                likelihood_1 = np.exp(- 0.5 * np.linalg.multi_dot([(feature_set[i] - mu_params[1]), np.linalg.inv(cov_params), np.transpose(feature_set[i] - mu_params[1])])) / (np.power(2 * np.pi, d/2) * np.sqrt(np.linalg.det(cov_params)))\n",
    "                numerator_0 = pi_params[0] * likelihood_0\n",
    "                numerator_1 = pi_params[1] * likelihood_1\n",
    "                posterior_0 = numerator_0 / (numerator_0 + numerator_1)\n",
    "                if posterior_0 > threshold:\n",
    "                    group_set[i] = self.class_labels[0]\n",
    "                else: \n",
    "                    group_set[i] = self.class_labels[1]\n",
    "        \n",
    "        # for non-binary classification\n",
    "        else:\n",
    "            group_set = np.zeros((n, 1))\n",
    "            for i in range(n):\n",
    "                winning_class = 0\n",
    "                max_prob = 0\n",
    "                for r in range(k):\n",
    "                    likelihood = np.exp(- 0.5 * np.linalg.multi_dot([(feature_set[i] - mu_params[r]), np.linalg.inv(cov_params), np.transpose(feature_set[i] - mu_params[r])])) / (np.power(2 * np.pi, d/2) * np.sqrt(np.linalg.det(cov_params)))\n",
    "                    class_prob = pi_params[r] * likelihood\n",
    "                    if class_prob > max_prob:\n",
    "                        winning_class = r\n",
    "                        max_prob = class_prob\n",
    "                group_set[i] = self.class_labels[winning_class]\n",
    "        \n",
    "        return group_set.ravel().astype(int)\n",
    "        "
   ]
  },
  {
   "cell_type": "code",
   "execution_count": 265,
   "metadata": {
    "id": "FQ2ICplmcVRf",
    "scrolled": false
   },
   "outputs": [],
   "source": [
    "lda = LinearDiscriminantAnalysis().fit(train_features_set, train_group_set, class_labels)\n",
    "train_group_set_pred = lda.predict(train_features_set)\n",
    "test_group_set_pred = lda.predict(test_features_set)"
   ]
  },
  {
   "cell_type": "code",
   "execution_count": 266,
   "metadata": {
    "id": "lgaoTsbbcVRf",
    "outputId": "02fc400f-360f-4825-bb54-30f404a258ce"
   },
   "outputs": [
    {
     "name": "stdout",
     "output_type": "stream",
     "text": [
      "total_error      7\n",
      "type_i_error     5\n",
      "type_ii_error    2\n",
      "dtype: int64\n"
     ]
    }
   ],
   "source": [
    "result = pd.Series(loss(train_group_set, train_group_set_pred, '0-1'), index = ['total_error', 'type_i_error', 'type_ii_error'])\n",
    "print(result)"
   ]
  },
  {
   "cell_type": "code",
   "execution_count": 267,
   "metadata": {
    "id": "2YkJA6fWcVRf",
    "outputId": "e85a3f67-10de-4624-f07f-85a95f2e5ead"
   },
   "outputs": [
    {
     "name": "stdout",
     "output_type": "stream",
     "text": [
      "total_error      1\n",
      "type_i_error     0\n",
      "type_ii_error    1\n",
      "dtype: int64\n"
     ]
    }
   ],
   "source": [
    "result = pd.Series(loss(test_group_set, test_group_set_pred, '0-1'), index = ['total_error', 'type_i_error', 'type_ii_error'])\n",
    "print(result)"
   ]
  },
  {
   "cell_type": "code",
   "execution_count": 268,
   "metadata": {},
   "outputs": [],
   "source": [
    "meshgrid = np.linspace(0, 1, num = 100)"
   ]
  },
  {
   "cell_type": "code",
   "execution_count": 269,
   "metadata": {},
   "outputs": [],
   "source": [
    "# total class 1 items\n",
    "total_positive = train_group_set.groupby(train_group_set.iloc[:, 0]).count().iloc[0, 0]\n",
    "# total class 2 items\n",
    "total_negative = train_group_set.groupby(train_group_set.iloc[:, 0]).count().iloc[1, 0]"
   ]
  },
  {
   "cell_type": "code",
   "execution_count": 270,
   "metadata": {},
   "outputs": [],
   "source": [
    "true_positive_rate_all = []\n",
    "false_positive_rate_all = []\n",
    "for threshold in meshgrid:\n",
    "    group_set_pred = lda.predict(train_features_set, threshold)\n",
    "    type_i_error = loss(train_group_set, group_set_pred, '0-1')[1] # true 2 classified as 1\n",
    "    type_ii_error = loss(train_group_set, group_set_pred, '0-1')[2] # true 1 classified as 2\n",
    "    true_positive_rate = (total_positive - type_ii_error) / total_positive\n",
    "    false_positive_rate = type_i_error / total_negative\n",
    "    true_positive_rate_all.append(true_positive_rate)\n",
    "    false_positive_rate_all.append(false_positive_rate)"
   ]
  },
  {
   "cell_type": "code",
   "execution_count": 271,
   "metadata": {},
   "outputs": [
    {
     "data": {
      "text/plain": [
       "[<matplotlib.lines.Line2D at 0x7fd2c8f3a7d0>,\n",
       " <matplotlib.lines.Line2D at 0x7fd2c8f3a6d0>]"
      ]
     },
     "execution_count": 271,
     "metadata": {},
     "output_type": "execute_result"
    },
    {
     "data": {
      "image/png": "[encoded data removed]",
      "image/svg+xml": [
       "<?xml version=\"1.0\" encoding=\"utf-8\" standalone=\"no\"?>\n",
       "<!DOCTYPE svg PUBLIC \"-//W3C//DTD SVG 1.1//EN\"\n",
       "  \"http://www.w3.org/Graphics/SVG/1.1/DTD/svg11.dtd\">\n",
       "<svg height=\"248.518125pt\" version=\"1.1\" viewBox=\"0 0 372.103125 248.518125\" width=\"372.103125pt\" xmlns=\"http://www.w3.org/2000/svg\" xmlns:xlink=\"http://www.w3.org/1999/xlink\">\n",
       " <metadata>\n",
       "  <rdf:RDF xmlns:cc=\"http://creativecommons.org/ns#\" xmlns:dc=\"http://purl.org/dc/elements/1.1/\" xmlns:rdf=\"http://www.w3.org/1999/02/22-rdf-syntax-ns#\">\n",
       "   <cc:Work>\n",
       "    <dc:type rdf:resource=\"http://purl.org/dc/dcmitype/StillImage\"/>\n",
       "    <dc:date>2021-07-06T23:10:25.856027</dc:date>\n",
       "    <dc:format>image/svg+xml</dc:format>\n",
       "    <dc:creator>\n",
       "     <cc:Agent>\n",
       "      <dc:title>Matplotlib v3.4.2, https://matplotlib.org/</dc:title>\n",
       "     </cc:Agent>\n",
       "    </dc:creator>\n",
       "   </cc:Work>\n",
       "  </rdf:RDF>\n",
       " </metadata>\n",
       " <defs>\n",
       "  <style type=\"text/css\">*{stroke-linecap:butt;stroke-linejoin:round;}</style>\n",
       " </defs>\n",
       " <g id=\"figure_1\">\n",
       "  <g id=\"patch_1\">\n",
       "   <path d=\"M 0 248.518125 \n",
       "L 372.103125 248.518125 \n",
       "L 372.103125 0 \n",
       "L 0 0 \n",
       "z\n",
       "\" style=\"fill:none;\"/>\n",
       "  </g>\n",
       "  <g id=\"axes_1\">\n",
       "   <g id=\"patch_2\">\n",
       "    <path d=\"M 30.103125 224.64 \n",
       "L 364.903125 224.64 \n",
       "L 364.903125 7.2 \n",
       "L 30.103125 7.2 \n",
       "z\n",
       "\" style=\"fill:#ffffff;\"/>\n",
       "   </g>\n",
       "   <g id=\"matplotlib.axis_1\">\n",
       "    <g id=\"xtick_1\">\n",
       "     <g id=\"line2d_1\">\n",
       "      <defs>\n",
       "       <path d=\"M 0 0 \n",
       "L 0 3.5 \n",
       "\" id=\"m4e6d20f584\" style=\"stroke:#000000;stroke-width:0.8;\"/>\n",
       "      </defs>\n",
       "      <g>\n",
       "       <use style=\"stroke:#000000;stroke-width:0.8;\" x=\"45.321307\" xlink:href=\"#m4e6d20f584\" y=\"224.64\"/>\n",
       "      </g>\n",
       "     </g>\n",
       "     <g id=\"text_1\">\n",
       "      <!-- 0.0 -->\n",
       "      <g transform=\"translate(37.369744 239.238437)scale(0.1 -0.1)\">\n",
       "       <defs>\n",
       "        <path d=\"M 2034 4250 \n",
       "Q 1547 4250 1301 3770 \n",
       "Q 1056 3291 1056 2328 \n",
       "Q 1056 1369 1301 889 \n",
       "Q 1547 409 2034 409 \n",
       "Q 2525 409 2770 889 \n",
       "Q 3016 1369 3016 2328 \n",
       "Q 3016 3291 2770 3770 \n",
       "Q 2525 4250 2034 4250 \n",
       "z\n",
       "M 2034 4750 \n",
       "Q 2819 4750 3233 4129 \n",
       "Q 3647 3509 3647 2328 \n",
       "Q 3647 1150 3233 529 \n",
       "Q 2819 -91 2034 -91 \n",
       "Q 1250 -91 836 529 \n",
       "Q 422 1150 422 2328 \n",
       "Q 422 3509 836 4129 \n",
       "Q 1250 4750 2034 4750 \n",
       "z\n",
       "\" id=\"DejaVuSans-30\" transform=\"scale(0.015625)\"/>\n",
       "        <path d=\"M 684 794 \n",
       "L 1344 794 \n",
       "L 1344 0 \n",
       "L 684 0 \n",
       "L 684 794 \n",
       "z\n",
       "\" id=\"DejaVuSans-2e\" transform=\"scale(0.015625)\"/>\n",
       "       </defs>\n",
       "       <use xlink:href=\"#DejaVuSans-30\"/>\n",
       "       <use x=\"63.623047\" xlink:href=\"#DejaVuSans-2e\"/>\n",
       "       <use x=\"95.410156\" xlink:href=\"#DejaVuSans-30\"/>\n",
       "      </g>\n",
       "     </g>\n",
       "    </g>\n",
       "    <g id=\"xtick_2\">\n",
       "     <g id=\"line2d_2\">\n",
       "      <g>\n",
       "       <use style=\"stroke:#000000;stroke-width:0.8;\" x=\"106.194034\" xlink:href=\"#m4e6d20f584\" y=\"224.64\"/>\n",
       "      </g>\n",
       "     </g>\n",
       "     <g id=\"text_2\">\n",
       "      <!-- 0.2 -->\n",
       "      <g transform=\"translate(98.242472 239.238437)scale(0.1 -0.1)\">\n",
       "       <defs>\n",
       "        <path d=\"M 1228 531 \n",
       "L 3431 531 \n",
       "L 3431 0 \n",
       "L 469 0 \n",
       "L 469 531 \n",
       "Q 828 903 1448 1529 \n",
       "Q 2069 2156 2228 2338 \n",
       "Q 2531 2678 2651 2914 \n",
       "Q 2772 3150 2772 3378 \n",
       "Q 2772 3750 2511 3984 \n",
       "Q 2250 4219 1831 4219 \n",
       "Q 1534 4219 1204 4116 \n",
       "Q 875 4013 500 3803 \n",
       "L 500 4441 \n",
       "Q 881 4594 1212 4672 \n",
       "Q 1544 4750 1819 4750 \n",
       "Q 2544 4750 2975 4387 \n",
       "Q 3406 4025 3406 3419 \n",
       "Q 3406 3131 3298 2873 \n",
       "Q 3191 2616 2906 2266 \n",
       "Q 2828 2175 2409 1742 \n",
       "Q 1991 1309 1228 531 \n",
       "z\n",
       "\" id=\"DejaVuSans-32\" transform=\"scale(0.015625)\"/>\n",
       "       </defs>\n",
       "       <use xlink:href=\"#DejaVuSans-30\"/>\n",
       "       <use x=\"63.623047\" xlink:href=\"#DejaVuSans-2e\"/>\n",
       "       <use x=\"95.410156\" xlink:href=\"#DejaVuSans-32\"/>\n",
       "      </g>\n",
       "     </g>\n",
       "    </g>\n",
       "    <g id=\"xtick_3\">\n",
       "     <g id=\"line2d_3\">\n",
       "      <g>\n",
       "       <use style=\"stroke:#000000;stroke-width:0.8;\" x=\"167.066761\" xlink:href=\"#m4e6d20f584\" y=\"224.64\"/>\n",
       "      </g>\n",
       "     </g>\n",
       "     <g id=\"text_3\">\n",
       "      <!-- 0.4 -->\n",
       "      <g transform=\"translate(159.115199 239.238437)scale(0.1 -0.1)\">\n",
       "       <defs>\n",
       "        <path d=\"M 2419 4116 \n",
       "L 825 1625 \n",
       "L 2419 1625 \n",
       "L 2419 4116 \n",
       "z\n",
       "M 2253 4666 \n",
       "L 3047 4666 \n",
       "L 3047 1625 \n",
       "L 3713 1625 \n",
       "L 3713 1100 \n",
       "L 3047 1100 \n",
       "L 3047 0 \n",
       "L 2419 0 \n",
       "L 2419 1100 \n",
       "L 313 1100 \n",
       "L 313 1709 \n",
       "L 2253 4666 \n",
       "z\n",
       "\" id=\"DejaVuSans-34\" transform=\"scale(0.015625)\"/>\n",
       "       </defs>\n",
       "       <use xlink:href=\"#DejaVuSans-30\"/>\n",
       "       <use x=\"63.623047\" xlink:href=\"#DejaVuSans-2e\"/>\n",
       "       <use x=\"95.410156\" xlink:href=\"#DejaVuSans-34\"/>\n",
       "      </g>\n",
       "     </g>\n",
       "    </g>\n",
       "    <g id=\"xtick_4\">\n",
       "     <g id=\"line2d_4\">\n",
       "      <g>\n",
       "       <use style=\"stroke:#000000;stroke-width:0.8;\" x=\"227.939489\" xlink:href=\"#m4e6d20f584\" y=\"224.64\"/>\n",
       "      </g>\n",
       "     </g>\n",
       "     <g id=\"text_4\">\n",
       "      <!-- 0.6 -->\n",
       "      <g transform=\"translate(219.987926 239.238437)scale(0.1 -0.1)\">\n",
       "       <defs>\n",
       "        <path d=\"M 2113 2584 \n",
       "Q 1688 2584 1439 2293 \n",
       "Q 1191 2003 1191 1497 \n",
       "Q 1191 994 1439 701 \n",
       "Q 1688 409 2113 409 \n",
       "Q 2538 409 2786 701 \n",
       "Q 3034 994 3034 1497 \n",
       "Q 3034 2003 2786 2293 \n",
       "Q 2538 2584 2113 2584 \n",
       "z\n",
       "M 3366 4563 \n",
       "L 3366 3988 \n",
       "Q 3128 4100 2886 4159 \n",
       "Q 2644 4219 2406 4219 \n",
       "Q 1781 4219 1451 3797 \n",
       "Q 1122 3375 1075 2522 \n",
       "Q 1259 2794 1537 2939 \n",
       "Q 1816 3084 2150 3084 \n",
       "Q 2853 3084 3261 2657 \n",
       "Q 3669 2231 3669 1497 \n",
       "Q 3669 778 3244 343 \n",
       "Q 2819 -91 2113 -91 \n",
       "Q 1303 -91 875 529 \n",
       "Q 447 1150 447 2328 \n",
       "Q 447 3434 972 4092 \n",
       "Q 1497 4750 2381 4750 \n",
       "Q 2619 4750 2861 4703 \n",
       "Q 3103 4656 3366 4563 \n",
       "z\n",
       "\" id=\"DejaVuSans-36\" transform=\"scale(0.015625)\"/>\n",
       "       </defs>\n",
       "       <use xlink:href=\"#DejaVuSans-30\"/>\n",
       "       <use x=\"63.623047\" xlink:href=\"#DejaVuSans-2e\"/>\n",
       "       <use x=\"95.410156\" xlink:href=\"#DejaVuSans-36\"/>\n",
       "      </g>\n",
       "     </g>\n",
       "    </g>\n",
       "    <g id=\"xtick_5\">\n",
       "     <g id=\"line2d_5\">\n",
       "      <g>\n",
       "       <use style=\"stroke:#000000;stroke-width:0.8;\" x=\"288.812216\" xlink:href=\"#m4e6d20f584\" y=\"224.64\"/>\n",
       "      </g>\n",
       "     </g>\n",
       "     <g id=\"text_5\">\n",
       "      <!-- 0.8 -->\n",
       "      <g transform=\"translate(280.860653 239.238437)scale(0.1 -0.1)\">\n",
       "       <defs>\n",
       "        <path d=\"M 2034 2216 \n",
       "Q 1584 2216 1326 1975 \n",
       "Q 1069 1734 1069 1313 \n",
       "Q 1069 891 1326 650 \n",
       "Q 1584 409 2034 409 \n",
       "Q 2484 409 2743 651 \n",
       "Q 3003 894 3003 1313 \n",
       "Q 3003 1734 2745 1975 \n",
       "Q 2488 2216 2034 2216 \n",
       "z\n",
       "M 1403 2484 \n",
       "Q 997 2584 770 2862 \n",
       "Q 544 3141 544 3541 \n",
       "Q 544 4100 942 4425 \n",
       "Q 1341 4750 2034 4750 \n",
       "Q 2731 4750 3128 4425 \n",
       "Q 3525 4100 3525 3541 \n",
       "Q 3525 3141 3298 2862 \n",
       "Q 3072 2584 2669 2484 \n",
       "Q 3125 2378 3379 2068 \n",
       "Q 3634 1759 3634 1313 \n",
       "Q 3634 634 3220 271 \n",
       "Q 2806 -91 2034 -91 \n",
       "Q 1263 -91 848 271 \n",
       "Q 434 634 434 1313 \n",
       "Q 434 1759 690 2068 \n",
       "Q 947 2378 1403 2484 \n",
       "z\n",
       "M 1172 3481 \n",
       "Q 1172 3119 1398 2916 \n",
       "Q 1625 2713 2034 2713 \n",
       "Q 2441 2713 2670 2916 \n",
       "Q 2900 3119 2900 3481 \n",
       "Q 2900 3844 2670 4047 \n",
       "Q 2441 4250 2034 4250 \n",
       "Q 1625 4250 1398 4047 \n",
       "Q 1172 3844 1172 3481 \n",
       "z\n",
       "\" id=\"DejaVuSans-38\" transform=\"scale(0.015625)\"/>\n",
       "       </defs>\n",
       "       <use xlink:href=\"#DejaVuSans-30\"/>\n",
       "       <use x=\"63.623047\" xlink:href=\"#DejaVuSans-2e\"/>\n",
       "       <use x=\"95.410156\" xlink:href=\"#DejaVuSans-38\"/>\n",
       "      </g>\n",
       "     </g>\n",
       "    </g>\n",
       "    <g id=\"xtick_6\">\n",
       "     <g id=\"line2d_6\">\n",
       "      <g>\n",
       "       <use style=\"stroke:#000000;stroke-width:0.8;\" x=\"349.684943\" xlink:href=\"#m4e6d20f584\" y=\"224.64\"/>\n",
       "      </g>\n",
       "     </g>\n",
       "     <g id=\"text_6\">\n",
       "      <!-- 1.0 -->\n",
       "      <g transform=\"translate(341.733381 239.238437)scale(0.1 -0.1)\">\n",
       "       <defs>\n",
       "        <path d=\"M 794 531 \n",
       "L 1825 531 \n",
       "L 1825 4091 \n",
       "L 703 3866 \n",
       "L 703 4441 \n",
       "L 1819 4666 \n",
       "L 2450 4666 \n",
       "L 2450 531 \n",
       "L 3481 531 \n",
       "L 3481 0 \n",
       "L 794 0 \n",
       "L 794 531 \n",
       "z\n",
       "\" id=\"DejaVuSans-31\" transform=\"scale(0.015625)\"/>\n",
       "       </defs>\n",
       "       <use xlink:href=\"#DejaVuSans-31\"/>\n",
       "       <use x=\"63.623047\" xlink:href=\"#DejaVuSans-2e\"/>\n",
       "       <use x=\"95.410156\" xlink:href=\"#DejaVuSans-30\"/>\n",
       "      </g>\n",
       "     </g>\n",
       "    </g>\n",
       "   </g>\n",
       "   <g id=\"matplotlib.axis_2\">\n",
       "    <g id=\"ytick_1\">\n",
       "     <g id=\"line2d_7\">\n",
       "      <defs>\n",
       "       <path d=\"M 0 0 \n",
       "L -3.5 0 \n",
       "\" id=\"ma5e28dad3c\" style=\"stroke:#000000;stroke-width:0.8;\"/>\n",
       "      </defs>\n",
       "      <g>\n",
       "       <use style=\"stroke:#000000;stroke-width:0.8;\" x=\"30.103125\" xlink:href=\"#ma5e28dad3c\" y=\"214.756364\"/>\n",
       "      </g>\n",
       "     </g>\n",
       "     <g id=\"text_7\">\n",
       "      <!-- 0.0 -->\n",
       "      <g transform=\"translate(7.2 218.555582)scale(0.1 -0.1)\">\n",
       "       <use xlink:href=\"#DejaVuSans-30\"/>\n",
       "       <use x=\"63.623047\" xlink:href=\"#DejaVuSans-2e\"/>\n",
       "       <use x=\"95.410156\" xlink:href=\"#DejaVuSans-30\"/>\n",
       "      </g>\n",
       "     </g>\n",
       "    </g>\n",
       "    <g id=\"ytick_2\">\n",
       "     <g id=\"line2d_8\">\n",
       "      <g>\n",
       "       <use style=\"stroke:#000000;stroke-width:0.8;\" x=\"30.103125\" xlink:href=\"#ma5e28dad3c\" y=\"175.221818\"/>\n",
       "      </g>\n",
       "     </g>\n",
       "     <g id=\"text_8\">\n",
       "      <!-- 0.2 -->\n",
       "      <g transform=\"translate(7.2 179.021037)scale(0.1 -0.1)\">\n",
       "       <use xlink:href=\"#DejaVuSans-30\"/>\n",
       "       <use x=\"63.623047\" xlink:href=\"#DejaVuSans-2e\"/>\n",
       "       <use x=\"95.410156\" xlink:href=\"#DejaVuSans-32\"/>\n",
       "      </g>\n",
       "     </g>\n",
       "    </g>\n",
       "    <g id=\"ytick_3\">\n",
       "     <g id=\"line2d_9\">\n",
       "      <g>\n",
       "       <use style=\"stroke:#000000;stroke-width:0.8;\" x=\"30.103125\" xlink:href=\"#ma5e28dad3c\" y=\"135.687273\"/>\n",
       "      </g>\n",
       "     </g>\n",
       "     <g id=\"text_9\">\n",
       "      <!-- 0.4 -->\n",
       "      <g transform=\"translate(7.2 139.486491)scale(0.1 -0.1)\">\n",
       "       <use xlink:href=\"#DejaVuSans-30\"/>\n",
       "       <use x=\"63.623047\" xlink:href=\"#DejaVuSans-2e\"/>\n",
       "       <use x=\"95.410156\" xlink:href=\"#DejaVuSans-34\"/>\n",
       "      </g>\n",
       "     </g>\n",
       "    </g>\n",
       "    <g id=\"ytick_4\">\n",
       "     <g id=\"line2d_10\">\n",
       "      <g>\n",
       "       <use style=\"stroke:#000000;stroke-width:0.8;\" x=\"30.103125\" xlink:href=\"#ma5e28dad3c\" y=\"96.152727\"/>\n",
       "      </g>\n",
       "     </g>\n",
       "     <g id=\"text_10\">\n",
       "      <!-- 0.6 -->\n",
       "      <g transform=\"translate(7.2 99.951946)scale(0.1 -0.1)\">\n",
       "       <use xlink:href=\"#DejaVuSans-30\"/>\n",
       "       <use x=\"63.623047\" xlink:href=\"#DejaVuSans-2e\"/>\n",
       "       <use x=\"95.410156\" xlink:href=\"#DejaVuSans-36\"/>\n",
       "      </g>\n",
       "     </g>\n",
       "    </g>\n",
       "    <g id=\"ytick_5\">\n",
       "     <g id=\"line2d_11\">\n",
       "      <g>\n",
       "       <use style=\"stroke:#000000;stroke-width:0.8;\" x=\"30.103125\" xlink:href=\"#ma5e28dad3c\" y=\"56.618182\"/>\n",
       "      </g>\n",
       "     </g>\n",
       "     <g id=\"text_11\">\n",
       "      <!-- 0.8 -->\n",
       "      <g transform=\"translate(7.2 60.417401)scale(0.1 -0.1)\">\n",
       "       <use xlink:href=\"#DejaVuSans-30\"/>\n",
       "       <use x=\"63.623047\" xlink:href=\"#DejaVuSans-2e\"/>\n",
       "       <use x=\"95.410156\" xlink:href=\"#DejaVuSans-38\"/>\n",
       "      </g>\n",
       "     </g>\n",
       "    </g>\n",
       "    <g id=\"ytick_6\">\n",
       "     <g id=\"line2d_12\">\n",
       "      <g>\n",
       "       <use style=\"stroke:#000000;stroke-width:0.8;\" x=\"30.103125\" xlink:href=\"#ma5e28dad3c\" y=\"17.083636\"/>\n",
       "      </g>\n",
       "     </g>\n",
       "     <g id=\"text_12\">\n",
       "      <!-- 1.0 -->\n",
       "      <g transform=\"translate(7.2 20.882855)scale(0.1 -0.1)\">\n",
       "       <use xlink:href=\"#DejaVuSans-31\"/>\n",
       "       <use x=\"63.623047\" xlink:href=\"#DejaVuSans-2e\"/>\n",
       "       <use x=\"95.410156\" xlink:href=\"#DejaVuSans-30\"/>\n",
       "      </g>\n",
       "     </g>\n",
       "    </g>\n",
       "   </g>\n",
       "   <g id=\"line2d_13\">\n",
       "    <path clip-path=\"url(#p013990a72b)\" d=\"M 349.684943 17.083636 \n",
       "L 349.684943 17.083636 \n",
       "L 349.684943 17.083636 \n",
       "L 349.684943 17.083636 \n",
       "L 349.684943 17.083636 \n",
       "L 349.684943 17.083636 \n",
       "L 349.684943 17.083636 \n",
       "L 341.675374 17.083636 \n",
       "L 341.675374 17.083636 \n",
       "L 333.665804 17.083636 \n",
       "L 325.656235 17.083636 \n",
       "L 309.637096 17.083636 \n",
       "L 309.637096 17.083636 \n",
       "L 309.637096 17.083636 \n",
       "L 309.637096 17.083636 \n",
       "L 309.637096 17.083636 \n",
       "L 309.637096 17.083636 \n",
       "L 285.608388 17.083636 \n",
       "L 261.57968 17.083636 \n",
       "L 237.550972 17.083636 \n",
       "L 229.541403 17.083636 \n",
       "L 229.541403 17.083636 \n",
       "L 213.522264 17.083636 \n",
       "L 205.512694 17.083636 \n",
       "L 197.503125 17.083636 \n",
       "L 181.483986 17.083636 \n",
       "L 173.474417 17.083636 \n",
       "L 157.455278 17.083636 \n",
       "L 149.445709 17.083636 \n",
       "L 141.436139 17.083636 \n",
       "L 133.42657 17.083636 \n",
       "L 133.42657 17.083636 \n",
       "L 133.42657 21.38087 \n",
       "L 125.417001 21.38087 \n",
       "L 125.417001 21.38087 \n",
       "L 125.417001 21.38087 \n",
       "L 125.417001 21.38087 \n",
       "L 117.407431 21.38087 \n",
       "L 117.407431 21.38087 \n",
       "L 117.407431 21.38087 \n",
       "L 117.407431 21.38087 \n",
       "L 109.397862 21.38087 \n",
       "L 101.388292 21.38087 \n",
       "L 93.378723 21.38087 \n",
       "L 93.378723 25.678103 \n",
       "L 85.369154 25.678103 \n",
       "L 85.369154 25.678103 \n",
       "L 85.369154 25.678103 \n",
       "L 85.369154 25.678103 \n",
       "L 85.369154 25.678103 \n",
       "L 85.369154 25.678103 \n",
       "L 85.369154 25.678103 \n",
       "L 77.359584 25.678103 \n",
       "L 69.350015 29.975336 \n",
       "L 69.350015 34.272569 \n",
       "L 69.350015 38.569802 \n",
       "L 69.350015 42.867036 \n",
       "L 69.350015 47.164269 \n",
       "L 69.350015 47.164269 \n",
       "L 69.350015 51.461502 \n",
       "L 69.350015 51.461502 \n",
       "L 69.350015 55.758735 \n",
       "L 53.330876 55.758735 \n",
       "L 53.330876 60.055968 \n",
       "L 53.330876 60.055968 \n",
       "L 53.330876 68.650435 \n",
       "L 53.330876 68.650435 \n",
       "L 53.330876 68.650435 \n",
       "L 53.330876 68.650435 \n",
       "L 53.330876 81.542134 \n",
       "L 45.321307 90.136601 \n",
       "L 45.321307 90.136601 \n",
       "L 45.321307 90.136601 \n",
       "L 45.321307 94.433834 \n",
       "L 45.321307 98.731067 \n",
       "L 45.321307 98.731067 \n",
       "L 45.321307 98.731067 \n",
       "L 45.321307 98.731067 \n",
       "L 45.321307 98.731067 \n",
       "L 45.321307 98.731067 \n",
       "L 45.321307 111.622767 \n",
       "L 45.321307 120.217233 \n",
       "L 45.321307 128.8117 \n",
       "L 45.321307 133.108933 \n",
       "L 45.321307 141.703399 \n",
       "L 45.321307 141.703399 \n",
       "L 45.321307 154.595099 \n",
       "L 45.321307 171.784032 \n",
       "L 45.321307 180.378498 \n",
       "L 45.321307 180.378498 \n",
       "L 45.321307 188.972964 \n",
       "L 45.321307 197.567431 \n",
       "L 45.321307 197.567431 \n",
       "L 45.321307 201.864664 \n",
       "L 45.321307 201.864664 \n",
       "L 45.321307 201.864664 \n",
       "L 45.321307 201.864664 \n",
       "L 45.321307 201.864664 \n",
       "L 45.321307 214.756364 \n",
       "L 45.321307 214.756364 \n",
       "\" style=\"fill:none;stroke:#1f77b4;stroke-linecap:square;stroke-width:1.5;\"/>\n",
       "   </g>\n",
       "   <g id=\"line2d_14\">\n",
       "    <path clip-path=\"url(#p013990a72b)\" d=\"M 349.684943 17.083636 \n",
       "\" style=\"fill:none;stroke:#ff7f0e;stroke-linecap:square;stroke-width:1.5;\"/>\n",
       "   </g>\n",
       "   <g id=\"patch_3\">\n",
       "    <path d=\"M 30.103125 224.64 \n",
       "L 30.103125 7.2 \n",
       "\" style=\"fill:none;stroke:#000000;stroke-linecap:square;stroke-linejoin:miter;stroke-width:0.8;\"/>\n",
       "   </g>\n",
       "   <g id=\"patch_4\">\n",
       "    <path d=\"M 364.903125 224.64 \n",
       "L 364.903125 7.2 \n",
       "\" style=\"fill:none;stroke:#000000;stroke-linecap:square;stroke-linejoin:miter;stroke-width:0.8;\"/>\n",
       "   </g>\n",
       "   <g id=\"patch_5\">\n",
       "    <path d=\"M 30.103125 224.64 \n",
       "L 364.903125 224.64 \n",
       "\" style=\"fill:none;stroke:#000000;stroke-linecap:square;stroke-linejoin:miter;stroke-width:0.8;\"/>\n",
       "   </g>\n",
       "   <g id=\"patch_6\">\n",
       "    <path d=\"M 30.103125 7.2 \n",
       "L 364.903125 7.2 \n",
       "\" style=\"fill:none;stroke:#000000;stroke-linecap:square;stroke-linejoin:miter;stroke-width:0.8;\"/>\n",
       "   </g>\n",
       "  </g>\n",
       " </g>\n",
       " <defs>\n",
       "  <clipPath id=\"p013990a72b\">\n",
       "   <rect height=\"217.44\" width=\"334.8\" x=\"30.103125\" y=\"7.2\"/>\n",
       "  </clipPath>\n",
       " </defs>\n",
       "</svg>\n"
      ],
      "text/plain": [
       "<Figure size 432x288 with 1 Axes>"
      ]
     },
     "metadata": {
      "needs_background": "light"
     },
     "output_type": "display_data"
    }
   ],
   "source": [
    "plt.plot(false_positive_rate_all, true_positive_rate_all, 1, 1)"
   ]
  },
  {
   "cell_type": "markdown",
   "metadata": {
    "id": "A_ooorXUcVRf"
   },
   "source": [
    "### Quadratic Discriminant Analysis"
   ]
  },
  {
   "cell_type": "code",
   "execution_count": 272,
   "metadata": {
    "id": "QjwV9wjxcVRf"
   },
   "outputs": [],
   "source": [
    "# Note: the input to the methods should be pandas dataframes\n",
    "class QuadraticDiscriminantAnalysis():\n",
    "    def __init__(self):\n",
    "        self.mu_params = None\n",
    "        self.cov_params = None\n",
    "        self.pi_params = None\n",
    "        self.class_labels = None\n",
    "        \n",
    "    def fit(self, feature_set, group_set, class_labels):\n",
    "        feature_set, self.mu, self.sigma = feature_normalize(feature_set)\n",
    "        complete_set = pd.concat([group_set, feature_set], axis=1)\n",
    "        sorted_complete_set = pd.merge(class_labels, complete_set, on='Label', sort=False)\n",
    "        class_labels = np.array(class_labels).ravel()\n",
    "        self.class_labels = class_labels\n",
    "        self.mu_params = sorted_complete_set.groupby(sorted_complete_set.iloc[:, 0]).mean().iloc[:, 1:]\n",
    "        cov_params = []\n",
    "        for i in class_labels:\n",
    "            cov_class = sorted_complete_set[sorted_complete_set.iloc[:, 0] == i].iloc[:, 1:].cov()\n",
    "            cov_params.append(cov_class)\n",
    "        self.cov_params = cov_params\n",
    "        self.pi_params = sorted_complete_set.groupby(sorted_complete_set.iloc[:, 0]).count().iloc[:, 0] / sorted_complete_set.iloc[:, 0].count()\n",
    "        \n",
    "        return self\n",
    "    \n",
    "    def predict(self, feature_set, threshold=0.5):\n",
    "        # use numpy for better performance\n",
    "        feature_set = feature_normalize(feature_set, self.mu, self.sigma)[0]\n",
    "        feature_set = np.array(feature_set)\n",
    "        mu_params = np.array(self.mu_params)\n",
    "        cov_params = np.array(self.cov_params)\n",
    "        pi_params = np.array(self.pi_params)\n",
    "        \n",
    "        k = len(self.class_labels) # number of classes\n",
    "        n = feature_set.shape[0] # sample size\n",
    "        \n",
    "        # Treat 1d and 2d feature set separately\n",
    "        if len(feature_set.shape) == 1:\n",
    "            d = 1\n",
    "        else:\n",
    "            d = feature_set.shape[1] # number of features\n",
    "        \n",
    "        # for binary classification\n",
    "        if len(self.class_labels) == 2:\n",
    "            group_set = np.zeros((n, 1))\n",
    "            for i in range(n):\n",
    "                numerator = np.zeros((1, 2))\n",
    "                likelihood_0 = np.exp(- 0.5 * np.linalg.multi_dot([(feature_set[i] - mu_params[0]), np.linalg.inv(cov_params[0]), np.transpose(feature_set[i] - mu_params[0])])) / (np.power(2 * np.pi, d/2) * np.sqrt(np.linalg.det(cov_params[0])))\n",
    "                likelihood_1 = np.exp(- 0.5 * np.linalg.multi_dot([(feature_set[i] - mu_params[1]), np.linalg.inv(cov_params[1]), np.transpose(feature_set[i] - mu_params[1])])) / (np.power(2 * np.pi, d/2) * np.sqrt(np.linalg.det(cov_params[1])))\n",
    "                numerator_0 = pi_params[0] * likelihood_0\n",
    "                numerator_1 = pi_params[1] * likelihood_1\n",
    "                posterior_0 = numerator_0 / (numerator_0 + numerator_1)\n",
    "                if posterior_0 > threshold: # probability threshold for classifying into the first group\n",
    "                    group_set[i] = self.class_labels[0]\n",
    "                else: \n",
    "                    group_set[i] = self.class_labels[1]\n",
    "        \n",
    "        # for non-binary classification\n",
    "        else:\n",
    "            group_set = np.zeros((n, 1))\n",
    "            for i in range(n):\n",
    "                winning_class = 0\n",
    "                max_prob = 0\n",
    "                for r in range(k):\n",
    "                    likelihood = np.exp(- 0.5 * np.linalg.multi_dot([(feature_set[i] - mu_params[r]), np.linalg.inv(cov_params[r]), np.transpose(feature_set[i] - mu_params[r])])) / (np.power(2 * np.pi, d/2) * np.sqrt(np.linalg.det(cov_params[r])))\n",
    "                    class_prob = pi_params[r] * likelihood\n",
    "                    if class_prob > max_prob:\n",
    "                        winning_class = r\n",
    "                        max_prob = class_prob\n",
    "                group_set[i] = self.class_labels[winning_class]\n",
    "                \n",
    "        return group_set.ravel().astype(int)"
   ]
  },
  {
   "cell_type": "code",
   "execution_count": 273,
   "metadata": {
    "id": "CutpAsBgcVRg",
    "scrolled": true
   },
   "outputs": [],
   "source": [
    "qda = QuadraticDiscriminantAnalysis().fit(train_features_set, train_group_set, class_labels)\n",
    "train_group_set_pred = qda.predict(train_features_set)\n",
    "test_group_set_pred = qda.predict(test_features_set)"
   ]
  },
  {
   "cell_type": "code",
   "execution_count": 274,
   "metadata": {
    "id": "YDGsiF72cVRg",
    "outputId": "d59305c6-c604-4a65-eb78-88b5fe02eeba"
   },
   "outputs": [
    {
     "name": "stdout",
     "output_type": "stream",
     "text": [
      "total_error      6\n",
      "type_i_error     4\n",
      "type_ii_error    2\n",
      "dtype: int64\n"
     ]
    }
   ],
   "source": [
    "result = pd.Series(loss(train_group_set, train_group_set_pred, '0-1'), index = ['total_error', 'type_i_error', 'type_ii_error'])\n",
    "print(result)"
   ]
  },
  {
   "cell_type": "code",
   "execution_count": 275,
   "metadata": {
    "id": "nVsI7DV7cVRg",
    "outputId": "c8d3d3d1-6bd7-4c00-db1e-815efe87e313"
   },
   "outputs": [
    {
     "name": "stdout",
     "output_type": "stream",
     "text": [
      "total_error      1\n",
      "type_i_error     0\n",
      "type_ii_error    1\n",
      "dtype: int64\n"
     ]
    }
   ],
   "source": [
    "result = pd.Series(loss(test_group_set, test_group_set_pred, '0-1'), index = ['total_error', 'type_i_error', 'type_ii_error'])\n",
    "print(result)"
   ]
  },
  {
   "cell_type": "code",
   "execution_count": 276,
   "metadata": {},
   "outputs": [],
   "source": [
    "meshgrid = np.linspace(0, 1, num = 100)"
   ]
  },
  {
   "cell_type": "code",
   "execution_count": 277,
   "metadata": {},
   "outputs": [],
   "source": [
    "# total class 1 items\n",
    "total_positive = train_group_set.groupby(train_group_set.iloc[:, 0]).count().iloc[0, 0]\n",
    "# total class 2 items\n",
    "total_negative = train_group_set.groupby(train_group_set.iloc[:, 0]).count().iloc[1, 0]"
   ]
  },
  {
   "cell_type": "code",
   "execution_count": 278,
   "metadata": {},
   "outputs": [],
   "source": [
    "true_positive_rate_all = []\n",
    "false_positive_rate_all = []\n",
    "for threshold in meshgrid:\n",
    "    group_set_pred = qda.predict(train_features_set, threshold)\n",
    "    type_i_error = loss(train_group_set, group_set_pred, '0-1')[1] # true 2 classified as 1\n",
    "    type_ii_error = loss(train_group_set, group_set_pred, '0-1')[2] # true 1 classified as 2\n",
    "    true_positive_rate = (total_positive - type_ii_error) / total_positive\n",
    "    false_positive_rate = type_i_error / total_negative\n",
    "    true_positive_rate_all.append(true_positive_rate)\n",
    "    false_positive_rate_all.append(false_positive_rate)"
   ]
  },
  {
   "cell_type": "code",
   "execution_count": 279,
   "metadata": {},
   "outputs": [
    {
     "data": {
      "text/plain": [
       "[<matplotlib.lines.Line2D at 0x7fd2aab664d0>,\n",
       " <matplotlib.lines.Line2D at 0x7fd2aab663d0>]"
      ]
     },
     "execution_count": 279,
     "metadata": {},
     "output_type": "execute_result"
    },
    {
     "data": {
      "image/png": "[encoded data removed]",
      "image/svg+xml": [
       "<?xml version=\"1.0\" encoding=\"utf-8\" standalone=\"no\"?>\n",
       "<!DOCTYPE svg PUBLIC \"-//W3C//DTD SVG 1.1//EN\"\n",
       "  \"http://www.w3.org/Graphics/SVG/1.1/DTD/svg11.dtd\">\n",
       "<svg height=\"248.518125pt\" version=\"1.1\" viewBox=\"0 0 372.103125 248.518125\" width=\"372.103125pt\" xmlns=\"http://www.w3.org/2000/svg\" xmlns:xlink=\"http://www.w3.org/1999/xlink\">\n",
       " <metadata>\n",
       "  <rdf:RDF xmlns:cc=\"http://creativecommons.org/ns#\" xmlns:dc=\"http://purl.org/dc/elements/1.1/\" xmlns:rdf=\"http://www.w3.org/1999/02/22-rdf-syntax-ns#\">\n",
       "   <cc:Work>\n",
       "    <dc:type rdf:resource=\"http://purl.org/dc/dcmitype/StillImage\"/>\n",
       "    <dc:date>2021-07-06T23:10:31.174335</dc:date>\n",
       "    <dc:format>image/svg+xml</dc:format>\n",
       "    <dc:creator>\n",
       "     <cc:Agent>\n",
       "      <dc:title>Matplotlib v3.4.2, https://matplotlib.org/</dc:title>\n",
       "     </cc:Agent>\n",
       "    </dc:creator>\n",
       "   </cc:Work>\n",
       "  </rdf:RDF>\n",
       " </metadata>\n",
       " <defs>\n",
       "  <style type=\"text/css\">*{stroke-linecap:butt;stroke-linejoin:round;}</style>\n",
       " </defs>\n",
       " <g id=\"figure_1\">\n",
       "  <g id=\"patch_1\">\n",
       "   <path d=\"M 0 248.518125 \n",
       "L 372.103125 248.518125 \n",
       "L 372.103125 0 \n",
       "L 0 0 \n",
       "z\n",
       "\" style=\"fill:none;\"/>\n",
       "  </g>\n",
       "  <g id=\"axes_1\">\n",
       "   <g id=\"patch_2\">\n",
       "    <path d=\"M 30.103125 224.64 \n",
       "L 364.903125 224.64 \n",
       "L 364.903125 7.2 \n",
       "L 30.103125 7.2 \n",
       "z\n",
       "\" style=\"fill:#ffffff;\"/>\n",
       "   </g>\n",
       "   <g id=\"matplotlib.axis_1\">\n",
       "    <g id=\"xtick_1\">\n",
       "     <g id=\"line2d_1\">\n",
       "      <defs>\n",
       "       <path d=\"M 0 0 \n",
       "L 0 3.5 \n",
       "\" id=\"m093455940d\" style=\"stroke:#000000;stroke-width:0.8;\"/>\n",
       "      </defs>\n",
       "      <g>\n",
       "       <use style=\"stroke:#000000;stroke-width:0.8;\" x=\"45.321307\" xlink:href=\"#m093455940d\" y=\"224.64\"/>\n",
       "      </g>\n",
       "     </g>\n",
       "     <g id=\"text_1\">\n",
       "      <!-- 0.0 -->\n",
       "      <g transform=\"translate(37.369744 239.238437)scale(0.1 -0.1)\">\n",
       "       <defs>\n",
       "        <path d=\"M 2034 4250 \n",
       "Q 1547 4250 1301 3770 \n",
       "Q 1056 3291 1056 2328 \n",
       "Q 1056 1369 1301 889 \n",
       "Q 1547 409 2034 409 \n",
       "Q 2525 409 2770 889 \n",
       "Q 3016 1369 3016 2328 \n",
       "Q 3016 3291 2770 3770 \n",
       "Q 2525 4250 2034 4250 \n",
       "z\n",
       "M 2034 4750 \n",
       "Q 2819 4750 3233 4129 \n",
       "Q 3647 3509 3647 2328 \n",
       "Q 3647 1150 3233 529 \n",
       "Q 2819 -91 2034 -91 \n",
       "Q 1250 -91 836 529 \n",
       "Q 422 1150 422 2328 \n",
       "Q 422 3509 836 4129 \n",
       "Q 1250 4750 2034 4750 \n",
       "z\n",
       "\" id=\"DejaVuSans-30\" transform=\"scale(0.015625)\"/>\n",
       "        <path d=\"M 684 794 \n",
       "L 1344 794 \n",
       "L 1344 0 \n",
       "L 684 0 \n",
       "L 684 794 \n",
       "z\n",
       "\" id=\"DejaVuSans-2e\" transform=\"scale(0.015625)\"/>\n",
       "       </defs>\n",
       "       <use xlink:href=\"#DejaVuSans-30\"/>\n",
       "       <use x=\"63.623047\" xlink:href=\"#DejaVuSans-2e\"/>\n",
       "       <use x=\"95.410156\" xlink:href=\"#DejaVuSans-30\"/>\n",
       "      </g>\n",
       "     </g>\n",
       "    </g>\n",
       "    <g id=\"xtick_2\">\n",
       "     <g id=\"line2d_2\">\n",
       "      <g>\n",
       "       <use style=\"stroke:#000000;stroke-width:0.8;\" x=\"106.194034\" xlink:href=\"#m093455940d\" y=\"224.64\"/>\n",
       "      </g>\n",
       "     </g>\n",
       "     <g id=\"text_2\">\n",
       "      <!-- 0.2 -->\n",
       "      <g transform=\"translate(98.242472 239.238437)scale(0.1 -0.1)\">\n",
       "       <defs>\n",
       "        <path d=\"M 1228 531 \n",
       "L 3431 531 \n",
       "L 3431 0 \n",
       "L 469 0 \n",
       "L 469 531 \n",
       "Q 828 903 1448 1529 \n",
       "Q 2069 2156 2228 2338 \n",
       "Q 2531 2678 2651 2914 \n",
       "Q 2772 3150 2772 3378 \n",
       "Q 2772 3750 2511 3984 \n",
       "Q 2250 4219 1831 4219 \n",
       "Q 1534 4219 1204 4116 \n",
       "Q 875 4013 500 3803 \n",
       "L 500 4441 \n",
       "Q 881 4594 1212 4672 \n",
       "Q 1544 4750 1819 4750 \n",
       "Q 2544 4750 2975 4387 \n",
       "Q 3406 4025 3406 3419 \n",
       "Q 3406 3131 3298 2873 \n",
       "Q 3191 2616 2906 2266 \n",
       "Q 2828 2175 2409 1742 \n",
       "Q 1991 1309 1228 531 \n",
       "z\n",
       "\" id=\"DejaVuSans-32\" transform=\"scale(0.015625)\"/>\n",
       "       </defs>\n",
       "       <use xlink:href=\"#DejaVuSans-30\"/>\n",
       "       <use x=\"63.623047\" xlink:href=\"#DejaVuSans-2e\"/>\n",
       "       <use x=\"95.410156\" xlink:href=\"#DejaVuSans-32\"/>\n",
       "      </g>\n",
       "     </g>\n",
       "    </g>\n",
       "    <g id=\"xtick_3\">\n",
       "     <g id=\"line2d_3\">\n",
       "      <g>\n",
       "       <use style=\"stroke:#000000;stroke-width:0.8;\" x=\"167.066761\" xlink:href=\"#m093455940d\" y=\"224.64\"/>\n",
       "      </g>\n",
       "     </g>\n",
       "     <g id=\"text_3\">\n",
       "      <!-- 0.4 -->\n",
       "      <g transform=\"translate(159.115199 239.238437)scale(0.1 -0.1)\">\n",
       "       <defs>\n",
       "        <path d=\"M 2419 4116 \n",
       "L 825 1625 \n",
       "L 2419 1625 \n",
       "L 2419 4116 \n",
       "z\n",
       "M 2253 4666 \n",
       "L 3047 4666 \n",
       "L 3047 1625 \n",
       "L 3713 1625 \n",
       "L 3713 1100 \n",
       "L 3047 1100 \n",
       "L 3047 0 \n",
       "L 2419 0 \n",
       "L 2419 1100 \n",
       "L 313 1100 \n",
       "L 313 1709 \n",
       "L 2253 4666 \n",
       "z\n",
       "\" id=\"DejaVuSans-34\" transform=\"scale(0.015625)\"/>\n",
       "       </defs>\n",
       "       <use xlink:href=\"#DejaVuSans-30\"/>\n",
       "       <use x=\"63.623047\" xlink:href=\"#DejaVuSans-2e\"/>\n",
       "       <use x=\"95.410156\" xlink:href=\"#DejaVuSans-34\"/>\n",
       "      </g>\n",
       "     </g>\n",
       "    </g>\n",
       "    <g id=\"xtick_4\">\n",
       "     <g id=\"line2d_4\">\n",
       "      <g>\n",
       "       <use style=\"stroke:#000000;stroke-width:0.8;\" x=\"227.939489\" xlink:href=\"#m093455940d\" y=\"224.64\"/>\n",
       "      </g>\n",
       "     </g>\n",
       "     <g id=\"text_4\">\n",
       "      <!-- 0.6 -->\n",
       "      <g transform=\"translate(219.987926 239.238437)scale(0.1 -0.1)\">\n",
       "       <defs>\n",
       "        <path d=\"M 2113 2584 \n",
       "Q 1688 2584 1439 2293 \n",
       "Q 1191 2003 1191 1497 \n",
       "Q 1191 994 1439 701 \n",
       "Q 1688 409 2113 409 \n",
       "Q 2538 409 2786 701 \n",
       "Q 3034 994 3034 1497 \n",
       "Q 3034 2003 2786 2293 \n",
       "Q 2538 2584 2113 2584 \n",
       "z\n",
       "M 3366 4563 \n",
       "L 3366 3988 \n",
       "Q 3128 4100 2886 4159 \n",
       "Q 2644 4219 2406 4219 \n",
       "Q 1781 4219 1451 3797 \n",
       "Q 1122 3375 1075 2522 \n",
       "Q 1259 2794 1537 2939 \n",
       "Q 1816 3084 2150 3084 \n",
       "Q 2853 3084 3261 2657 \n",
       "Q 3669 2231 3669 1497 \n",
       "Q 3669 778 3244 343 \n",
       "Q 2819 -91 2113 -91 \n",
       "Q 1303 -91 875 529 \n",
       "Q 447 1150 447 2328 \n",
       "Q 447 3434 972 4092 \n",
       "Q 1497 4750 2381 4750 \n",
       "Q 2619 4750 2861 4703 \n",
       "Q 3103 4656 3366 4563 \n",
       "z\n",
       "\" id=\"DejaVuSans-36\" transform=\"scale(0.015625)\"/>\n",
       "       </defs>\n",
       "       <use xlink:href=\"#DejaVuSans-30\"/>\n",
       "       <use x=\"63.623047\" xlink:href=\"#DejaVuSans-2e\"/>\n",
       "       <use x=\"95.410156\" xlink:href=\"#DejaVuSans-36\"/>\n",
       "      </g>\n",
       "     </g>\n",
       "    </g>\n",
       "    <g id=\"xtick_5\">\n",
       "     <g id=\"line2d_5\">\n",
       "      <g>\n",
       "       <use style=\"stroke:#000000;stroke-width:0.8;\" x=\"288.812216\" xlink:href=\"#m093455940d\" y=\"224.64\"/>\n",
       "      </g>\n",
       "     </g>\n",
       "     <g id=\"text_5\">\n",
       "      <!-- 0.8 -->\n",
       "      <g transform=\"translate(280.860653 239.238437)scale(0.1 -0.1)\">\n",
       "       <defs>\n",
       "        <path d=\"M 2034 2216 \n",
       "Q 1584 2216 1326 1975 \n",
       "Q 1069 1734 1069 1313 \n",
       "Q 1069 891 1326 650 \n",
       "Q 1584 409 2034 409 \n",
       "Q 2484 409 2743 651 \n",
       "Q 3003 894 3003 1313 \n",
       "Q 3003 1734 2745 1975 \n",
       "Q 2488 2216 2034 2216 \n",
       "z\n",
       "M 1403 2484 \n",
       "Q 997 2584 770 2862 \n",
       "Q 544 3141 544 3541 \n",
       "Q 544 4100 942 4425 \n",
       "Q 1341 4750 2034 4750 \n",
       "Q 2731 4750 3128 4425 \n",
       "Q 3525 4100 3525 3541 \n",
       "Q 3525 3141 3298 2862 \n",
       "Q 3072 2584 2669 2484 \n",
       "Q 3125 2378 3379 2068 \n",
       "Q 3634 1759 3634 1313 \n",
       "Q 3634 634 3220 271 \n",
       "Q 2806 -91 2034 -91 \n",
       "Q 1263 -91 848 271 \n",
       "Q 434 634 434 1313 \n",
       "Q 434 1759 690 2068 \n",
       "Q 947 2378 1403 2484 \n",
       "z\n",
       "M 1172 3481 \n",
       "Q 1172 3119 1398 2916 \n",
       "Q 1625 2713 2034 2713 \n",
       "Q 2441 2713 2670 2916 \n",
       "Q 2900 3119 2900 3481 \n",
       "Q 2900 3844 2670 4047 \n",
       "Q 2441 4250 2034 4250 \n",
       "Q 1625 4250 1398 4047 \n",
       "Q 1172 3844 1172 3481 \n",
       "z\n",
       "\" id=\"DejaVuSans-38\" transform=\"scale(0.015625)\"/>\n",
       "       </defs>\n",
       "       <use xlink:href=\"#DejaVuSans-30\"/>\n",
       "       <use x=\"63.623047\" xlink:href=\"#DejaVuSans-2e\"/>\n",
       "       <use x=\"95.410156\" xlink:href=\"#DejaVuSans-38\"/>\n",
       "      </g>\n",
       "     </g>\n",
       "    </g>\n",
       "    <g id=\"xtick_6\">\n",
       "     <g id=\"line2d_6\">\n",
       "      <g>\n",
       "       <use style=\"stroke:#000000;stroke-width:0.8;\" x=\"349.684943\" xlink:href=\"#m093455940d\" y=\"224.64\"/>\n",
       "      </g>\n",
       "     </g>\n",
       "     <g id=\"text_6\">\n",
       "      <!-- 1.0 -->\n",
       "      <g transform=\"translate(341.733381 239.238437)scale(0.1 -0.1)\">\n",
       "       <defs>\n",
       "        <path d=\"M 794 531 \n",
       "L 1825 531 \n",
       "L 1825 4091 \n",
       "L 703 3866 \n",
       "L 703 4441 \n",
       "L 1819 4666 \n",
       "L 2450 4666 \n",
       "L 2450 531 \n",
       "L 3481 531 \n",
       "L 3481 0 \n",
       "L 794 0 \n",
       "L 794 531 \n",
       "z\n",
       "\" id=\"DejaVuSans-31\" transform=\"scale(0.015625)\"/>\n",
       "       </defs>\n",
       "       <use xlink:href=\"#DejaVuSans-31\"/>\n",
       "       <use x=\"63.623047\" xlink:href=\"#DejaVuSans-2e\"/>\n",
       "       <use x=\"95.410156\" xlink:href=\"#DejaVuSans-30\"/>\n",
       "      </g>\n",
       "     </g>\n",
       "    </g>\n",
       "   </g>\n",
       "   <g id=\"matplotlib.axis_2\">\n",
       "    <g id=\"ytick_1\">\n",
       "     <g id=\"line2d_7\">\n",
       "      <defs>\n",
       "       <path d=\"M 0 0 \n",
       "L -3.5 0 \n",
       "\" id=\"m497f15ab88\" style=\"stroke:#000000;stroke-width:0.8;\"/>\n",
       "      </defs>\n",
       "      <g>\n",
       "       <use style=\"stroke:#000000;stroke-width:0.8;\" x=\"30.103125\" xlink:href=\"#m497f15ab88\" y=\"214.756364\"/>\n",
       "      </g>\n",
       "     </g>\n",
       "     <g id=\"text_7\">\n",
       "      <!-- 0.0 -->\n",
       "      <g transform=\"translate(7.2 218.555582)scale(0.1 -0.1)\">\n",
       "       <use xlink:href=\"#DejaVuSans-30\"/>\n",
       "       <use x=\"63.623047\" xlink:href=\"#DejaVuSans-2e\"/>\n",
       "       <use x=\"95.410156\" xlink:href=\"#DejaVuSans-30\"/>\n",
       "      </g>\n",
       "     </g>\n",
       "    </g>\n",
       "    <g id=\"ytick_2\">\n",
       "     <g id=\"line2d_8\">\n",
       "      <g>\n",
       "       <use style=\"stroke:#000000;stroke-width:0.8;\" x=\"30.103125\" xlink:href=\"#m497f15ab88\" y=\"175.221818\"/>\n",
       "      </g>\n",
       "     </g>\n",
       "     <g id=\"text_8\">\n",
       "      <!-- 0.2 -->\n",
       "      <g transform=\"translate(7.2 179.021037)scale(0.1 -0.1)\">\n",
       "       <use xlink:href=\"#DejaVuSans-30\"/>\n",
       "       <use x=\"63.623047\" xlink:href=\"#DejaVuSans-2e\"/>\n",
       "       <use x=\"95.410156\" xlink:href=\"#DejaVuSans-32\"/>\n",
       "      </g>\n",
       "     </g>\n",
       "    </g>\n",
       "    <g id=\"ytick_3\">\n",
       "     <g id=\"line2d_9\">\n",
       "      <g>\n",
       "       <use style=\"stroke:#000000;stroke-width:0.8;\" x=\"30.103125\" xlink:href=\"#m497f15ab88\" y=\"135.687273\"/>\n",
       "      </g>\n",
       "     </g>\n",
       "     <g id=\"text_9\">\n",
       "      <!-- 0.4 -->\n",
       "      <g transform=\"translate(7.2 139.486491)scale(0.1 -0.1)\">\n",
       "       <use xlink:href=\"#DejaVuSans-30\"/>\n",
       "       <use x=\"63.623047\" xlink:href=\"#DejaVuSans-2e\"/>\n",
       "       <use x=\"95.410156\" xlink:href=\"#DejaVuSans-34\"/>\n",
       "      </g>\n",
       "     </g>\n",
       "    </g>\n",
       "    <g id=\"ytick_4\">\n",
       "     <g id=\"line2d_10\">\n",
       "      <g>\n",
       "       <use style=\"stroke:#000000;stroke-width:0.8;\" x=\"30.103125\" xlink:href=\"#m497f15ab88\" y=\"96.152727\"/>\n",
       "      </g>\n",
       "     </g>\n",
       "     <g id=\"text_10\">\n",
       "      <!-- 0.6 -->\n",
       "      <g transform=\"translate(7.2 99.951946)scale(0.1 -0.1)\">\n",
       "       <use xlink:href=\"#DejaVuSans-30\"/>\n",
       "       <use x=\"63.623047\" xlink:href=\"#DejaVuSans-2e\"/>\n",
       "       <use x=\"95.410156\" xlink:href=\"#DejaVuSans-36\"/>\n",
       "      </g>\n",
       "     </g>\n",
       "    </g>\n",
       "    <g id=\"ytick_5\">\n",
       "     <g id=\"line2d_11\">\n",
       "      <g>\n",
       "       <use style=\"stroke:#000000;stroke-width:0.8;\" x=\"30.103125\" xlink:href=\"#m497f15ab88\" y=\"56.618182\"/>\n",
       "      </g>\n",
       "     </g>\n",
       "     <g id=\"text_11\">\n",
       "      <!-- 0.8 -->\n",
       "      <g transform=\"translate(7.2 60.417401)scale(0.1 -0.1)\">\n",
       "       <use xlink:href=\"#DejaVuSans-30\"/>\n",
       "       <use x=\"63.623047\" xlink:href=\"#DejaVuSans-2e\"/>\n",
       "       <use x=\"95.410156\" xlink:href=\"#DejaVuSans-38\"/>\n",
       "      </g>\n",
       "     </g>\n",
       "    </g>\n",
       "    <g id=\"ytick_6\">\n",
       "     <g id=\"line2d_12\">\n",
       "      <g>\n",
       "       <use style=\"stroke:#000000;stroke-width:0.8;\" x=\"30.103125\" xlink:href=\"#m497f15ab88\" y=\"17.083636\"/>\n",
       "      </g>\n",
       "     </g>\n",
       "     <g id=\"text_12\">\n",
       "      <!-- 1.0 -->\n",
       "      <g transform=\"translate(7.2 20.882855)scale(0.1 -0.1)\">\n",
       "       <use xlink:href=\"#DejaVuSans-31\"/>\n",
       "       <use x=\"63.623047\" xlink:href=\"#DejaVuSans-2e\"/>\n",
       "       <use x=\"95.410156\" xlink:href=\"#DejaVuSans-30\"/>\n",
       "      </g>\n",
       "     </g>\n",
       "    </g>\n",
       "   </g>\n",
       "   <g id=\"line2d_13\">\n",
       "    <path clip-path=\"url(#pb8d0077003)\" d=\"M 349.684943 17.083636 \n",
       "L 333.665804 17.083636 \n",
       "L 269.589249 17.083636 \n",
       "L 245.560541 17.083636 \n",
       "L 205.512694 17.083636 \n",
       "L 189.493556 17.083636 \n",
       "L 173.474417 17.083636 \n",
       "L 165.464847 17.083636 \n",
       "L 141.436139 17.083636 \n",
       "L 133.42657 21.38087 \n",
       "L 133.42657 21.38087 \n",
       "L 133.42657 21.38087 \n",
       "L 133.42657 21.38087 \n",
       "L 133.42657 21.38087 \n",
       "L 117.407431 21.38087 \n",
       "L 117.407431 21.38087 \n",
       "L 117.407431 21.38087 \n",
       "L 117.407431 21.38087 \n",
       "L 117.407431 21.38087 \n",
       "L 117.407431 21.38087 \n",
       "L 117.407431 21.38087 \n",
       "L 117.407431 21.38087 \n",
       "L 117.407431 21.38087 \n",
       "L 117.407431 21.38087 \n",
       "L 117.407431 21.38087 \n",
       "L 109.397862 21.38087 \n",
       "L 101.388292 21.38087 \n",
       "L 93.378723 21.38087 \n",
       "L 93.378723 21.38087 \n",
       "L 93.378723 21.38087 \n",
       "L 93.378723 21.38087 \n",
       "L 85.369154 21.38087 \n",
       "L 85.369154 21.38087 \n",
       "L 85.369154 21.38087 \n",
       "L 85.369154 25.678103 \n",
       "L 85.369154 25.678103 \n",
       "L 85.369154 25.678103 \n",
       "L 77.359584 25.678103 \n",
       "L 77.359584 25.678103 \n",
       "L 77.359584 25.678103 \n",
       "L 77.359584 25.678103 \n",
       "L 77.359584 25.678103 \n",
       "L 77.359584 25.678103 \n",
       "L 77.359584 25.678103 \n",
       "L 77.359584 25.678103 \n",
       "L 77.359584 25.678103 \n",
       "L 77.359584 25.678103 \n",
       "L 77.359584 25.678103 \n",
       "L 77.359584 25.678103 \n",
       "L 77.359584 25.678103 \n",
       "L 77.359584 25.678103 \n",
       "L 77.359584 25.678103 \n",
       "L 77.359584 25.678103 \n",
       "L 77.359584 25.678103 \n",
       "L 77.359584 29.975336 \n",
       "L 77.359584 29.975336 \n",
       "L 77.359584 29.975336 \n",
       "L 77.359584 29.975336 \n",
       "L 61.340446 29.975336 \n",
       "L 53.330876 29.975336 \n",
       "L 53.330876 29.975336 \n",
       "L 53.330876 29.975336 \n",
       "L 53.330876 34.272569 \n",
       "L 53.330876 34.272569 \n",
       "L 53.330876 34.272569 \n",
       "L 53.330876 47.164269 \n",
       "L 53.330876 47.164269 \n",
       "L 53.330876 47.164269 \n",
       "L 53.330876 47.164269 \n",
       "L 53.330876 47.164269 \n",
       "L 53.330876 47.164269 \n",
       "L 53.330876 47.164269 \n",
       "L 53.330876 51.461502 \n",
       "L 53.330876 51.461502 \n",
       "L 53.330876 51.461502 \n",
       "L 53.330876 51.461502 \n",
       "L 53.330876 51.461502 \n",
       "L 53.330876 55.758735 \n",
       "L 53.330876 60.055968 \n",
       "L 53.330876 60.055968 \n",
       "L 53.330876 60.055968 \n",
       "L 53.330876 60.055968 \n",
       "L 53.330876 60.055968 \n",
       "L 53.330876 60.055968 \n",
       "L 53.330876 64.353202 \n",
       "L 53.330876 68.650435 \n",
       "L 53.330876 68.650435 \n",
       "L 53.330876 68.650435 \n",
       "L 53.330876 68.650435 \n",
       "L 53.330876 68.650435 \n",
       "L 53.330876 68.650435 \n",
       "L 53.330876 68.650435 \n",
       "L 53.330876 72.947668 \n",
       "L 45.321307 77.244901 \n",
       "L 45.321307 90.136601 \n",
       "L 45.321307 94.433834 \n",
       "L 45.321307 94.433834 \n",
       "L 45.321307 98.731067 \n",
       "L 45.321307 98.731067 \n",
       "L 45.321307 214.756364 \n",
       "\" style=\"fill:none;stroke:#1f77b4;stroke-linecap:square;stroke-width:1.5;\"/>\n",
       "   </g>\n",
       "   <g id=\"line2d_14\">\n",
       "    <path clip-path=\"url(#pb8d0077003)\" d=\"M 349.684943 17.083636 \n",
       "\" style=\"fill:none;stroke:#ff7f0e;stroke-linecap:square;stroke-width:1.5;\"/>\n",
       "   </g>\n",
       "   <g id=\"patch_3\">\n",
       "    <path d=\"M 30.103125 224.64 \n",
       "L 30.103125 7.2 \n",
       "\" style=\"fill:none;stroke:#000000;stroke-linecap:square;stroke-linejoin:miter;stroke-width:0.8;\"/>\n",
       "   </g>\n",
       "   <g id=\"patch_4\">\n",
       "    <path d=\"M 364.903125 224.64 \n",
       "L 364.903125 7.2 \n",
       "\" style=\"fill:none;stroke:#000000;stroke-linecap:square;stroke-linejoin:miter;stroke-width:0.8;\"/>\n",
       "   </g>\n",
       "   <g id=\"patch_5\">\n",
       "    <path d=\"M 30.103125 224.64 \n",
       "L 364.903125 224.64 \n",
       "\" style=\"fill:none;stroke:#000000;stroke-linecap:square;stroke-linejoin:miter;stroke-width:0.8;\"/>\n",
       "   </g>\n",
       "   <g id=\"patch_6\">\n",
       "    <path d=\"M 30.103125 7.2 \n",
       "L 364.903125 7.2 \n",
       "\" style=\"fill:none;stroke:#000000;stroke-linecap:square;stroke-linejoin:miter;stroke-width:0.8;\"/>\n",
       "   </g>\n",
       "  </g>\n",
       " </g>\n",
       " <defs>\n",
       "  <clipPath id=\"pb8d0077003\">\n",
       "   <rect height=\"217.44\" width=\"334.8\" x=\"30.103125\" y=\"7.2\"/>\n",
       "  </clipPath>\n",
       " </defs>\n",
       "</svg>\n"
      ],
      "text/plain": [
       "<Figure size 432x288 with 1 Axes>"
      ]
     },
     "metadata": {
      "needs_background": "light"
     },
     "output_type": "display_data"
    }
   ],
   "source": [
    "plt.plot(false_positive_rate_all, true_positive_rate_all, 1, 1)"
   ]
  },
  {
   "cell_type": "markdown",
   "metadata": {
    "id": "tWxEwwbIcVRg"
   },
   "source": [
    "## 3-Classes classification\n",
    "### Naive Bayes Gaussian"
   ]
  },
  {
   "cell_type": "code",
   "execution_count": 300,
   "metadata": {},
   "outputs": [],
   "source": [
    "# Choose predictors\n",
    "train_features_set = train_sample[['Alcohol', 'Flavanoids', 'Proanthocyanins', 'Color intensity']]\n",
    "train_group_set = train_sample[['Label']]\n",
    "class_labels = pd.DataFrame([1, 2, 3], columns=['Label'])\n",
    "test_features_set = test_sample[['Alcohol', 'Flavanoids', 'Proanthocyanins', 'Color intensity']]\n",
    "test_group_set = test_sample[['Label']]"
   ]
  },
  {
   "cell_type": "code",
   "execution_count": 301,
   "metadata": {},
   "outputs": [],
   "source": [
    "nbg = NaiveBayesGaussian().fit(train_features_set, train_group_set, class_labels)\n",
    "train_group_set_pred = nbg.predict(train_features_set)\n",
    "test_group_set_pred = nbg.predict(test_features_set)"
   ]
  },
  {
   "cell_type": "code",
   "execution_count": 302,
   "metadata": {},
   "outputs": [
    {
     "name": "stdout",
     "output_type": "stream",
     "text": [
      "total_error    8\n",
      "dtype: int64\n"
     ]
    }
   ],
   "source": [
    "result = pd.Series(loss(train_group_set, train_group_set_pred, '0-1'), index = ['total_error'])\n",
    "print(result)"
   ]
  },
  {
   "cell_type": "code",
   "execution_count": 303,
   "metadata": {},
   "outputs": [
    {
     "name": "stdout",
     "output_type": "stream",
     "text": [
      "total_error    2\n",
      "dtype: int64\n"
     ]
    }
   ],
   "source": [
    "result = pd.Series(loss(test_group_set, test_group_set_pred, '0-1'), index = ['total_error'])\n",
    "print(result)"
   ]
  },
  {
   "cell_type": "markdown",
   "metadata": {},
   "source": [
    "### Linear Discriminant Analysis"
   ]
  },
  {
   "cell_type": "code",
   "execution_count": 304,
   "metadata": {},
   "outputs": [],
   "source": [
    "lda = LinearDiscriminantAnalysis().fit(train_features_set, train_group_set, class_labels)\n",
    "train_group_set_pred = lda.predict(train_features_set)\n",
    "test_group_set_pred = lda.predict(test_features_set)"
   ]
  },
  {
   "cell_type": "code",
   "execution_count": 305,
   "metadata": {},
   "outputs": [
    {
     "name": "stdout",
     "output_type": "stream",
     "text": [
      "total_error    11\n",
      "dtype: int64\n"
     ]
    }
   ],
   "source": [
    "result = pd.Series(loss(train_group_set, train_group_set_pred, '0-1'), index = ['total_error'])\n",
    "print(result)"
   ]
  },
  {
   "cell_type": "code",
   "execution_count": 306,
   "metadata": {},
   "outputs": [
    {
     "name": "stdout",
     "output_type": "stream",
     "text": [
      "total_error    2\n",
      "dtype: int64\n"
     ]
    }
   ],
   "source": [
    "result = pd.Series(loss(test_group_set, test_group_set_pred, '0-1'), index = ['total_error'])\n",
    "print(result)"
   ]
  },
  {
   "cell_type": "markdown",
   "metadata": {},
   "source": [
    "### Quadratic Discriminant Analysis"
   ]
  },
  {
   "cell_type": "code",
   "execution_count": 307,
   "metadata": {},
   "outputs": [],
   "source": [
    "qda = QuadraticDiscriminantAnalysis().fit(train_features_set, train_group_set, class_labels)\n",
    "train_group_set_pred = qda.predict(train_features_set)\n",
    "test_group_set_pred = qda.predict(test_features_set)"
   ]
  },
  {
   "cell_type": "code",
   "execution_count": 308,
   "metadata": {},
   "outputs": [
    {
     "name": "stdout",
     "output_type": "stream",
     "text": [
      "total_error    5\n",
      "dtype: int64\n"
     ]
    }
   ],
   "source": [
    "result = pd.Series(loss(train_group_set, train_group_set_pred, '0-1'), index = ['total_error'])\n",
    "print(result)"
   ]
  },
  {
   "cell_type": "code",
   "execution_count": 309,
   "metadata": {},
   "outputs": [
    {
     "name": "stdout",
     "output_type": "stream",
     "text": [
      "total_error    1\n",
      "dtype: int64\n"
     ]
    }
   ],
   "source": [
    "result = pd.Series(loss(test_group_set, test_group_set_pred, '0-1'), index = ['total_error'])\n",
    "print(result)"
   ]
  },
  {
   "cell_type": "markdown",
   "metadata": {},
   "source": [
    "### Comparison between Generative and Discriminative Models\n",
    "When we conduct Discriminative Models, we can see very good prediction in Perceptron Model. And in general, there have no very obvious outperformance difference between Generative and Discriminative Models in our results."
   ]
  }
 ],
 "metadata": {
  "colab": {
   "name": "ML homework04_v3.ipynb",
   "provenance": []
  },
  "interpreter": {
   "hash": "04b0022e25506edf1123745eb6a5641eeb58f4c6825d53cb9267480276f19e42"
  },
  "kernelspec": {
   "display_name": "Python 3",
   "language": "python",
   "name": "python3"
  },
  "language_info": {
   "codemirror_mode": {
    "name": "ipython",
    "version": 3
   },
   "file_extension": ".py",
   "mimetype": "text/x-python",
   "name": "python",
   "nbconvert_exporter": "python",
   "pygments_lexer": "ipython3",
   "version": "3.8.5"
  }
 },
 "nbformat": 4,
 "nbformat_minor": 1
}
