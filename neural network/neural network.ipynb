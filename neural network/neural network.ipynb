{
 "cells": [
  {
   "cell_type": "code",
   "execution_count": 12,
   "id": "0a7f2a17",
   "metadata": {},
   "outputs": [],
   "source": [
    "from math import exp\n",
    "from random import seed\n",
    "from random import random\n",
    "import pandas as pd\n",
    "import numpy as np\n",
    "import matplotlib.pyplot as plt "
   ]
  },
  {
   "cell_type": "markdown",
   "id": "b3b89a69",
   "metadata": {},
   "source": [
    "# Auxilary classes and methods"
   ]
  },
  {
   "cell_type": "code",
   "execution_count": 13,
   "id": "96f8d07f",
   "metadata": {},
   "outputs": [],
   "source": [
    "def train_test_split(data, test_ratio):\n",
    "    shuffled_indices = np.random.permutation(len(data))\n",
    "    test_size = int(len(data) * test_ratio)\n",
    "    test_indices = shuffled_indices[:test_size]\n",
    "    train_indices = shuffled_indices[test_size:]\n",
    "    return data.iloc[train_indices], data.iloc[test_indices]"
   ]
  },
  {
   "cell_type": "code",
   "execution_count": 14,
   "id": "c835a004",
   "metadata": {},
   "outputs": [],
   "source": [
    "def transform_labels(group_set):\n",
    "    new_labels = np.zeros((len(group_set), group_set.nunique()))\n",
    "    for i, label in enumerate(group_set):\n",
    "            new_labels[i][label-1] = 1\n",
    "    return new_labels"
   ]
  },
  {
   "cell_type": "markdown",
   "id": "3512b475",
   "metadata": {},
   "source": [
    "# Data importation"
   ]
  },
  {
   "cell_type": "code",
   "execution_count": 15,
   "id": "bd8896ec",
   "metadata": {},
   "outputs": [],
   "source": [
    "Y = pd.read_csv('digits_labels.csv', header=None)\n",
    "X = pd.read_csv('digits_data.csv', header=None)\n",
    "Y.columns = ['labels']\n",
    "data = pd.concat([X, Y], axis = 1)"
   ]
  },
  {
   "cell_type": "markdown",
   "id": "62827cd1",
   "metadata": {},
   "source": [
    "# Train-test split"
   ]
  },
  {
   "cell_type": "code",
   "execution_count": 16,
   "id": "ad7c45f2",
   "metadata": {},
   "outputs": [],
   "source": [
    "# Ramdomly split the data into test and train, but keep digits balanced in each\n",
    "k = 9\n",
    "train_set = pd.DataFrame()\n",
    "test_set = pd.DataFrame()\n",
    "for i in range(k+1):\n",
    "    data_temp = data[data['labels']==i+1]\n",
    "    train_temp, test_temp = train_test_split(data_temp, 0.2)\n",
    "    train_set = pd.concat([train_set, train_temp], axis = 0)\n",
    "    test_set = pd.concat([test_set, test_temp], axis = 0)"
   ]
  },
  {
   "cell_type": "code",
   "execution_count": 17,
   "id": "65537b8e",
   "metadata": {},
   "outputs": [],
   "source": [
    "X_train = train_set.iloc[:, :-1]\n",
    "Y_train = train_set.iloc[:, -1]\n",
    "X_test = test_set.iloc[:, :-1]\n",
    "Y_test = test_set.iloc[:, -1]"
   ]
  },
  {
   "cell_type": "code",
   "execution_count": 18,
   "id": "83b9d2b2",
   "metadata": {},
   "outputs": [],
   "source": [
    "Y_train_transformed = transform_labels(Y_train)\n",
    "Y_test_transformed = transform_labels(Y_test)\n",
    "\n",
    "n = X_train.shape[0] # sample size\n",
    "d = X_train.shape[1] # number of features\n",
    "k = Y_train.nunique() # number of classes\n",
    "\n",
    "input_no = d\n",
    "output_no = k\n",
    "hidden_no = 100"
   ]
  },
  {
   "cell_type": "code",
   "execution_count": 19,
   "id": "d79f86b3",
   "metadata": {},
   "outputs": [],
   "source": [
    "X = X_train\n",
    "y = Y_train_transformed"
   ]
  },
  {
   "cell_type": "code",
   "execution_count": 69,
   "id": "1920b8a9",
   "metadata": {},
   "outputs": [
    {
     "data": {
      "text/plain": [
       "(4000, 400)"
      ]
     },
     "execution_count": 69,
     "metadata": {},
     "output_type": "execute_result"
    }
   ],
   "source": [
    "X.shape"
   ]
  },
  {
   "cell_type": "code",
   "execution_count": 70,
   "id": "7e313f62",
   "metadata": {},
   "outputs": [
    {
     "data": {
      "text/plain": [
       "(4000, 10)"
      ]
     },
     "execution_count": 70,
     "metadata": {},
     "output_type": "execute_result"
    }
   ],
   "source": [
    "y.shape"
   ]
  },
  {
   "cell_type": "markdown",
   "id": "a1e36af9",
   "metadata": {},
   "source": [
    "# Neural network classification"
   ]
  },
  {
   "cell_type": "code",
   "execution_count": 46,
   "id": "b6f727bd",
   "metadata": {
    "scrolled": false
   },
   "outputs": [],
   "source": [
    "def sigmoid(x):\n",
    "    return 1 / (1 + np.exp(-x))\n",
    "\n",
    "def softmax(x):\n",
    "    return np.exp(x) / np.sum(np.exp(x), axis = 1).reshape(-1, 1)\n",
    "\n",
    "def sigmoid_derivative(x):\n",
    "    return np.exp(-x) / ((1 + np.exp(-x)) ** 2)\n",
    "\n",
    "def forward_propagation(X, W1, W2, b1, b2):\n",
    "    a1 = np.dot(X, W1) + b1\n",
    "    z1 = sigmoid(a1)\n",
    "    a2 = np.dot(z1, W2) + b2\n",
    "    y_pred = softmax(a2)\n",
    "    return a1, z1, a2, y_pred\n",
    "\n",
    "def compute_cost(y, y_pred):\n",
    "    J = 0.5 * sum((y - y_pred) ** 2)\n",
    "    return J\n",
    "\n",
    "def backward_propagation(X, y, y_pred, z2, a1, W2, z1):\n",
    "    delta2 = np.multiply(-(y - y_pred), sigmoid_derivative(z2))\n",
    "    dJ_dW2 = np.dot(a1.T, delta2)\n",
    "    delta1 = np.dot(delta2, W2.T) * sigmoid_derivative(z1)\n",
    "    dJ_dW1 = np.dot(X.T, delta1)\n",
    "    return dJ_dW1, dJ_dW2\n",
    "\n",
    "class NeuralNetwork():\n",
    "    def __init__(self):\n",
    "        self.W1 = None\n",
    "        self.W2 = None\n",
    "        self.b1 = None\n",
    "        self.b2 = None\n",
    "    \n",
    "    def fit(self, X, y, alpha = 0.01, num_iterations = 1000, lambda_ = 0.01, input_no = 3, output_no = 2, hidden_no = 10):\n",
    "        X = np.array(X)\n",
    "        y = np.array(y)\n",
    "        \n",
    "        W1 = np.random.randn(input_no, hidden_no)\n",
    "        b1 = np.ones([1, hidden_no])\n",
    "\n",
    "        W2 = np.random.randn(hidden_no, output_no)\n",
    "        b2 = np.ones([1, output_no])\n",
    "        \n",
    "        for i in range(num_iterations):\n",
    "            z1, a1, z2, y_pred = forward_propagation(X, W1, W2, b1, b2)\n",
    "            dJ_dW1, dJ_dW2 = backward_propagation(X, y, y_pred, z2, a1, W2, z1)\n",
    "\n",
    "            W1 = W1 - (alpha * (dJ_dW1 + lambda_ * np.sign(W1))) #l1 penalty\n",
    "            W2 = W2 - (alpha * (dJ_dW2 + lambda_ * np.sign(W2)))\n",
    "            \n",
    "        self.W1 = W1\n",
    "        self.W2 = W2\n",
    "        self.b1 = b1\n",
    "        self.b2 = b2\n",
    "        \n",
    "        return self\n",
    "\n",
    "    def predict(self, X):\n",
    "        y_prob = forward_propagation(X, self.W1, self.W2, self.b1, self.b2)[3]\n",
    "        max_prob_ind = np.argmax(y_prob, axis = 1)\n",
    "        #y_class = np.array([labels[i] for i in max_prob_ind])\n",
    "        \n",
    "        return y_prob, max_prob_ind + 1"
   ]
  },
  {
   "cell_type": "code",
   "execution_count": 33,
   "id": "f849b20c",
   "metadata": {},
   "outputs": [],
   "source": [
    "nn = NeuralNetwork().fit(X_train, Y_train_transformed, input_no = 400, output_no = 10)"
   ]
  },
  {
   "cell_type": "code",
   "execution_count": 34,
   "id": "7880d3d5",
   "metadata": {},
   "outputs": [
    {
     "data": {
      "text/plain": [
       "(array([[8.78231081e-01, 1.48937069e-06, 4.54465754e-05, ...,\n",
       "         1.08577173e-01, 1.11719456e-02, 1.61628721e-05],\n",
       "        [9.68120776e-01, 2.83606640e-05, 8.02695858e-05, ...,\n",
       "         2.93637487e-02, 1.11467057e-03, 3.36585832e-05],\n",
       "        [9.94780368e-01, 1.07559993e-04, 9.11154873e-04, ...,\n",
       "         2.53621953e-03, 7.54656818e-04, 4.64018333e-06],\n",
       "        ...,\n",
       "        [2.88358577e-08, 7.71880086e-04, 1.67927315e-06, ...,\n",
       "         3.17566187e-05, 1.34771701e-04, 9.96744123e-01],\n",
       "        [3.41348606e-08, 8.48077362e-04, 2.08551389e-06, ...,\n",
       "         3.66978801e-05, 1.50312089e-04, 9.96804986e-01],\n",
       "        [3.97417391e-08, 1.30565179e-03, 3.66812934e-06, ...,\n",
       "         1.25549171e-07, 1.40881978e-05, 9.90962918e-01]]),\n",
       " array([ 1,  1,  1, ..., 10, 10, 10], dtype=int64))"
      ]
     },
     "execution_count": 34,
     "metadata": {},
     "output_type": "execute_result"
    }
   ],
   "source": [
    "nn.predict(X_train)"
   ]
  },
  {
   "cell_type": "code",
   "execution_count": 70,
   "id": "18f08ea8",
   "metadata": {},
   "outputs": [
    {
     "data": {
      "text/plain": [
       "164"
      ]
     },
     "execution_count": 70,
     "metadata": {},
     "output_type": "execute_result"
    }
   ],
   "source": [
    "sum(nn.predict(X)[1] != np.array(Y_train))"
   ]
  },
  {
   "cell_type": "markdown",
   "id": "440c6761",
   "metadata": {},
   "source": [
    "# Tune l1 penalty strength by cross validation"
   ]
  },
  {
   "cell_type": "code",
   "execution_count": 47,
   "id": "e2d41699",
   "metadata": {},
   "outputs": [
    {
     "name": "stdout",
     "output_type": "stream",
     "text": [
      "0.0\n"
     ]
    }
   ],
   "source": [
    "import math\n",
    "\n",
    "X = pd.DataFrame(X)\n",
    "y = pd.DataFrame(y)\n",
    "\n",
    "n_train = X.shape[0]\n",
    "num_fold = 5\n",
    "n_fold = math.floor(n_train / num_fold)\n",
    "\n",
    "total_error_all = []\n",
    "\n",
    "meshgrid = np.arange(0, 0.1, 0.01)\n",
    "\n",
    "for lambda_ in meshgrid:\n",
    "    total_error = 0\n",
    "    for cur_fold in range(num_fold):\n",
    "        X_fold = X.iloc[cur_fold * n_fold : (cur_fold + 1) * n_fold]\n",
    "        y_fold = y.iloc[cur_fold * n_fold : (cur_fold + 1) * n_fold]\n",
    "        X_train_fold = X.iloc[np.r_[0 : cur_fold * n_fold, (cur_fold + 1) * n_fold : n_train]]\n",
    "        y_train_fold = y.iloc[np.r_[0 : cur_fold * n_fold, (cur_fold + 1) * n_fold : n_train]]\n",
    "\n",
    "        pr = NeuralNetwork().fit(X_train_fold, y_train_fold, input_no = 400, output_no = 10, lambda_ = lambda_)\n",
    "        y_pred = pr.predict(X_fold)[0]\n",
    "        total_error += compute_cost(y_fold, y_pred)\n",
    "    total_error_all.append(total_error)\n",
    "    \n",
    "best_lambda = meshgrid[np.argsort(total_error_all)[0]]\n",
    "print(best_lambda)"
   ]
  },
  {
   "cell_type": "code",
   "execution_count": null,
   "id": "401a899e",
   "metadata": {},
   "outputs": [],
   "source": []
  }
 ],
 "metadata": {
  "kernelspec": {
   "display_name": "Python 3",
   "language": "python",
   "name": "python3"
  },
  "language_info": {
   "codemirror_mode": {
    "name": "ipython",
    "version": 3
   },
   "file_extension": ".py",
   "mimetype": "text/x-python",
   "name": "python",
   "nbconvert_exporter": "python",
   "pygments_lexer": "ipython3",
   "version": "3.8.5"
  }
 },
 "nbformat": 4,
 "nbformat_minor": 5
}
