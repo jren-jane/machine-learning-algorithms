{
 "cells": [
  {
   "cell_type": "markdown",
   "id": "11feb353",
   "metadata": {},
   "source": [
    "# Polynomial regression"
   ]
  },
  {
   "cell_type": "markdown",
   "id": "992b116a",
   "metadata": {},
   "source": [
    "## Train-test split"
   ]
  },
  {
   "cell_type": "code",
   "execution_count": 68,
   "id": "326f0e93",
   "metadata": {},
   "outputs": [],
   "source": [
    "import numpy as np\n",
    "import pandas as pd\n",
    "import matplotlib.pyplot as plt\n",
    "%matplotlib inline\n",
    "\n",
    "data = pd.read_csv('boston.csv')"
   ]
  },
  {
   "cell_type": "code",
   "execution_count": 69,
   "id": "178c7179",
   "metadata": {
    "scrolled": true
   },
   "outputs": [
    {
     "data": {
      "text/html": [
       "<div>\n",
       "<style scoped>\n",
       "    .dataframe tbody tr th:only-of-type {\n",
       "        vertical-align: middle;\n",
       "    }\n",
       "\n",
       "    .dataframe tbody tr th {\n",
       "        vertical-align: top;\n",
       "    }\n",
       "\n",
       "    .dataframe thead th {\n",
       "        text-align: right;\n",
       "    }\n",
       "</style>\n",
       "<table border=\"1\" class=\"dataframe\">\n",
       "  <thead>\n",
       "    <tr style=\"text-align: right;\">\n",
       "      <th></th>\n",
       "      <th>crim</th>\n",
       "      <th>zn</th>\n",
       "      <th>indus</th>\n",
       "      <th>chas</th>\n",
       "      <th>nox</th>\n",
       "      <th>rm</th>\n",
       "      <th>age</th>\n",
       "      <th>dis</th>\n",
       "      <th>rad</th>\n",
       "      <th>tax</th>\n",
       "      <th>ptratio</th>\n",
       "      <th>b</th>\n",
       "      <th>lstat</th>\n",
       "      <th>medv</th>\n",
       "    </tr>\n",
       "  </thead>\n",
       "  <tbody>\n",
       "    <tr>\n",
       "      <th>0</th>\n",
       "      <td>0.00632</td>\n",
       "      <td>18.0</td>\n",
       "      <td>2.31</td>\n",
       "      <td>0</td>\n",
       "      <td>0.538</td>\n",
       "      <td>6.575</td>\n",
       "      <td>65.2</td>\n",
       "      <td>4.0900</td>\n",
       "      <td>1</td>\n",
       "      <td>296</td>\n",
       "      <td>15.3</td>\n",
       "      <td>396.90</td>\n",
       "      <td>4.98</td>\n",
       "      <td>24.0</td>\n",
       "    </tr>\n",
       "    <tr>\n",
       "      <th>1</th>\n",
       "      <td>0.02731</td>\n",
       "      <td>0.0</td>\n",
       "      <td>7.07</td>\n",
       "      <td>0</td>\n",
       "      <td>0.469</td>\n",
       "      <td>6.421</td>\n",
       "      <td>78.9</td>\n",
       "      <td>4.9671</td>\n",
       "      <td>2</td>\n",
       "      <td>242</td>\n",
       "      <td>17.8</td>\n",
       "      <td>396.90</td>\n",
       "      <td>9.14</td>\n",
       "      <td>21.6</td>\n",
       "    </tr>\n",
       "    <tr>\n",
       "      <th>2</th>\n",
       "      <td>0.02729</td>\n",
       "      <td>0.0</td>\n",
       "      <td>7.07</td>\n",
       "      <td>0</td>\n",
       "      <td>0.469</td>\n",
       "      <td>7.185</td>\n",
       "      <td>61.1</td>\n",
       "      <td>4.9671</td>\n",
       "      <td>2</td>\n",
       "      <td>242</td>\n",
       "      <td>17.8</td>\n",
       "      <td>392.83</td>\n",
       "      <td>4.03</td>\n",
       "      <td>34.7</td>\n",
       "    </tr>\n",
       "    <tr>\n",
       "      <th>3</th>\n",
       "      <td>0.03237</td>\n",
       "      <td>0.0</td>\n",
       "      <td>2.18</td>\n",
       "      <td>0</td>\n",
       "      <td>0.458</td>\n",
       "      <td>6.998</td>\n",
       "      <td>45.8</td>\n",
       "      <td>6.0622</td>\n",
       "      <td>3</td>\n",
       "      <td>222</td>\n",
       "      <td>18.7</td>\n",
       "      <td>394.63</td>\n",
       "      <td>2.94</td>\n",
       "      <td>33.4</td>\n",
       "    </tr>\n",
       "    <tr>\n",
       "      <th>4</th>\n",
       "      <td>0.06905</td>\n",
       "      <td>0.0</td>\n",
       "      <td>2.18</td>\n",
       "      <td>0</td>\n",
       "      <td>0.458</td>\n",
       "      <td>7.147</td>\n",
       "      <td>54.2</td>\n",
       "      <td>6.0622</td>\n",
       "      <td>3</td>\n",
       "      <td>222</td>\n",
       "      <td>18.7</td>\n",
       "      <td>396.90</td>\n",
       "      <td>5.33</td>\n",
       "      <td>36.2</td>\n",
       "    </tr>\n",
       "  </tbody>\n",
       "</table>\n",
       "</div>"
      ],
      "text/plain": [
       "      crim    zn  indus  chas    nox     rm   age     dis  rad  tax  ptratio  \\\n",
       "0  0.00632  18.0   2.31     0  0.538  6.575  65.2  4.0900    1  296     15.3   \n",
       "1  0.02731   0.0   7.07     0  0.469  6.421  78.9  4.9671    2  242     17.8   \n",
       "2  0.02729   0.0   7.07     0  0.469  7.185  61.1  4.9671    2  242     17.8   \n",
       "3  0.03237   0.0   2.18     0  0.458  6.998  45.8  6.0622    3  222     18.7   \n",
       "4  0.06905   0.0   2.18     0  0.458  7.147  54.2  6.0622    3  222     18.7   \n",
       "\n",
       "        b  lstat  medv  \n",
       "0  396.90   4.98  24.0  \n",
       "1  396.90   9.14  21.6  \n",
       "2  392.83   4.03  34.7  \n",
       "3  394.63   2.94  33.4  \n",
       "4  396.90   5.33  36.2  "
      ]
     },
     "execution_count": 69,
     "metadata": {},
     "output_type": "execute_result"
    }
   ],
   "source": [
    "data.head()"
   ]
  },
  {
   "cell_type": "code",
   "execution_count": 70,
   "id": "996d320d",
   "metadata": {},
   "outputs": [],
   "source": [
    "def train_test_split(data, test_ratio):\n",
    "    shuffled_indices = np.random.permutation(len(data))\n",
    "    test_size = int(len(data) * test_ratio)\n",
    "    test_indices = shuffled_indices[:test_size]\n",
    "    train_indices = shuffled_indices[test_size:]\n",
    "    return data.iloc[train_indices], data.iloc[test_indices]"
   ]
  },
  {
   "cell_type": "code",
   "execution_count": 71,
   "id": "a7f4023a",
   "metadata": {
    "scrolled": true
   },
   "outputs": [],
   "source": [
    "train_sample, test_sample = train_test_split(data, 0.2)"
   ]
  },
  {
   "cell_type": "code",
   "execution_count": 72,
   "id": "64226a13",
   "metadata": {},
   "outputs": [],
   "source": [
    "feature_size = data.shape[1]\n",
    "train_size = train_sample.shape[0]\n",
    "Y_train = train_sample['medv']\n",
    "X_train = train_sample.drop(['medv'], axis = 1)"
   ]
  },
  {
   "cell_type": "markdown",
   "id": "514b8975",
   "metadata": {},
   "source": [
    "## Predictor filtering"
   ]
  },
  {
   "cell_type": "code",
   "execution_count": 73,
   "id": "7d58f06f",
   "metadata": {
    "scrolled": true
   },
   "outputs": [
    {
     "data": {
      "text/plain": [
       "35711.11"
      ]
     },
     "execution_count": 73,
     "metadata": {},
     "output_type": "execute_result"
    }
   ],
   "source": [
    "np.dot(X_train['dis'], Y_train)"
   ]
  },
  {
   "cell_type": "code",
   "execution_count": 74,
   "id": "7e542431",
   "metadata": {},
   "outputs": [],
   "source": [
    "arr = np.array(X_train['dis'].T)"
   ]
  },
  {
   "cell_type": "code",
   "execution_count": 75,
   "id": "0e408897",
   "metadata": {},
   "outputs": [
    {
     "name": "stdout",
     "output_type": "stream",
     "text": [
      "(405,)\n"
     ]
    }
   ],
   "source": [
    "print(arr.shape)"
   ]
  },
  {
   "cell_type": "code",
   "execution_count": 76,
   "id": "817bec30",
   "metadata": {},
   "outputs": [],
   "source": [
    "# I avoid using the internal corr function, of course...\n",
    "def corr_pearson(X, Y):\n",
    "    corr_pearson = []\n",
    "    for j in range(X.shape[1]):\n",
    "        X_temp = X.iloc[:, j] - np.mean(X.iloc[:, j])\n",
    "        Y_temp = Y - np.mean(Y)\n",
    "        R_temp = np.dot(X_temp, Y_temp) / np.sqrt(np.dot(X_temp, X_temp) * np.dot(Y_temp, Y_temp))\n",
    "        corr_pearson.append(R_temp)\n",
    "    return corr_pearson\n",
    "    "
   ]
  },
  {
   "cell_type": "code",
   "execution_count": 77,
   "id": "3b7f15a7",
   "metadata": {},
   "outputs": [
    {
     "data": {
      "text/plain": [
       "[-0.3866061880418384,\n",
       " 0.3319732484832603,\n",
       " -0.4772954269660901,\n",
       " 0.20907035820298103,\n",
       " -0.4122052105658948,\n",
       " 0.6990405928112161,\n",
       " -0.33850420029113315,\n",
       " 0.23311969302682053,\n",
       " -0.3678958750032135,\n",
       " -0.4652127679280996,\n",
       " -0.4955418073104065,\n",
       " 0.3210484120246252,\n",
       " -0.7380583118051509]"
      ]
     },
     "execution_count": 77,
     "metadata": {},
     "output_type": "execute_result"
    }
   ],
   "source": [
    "corr_pearson(X_train, Y_train)"
   ]
  },
  {
   "cell_type": "code",
   "execution_count": 78,
   "id": "13925c3f",
   "metadata": {},
   "outputs": [],
   "source": [
    "absolute_values = [abs(number) for number in corr_pearson(X_train, Y_train)]"
   ]
  },
  {
   "cell_type": "code",
   "execution_count": 79,
   "id": "c0d692d5",
   "metadata": {},
   "outputs": [],
   "source": [
    "best_2_indices = np.argsort(absolute_values, axis=0)[-2:]"
   ]
  },
  {
   "cell_type": "code",
   "execution_count": 80,
   "id": "2e6b8e22",
   "metadata": {},
   "outputs": [],
   "source": [
    "best_2_names = data.columns[best_2_indices]"
   ]
  },
  {
   "cell_type": "code",
   "execution_count": 81,
   "id": "537753c4",
   "metadata": {
    "scrolled": false
   },
   "outputs": [],
   "source": [
    "import itertools as it"
   ]
  },
  {
   "cell_type": "code",
   "execution_count": 82,
   "id": "6f56ca27",
   "metadata": {},
   "outputs": [],
   "source": [
    "def corr_pearson_matrix(X):\n",
    "    corr_pearson_matrix = np.ones((X.shape[1], X.shape[1]))\n",
    "    for j, k in it.permutations(range(X.shape[1]), 2):\n",
    "        X_j_temp = X.iloc[:, j] - np.mean(X.iloc[:, j])\n",
    "        X_k_temp = X.iloc[:, k] - np.mean(X.iloc[:, k])\n",
    "        R_temp = np.dot(X_j_temp, X_k_temp) / np.sqrt(np.dot(X_j_temp, X_j_temp) * np.dot(X_k_temp, X_k_temp))\n",
    "        corr_pearson_matrix[j, k] = R_temp\n",
    "    return corr_pearson_matrix"
   ]
  },
  {
   "cell_type": "code",
   "execution_count": 83,
   "id": "c7fde1fe",
   "metadata": {
    "scrolled": false
   },
   "outputs": [],
   "source": [
    "corr_train_matrix = corr_pearson_matrix(train_sample)"
   ]
  },
  {
   "cell_type": "code",
   "execution_count": 84,
   "id": "64c0e414",
   "metadata": {},
   "outputs": [
    {
     "data": {
      "image/png": "[encoded data removed]",
      "text/plain": [
       "<Figure size 432x288 with 2 Axes>"
      ]
     },
     "metadata": {
      "needs_background": "light"
     },
     "output_type": "display_data"
    }
   ],
   "source": [
    "import seaborn as sns\n",
    "\n",
    "corr_heatmap = sns.heatmap(corr_train_matrix)"
   ]
  },
  {
   "cell_type": "code",
   "execution_count": 85,
   "id": "ba255604",
   "metadata": {},
   "outputs": [],
   "source": [
    "# Looking at the last column of the heatmap, we choose two that are either the darkest or the brightest--5 and 12. "
   ]
  },
  {
   "cell_type": "code",
   "execution_count": 86,
   "id": "a2f1cffd",
   "metadata": {},
   "outputs": [],
   "source": [
    "# If we observe the rest, I would say that (8, 9) is suspected to be linearly dependent. \n",
    "# Let me print out their values."
   ]
  },
  {
   "cell_type": "code",
   "execution_count": 87,
   "id": "4cef0d9c",
   "metadata": {},
   "outputs": [
    {
     "data": {
      "text/plain": [
       "0.914112402277257"
      ]
     },
     "execution_count": 87,
     "metadata": {},
     "output_type": "execute_result"
    }
   ],
   "source": [
    "corr_train_matrix[8, 9]"
   ]
  },
  {
   "cell_type": "markdown",
   "id": "04287e04",
   "metadata": {},
   "source": [
    "##  Multiple regression model based on X1 and X2"
   ]
  },
  {
   "cell_type": "code",
   "execution_count": 88,
   "id": "acfb9206",
   "metadata": {},
   "outputs": [],
   "source": [
    "regressors_ind = best_2_names\n",
    "explained_var_ind = \"medv\""
   ]
  },
  {
   "cell_type": "code",
   "execution_count": 89,
   "id": "39afa356",
   "metadata": {},
   "outputs": [],
   "source": [
    "def feature_normalize(df, mu=None, sigma=None):\n",
    "    # copy the dataframe\n",
    "    if df.size == 0:\n",
    "        return df, None, None\n",
    "    df_normalized = df.copy()\n",
    "    if mu is None and sigma is None:\n",
    "        mu = df_normalized.mean(axis=0)\n",
    "        sigma = df_normalized.std(axis=0, ddof=1)\n",
    "    df_normalized = (df_normalized - mu) / sigma\n",
    "    return df_normalized, mu, sigma"
   ]
  },
  {
   "cell_type": "code",
   "execution_count": 90,
   "id": "c13e2233",
   "metadata": {},
   "outputs": [
    {
     "data": {
      "text/html": [
       "<div>\n",
       "<style scoped>\n",
       "    .dataframe tbody tr th:only-of-type {\n",
       "        vertical-align: middle;\n",
       "    }\n",
       "\n",
       "    .dataframe tbody tr th {\n",
       "        vertical-align: top;\n",
       "    }\n",
       "\n",
       "    .dataframe thead th {\n",
       "        text-align: right;\n",
       "    }\n",
       "</style>\n",
       "<table border=\"1\" class=\"dataframe\">\n",
       "  <thead>\n",
       "    <tr style=\"text-align: right;\">\n",
       "      <th></th>\n",
       "      <th>Ones</th>\n",
       "      <th>rm</th>\n",
       "      <th>lstat</th>\n",
       "    </tr>\n",
       "  </thead>\n",
       "  <tbody>\n",
       "    <tr>\n",
       "      <th>491</th>\n",
       "      <td>1.0</td>\n",
       "      <td>-0.409472</td>\n",
       "      <td>0.738269</td>\n",
       "    </tr>\n",
       "    <tr>\n",
       "      <th>213</th>\n",
       "      <td>1.0</td>\n",
       "      <td>0.122803</td>\n",
       "      <td>-0.464203</td>\n",
       "    </tr>\n",
       "    <tr>\n",
       "      <th>114</th>\n",
       "      <td>1.0</td>\n",
       "      <td>-0.041496</td>\n",
       "      <td>-0.316142</td>\n",
       "    </tr>\n",
       "    <tr>\n",
       "      <th>68</th>\n",
       "      <td>1.0</td>\n",
       "      <td>-0.937673</td>\n",
       "      <td>0.049166</td>\n",
       "    </tr>\n",
       "    <tr>\n",
       "      <th>60</th>\n",
       "      <td>1.0</td>\n",
       "      <td>-0.738070</td>\n",
       "      <td>0.057468</td>\n",
       "    </tr>\n",
       "    <tr>\n",
       "      <th>...</th>\n",
       "      <td>...</td>\n",
       "      <td>...</td>\n",
       "      <td>...</td>\n",
       "    </tr>\n",
       "    <tr>\n",
       "      <th>222</th>\n",
       "      <td>1.0</td>\n",
       "      <td>0.807156</td>\n",
       "      <td>-0.388097</td>\n",
       "    </tr>\n",
       "    <tr>\n",
       "      <th>313</th>\n",
       "      <td>1.0</td>\n",
       "      <td>-0.025202</td>\n",
       "      <td>-0.668997</td>\n",
       "    </tr>\n",
       "    <tr>\n",
       "      <th>230</th>\n",
       "      <td>1.0</td>\n",
       "      <td>-0.412188</td>\n",
       "      <td>-0.150093</td>\n",
       "    </tr>\n",
       "    <tr>\n",
       "      <th>23</th>\n",
       "      <td>1.0</td>\n",
       "      <td>-0.640305</td>\n",
       "      <td>0.988727</td>\n",
       "    </tr>\n",
       "    <tr>\n",
       "      <th>24</th>\n",
       "      <td>1.0</td>\n",
       "      <td>-0.489585</td>\n",
       "      <td>0.493347</td>\n",
       "    </tr>\n",
       "  </tbody>\n",
       "</table>\n",
       "<p>405 rows × 3 columns</p>\n",
       "</div>"
      ],
      "text/plain": [
       "     Ones        rm     lstat\n",
       "491   1.0 -0.409472  0.738269\n",
       "213   1.0  0.122803 -0.464203\n",
       "114   1.0 -0.041496 -0.316142\n",
       "68    1.0 -0.937673  0.049166\n",
       "60    1.0 -0.738070  0.057468\n",
       "..    ...       ...       ...\n",
       "222   1.0  0.807156 -0.388097\n",
       "313   1.0 -0.025202 -0.668997\n",
       "230   1.0 -0.412188 -0.150093\n",
       "23    1.0 -0.640305  0.988727\n",
       "24    1.0 -0.489585  0.493347\n",
       "\n",
       "[405 rows x 3 columns]"
      ]
     },
     "execution_count": 90,
     "metadata": {},
     "output_type": "execute_result"
    }
   ],
   "source": [
    "X = train_sample[regressors_ind]\n",
    "\n",
    "X_norm = feature_normalize(X)[0]\n",
    "mu = feature_normalize(X)[1]\n",
    "sigma = feature_normalize(X)[2]\n",
    "\n",
    "X_train = X_norm.copy()\n",
    "\n",
    "n, d = X_train.shape\n",
    "X_train.insert(0, \"Ones\", np.ones((n, 1)))\n",
    "X_train"
   ]
  },
  {
   "cell_type": "code",
   "execution_count": 91,
   "id": "178af7f2",
   "metadata": {},
   "outputs": [
    {
     "data": {
      "text/html": [
       "<div>\n",
       "<style scoped>\n",
       "    .dataframe tbody tr th:only-of-type {\n",
       "        vertical-align: middle;\n",
       "    }\n",
       "\n",
       "    .dataframe tbody tr th {\n",
       "        vertical-align: top;\n",
       "    }\n",
       "\n",
       "    .dataframe thead th {\n",
       "        text-align: right;\n",
       "    }\n",
       "</style>\n",
       "<table border=\"1\" class=\"dataframe\">\n",
       "  <thead>\n",
       "    <tr style=\"text-align: right;\">\n",
       "      <th></th>\n",
       "      <th>medv</th>\n",
       "    </tr>\n",
       "  </thead>\n",
       "  <tbody>\n",
       "    <tr>\n",
       "      <th>491</th>\n",
       "      <td>13.6</td>\n",
       "    </tr>\n",
       "    <tr>\n",
       "      <th>213</th>\n",
       "      <td>28.1</td>\n",
       "    </tr>\n",
       "    <tr>\n",
       "      <th>114</th>\n",
       "      <td>18.5</td>\n",
       "    </tr>\n",
       "    <tr>\n",
       "      <th>68</th>\n",
       "      <td>17.4</td>\n",
       "    </tr>\n",
       "    <tr>\n",
       "      <th>60</th>\n",
       "      <td>18.7</td>\n",
       "    </tr>\n",
       "    <tr>\n",
       "      <th>...</th>\n",
       "      <td>...</td>\n",
       "    </tr>\n",
       "    <tr>\n",
       "      <th>222</th>\n",
       "      <td>27.5</td>\n",
       "    </tr>\n",
       "    <tr>\n",
       "      <th>313</th>\n",
       "      <td>21.6</td>\n",
       "    </tr>\n",
       "    <tr>\n",
       "      <th>230</th>\n",
       "      <td>24.3</td>\n",
       "    </tr>\n",
       "    <tr>\n",
       "      <th>23</th>\n",
       "      <td>14.5</td>\n",
       "    </tr>\n",
       "    <tr>\n",
       "      <th>24</th>\n",
       "      <td>15.6</td>\n",
       "    </tr>\n",
       "  </tbody>\n",
       "</table>\n",
       "<p>405 rows × 1 columns</p>\n",
       "</div>"
      ],
      "text/plain": [
       "     medv\n",
       "491  13.6\n",
       "213  28.1\n",
       "114  18.5\n",
       "68   17.4\n",
       "60   18.7\n",
       "..    ...\n",
       "222  27.5\n",
       "313  21.6\n",
       "230  24.3\n",
       "23   14.5\n",
       "24   15.6\n",
       "\n",
       "[405 rows x 1 columns]"
      ]
     },
     "execution_count": 91,
     "metadata": {},
     "output_type": "execute_result"
    }
   ],
   "source": [
    "Y_train = pd.DataFrame(train_sample[explained_var_ind])\n",
    "Y_train"
   ]
  },
  {
   "cell_type": "code",
   "execution_count": 92,
   "id": "eaf3e100",
   "metadata": {},
   "outputs": [
    {
     "data": {
      "text/plain": [
       "array([405.        , 661.57950093, 146.42049907])"
      ]
     },
     "metadata": {},
     "output_type": "display_data"
    },
    {
     "data": {
      "text/plain": [
       "4.518352997908681"
      ]
     },
     "metadata": {},
     "output_type": "display_data"
    }
   ],
   "source": [
    "covXX = X_train.T.dot(X_train)\n",
    "eigs_covXX = np.linalg.eig(covXX)[0]\n",
    "cond_num_covXX = max(abs(eigs_covXX)) / min(abs(eigs_covXX))\n",
    "display(eigs_covXX)\n",
    "display(cond_num_covXX)"
   ]
  },
  {
   "cell_type": "code",
   "execution_count": 93,
   "id": "01f4ce01",
   "metadata": {},
   "outputs": [
    {
     "data": {
      "text/plain": [
       "array([[22.62617284],\n",
       "       [ 3.65697896],\n",
       "       [-4.67967655]])"
      ]
     },
     "execution_count": 93,
     "metadata": {},
     "output_type": "execute_result"
    }
   ],
   "source": [
    "beta_OLS_explicit_rm_lstat = np.linalg.inv(covXX).dot(X_train.T).dot(Y_train)\n",
    "beta_OLS_explicit_rm_lstat"
   ]
  },
  {
   "cell_type": "code",
   "execution_count": 94,
   "id": "ee464c9b",
   "metadata": {},
   "outputs": [
    {
     "data": {
      "text/plain": [
       "(array([22.62617284]), array([[ 3.65697896, -4.67967655]]))"
      ]
     },
     "metadata": {},
     "output_type": "display_data"
    },
    {
     "data": {
      "text/plain": [
       "medv    22.626173\n",
       "dtype: float64"
      ]
     },
     "metadata": {},
     "output_type": "display_data"
    }
   ],
   "source": [
    "from sklearn import linear_model\n",
    "\n",
    "regr = linear_model.LinearRegression()\n",
    "regr.fit(X_norm, Y_train)\n",
    "beta_OLS_water_ca = regr.intercept_, regr.coef_\n",
    "display(beta_OLS_water_ca)\n",
    "display(Y_train.mean())"
   ]
  },
  {
   "cell_type": "code",
   "execution_count": 95,
   "id": "a435b8da",
   "metadata": {},
   "outputs": [
    {
     "data": {
      "text/html": [
       "<div>\n",
       "<style scoped>\n",
       "    .dataframe tbody tr th:only-of-type {\n",
       "        vertical-align: middle;\n",
       "    }\n",
       "\n",
       "    .dataframe tbody tr th {\n",
       "        vertical-align: top;\n",
       "    }\n",
       "\n",
       "    .dataframe thead th {\n",
       "        text-align: right;\n",
       "    }\n",
       "</style>\n",
       "<table border=\"1\" class=\"dataframe\">\n",
       "  <thead>\n",
       "    <tr style=\"text-align: right;\">\n",
       "      <th></th>\n",
       "      <th>0</th>\n",
       "    </tr>\n",
       "  </thead>\n",
       "  <tbody>\n",
       "    <tr>\n",
       "      <th>491</th>\n",
       "      <td>17.673881</td>\n",
       "    </tr>\n",
       "    <tr>\n",
       "      <th>213</th>\n",
       "      <td>25.247579</td>\n",
       "    </tr>\n",
       "    <tr>\n",
       "      <th>114</th>\n",
       "      <td>23.953866</td>\n",
       "    </tr>\n",
       "    <tr>\n",
       "      <th>68</th>\n",
       "      <td>18.967043</td>\n",
       "    </tr>\n",
       "    <tr>\n",
       "      <th>60</th>\n",
       "      <td>19.658134</td>\n",
       "    </tr>\n",
       "    <tr>\n",
       "      <th>...</th>\n",
       "      <td>...</td>\n",
       "    </tr>\n",
       "    <tr>\n",
       "      <th>222</th>\n",
       "      <td>27.394094</td>\n",
       "    </tr>\n",
       "    <tr>\n",
       "      <th>313</th>\n",
       "      <td>25.664697</td>\n",
       "    </tr>\n",
       "    <tr>\n",
       "      <th>230</th>\n",
       "      <td>21.821199</td>\n",
       "    </tr>\n",
       "    <tr>\n",
       "      <th>23</th>\n",
       "      <td>15.657668</td>\n",
       "    </tr>\n",
       "    <tr>\n",
       "      <th>24</th>\n",
       "      <td>18.527068</td>\n",
       "    </tr>\n",
       "  </tbody>\n",
       "</table>\n",
       "<p>405 rows × 1 columns</p>\n",
       "</div>"
      ],
      "text/plain": [
       "             0\n",
       "491  17.673881\n",
       "213  25.247579\n",
       "114  23.953866\n",
       "68   18.967043\n",
       "60   19.658134\n",
       "..         ...\n",
       "222  27.394094\n",
       "313  25.664697\n",
       "230  21.821199\n",
       "23   15.657668\n",
       "24   18.527068\n",
       "\n",
       "[405 rows x 1 columns]"
      ]
     },
     "execution_count": 95,
     "metadata": {},
     "output_type": "execute_result"
    }
   ],
   "source": [
    "Y_hat_train = X_train.dot(beta_OLS_explicit_rm_lstat)\n",
    "Y_hat_train"
   ]
  },
  {
   "cell_type": "code",
   "execution_count": 96,
   "id": "e1d87101",
   "metadata": {},
   "outputs": [
    {
     "data": {
      "image/png": "[encoded data removed]",
      "text/plain": [
       "<Figure size 432x288 with 1 Axes>"
      ]
     },
     "metadata": {
      "needs_background": "light"
     },
     "output_type": "display_data"
    }
   ],
   "source": [
    "X1 = np.arange(min(X_train[\"rm\"]), max(X_train[\"rm\"]), 0.1)\n",
    "X2 = np.arange(min(X_train[\"lstat\"]), max(X_train[\"lstat\"]), 0.1)\n",
    "X1, X2 = np.meshgrid(X1, X2)\n",
    "Z = beta_OLS_explicit_rm_lstat[0] + X1 * beta_OLS_explicit_rm_lstat[1] + X2 * beta_OLS_explicit_rm_lstat[2]\n",
    "fig = plt.figure()\n",
    "ax = fig.add_subplot(111, projection='3d')\n",
    "ax.scatter(X_norm[\"rm\"], X_norm[\"lstat\"], Y_train, color='red')\n",
    "ax.plot_surface(X1, X2, Z, cmap='inferno')\n",
    "ax.view_init(15, 60)\n",
    "plt.show()"
   ]
  },
  {
   "cell_type": "code",
   "execution_count": 97,
   "id": "c6678b48",
   "metadata": {},
   "outputs": [],
   "source": [
    "def loss_l2(Y_hat, Y):\n",
    "    loss = np.mean(np.power(np.array(Y_hat) - np.array(Y), 2))\n",
    "    return loss"
   ]
  },
  {
   "cell_type": "code",
   "execution_count": 98,
   "id": "54a65bd2",
   "metadata": {},
   "outputs": [
    {
     "data": {
      "text/plain": [
       "33.06573195535589"
      ]
     },
     "execution_count": 98,
     "metadata": {},
     "output_type": "execute_result"
    }
   ],
   "source": [
    "loss_l2_train = loss_l2(Y_hat_train, Y_train)\n",
    "loss_l2_train"
   ]
  },
  {
   "cell_type": "code",
   "execution_count": 99,
   "id": "3848915b",
   "metadata": {},
   "outputs": [
    {
     "data": {
      "text/plain": [
       "20.40920807754238"
      ]
     },
     "execution_count": 99,
     "metadata": {},
     "output_type": "execute_result"
    }
   ],
   "source": [
    "X_test = test_sample[regressors_ind]\n",
    "\n",
    "X_test_norm = feature_normalize(X_test, mu, sigma)[0]\n",
    "\n",
    "X_test = X_test_norm.copy()\n",
    "n, d = X_test.shape\n",
    "X_test.insert(0, \"Ones\", np.ones((n, 1)))\n",
    "X_test\n",
    "\n",
    "Y_hat_test = X_test.dot(beta_OLS_explicit_rm_lstat)\n",
    "Y_test= pd.DataFrame(test_sample[explained_var_ind])\n",
    "\n",
    "loss_l2_test = loss_l2(Y_hat_test, Y_test)\n",
    "loss_l2_test"
   ]
  },
  {
   "cell_type": "markdown",
   "id": "ce042c1e",
   "metadata": {},
   "source": [
    "## Polynomial regression models based on X1 and X2 "
   ]
  },
  {
   "cell_type": "code",
   "execution_count": 100,
   "id": "8598dd96",
   "metadata": {},
   "outputs": [],
   "source": [
    "X_train.drop('Ones', axis = 1, inplace=True)"
   ]
  },
  {
   "cell_type": "code",
   "execution_count": 101,
   "id": "de37a166",
   "metadata": {
    "scrolled": true
   },
   "outputs": [],
   "source": [
    "X_train = np.array(X_train)"
   ]
  },
  {
   "cell_type": "code",
   "execution_count": 102,
   "id": "a3909f42",
   "metadata": {},
   "outputs": [],
   "source": [
    "Y_train = np.array(Y_train)"
   ]
  },
  {
   "cell_type": "code",
   "execution_count": 103,
   "id": "3c9c5573",
   "metadata": {},
   "outputs": [],
   "source": [
    "X_test.drop('Ones', axis = 1, inplace=True)\n",
    "X_test = np.array(X_test)\n",
    "Y_test = np.array(Y_test)"
   ]
  },
  {
   "cell_type": "code",
   "execution_count": 104,
   "id": "57e248f1",
   "metadata": {},
   "outputs": [],
   "source": [
    "class PolynomialRegression():\n",
    "    def __init__(self):\n",
    "        self.coefficients = None\n",
    "        self.mu = None\n",
    "        self.sigma = None\n",
    "    \n",
    "    def fit(self, X_train, Y_train, order):\n",
    "        n_train = X_train.shape[0]\n",
    "        V_train = np.ones((n_train, 1))\n",
    "\n",
    "        for i in range(order):\n",
    "            V_train = np.concatenate((V_train, X_train ** (i + 1)), axis = 1)\n",
    "\n",
    "        normalized, self.mu, self.sigma = feature_normalize(V_train[:,1:])\n",
    "        V_train = np.c_[V_train[:,0], normalized]\n",
    "\n",
    "        self.coefficients = np.linalg.pinv(V_train.T.dot(V_train)).dot(V_train.T.dot(Y_train))\n",
    "        \n",
    "        Y_train_hat = V_train.dot(self.coefficients).ravel()\n",
    "        mse_train = (np.square(Y_train_hat - Y_train.ravel())).mean()\n",
    "\n",
    "        return self\n",
    "    \n",
    "    def predict(self, X_test):\n",
    "        n_test = X_test.shape[0]\n",
    "        d_test = X_test.shape[1]\n",
    "        V_test = np.ones((n_test, 1))\n",
    "        order = int((len(self.coefficients) - 1) / d_test)\n",
    "        \n",
    "        for i in range(order):\n",
    "            V_test = np.concatenate((V_test, X_test ** (i + 1)), axis = 1)\n",
    "\n",
    "        normalized, _, _ = feature_normalize(V_test[:,1:], self.mu, self.sigma)\n",
    "        V_test = np.c_[V_test[:,0], normalized]\n",
    "        \n",
    "        Y_test_hat = V_test.dot(self.coefficients)\n",
    "\n",
    "        return Y_test_hat\n",
    "    \n",
    "    def score(self, X, Y):\n",
    "        Y_hat = self.predict(X)\n",
    "        return (np.square(Y_hat.ravel() - Y.ravel())).mean()\n",
    "    \n",
    "\n",
    "k = 6\n",
    "yh = np.zeros((len(X_train), k))\n",
    "score = np.zeros((1, k))\n",
    "for order in range(k):\n",
    "    pr = PolynomialRegression().fit(X_train, Y_train, order)\n",
    "    yh[:, order] = pr.predict(X_train).ravel()\n",
    "    score[:, order] = pr.score(X_train, Y_train).ravel()"
   ]
  },
  {
   "cell_type": "code",
   "execution_count": 105,
   "id": "2b4e71fc",
   "metadata": {},
   "outputs": [
    {
     "name": "stdout",
     "output_type": "stream",
     "text": [
      "[[90.01980881 33.06573196 23.30487814 23.15050349 21.1012055  20.02130886]]\n"
     ]
    }
   ],
   "source": [
    "print(score)"
   ]
  },
  {
   "cell_type": "markdown",
   "id": "e26739fa",
   "metadata": {},
   "source": [
    "## Cross validation"
   ]
  },
  {
   "cell_type": "code",
   "execution_count": 106,
   "id": "43ad2af7",
   "metadata": {},
   "outputs": [
    {
     "data": {
      "image/png": "[encoded data removed]",
      "text/plain": [
       "<Figure size 432x288 with 1 Axes>"
      ]
     },
     "metadata": {
      "needs_background": "light"
     },
     "output_type": "display_data"
    }
   ],
   "source": [
    "import math\n",
    "\n",
    "k = 9\n",
    "n_train = X_train.shape[0]\n",
    "n_test = X_test.shape[0]\n",
    "\n",
    "#k-fold cross-validation\n",
    "num_fold = 8\n",
    "n_fold = math.floor(n_train / num_fold)\n",
    "\n",
    "MSE_train_fold = np.zeros((k, num_fold))\n",
    "CV_MSE_fold = np.zeros((k, num_fold))\n",
    "MSE_train = np.zeros((k, 1))\n",
    "CV_MSE = np.zeros((k, 1))\n",
    "Y_test_hat = np.zeros((n_test, k))\n",
    "MSE_test = np.zeros((k, 1))\n",
    "\n",
    "for order in range(k):\n",
    "    Y_train_hat = np.zeros((n_train - n_fold, num_fold))\n",
    "    Y_train_hat_fold = np.zeros((n_fold, num_fold))\n",
    "    X_train_hat = []\n",
    "    for cur_fold in range(num_fold):\n",
    "        X_fold = X_train[cur_fold * n_fold:(cur_fold + 1) * n_fold]\n",
    "        Y_fold = Y_train[cur_fold * n_fold:(cur_fold + 1) * n_fold]\n",
    "        X_train_fold = X_train[np.r_[0:cur_fold * n_fold, (cur_fold + 1) * n_fold:n_train]]\n",
    "        Y_train_fold = Y_train[np.r_[0:cur_fold * n_fold, (cur_fold + 1) * n_fold:n_train]]\n",
    "        \n",
    "        pr = PolynomialRegression().fit(X_train_fold, Y_train_fold, order)\n",
    "        MSE_train_fold[order, cur_fold] = pr.score(X_train_fold, Y_train_fold)\n",
    "        CV_MSE_fold[order, cur_fold] = pr.score(X_fold, Y_fold)\n",
    "\n",
    "    CV_MSE[order] = CV_MSE_fold[order,:].mean()\n",
    "    MSE_train[order] = MSE_train_fold[order, :].mean()\n",
    "    \n",
    "    pr = PolynomialRegression().fit(X_train, Y_train, order)\n",
    "    MSE_test[order] = pr.score(X_test, Y_test)\n",
    "\n",
    "plt.plot(MSE_train, color=\"magenta\")\n",
    "plt.plot(CV_MSE, color=\"blue\")\n",
    "plt.plot(MSE_test, color='green')\n",
    "plt.legend(('Training error','Cross-validation k-fold error', 'Generalization error (w.r.t. ground truth)'))\n",
    "plt.show()"
   ]
  },
  {
   "cell_type": "code",
   "execution_count": null,
   "id": "8c807f1f",
   "metadata": {},
   "outputs": [],
   "source": []
  }
 ],
 "metadata": {
  "kernelspec": {
   "display_name": "Python 3",
   "language": "python",
   "name": "python3"
  },
  "language_info": {
   "codemirror_mode": {
    "name": "ipython",
    "version": 3
   },
   "file_extension": ".py",
   "mimetype": "text/x-python",
   "name": "python",
   "nbconvert_exporter": "python",
   "pygments_lexer": "ipython3",
   "version": "3.8.5"
  }
 },
 "nbformat": 4,
 "nbformat_minor": 5
}
