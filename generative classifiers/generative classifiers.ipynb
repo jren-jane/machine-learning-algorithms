{
 "cells": [
  {
   "cell_type": "code",
   "execution_count": 111,
   "id": "288fe564",
   "metadata": {},
   "outputs": [],
   "source": [
    "import numpy as np\n",
    "import pandas as pd\n",
    "import matplotlib.pyplot as plt\n",
    "%matplotlib inline"
   ]
  },
  {
   "cell_type": "code",
   "execution_count": 112,
   "id": "55951dd4",
   "metadata": {},
   "outputs": [],
   "source": [
    "data = pd.read_csv('wine.csv', header = None)"
   ]
  },
  {
   "cell_type": "markdown",
   "id": "a6cf031a",
   "metadata": {},
   "source": [
    "# Naive Bayes Gaussian"
   ]
  },
  {
   "cell_type": "code",
   "execution_count": 113,
   "id": "0eba3a7c",
   "metadata": {},
   "outputs": [],
   "source": [
    "# Note: the input to the methods should be pandas dataframes, especially that feature_set has to be 2-d\n",
    "class NaiveBayesGaussian():\n",
    "    def __init__(self):\n",
    "        self.mu_params = None\n",
    "        self.cov_params = None\n",
    "        self.pi_params = None\n",
    "        self.class_labels = None\n",
    "        \n",
    "    def fit(self, feature_set, group_set, class_labels):\n",
    "        complete_set = pd.concat([group_set, feature_set], axis=1)\n",
    "        sorted_complete_set = pd.merge(pd.DataFrame(class_labels), complete_set, sort=False)\n",
    "        self.class_labels = class_labels\n",
    "        self.mu_params = sorted_complete_set.groupby(sorted_complete_set.iloc[:, 0]).mean().iloc[:, 1:]\n",
    "        self.cov_params = sorted_complete_set.groupby(sorted_complete_set.iloc[:, 0]).var().iloc[:, 1:]\n",
    "        self.pi_params = sorted_complete_set.groupby(sorted_complete_set.iloc[:, 0]).count().iloc[:, 0] / sorted_complete_set.iloc[:, 0].count()\n",
    "        \n",
    "        return self\n",
    "    \n",
    "    def predict(self, feature_set, threshold=0.5):\n",
    "        # use numpy for better performance\n",
    "        feature_set = np.array(feature_set)\n",
    "        mu_params = np.array(self.mu_params)\n",
    "        cov_params = np.array(self.cov_params)\n",
    "        pi_params = np.array(self.pi_params)\n",
    "        \n",
    "        k = len(self.class_labels) # number of classes\n",
    "        n = feature_set.shape[0] # sample size\n",
    "        \n",
    "        # Treat 1d and 2d feature set separately\n",
    "        if len(feature_set.shape) == 1:\n",
    "            d = 1\n",
    "        else:\n",
    "            d = feature_set.shape[1] # number of features\n",
    "        \n",
    "        # for binary classification\n",
    "        if len(self.class_labels) == 2:\n",
    "            group_set = np.zeros((n, 1))\n",
    "            for i in range(n):\n",
    "                numerator = np.zeros((1, 2))\n",
    "                likelihood_0 = np.exp(- 0.5 * np.square((feature_set[i] - mu_params[0]) / np.sqrt(cov_params[0]))) / (np.sqrt(2 * np.pi) * np.sqrt(cov_params[0]))\n",
    "                likelihood_1 = np.exp(- 0.5 * np.square((feature_set[i] - mu_params[1]) / np.sqrt(cov_params[1]))) / (np.sqrt(2 * np.pi) * np.sqrt(cov_params[1]))\n",
    "                numerator_0 = pi_params[0] * np.prod(likelihood_0)\n",
    "                numerator_1 = pi_params[1] * np.prod(likelihood_1)\n",
    "                posterior_0 = numerator_0 / (numerator_0 + numerator_1)\n",
    "                if posterior_0 > threshold:\n",
    "                    group_set[i] = self.class_labels[0]\n",
    "                else:\n",
    "                    group_set[i] = self.class_labels[1]\n",
    "        \n",
    "        # for non-binary classification\n",
    "        else:\n",
    "            group_set = np.zeros((n, 1))\n",
    "            for i in range(n):\n",
    "                winning_class = 0\n",
    "                max_prob = 0\n",
    "                for r in range(k):\n",
    "                    likelihood = np.exp(- 0.5 * np.square((feature_set[i] - mu_params[r]) / np.sqrt(cov_params[r]))) / (np.sqrt(2 * np.pi) * np.sqrt(cov_params[r]))\n",
    "                    class_prob = pi_params[r] * np.prod(likelihood)\n",
    "                    if class_prob > max_prob:\n",
    "                        winning_class = r\n",
    "                        max_prob = class_prob\n",
    "                group_set[i] = self.class_labels[winning_class]\n",
    "    \n",
    "        return group_set.ravel().astype(int)"
   ]
  },
  {
   "cell_type": "markdown",
   "id": "a36fbd06",
   "metadata": {},
   "source": [
    "# Linear Discriminant Analysis"
   ]
  },
  {
   "cell_type": "code",
   "execution_count": 114,
   "id": "6a15dae7",
   "metadata": {},
   "outputs": [],
   "source": [
    "# Note: the input to the methods should be pandas dataframes\n",
    "class LinearDiscriminantAnalysis():\n",
    "    def __init__(self):\n",
    "        self.mu_params = None\n",
    "        self.cov_params = None\n",
    "        self.pi_params = None\n",
    "        self.class_labels = None\n",
    "        \n",
    "    def fit(self, feature_set, group_set, class_labels):\n",
    "        complete_set = pd.concat([group_set, feature_set], axis=1)\n",
    "        sorted_complete_set = pd.merge(pd.DataFrame(class_labels), complete_set, sort=False)\n",
    "        self.class_labels = class_labels\n",
    "        self.mu_params = sorted_complete_set.groupby(sorted_complete_set.iloc[:, 0]).mean().iloc[:, 1:]\n",
    "        self.cov_params = sorted_complete_set.iloc[:, 1:].cov()\n",
    "        self.pi_params = sorted_complete_set.groupby(sorted_complete_set.iloc[:, 0]).count().iloc[:, 0] / sorted_complete_set.iloc[:, 0].count()\n",
    "        \n",
    "        return self\n",
    "    \n",
    "    def predict(self, feature_set, threshold=0.5):\n",
    "        # use numpy for better performance\n",
    "        feature_set = np.array(feature_set)\n",
    "        mu_params = np.array(self.mu_params)\n",
    "        cov_params = np.array(self.cov_params)\n",
    "        pi_params = np.array(self.pi_params)\n",
    "        \n",
    "        k = len(self.class_labels) # number of classes\n",
    "        n = feature_set.shape[0] # sample size\n",
    "        \n",
    "        # Treat 1d and 2d feature set separately\n",
    "        if len(feature_set.shape) == 1:\n",
    "            d = 1\n",
    "        else:\n",
    "            d = feature_set.shape[1] # number of features\n",
    "        \n",
    "        # for binary classification\n",
    "        if len(self.class_labels) == 2:\n",
    "            group_set = np.zeros((n, 1))\n",
    "            for i in range(n):\n",
    "                numerator = np.zeros((1, 2))\n",
    "                likelihood_0 = np.exp(- 0.5 * np.linalg.multi_dot([(feature_set[i] - mu_params[0]), np.linalg.inv(cov_params), np.transpose(feature_set[i] - mu_params[0])])) / (np.power(2 * np.pi, d/2) * np.sqrt(np.linalg.det(cov_params)))\n",
    "                likelihood_1 = np.exp(- 0.5 * np.linalg.multi_dot([(feature_set[i] - mu_params[1]), np.linalg.inv(cov_params), np.transpose(feature_set[i] - mu_params[1])])) / (np.power(2 * np.pi, d/2) * np.sqrt(np.linalg.det(cov_params)))\n",
    "                numerator_0 = pi_params[0] * likelihood_0\n",
    "                numerator_1 = pi_params[1] * likelihood_1\n",
    "                posterior_0 = numerator_0 / (numerator_0 + numerator_1)\n",
    "                if posterior_0 > threshold:\n",
    "                    group_set[i] = self.class_labels[0]\n",
    "                else: \n",
    "                    group_set[i] = self.class_labels[1]\n",
    "        \n",
    "        # for non-binary classification\n",
    "        else:\n",
    "            group_set = np.zeros((n, 1))\n",
    "            for i in range(n):\n",
    "                winning_class = 0\n",
    "                max_prob = 0\n",
    "                for r in range(k):\n",
    "                    likelihood = np.exp(- 0.5 * np.linalg.multi_dot([(feature_set[i] - mu_params[r]), np.linalg.inv(cov_params), np.transpose(feature_set[i] - mu_params[r])])) / (np.power(2 * np.pi, d/2) * np.sqrt(np.linalg.det(cov_params)))\n",
    "                    class_prob = pi_params[r] * likelihood\n",
    "                    if class_prob > max_prob:\n",
    "                        winning_class = r\n",
    "                        max_prob = class_prob\n",
    "                group_set[i] = self.class_labels[winning_class]\n",
    "        \n",
    "        return group_set.ravel().astype(int)\n",
    "        "
   ]
  },
  {
   "cell_type": "markdown",
   "id": "9d244f2f",
   "metadata": {},
   "source": [
    "# Quadratic Discriminant Analysis"
   ]
  },
  {
   "cell_type": "code",
   "execution_count": 115,
   "id": "b42829f5",
   "metadata": {},
   "outputs": [],
   "source": [
    "# Note: the input to the methods should be pandas dataframes\n",
    "class QuadraticDiscriminantAnalysis():\n",
    "    def __init__(self):\n",
    "        self.mu_params = None\n",
    "        self.cov_params = None\n",
    "        self.pi_params = None\n",
    "        self.class_labels = None\n",
    "        \n",
    "    def fit(self, feature_set, group_set, class_labels):\n",
    "        complete_set = pd.concat([group_set, feature_set], axis=1)\n",
    "        sorted_complete_set = pd.merge(pd.DataFrame(class_labels), complete_set, sort=False)\n",
    "        self.class_labels = class_labels\n",
    "        self.mu_params = sorted_complete_set.groupby(sorted_complete_set.iloc[:, 0]).mean().iloc[:, 1:]\n",
    "        cov_params = []\n",
    "        for i in class_labels:\n",
    "            cov_class = sorted_complete_set[sorted_complete_set.iloc[:, 0] == i].iloc[:, 1:].cov()\n",
    "            cov_params.append(cov_class)\n",
    "        self.cov_params = cov_params\n",
    "        self.pi_params = sorted_complete_set.groupby(sorted_complete_set.iloc[:, 0]).count().iloc[:, 0] / sorted_complete_set.iloc[:, 0].count()\n",
    "        \n",
    "        return self\n",
    "    \n",
    "    def predict(self, feature_set, threshold=0.5):\n",
    "        # use numpy for better performance\n",
    "        feature_set = np.array(feature_set)\n",
    "        mu_params = np.array(self.mu_params)\n",
    "        cov_params = np.array(self.cov_params)\n",
    "        pi_params = np.array(self.pi_params)\n",
    "        \n",
    "        k = len(self.class_labels) # number of classes\n",
    "        n = feature_set.shape[0] # sample size\n",
    "        \n",
    "        # Treat 1d and 2d feature set separately\n",
    "        if len(feature_set.shape) == 1:\n",
    "            d = 1\n",
    "        else:\n",
    "            d = feature_set.shape[1] # number of features\n",
    "        \n",
    "        # for binary classification\n",
    "        if len(self.class_labels) == 2:\n",
    "            group_set = np.zeros((n, 1))\n",
    "            for i in range(n):\n",
    "                numerator = np.zeros((1, 2))\n",
    "                likelihood_0 = np.exp(- 0.5 * np.linalg.multi_dot([(feature_set[i] - mu_params[0]), np.linalg.inv(cov_params[0]), np.transpose(feature_set[i] - mu_params[0])])) / (np.power(2 * np.pi, d/2) * np.sqrt(np.linalg.det(cov_params[0])))\n",
    "                likelihood_1 = np.exp(- 0.5 * np.linalg.multi_dot([(feature_set[i] - mu_params[1]), np.linalg.inv(cov_params[1]), np.transpose(feature_set[i] - mu_params[1])])) / (np.power(2 * np.pi, d/2) * np.sqrt(np.linalg.det(cov_params[1])))\n",
    "                numerator_0 = pi_params[0] * likelihood_0\n",
    "                numerator_1 = pi_params[1] * likelihood_1\n",
    "                posterior_0 = numerator_0 / (numerator_0 + numerator_1)\n",
    "                if posterior_0 > threshold: # probability threshold for classifying into the first group\n",
    "                    group_set[i] = self.class_labels[0]\n",
    "                else: \n",
    "                    group_set[i] = self.class_labels[1]\n",
    "        \n",
    "        # for non-binary classification\n",
    "        else:\n",
    "            group_set = np.zeros((n, 1))\n",
    "            for i in range(n):\n",
    "                winning_class = 0\n",
    "                max_prob = 0\n",
    "                for r in range(k):\n",
    "                    likelihood = np.exp(- 0.5 * np.linalg.multi_dot([(feature_set[i] - mu_params[r]), np.linalg.inv(cov_params[r]), np.transpose(feature_set[i] - mu_params[r])])) / (np.power(2 * np.pi, d/2) * np.sqrt(np.linalg.det(cov_params[r])))\n",
    "                    class_prob = pi_params[r] * likelihood\n",
    "                    if class_prob > max_prob:\n",
    "                        winning_class = r\n",
    "                        max_prob = class_prob\n",
    "                group_set[i] = self.class_labels[winning_class]\n",
    "                \n",
    "        return group_set.ravel().astype(int)\n",
    "        "
   ]
  },
  {
   "cell_type": "markdown",
   "id": "76a4f3da",
   "metadata": {},
   "source": [
    "# Loss function"
   ]
  },
  {
   "cell_type": "code",
   "execution_count": 116,
   "id": "7a86aee5",
   "metadata": {},
   "outputs": [],
   "source": [
    "def loss(y, y_pred, type_of_loss=None):\n",
    "    y = np.array(y)\n",
    "    y_pred = np.array(y_pred)\n",
    "    if type_of_loss == 'mse':\n",
    "        loss = (y - y_pred) ** 2 / len(y)\n",
    "        return loss\n",
    "    elif type_of_loss == '0-1':\n",
    "        # binary classification\n",
    "        # assume that wine type 1 is for positive, type 2 is for negative\n",
    "        # however, we have to reassign the group numbers if we classify wine type 3\n",
    "        if len(np.unique(y_pred)) <= 2:\n",
    "            loss = np.sum(y != y_pred)\n",
    "            # false positive: true 2 classified as 1\n",
    "            type_i_error = np.sum(y_pred < y)\n",
    "            # false negative: true 1 classified as 2\n",
    "            type_ii_error = np.sum(y < y_pred)\n",
    "            return loss, type_i_error, type_ii_error\n",
    "        else:\n",
    "            loss = np.sum(y != y_pred)\n",
    "            return loss\n",
    "    else: \n",
    "        message = 'type of error not specified'\n",
    "        return message"
   ]
  },
  {
   "cell_type": "markdown",
   "id": "31d1f77c",
   "metadata": {},
   "source": [
    "# Visualize the chosen feature"
   ]
  },
  {
   "cell_type": "code",
   "execution_count": 117,
   "id": "c34d6ecf",
   "metadata": {},
   "outputs": [],
   "source": [
    "# Select two types of wine\n",
    "data_1 = data[data.iloc[:, 0].isin([1, 2])]\n",
    "class_labels = np.array([1, 2])\n",
    "# Choose one predictor\n",
    "feature_set = data_1.iloc[:, 1]\n",
    "group_set = data_1.iloc[:, 0]"
   ]
  },
  {
   "cell_type": "code",
   "execution_count": 118,
   "id": "dd34593e",
   "metadata": {
    "scrolled": true
   },
   "outputs": [
    {
     "data": {
      "text/plain": [
       "<AxesSubplot:>"
      ]
     },
     "execution_count": 118,
     "metadata": {},
     "output_type": "execute_result"
    },
    {
     "data": {
      "image/png": "[encoded data removed]",
      "text/plain": [
       "<Figure size 432x288 with 1 Axes>"
      ]
     },
     "metadata": {
      "needs_background": "light"
     },
     "output_type": "display_data"
    }
   ],
   "source": [
    "feature_set.plot()"
   ]
  },
  {
   "cell_type": "markdown",
   "id": "3b024078",
   "metadata": {},
   "source": [
    "The plot shows that class 2 is relatively low in the amount of feature 1."
   ]
  },
  {
   "cell_type": "markdown",
   "id": "ee7584fe",
   "metadata": {},
   "source": [
    "# Binary classification with one feature"
   ]
  },
  {
   "cell_type": "markdown",
   "id": "a3c0263f",
   "metadata": {},
   "source": [
    "## LDA: Training error"
   ]
  },
  {
   "cell_type": "code",
   "execution_count": 119,
   "id": "fa0740da",
   "metadata": {},
   "outputs": [
    {
     "name": "stdout",
     "output_type": "stream",
     "text": [
      "total_error      11\n",
      "type_i_error      4\n",
      "type_ii_error     7\n",
      "dtype: int64\n"
     ]
    }
   ],
   "source": [
    "lda = LinearDiscriminantAnalysis().fit(feature_set, group_set, class_labels)\n",
    "group_set_pred = lda.predict(feature_set)\n",
    "result = pd.Series(loss(group_set, group_set_pred, '0-1'), index = ['total_error', 'type_i_error', 'type_ii_error'])\n",
    "print(result)"
   ]
  },
  {
   "cell_type": "markdown",
   "id": "8d9a5826",
   "metadata": {},
   "source": [
    "## LDA: Classfication result plot"
   ]
  },
  {
   "cell_type": "code",
   "execution_count": 120,
   "id": "3f6dc9a2",
   "metadata": {},
   "outputs": [],
   "source": [
    "mu_0 = lda.mu_params.iloc[0, 0]\n",
    "mu_1 = lda.mu_params.iloc[1, 0]\n",
    "cov = lda.cov_params.iloc[0, 0]\n",
    "pi_0 = lda.pi_params[1]\n",
    "pi_1 = lda.pi_params[2]\n",
    "\n",
    "decision_boundary = 0.5 * (mu_0 + mu_1) - (np.log(pi_0) - np.log(pi_1)) / ((mu_0 - mu_1) / cov)"
   ]
  },
  {
   "cell_type": "code",
   "execution_count": 121,
   "id": "8e81a74f",
   "metadata": {
    "scrolled": true
   },
   "outputs": [
    {
     "data": {
      "text/plain": [
       "<function matplotlib.pyplot.show(close=None, block=None)>"
      ]
     },
     "execution_count": 121,
     "metadata": {},
     "output_type": "execute_result"
    },
    {
     "data": {
      "image/png": "[encoded data removed]",
      "text/plain": [
       "<Figure size 432x288 with 1 Axes>"
      ]
     },
     "metadata": {
      "needs_background": "light"
     },
     "output_type": "display_data"
    }
   ],
   "source": [
    "fig = plt.figure()\n",
    "\n",
    "lda_plot_1 = feature_set\n",
    "lda_plot_2 = group_set_pred\n",
    "lda_plot = np.column_stack((lda_plot_1, lda_plot_2))\n",
    "lda_plot_x1 = lda_plot[lda_plot[:, 1] == 1]\n",
    "lda_plot_x2 = lda_plot[lda_plot[:, 1] == 2]\n",
    "\n",
    "zeros1 = np.zeros((len(lda_plot_x1[:, 0]), 1))\n",
    "zeros2 = np.zeros((len(lda_plot_x2[:, 0]), 1))\n",
    "plt.hist(lda_plot_x1[:, 0], color='red')\n",
    "plt.hist(lda_plot_x2[:, 0], color='blue')\n",
    "plt.vlines(decision_boundary, 0, 20, color='green')\n",
    "\n",
    "plt.title('lda classification')\n",
    "plt.show"
   ]
  },
  {
   "cell_type": "markdown",
   "id": "00de09bd",
   "metadata": {},
   "source": [
    "## LDA: LOOCV error"
   ]
  },
  {
   "cell_type": "code",
   "execution_count": 122,
   "id": "d927e7d2",
   "metadata": {},
   "outputs": [],
   "source": [
    "import math"
   ]
  },
  {
   "cell_type": "code",
   "execution_count": 123,
   "id": "415d499f",
   "metadata": {},
   "outputs": [
    {
     "name": "stdout",
     "output_type": "stream",
     "text": [
      "total_error      12\n",
      "type_i_error      5\n",
      "type_ii_error     7\n",
      "dtype: int64\n"
     ]
    }
   ],
   "source": [
    "n_train = data_1.shape[0]\n",
    "num_fold = n_train\n",
    "n_fold = math.floor(n_train / num_fold)\n",
    "\n",
    "total_error = 0\n",
    "type_i_error = 0\n",
    "type_ii_error = 0\n",
    "for cur_fold in range(num_fold):\n",
    "    feature_set_fold = feature_set.iloc[cur_fold * n_fold : (cur_fold + 1) * n_fold]\n",
    "    group_set_fold = group_set.iloc[cur_fold * n_fold : (cur_fold + 1) * n_fold]\n",
    "    feature_set_train_fold = feature_set.iloc[np.r_[0 : cur_fold * n_fold, (cur_fold + 1) * n_fold : n_train]]\n",
    "    group_set_train_fold = group_set.iloc[np.r_[0 : cur_fold * n_fold, (cur_fold + 1) * n_fold : n_train]]\n",
    "        \n",
    "    pr = LinearDiscriminantAnalysis().fit(feature_set_train_fold, group_set_train_fold, class_labels)\n",
    "    group_set_pred = pr.predict(feature_set_fold)\n",
    "    total_error += loss(group_set_fold, group_set_pred, '0-1')[0]\n",
    "    type_i_error += loss(group_set_fold, group_set_pred, '0-1')[1]\n",
    "    type_ii_error += loss(group_set_fold, group_set_pred, '0-1')[2]\n",
    "\n",
    "result = pd.Series([total_error, type_i_error, type_ii_error], index = ['total_error', 'type_i_error', 'type_ii_error'])\n",
    "print(result)"
   ]
  },
  {
   "cell_type": "markdown",
   "id": "ca67cfc5",
   "metadata": {},
   "source": [
    "## QDA: Training error"
   ]
  },
  {
   "cell_type": "code",
   "execution_count": 124,
   "id": "6742917f",
   "metadata": {},
   "outputs": [
    {
     "name": "stdout",
     "output_type": "stream",
     "text": [
      "total_error      12\n",
      "type_i_error      5\n",
      "type_ii_error     7\n",
      "dtype: int64\n"
     ]
    }
   ],
   "source": [
    "qda = QuadraticDiscriminantAnalysis().fit(feature_set, group_set, class_labels)\n",
    "group_set_pred = qda.predict(feature_set)\n",
    "result = pd.Series(loss(group_set, group_set_pred, '0-1'), index = ['total_error', 'type_i_error', 'type_ii_error'])\n",
    "print(result)"
   ]
  },
  {
   "cell_type": "markdown",
   "id": "f35d72a8",
   "metadata": {},
   "source": [
    "## QDA: Classification result plot"
   ]
  },
  {
   "cell_type": "code",
   "execution_count": 125,
   "id": "aff3eb7e",
   "metadata": {},
   "outputs": [
    {
     "data": {
      "text/plain": [
       "<function matplotlib.pyplot.show(close=None, block=None)>"
      ]
     },
     "execution_count": 125,
     "metadata": {},
     "output_type": "execute_result"
    },
    {
     "data": {
      "image/png": "[encoded data removed]",
      "text/plain": [
       "<Figure size 432x288 with 1 Axes>"
      ]
     },
     "metadata": {
      "needs_background": "light"
     },
     "output_type": "display_data"
    }
   ],
   "source": [
    "fig = plt.figure()\n",
    "\n",
    "qda_plot_1 = feature_set\n",
    "qda_plot_2 = group_set_pred\n",
    "qda_plot = np.column_stack((qda_plot_1, qda_plot_2))\n",
    "qda_plot_x1 = qda_plot[qda_plot[:, 1] == 1]\n",
    "qda_plot_x2 = qda_plot[qda_plot[:, 1] == 2]\n",
    "\n",
    "zeros1 = np.zeros((len(qda_plot_x1[:, 0]), 1))\n",
    "zeros2 = np.zeros((len(qda_plot_x2[:, 0]), 1))\n",
    "plt.hist(qda_plot_x1[:, 0], color='red')\n",
    "plt.hist(qda_plot_x2[:, 0], color='blue')\n",
    "\n",
    "plt.title('qda classification')\n",
    "plt.show"
   ]
  },
  {
   "cell_type": "markdown",
   "id": "ed50de43",
   "metadata": {},
   "source": [
    "## QDA: LOOCV error"
   ]
  },
  {
   "cell_type": "code",
   "execution_count": 126,
   "id": "522fe17a",
   "metadata": {},
   "outputs": [
    {
     "name": "stdout",
     "output_type": "stream",
     "text": [
      "total_error      12\n",
      "type_i_error      5\n",
      "type_ii_error     7\n",
      "dtype: int64\n"
     ]
    }
   ],
   "source": [
    "n_train = data_1.shape[0]\n",
    "num_fold = n_train\n",
    "n_fold = math.floor(n_train / num_fold)\n",
    "\n",
    "total_error = 0\n",
    "type_i_error = 0\n",
    "type_ii_error = 0\n",
    "for cur_fold in range(num_fold):\n",
    "    feature_set_fold = feature_set.iloc[cur_fold * n_fold : (cur_fold + 1) * n_fold]\n",
    "    group_set_fold = group_set.iloc[cur_fold * n_fold : (cur_fold + 1) * n_fold]\n",
    "    feature_set_train_fold = feature_set.iloc[np.r_[0 : cur_fold * n_fold, (cur_fold + 1) * n_fold : n_train]]\n",
    "    group_set_train_fold = group_set.iloc[np.r_[0 : cur_fold * n_fold, (cur_fold + 1) * n_fold : n_train]]\n",
    "        \n",
    "    pr = QuadraticDiscriminantAnalysis().fit(feature_set_train_fold, group_set_train_fold, class_labels)\n",
    "    group_set_pred = pr.predict(feature_set_fold)\n",
    "    total_error += loss(group_set_fold, group_set_pred, '0-1')[0]\n",
    "    type_i_error += loss(group_set_fold, group_set_pred, '0-1')[1]\n",
    "    type_ii_error += loss(group_set_fold, group_set_pred, '0-1')[2]\n",
    "\n",
    "result = pd.Series([total_error, type_i_error, type_ii_error], index = ['total_error', 'type_i_error', 'type_ii_error'])\n",
    "print(result)"
   ]
  },
  {
   "cell_type": "markdown",
   "id": "a133ca69",
   "metadata": {},
   "source": [
    "## NBG: Training error"
   ]
  },
  {
   "cell_type": "code",
   "execution_count": 127,
   "id": "a0d26dc0",
   "metadata": {},
   "outputs": [
    {
     "name": "stdout",
     "output_type": "stream",
     "text": [
      "total_error      12\n",
      "type_i_error      5\n",
      "type_ii_error     7\n",
      "dtype: int64\n"
     ]
    }
   ],
   "source": [
    "nbg = NaiveBayesGaussian().fit(feature_set, group_set, class_labels)\n",
    "group_set_pred = nbg.predict(feature_set)\n",
    "result = pd.Series(loss(group_set, group_set_pred, '0-1'), index = ['total_error', 'type_i_error', 'type_ii_error'])\n",
    "print(result)"
   ]
  },
  {
   "cell_type": "markdown",
   "id": "d96042c2",
   "metadata": {},
   "source": [
    "## NBG: Classification result plot"
   ]
  },
  {
   "cell_type": "code",
   "execution_count": 128,
   "id": "824590cc",
   "metadata": {},
   "outputs": [
    {
     "data": {
      "text/plain": [
       "<function matplotlib.pyplot.show(close=None, block=None)>"
      ]
     },
     "execution_count": 128,
     "metadata": {},
     "output_type": "execute_result"
    },
    {
     "data": {
      "image/png": "[encoded data removed]",
      "text/plain": [
       "<Figure size 432x288 with 1 Axes>"
      ]
     },
     "metadata": {
      "needs_background": "light"
     },
     "output_type": "display_data"
    }
   ],
   "source": [
    "fig = plt.figure()\n",
    "\n",
    "nbg_plot_1 = feature_set\n",
    "nbg_plot_2 = group_set_pred\n",
    "nbg_plot = np.column_stack((nbg_plot_1, nbg_plot_2))\n",
    "nbg_plot_x1 = nbg_plot[nbg_plot[:, 1] == 1]\n",
    "nbg_plot_x2 = nbg_plot[nbg_plot[:, 1] == 2]\n",
    "\n",
    "zeros1 = np.zeros((len(nbg_plot_x1[:, 0]), 1))\n",
    "zeros2 = np.zeros((len(nbg_plot_x2[:, 0]), 1))\n",
    "plt.hist(nbg_plot_x1[:, 0], color='red')\n",
    "plt.hist(nbg_plot_x2[:, 0], color='blue')\n",
    "\n",
    "plt.title('nbg classification')\n",
    "plt.show"
   ]
  },
  {
   "cell_type": "markdown",
   "id": "9acaf9ab",
   "metadata": {},
   "source": [
    "## NBG: LOOCV error"
   ]
  },
  {
   "cell_type": "code",
   "execution_count": 129,
   "id": "65f1d962",
   "metadata": {},
   "outputs": [
    {
     "name": "stdout",
     "output_type": "stream",
     "text": [
      "total_error      12\n",
      "type_i_error      5\n",
      "type_ii_error     7\n",
      "dtype: int64\n"
     ]
    }
   ],
   "source": [
    "n_train = data_1.shape[0]\n",
    "num_fold = n_train\n",
    "n_fold = math.floor(n_train / num_fold)\n",
    "\n",
    "total_error = 0\n",
    "type_i_error = 0\n",
    "type_ii_error = 0\n",
    "for cur_fold in range(num_fold):\n",
    "    feature_set_fold = feature_set.iloc[cur_fold * n_fold : (cur_fold + 1) * n_fold]\n",
    "    group_set_fold = group_set.iloc[cur_fold * n_fold : (cur_fold + 1) * n_fold]\n",
    "    feature_set_train_fold = feature_set.iloc[np.r_[0 : cur_fold * n_fold, (cur_fold + 1) * n_fold : n_train]]\n",
    "    group_set_train_fold = group_set.iloc[np.r_[0 : cur_fold * n_fold, (cur_fold + 1) * n_fold : n_train]]\n",
    "        \n",
    "    pr = NaiveBayesGaussian().fit(feature_set_train_fold, group_set_train_fold, class_labels)\n",
    "    group_set_pred = pr.predict(feature_set_fold)\n",
    "    total_error += loss(group_set_fold, group_set_pred, '0-1')[0]\n",
    "    type_i_error += loss(group_set_fold, group_set_pred, '0-1')[1]\n",
    "    type_ii_error += loss(group_set_fold, group_set_pred, '0-1')[2]\n",
    "\n",
    "result = pd.Series([total_error, type_i_error, type_ii_error], index = ['total_error', 'type_i_error', 'type_ii_error'])\n",
    "print(result)"
   ]
  },
  {
   "cell_type": "markdown",
   "id": "24d01656",
   "metadata": {},
   "source": [
    "## Performance of the classifiers"
   ]
  },
  {
   "cell_type": "markdown",
   "id": "95040ab8",
   "metadata": {},
   "source": [
    "We can't observe too much difference among the classifiers. I think the performance in general is not bad, because the sample size is over 120, and there are just over 10 which are miss classified, resulting in an (training and LOOCV) error rate of just around 0.1. And there is very little overfit. This could be because that the features within each class follow Gaussian distribution as assumed by LDA. The covariance within each class doesn't differ much, so QDA doesn't outperform LDA too much."
   ]
  },
  {
   "cell_type": "markdown",
   "id": "d042c963",
   "metadata": {},
   "source": [
    "# Binary classification with 2 features"
   ]
  },
  {
   "cell_type": "code",
   "execution_count": 130,
   "id": "8a444de6",
   "metadata": {},
   "outputs": [],
   "source": [
    "# Select two types of wine\n",
    "data_1 = data[data.iloc[:, 0].isin([1, 2])]\n",
    "class_labels = np.array([1, 2])\n",
    "# Choose one predictor\n",
    "feature_set = data_1.iloc[:, 1 : 3]\n",
    "group_set = data_1.iloc[:, 0]"
   ]
  },
  {
   "cell_type": "markdown",
   "id": "e83a653c",
   "metadata": {},
   "source": [
    "## LDA: Training error"
   ]
  },
  {
   "cell_type": "code",
   "execution_count": 131,
   "id": "3a15602d",
   "metadata": {},
   "outputs": [
    {
     "name": "stdout",
     "output_type": "stream",
     "text": [
      "total_error      13\n",
      "type_i_error      6\n",
      "type_ii_error     7\n",
      "dtype: int64\n"
     ]
    }
   ],
   "source": [
    "lda = LinearDiscriminantAnalysis().fit(feature_set, group_set, class_labels)\n",
    "group_set_pred = lda.predict(feature_set)\n",
    "result = pd.Series(loss(group_set, group_set_pred, '0-1'), index = ['total_error', 'type_i_error', 'type_ii_error'])\n",
    "print(result)"
   ]
  },
  {
   "cell_type": "markdown",
   "id": "95de360a",
   "metadata": {},
   "source": [
    "## ROC curve"
   ]
  },
  {
   "cell_type": "code",
   "execution_count": 132,
   "id": "ad06d819",
   "metadata": {
    "scrolled": false
   },
   "outputs": [],
   "source": [
    "meshgrid = np.linspace(0, 1, num = 1000)"
   ]
  },
  {
   "cell_type": "code",
   "execution_count": 133,
   "id": "f2670abd",
   "metadata": {},
   "outputs": [],
   "source": [
    "# total class 1 items\n",
    "total_positive = data_1.groupby(data_1.iloc[:, 0]).count().iloc[0, 0]\n",
    "# total class 2 items\n",
    "total_negative = data_1.groupby(data_1.iloc[:, 0]).count().iloc[1, 0]"
   ]
  },
  {
   "cell_type": "code",
   "execution_count": 134,
   "id": "b68582cc",
   "metadata": {},
   "outputs": [],
   "source": [
    "true_positive_rate_all = []\n",
    "false_positive_rate_all = []\n",
    "for threshold in meshgrid:\n",
    "    group_set_pred = lda.predict(feature_set, threshold)\n",
    "    type_i_error = loss(group_set, group_set_pred, '0-1')[1] # true 2 classified as 1\n",
    "    type_ii_error = loss(group_set, group_set_pred, '0-1')[2] # true 1 classified as 2\n",
    "    true_positive_rate = (total_positive - type_ii_error) / total_positive\n",
    "    false_positive_rate = type_i_error / total_negative\n",
    "    true_positive_rate_all.append(true_positive_rate)\n",
    "    false_positive_rate_all.append(false_positive_rate)"
   ]
  },
  {
   "cell_type": "code",
   "execution_count": 135,
   "id": "9324be7f",
   "metadata": {},
   "outputs": [
    {
     "data": {
      "text/plain": [
       "[<matplotlib.lines.Line2D at 0x1a5d7c62b80>,\n",
       " <matplotlib.lines.Line2D at 0x1a5d7c62c40>]"
      ]
     },
     "execution_count": 135,
     "metadata": {},
     "output_type": "execute_result"
    },
    {
     "data": {
      "image/png": "[encoded data removed]",
      "text/plain": [
       "<Figure size 432x288 with 1 Axes>"
      ]
     },
     "metadata": {
      "needs_background": "light"
     },
     "output_type": "display_data"
    }
   ],
   "source": [
    "plt.plot(false_positive_rate_all, true_positive_rate_all, 1, 1)"
   ]
  },
  {
   "cell_type": "code",
   "execution_count": 136,
   "id": "e4af7666",
   "metadata": {},
   "outputs": [],
   "source": [
    "# Keep the decimal places\n",
    "true_positive_rate_all = np.array(true_positive_rate_all)\n",
    "false_positive_rate_all = np.array(false_positive_rate_all)\n",
    "# Area under the curve\n",
    "area = 0\n",
    "for i in range(len(meshgrid) - 1):\n",
    "    area += (true_positive_rate_all[i+1] - true_positive_rate_all[i]) * (false_positive_rate_all[i+1] - false_positive_rate_all[i])\n",
    "    \n",
    "area = 1 - area\n",
    "area_under_the_curve = (area + 1) / 2"
   ]
  },
  {
   "cell_type": "code",
   "execution_count": 137,
   "id": "3e735a2c",
   "metadata": {},
   "outputs": [
    {
     "data": {
      "text/plain": [
       "0.9998806397708284"
      ]
     },
     "execution_count": 137,
     "metadata": {},
     "output_type": "execute_result"
    }
   ],
   "source": [
    "area_under_the_curve"
   ]
  },
  {
   "cell_type": "markdown",
   "id": "3846139e",
   "metadata": {},
   "source": [
    "## LDA: LOOCV error"
   ]
  },
  {
   "cell_type": "code",
   "execution_count": 138,
   "id": "88606ff2",
   "metadata": {},
   "outputs": [
    {
     "name": "stdout",
     "output_type": "stream",
     "text": [
      "total_error      13\n",
      "type_i_error      6\n",
      "type_ii_error     7\n",
      "dtype: int64\n"
     ]
    }
   ],
   "source": [
    "n_train = data_1.shape[0]\n",
    "num_fold = n_train\n",
    "n_fold = math.floor(n_train / num_fold)\n",
    "\n",
    "total_error = 0\n",
    "type_i_error = 0\n",
    "type_ii_error = 0\n",
    "for cur_fold in range(num_fold):\n",
    "    feature_set_fold = feature_set.iloc[cur_fold * n_fold : (cur_fold + 1) * n_fold]\n",
    "    group_set_fold = group_set.iloc[cur_fold * n_fold : (cur_fold + 1) * n_fold]\n",
    "    feature_set_train_fold = feature_set.iloc[np.r_[0 : cur_fold * n_fold, (cur_fold + 1) * n_fold : n_train]]\n",
    "    group_set_train_fold = group_set.iloc[np.r_[0 : cur_fold * n_fold, (cur_fold + 1) * n_fold : n_train]]\n",
    "        \n",
    "    pr = LinearDiscriminantAnalysis().fit(feature_set_train_fold, group_set_train_fold, class_labels)\n",
    "    group_set_pred = pr.predict(feature_set_fold)\n",
    "    total_error += loss(group_set_fold, group_set_pred, '0-1')[0]\n",
    "    type_i_error += loss(group_set_fold, group_set_pred, '0-1')[1]\n",
    "    type_ii_error += loss(group_set_fold, group_set_pred, '0-1')[2]\n",
    "\n",
    "result = pd.Series([total_error, type_i_error, type_ii_error], index = ['total_error', 'type_i_error', 'type_ii_error'])\n",
    "print(result)"
   ]
  },
  {
   "cell_type": "markdown",
   "id": "05f33d8b",
   "metadata": {},
   "source": [
    "## QDA: Training error"
   ]
  },
  {
   "cell_type": "code",
   "execution_count": 139,
   "id": "66bbbb28",
   "metadata": {},
   "outputs": [
    {
     "name": "stdout",
     "output_type": "stream",
     "text": [
      "total_error      7\n",
      "type_i_error     4\n",
      "type_ii_error    3\n",
      "dtype: int64\n"
     ]
    }
   ],
   "source": [
    "qda = QuadraticDiscriminantAnalysis().fit(feature_set, group_set, class_labels)\n",
    "group_set_pred = qda.predict(feature_set)\n",
    "result = pd.Series(loss(group_set, group_set_pred, '0-1'), index = ['total_error', 'type_i_error', 'type_ii_error'])\n",
    "print(result)"
   ]
  },
  {
   "cell_type": "markdown",
   "id": "832a31a4",
   "metadata": {},
   "source": [
    "## QDA: ROC curve"
   ]
  },
  {
   "cell_type": "code",
   "execution_count": 140,
   "id": "064a0c04",
   "metadata": {},
   "outputs": [],
   "source": [
    "true_positive_rate_all = []\n",
    "false_positive_rate_all = []\n",
    "for threshold in meshgrid:\n",
    "    group_set_pred = qda.predict(feature_set, threshold)\n",
    "    type_i_error = loss(group_set, group_set_pred, '0-1')[1] # true 2 classified as 1\n",
    "    type_ii_error = loss(group_set, group_set_pred, '0-1')[2] # true 1 classified as 2\n",
    "    true_positive_rate = (total_positive - type_ii_error) / total_positive\n",
    "    false_positive_rate = type_i_error / total_negative\n",
    "    true_positive_rate_all.append(true_positive_rate)\n",
    "    false_positive_rate_all.append(false_positive_rate)"
   ]
  },
  {
   "cell_type": "code",
   "execution_count": 141,
   "id": "efd9e590",
   "metadata": {},
   "outputs": [
    {
     "data": {
      "text/plain": [
       "[<matplotlib.lines.Line2D at 0x1a5d7cb9bb0>,\n",
       " <matplotlib.lines.Line2D at 0x1a5d7cb9c70>]"
      ]
     },
     "execution_count": 141,
     "metadata": {},
     "output_type": "execute_result"
    },
    {
     "data": {
      "image/png": "[encoded data removed]",
      "text/plain": [
       "<Figure size 432x288 with 1 Axes>"
      ]
     },
     "metadata": {
      "needs_background": "light"
     },
     "output_type": "display_data"
    }
   ],
   "source": [
    "plt.plot(false_positive_rate_all, true_positive_rate_all, 1, 1)"
   ]
  },
  {
   "cell_type": "code",
   "execution_count": 142,
   "id": "5a9c5b3e",
   "metadata": {},
   "outputs": [],
   "source": [
    "# Keep the decimal places\n",
    "true_positive_rate_all = np.array(true_positive_rate_all)\n",
    "false_positive_rate_all = np.array(false_positive_rate_all)\n",
    "# Area under the curve\n",
    "area = 0\n",
    "for i in range(len(meshgrid) - 1):\n",
    "    area += (true_positive_rate_all[i+1] - true_positive_rate_all[i]) * (false_positive_rate_all[i+1] - false_positive_rate_all[i])\n",
    "    \n",
    "area = 1 - area\n",
    "area_under_the_curve = (area + 1) / 2"
   ]
  },
  {
   "cell_type": "code",
   "execution_count": 143,
   "id": "0268ae71",
   "metadata": {},
   "outputs": [
    {
     "data": {
      "text/plain": [
       "1.0"
      ]
     },
     "execution_count": 143,
     "metadata": {},
     "output_type": "execute_result"
    }
   ],
   "source": [
    "area_under_the_curve"
   ]
  },
  {
   "cell_type": "markdown",
   "id": "ee9b5013",
   "metadata": {},
   "source": [
    "## QDA: LOOCV error"
   ]
  },
  {
   "cell_type": "code",
   "execution_count": 144,
   "id": "c7c2d4a6",
   "metadata": {},
   "outputs": [
    {
     "name": "stdout",
     "output_type": "stream",
     "text": [
      "total_error      7\n",
      "type_i_error     4\n",
      "type_ii_error    3\n",
      "dtype: int64\n"
     ]
    }
   ],
   "source": [
    "n_train = data_1.shape[0]\n",
    "num_fold = n_train\n",
    "n_fold = math.floor(n_train / num_fold)\n",
    "\n",
    "total_error = 0\n",
    "type_i_error = 0\n",
    "type_ii_error = 0\n",
    "for cur_fold in range(num_fold):\n",
    "    feature_set_fold = feature_set.iloc[cur_fold * n_fold : (cur_fold + 1) * n_fold]\n",
    "    group_set_fold = group_set.iloc[cur_fold * n_fold : (cur_fold + 1) * n_fold]\n",
    "    feature_set_train_fold = feature_set.iloc[np.r_[0 : cur_fold * n_fold, (cur_fold + 1) * n_fold : n_train]]\n",
    "    group_set_train_fold = group_set.iloc[np.r_[0 : cur_fold * n_fold, (cur_fold + 1) * n_fold : n_train]]\n",
    "        \n",
    "    pr = QuadraticDiscriminantAnalysis().fit(feature_set_train_fold, group_set_train_fold, class_labels)\n",
    "    group_set_pred = pr.predict(feature_set_fold)\n",
    "    total_error += loss(group_set_fold, group_set_pred, '0-1')[0]\n",
    "    type_i_error += loss(group_set_fold, group_set_pred, '0-1')[1]\n",
    "    type_ii_error += loss(group_set_fold, group_set_pred, '0-1')[2]\n",
    "\n",
    "result = pd.Series([total_error, type_i_error, type_ii_error], index = ['total_error', 'type_i_error', 'type_ii_error'])\n",
    "print(result)"
   ]
  },
  {
   "cell_type": "markdown",
   "id": "6f656b19",
   "metadata": {},
   "source": [
    "## NBG: Training error"
   ]
  },
  {
   "cell_type": "code",
   "execution_count": 145,
   "id": "0652953c",
   "metadata": {},
   "outputs": [
    {
     "name": "stdout",
     "output_type": "stream",
     "text": [
      "total_error      7\n",
      "type_i_error     4\n",
      "type_ii_error    3\n",
      "dtype: int64\n"
     ]
    }
   ],
   "source": [
    "nbg = NaiveBayesGaussian().fit(feature_set, group_set, class_labels)\n",
    "group_set_pred = nbg.predict(feature_set)\n",
    "result = pd.Series(loss(group_set, group_set_pred, '0-1'), index = ['total_error', 'type_i_error', 'type_ii_error'])\n",
    "print(result)"
   ]
  },
  {
   "cell_type": "markdown",
   "id": "86b8b7b1",
   "metadata": {},
   "source": [
    "## NBG: ROC curve"
   ]
  },
  {
   "cell_type": "code",
   "execution_count": 146,
   "id": "d18fd2a2",
   "metadata": {},
   "outputs": [],
   "source": [
    "true_positive_rate_all = []\n",
    "false_positive_rate_all = []\n",
    "for threshold in meshgrid:\n",
    "    group_set_pred = nbg.predict(feature_set, threshold)\n",
    "    type_i_error = loss(group_set, group_set_pred, '0-1')[1] # true 2 classified as 1\n",
    "    type_ii_error = loss(group_set, group_set_pred, '0-1')[2] # true 1 classified as 2\n",
    "    true_positive_rate = (total_positive - type_ii_error) / total_positive\n",
    "    false_positive_rate = type_i_error / total_negative\n",
    "    true_positive_rate_all.append(true_positive_rate)\n",
    "    false_positive_rate_all.append(false_positive_rate)"
   ]
  },
  {
   "cell_type": "code",
   "execution_count": 147,
   "id": "0a2b6960",
   "metadata": {},
   "outputs": [
    {
     "data": {
      "text/plain": [
       "[<matplotlib.lines.Line2D at 0x1a5d7d149a0>,\n",
       " <matplotlib.lines.Line2D at 0x1a5d7d14a60>]"
      ]
     },
     "execution_count": 147,
     "metadata": {},
     "output_type": "execute_result"
    },
    {
     "data": {
      "image/png": "[encoded data removed]",
      "text/plain": [
       "<Figure size 432x288 with 1 Axes>"
      ]
     },
     "metadata": {
      "needs_background": "light"
     },
     "output_type": "display_data"
    }
   ],
   "source": [
    "plt.plot(false_positive_rate_all, true_positive_rate_all, 1, 1)"
   ]
  },
  {
   "cell_type": "code",
   "execution_count": 148,
   "id": "004ac707",
   "metadata": {},
   "outputs": [],
   "source": [
    "# Keep the decimal places\n",
    "true_positive_rate_all = np.array(true_positive_rate_all)\n",
    "false_positive_rate_all = np.array(false_positive_rate_all)\n",
    "# Area under the curve\n",
    "area = 0\n",
    "for i in range(len(meshgrid) - 1):\n",
    "    area += (true_positive_rate_all[i+1] - true_positive_rate_all[i]) * (false_positive_rate_all[i+1] - false_positive_rate_all[i])\n",
    "    \n",
    "area = 1 - area\n",
    "area_under_the_curve = (area + 1) / 2"
   ]
  },
  {
   "cell_type": "code",
   "execution_count": 149,
   "id": "d4da7752",
   "metadata": {},
   "outputs": [
    {
     "data": {
      "text/plain": [
       "1.0"
      ]
     },
     "execution_count": 149,
     "metadata": {},
     "output_type": "execute_result"
    }
   ],
   "source": [
    "area_under_the_curve"
   ]
  },
  {
   "cell_type": "markdown",
   "id": "82f39c04",
   "metadata": {},
   "source": [
    "## NBG: LOOCV error"
   ]
  },
  {
   "cell_type": "code",
   "execution_count": 150,
   "id": "bb54e7b4",
   "metadata": {},
   "outputs": [
    {
     "name": "stdout",
     "output_type": "stream",
     "text": [
      "total_error      8\n",
      "type_i_error     5\n",
      "type_ii_error    3\n",
      "dtype: int64\n"
     ]
    }
   ],
   "source": [
    "n_train = data_1.shape[0]\n",
    "num_fold = n_train\n",
    "n_fold = math.floor(n_train / num_fold)\n",
    "\n",
    "total_error = 0\n",
    "type_i_error = 0\n",
    "type_ii_error = 0\n",
    "for cur_fold in range(num_fold):\n",
    "    feature_set_fold = feature_set.iloc[cur_fold * n_fold : (cur_fold + 1) * n_fold]\n",
    "    group_set_fold = group_set.iloc[cur_fold * n_fold : (cur_fold + 1) * n_fold]\n",
    "    feature_set_train_fold = feature_set.iloc[np.r_[0 : cur_fold * n_fold, (cur_fold + 1) * n_fold : n_train]]\n",
    "    group_set_train_fold = group_set.iloc[np.r_[0 : cur_fold * n_fold, (cur_fold + 1) * n_fold : n_train]]\n",
    "        \n",
    "    pr = NaiveBayesGaussian().fit(feature_set_train_fold, group_set_train_fold, class_labels)\n",
    "    group_set_pred = pr.predict(feature_set_fold)\n",
    "    total_error += loss(group_set_fold, group_set_pred, '0-1')[0]\n",
    "    type_i_error += loss(group_set_fold, group_set_pred, '0-1')[1]\n",
    "    type_ii_error += loss(group_set_fold, group_set_pred, '0-1')[2]\n",
    "\n",
    "result = pd.Series([total_error, type_i_error, type_ii_error], index = ['total_error', 'type_i_error', 'type_ii_error'])\n",
    "print(result)"
   ]
  },
  {
   "cell_type": "markdown",
   "id": "cb4b5741",
   "metadata": {},
   "source": [
    "# 3-Classes classification with many features"
   ]
  },
  {
   "cell_type": "code",
   "execution_count": 151,
   "id": "82b8ed49",
   "metadata": {},
   "outputs": [],
   "source": [
    "group_set = data.iloc[:, 0]\n",
    "feature_set = data.iloc[:, 1:]\n",
    "class_labels = group_set.unique()"
   ]
  },
  {
   "cell_type": "markdown",
   "id": "57f5f71e",
   "metadata": {},
   "source": [
    "## LDA: Training error"
   ]
  },
  {
   "cell_type": "code",
   "execution_count": 152,
   "id": "39f3f8c6",
   "metadata": {},
   "outputs": [
    {
     "name": "stdout",
     "output_type": "stream",
     "text": [
      "total_error      0\n",
      "type_i_error     0\n",
      "type_ii_error    0\n",
      "dtype: int32\n"
     ]
    }
   ],
   "source": [
    "lda = LinearDiscriminantAnalysis().fit(feature_set, group_set, class_labels)\n",
    "group_set_pred = lda.predict(feature_set)\n",
    "result = pd.Series(loss(group_set, group_set_pred, '0-1'), index = ['total_error', 'type_i_error', 'type_ii_error'])\n",
    "print(result)"
   ]
  },
  {
   "cell_type": "markdown",
   "id": "3886cc77",
   "metadata": {},
   "source": [
    "## LDA: LOOCV error"
   ]
  },
  {
   "cell_type": "code",
   "execution_count": 153,
   "id": "ea2f6be4",
   "metadata": {},
   "outputs": [
    {
     "name": "stdout",
     "output_type": "stream",
     "text": [
      "total_error      1\n",
      "type_i_error     1\n",
      "type_ii_error    0\n",
      "dtype: int64\n"
     ]
    }
   ],
   "source": [
    "n_train = data.shape[0]\n",
    "num_fold = n_train\n",
    "n_fold = math.floor(n_train / num_fold)\n",
    "\n",
    "total_error = 0\n",
    "type_i_error = 0\n",
    "type_ii_error = 0\n",
    "for cur_fold in range(num_fold):\n",
    "    feature_set_fold = feature_set.iloc[cur_fold * n_fold : (cur_fold + 1) * n_fold]\n",
    "    group_set_fold = group_set.iloc[cur_fold * n_fold : (cur_fold + 1) * n_fold]\n",
    "    feature_set_train_fold = feature_set.iloc[np.r_[0 : cur_fold * n_fold, (cur_fold + 1) * n_fold : n_train]]\n",
    "    group_set_train_fold = group_set.iloc[np.r_[0 : cur_fold * n_fold, (cur_fold + 1) * n_fold : n_train]]\n",
    "        \n",
    "    pr = LinearDiscriminantAnalysis().fit(feature_set_train_fold, group_set_train_fold, class_labels)\n",
    "    group_set_pred = pr.predict(feature_set_fold)\n",
    "    total_error += loss(group_set_fold, group_set_pred, '0-1')[0]\n",
    "    type_i_error += loss(group_set_fold, group_set_pred, '0-1')[1]\n",
    "    type_ii_error += loss(group_set_fold, group_set_pred, '0-1')[2]\n",
    "\n",
    "result = pd.Series([total_error, type_i_error, type_ii_error], index = ['total_error', 'type_i_error', 'type_ii_error'])\n",
    "print(result)"
   ]
  },
  {
   "cell_type": "markdown",
   "id": "6723e49e",
   "metadata": {},
   "source": [
    "## QDA: Training error"
   ]
  },
  {
   "cell_type": "code",
   "execution_count": 154,
   "id": "5c269ec9",
   "metadata": {},
   "outputs": [
    {
     "name": "stdout",
     "output_type": "stream",
     "text": [
      "total_error      1\n",
      "type_i_error     1\n",
      "type_ii_error    1\n",
      "dtype: int32\n"
     ]
    }
   ],
   "source": [
    "qda = QuadraticDiscriminantAnalysis().fit(feature_set, group_set, class_labels)\n",
    "group_set_pred = qda.predict(feature_set)\n",
    "result = pd.Series(loss(group_set, group_set_pred, '0-1'), index = ['total_error', 'type_i_error', 'type_ii_error'])\n",
    "print(result)"
   ]
  },
  {
   "cell_type": "markdown",
   "id": "db34d7eb",
   "metadata": {},
   "source": [
    "## QDA: LOOCV error"
   ]
  },
  {
   "cell_type": "code",
   "execution_count": 155,
   "id": "e67f6e21",
   "metadata": {},
   "outputs": [
    {
     "name": "stdout",
     "output_type": "stream",
     "text": [
      "total_error      1\n",
      "type_i_error     1\n",
      "type_ii_error    0\n",
      "dtype: int64\n"
     ]
    }
   ],
   "source": [
    "n_train = data.shape[0]\n",
    "num_fold = n_train\n",
    "n_fold = math.floor(n_train / num_fold)\n",
    "\n",
    "total_error = 0\n",
    "type_i_error = 0\n",
    "type_ii_error = 0\n",
    "for cur_fold in range(num_fold):\n",
    "    feature_set_fold = feature_set.iloc[cur_fold * n_fold : (cur_fold + 1) * n_fold]\n",
    "    group_set_fold = group_set.iloc[cur_fold * n_fold : (cur_fold + 1) * n_fold]\n",
    "    feature_set_train_fold = feature_set.iloc[np.r_[0 : cur_fold * n_fold, (cur_fold + 1) * n_fold : n_train]]\n",
    "    group_set_train_fold = group_set.iloc[np.r_[0 : cur_fold * n_fold, (cur_fold + 1) * n_fold : n_train]]\n",
    "        \n",
    "    pr = QuadraticDiscriminantAnalysis().fit(feature_set_train_fold, group_set_train_fold, class_labels)\n",
    "    group_set_pred = pr.predict(feature_set_fold)\n",
    "    total_error += loss(group_set_fold, group_set_pred, '0-1')[0]\n",
    "    type_i_error += loss(group_set_fold, group_set_pred, '0-1')[1]\n",
    "    type_ii_error += loss(group_set_fold, group_set_pred, '0-1')[2]\n",
    "\n",
    "result = pd.Series([total_error, type_i_error, type_ii_error], index = ['total_error', 'type_i_error', 'type_ii_error'])\n",
    "print(result)"
   ]
  }
 ],
 "metadata": {
  "kernelspec": {
   "display_name": "Python 3",
   "language": "python",
   "name": "python3"
  },
  "language_info": {
   "codemirror_mode": {
    "name": "ipython",
    "version": 3
   },
   "file_extension": ".py",
   "mimetype": "text/x-python",
   "name": "python",
   "nbconvert_exporter": "python",
   "pygments_lexer": "ipython3",
   "version": "3.8.5"
  }
 },
 "nbformat": 4,
 "nbformat_minor": 5
}
