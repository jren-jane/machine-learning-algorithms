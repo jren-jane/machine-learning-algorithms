{
 "cells": [
  {
   "cell_type": "code",
   "execution_count": 72,
   "id": "288fe564",
   "metadata": {},
   "outputs": [],
   "source": [
    "import numpy as np\n",
    "import pandas as pd\n",
    "import matplotlib.pyplot as plt\n",
    "%matplotlib inline"
   ]
  },
  {
   "cell_type": "code",
   "execution_count": 73,
   "id": "55951dd4",
   "metadata": {},
   "outputs": [],
   "source": [
    "data = pd.read_csv('wine.csv', header = None)"
   ]
  },
  {
   "cell_type": "markdown",
   "id": "a6cf031a",
   "metadata": {},
   "source": [
    "# Naive Bayes Gaussian"
   ]
  },
  {
   "cell_type": "code",
   "execution_count": 74,
   "id": "0eba3a7c",
   "metadata": {},
   "outputs": [],
   "source": [
    "# Note: the input to the methods should be pandas dataframes, especially that feature_set has to be 2-d\n",
    "class NaiveBayesGaussian():\n",
    "    def __init__(self):\n",
    "        self.mu_params = None\n",
    "        self.cov_params = None\n",
    "        self.pi_params = None\n",
    "        self.class_labels = None\n",
    "        \n",
    "    def fit(self, feature_set, group_set, class_labels):\n",
    "        complete_set = pd.concat([group_set, feature_set], axis=1)\n",
    "        sorted_complete_set = pd.merge(pd.DataFrame(class_labels), complete_set, sort=False)\n",
    "        self.class_labels = class_labels\n",
    "        self.mu_params = sorted_complete_set.groupby(sorted_complete_set.iloc[:, 0]).mean().iloc[:, 1:]\n",
    "        self.cov_params = sorted_complete_set.groupby(sorted_complete_set.iloc[:, 0]).var().iloc[:, 1:]\n",
    "        self.pi_params = sorted_complete_set.groupby(sorted_complete_set.iloc[:, 0]).count().iloc[:, 0] / sorted_complete_set.iloc[:, 0].count()\n",
    "        \n",
    "        return self\n",
    "    \n",
    "    def predict(self, feature_set, threshold=0.5):\n",
    "        # use numpy for better performance\n",
    "        feature_set = np.array(feature_set)\n",
    "        mu_params = np.array(self.mu_params)\n",
    "        cov_params = np.array(self.cov_params)\n",
    "        pi_params = np.array(self.pi_params)\n",
    "        \n",
    "        k = len(self.class_labels) # number of classes\n",
    "        n = feature_set.shape[0] # sample size\n",
    "        \n",
    "        # Treat 1d and 2d feature set separately\n",
    "        if len(feature_set.shape) == 1:\n",
    "            d = 1\n",
    "        else:\n",
    "            d = feature_set.shape[1] # number of features\n",
    "        \n",
    "        # for binary classification\n",
    "        if len(self.class_labels) == 2:\n",
    "            group_set = np.zeros((n, 1))\n",
    "            for i in range(n):\n",
    "                numerator = np.zeros((1, 2))\n",
    "                likelihood_0 = np.exp(- 0.5 * np.square((feature_set[i] - mu_params[0]) / np.sqrt(cov_params[0]))) / (np.sqrt(2 * np.pi) * np.sqrt(cov_params[0]))\n",
    "                likelihood_1 = np.exp(- 0.5 * np.square((feature_set[i] - mu_params[1]) / np.sqrt(cov_params[1]))) / (np.sqrt(2 * np.pi) * np.sqrt(cov_params[1]))\n",
    "                numerator_0 = pi_params[0] * np.prod(likelihood_0)\n",
    "                numerator_1 = pi_params[1] * np.prod(likelihood_1)\n",
    "                posterior_0 = numerator_0 / (numerator_0 + numerator_1)\n",
    "                if posterior_0 > threshold:\n",
    "                    group_set[i] = self.class_labels[0]\n",
    "                else:\n",
    "                    group_set[i] = self.class_labels[1]\n",
    "        \n",
    "        # for non-binary classification\n",
    "        else:\n",
    "            group_set = np.zeros((n, 1))\n",
    "            for i in range(n):\n",
    "                winning_class = 0\n",
    "                max_prob = 0\n",
    "                for r in range(k):\n",
    "                    likelihood = np.exp(- 0.5 * np.square((feature_set[i] - mu_params[r]) / np.sqrt(cov_params[r]))) / (np.sqrt(2 * np.pi) * np.sqrt(cov_params[r]))\n",
    "                    class_prob = pi_params[r] * np.prod(likelihood)\n",
    "                    if class_prob > max_prob:\n",
    "                        winning_class = r\n",
    "                        max_prob = class_prob\n",
    "                group_set[i] = self.class_labels[winning_class]\n",
    "    \n",
    "        return group_set.ravel().astype(int)"
   ]
  },
  {
   "cell_type": "markdown",
   "id": "a36fbd06",
   "metadata": {},
   "source": [
    "# Linear Discriminant Analysis"
   ]
  },
  {
   "cell_type": "code",
   "execution_count": 75,
   "id": "6a15dae7",
   "metadata": {},
   "outputs": [],
   "source": [
    "# Note: the input to the methods should be pandas dataframes\n",
    "class LinearDiscriminantAnalysis():\n",
    "    def __init__(self):\n",
    "        self.mu_params = None\n",
    "        self.cov_params = None\n",
    "        self.pi_params = None\n",
    "        self.class_labels = None\n",
    "        \n",
    "    def fit(self, feature_set, group_set, class_labels):\n",
    "        complete_set = pd.concat([group_set, feature_set], axis=1)\n",
    "        sorted_complete_set = pd.merge(pd.DataFrame(class_labels), complete_set, sort=False)\n",
    "        self.class_labels = class_labels\n",
    "        self.mu_params = sorted_complete_set.groupby(sorted_complete_set.iloc[:, 0]).mean().iloc[:, 1:]\n",
    "        self.cov_params = sorted_complete_set.iloc[:, 1:].cov()\n",
    "        self.pi_params = sorted_complete_set.groupby(sorted_complete_set.iloc[:, 0]).count().iloc[:, 0] / sorted_complete_set.iloc[:, 0].count()\n",
    "        \n",
    "        return self\n",
    "    \n",
    "    def predict(self, feature_set, threshold=0.5):\n",
    "        # use numpy for better performance\n",
    "        feature_set = np.array(feature_set)\n",
    "        mu_params = np.array(self.mu_params)\n",
    "        cov_params = np.array(self.cov_params)\n",
    "        pi_params = np.array(self.pi_params)\n",
    "        \n",
    "        k = len(self.class_labels) # number of classes\n",
    "        n = feature_set.shape[0] # sample size\n",
    "        \n",
    "        # Treat 1d and 2d feature set separately\n",
    "        if len(feature_set.shape) == 1:\n",
    "            d = 1\n",
    "        else:\n",
    "            d = feature_set.shape[1] # number of features\n",
    "        \n",
    "        # for binary classification\n",
    "        if len(self.class_labels) == 2:\n",
    "            group_set = np.zeros((n, 1))\n",
    "            for i in range(n):\n",
    "                numerator = np.zeros((1, 2))\n",
    "                likelihood_0 = np.exp(- 0.5 * np.linalg.multi_dot([(feature_set[i] - mu_params[0]), np.linalg.inv(cov_params), np.transpose(feature_set[i] - mu_params[0])])) / (np.power(2 * np.pi, d/2) * np.sqrt(np.linalg.det(cov_params)))\n",
    "                likelihood_1 = np.exp(- 0.5 * np.linalg.multi_dot([(feature_set[i] - mu_params[1]), np.linalg.inv(cov_params), np.transpose(feature_set[i] - mu_params[1])])) / (np.power(2 * np.pi, d/2) * np.sqrt(np.linalg.det(cov_params)))\n",
    "                numerator_0 = pi_params[0] * likelihood_0\n",
    "                numerator_1 = pi_params[1] * likelihood_1\n",
    "                posterior_0 = numerator_0 / (numerator_0 + numerator_1)\n",
    "                if posterior_0 > threshold:\n",
    "                    group_set[i] = self.class_labels[0]\n",
    "                else: \n",
    "                    group_set[i] = self.class_labels[1]\n",
    "        \n",
    "        # for non-binary classification\n",
    "        else:\n",
    "            group_set = np.zeros((n, 1))\n",
    "            for i in range(n):\n",
    "                winning_class = 0\n",
    "                max_prob = 0\n",
    "                for r in range(k):\n",
    "                    likelihood = np.exp(- 0.5 * np.linalg.multi_dot([(feature_set[i] - mu_params[r]), np.linalg.inv(cov_params), np.transpose(feature_set[i] - mu_params[r])])) / (np.power(2 * np.pi, d/2) * np.sqrt(np.linalg.det(cov_params)))\n",
    "                    class_prob = pi_params[r] * likelihood\n",
    "                    if class_prob > max_prob:\n",
    "                        winning_class = r\n",
    "                        max_prob = class_prob\n",
    "                group_set[i] = self.class_labels[winning_class]\n",
    "        \n",
    "        return group_set.ravel().astype(int)\n",
    "        "
   ]
  },
  {
   "cell_type": "markdown",
   "id": "9d244f2f",
   "metadata": {},
   "source": [
    "# Quadratic Discriminant Analysis"
   ]
  },
  {
   "cell_type": "code",
   "execution_count": 76,
   "id": "b42829f5",
   "metadata": {},
   "outputs": [],
   "source": [
    "# Note: the input to the methods should be pandas dataframes\n",
    "class QuadraticDiscriminantAnalysis():\n",
    "    def __init__(self):\n",
    "        self.mu_params = None\n",
    "        self.cov_params = None\n",
    "        self.pi_params = None\n",
    "        self.class_labels = None\n",
    "        \n",
    "    def fit(self, feature_set, group_set, class_labels):\n",
    "        complete_set = pd.concat([group_set, feature_set], axis=1)\n",
    "        sorted_complete_set = pd.merge(pd.DataFrame(class_labels), complete_set, sort=False)\n",
    "        self.class_labels = class_labels\n",
    "        self.mu_params = sorted_complete_set.groupby(sorted_complete_set.iloc[:, 0]).mean().iloc[:, 1:]\n",
    "        cov_params = []\n",
    "        for i in class_labels:\n",
    "            cov_class = sorted_complete_set[sorted_complete_set.iloc[:, 0] == i].iloc[:, 1:].cov()\n",
    "            cov_params.append(cov_class)\n",
    "        self.cov_params = cov_params\n",
    "        self.pi_params = sorted_complete_set.groupby(sorted_complete_set.iloc[:, 0]).count().iloc[:, 0] / sorted_complete_set.iloc[:, 0].count()\n",
    "        \n",
    "        return self\n",
    "    \n",
    "    def predict(self, feature_set, threshold=0.5):\n",
    "        # use numpy for better performance\n",
    "        feature_set = np.array(feature_set)\n",
    "        mu_params = np.array(self.mu_params)\n",
    "        cov_params = np.array(self.cov_params)\n",
    "        pi_params = np.array(self.pi_params)\n",
    "        \n",
    "        k = len(self.class_labels) # number of classes\n",
    "        n = feature_set.shape[0] # sample size\n",
    "        \n",
    "        # Treat 1d and 2d feature set separately\n",
    "        if len(feature_set.shape) == 1:\n",
    "            d = 1\n",
    "        else:\n",
    "            d = feature_set.shape[1] # number of features\n",
    "        \n",
    "        # for binary classification\n",
    "        if len(self.class_labels) == 2:\n",
    "            group_set = np.zeros((n, 1))\n",
    "            for i in range(n):\n",
    "                numerator = np.zeros((1, 2))\n",
    "                likelihood_0 = np.exp(- 0.5 * np.linalg.multi_dot([(feature_set[i] - mu_params[0]), np.linalg.inv(cov_params[0]), np.transpose(feature_set[i] - mu_params[0])])) / (np.power(2 * np.pi, d/2) * np.sqrt(np.linalg.det(cov_params[0])))\n",
    "                likelihood_1 = np.exp(- 0.5 * np.linalg.multi_dot([(feature_set[i] - mu_params[1]), np.linalg.inv(cov_params[1]), np.transpose(feature_set[i] - mu_params[1])])) / (np.power(2 * np.pi, d/2) * np.sqrt(np.linalg.det(cov_params[1])))\n",
    "                numerator_0 = pi_params[0] * likelihood_0\n",
    "                numerator_1 = pi_params[1] * likelihood_1\n",
    "                posterior_0 = numerator_0 / (numerator_0 + numerator_1)\n",
    "                if posterior_0 > threshold:\n",
    "                    group_set[i] = self.class_labels[0]\n",
    "                else: \n",
    "                    group_set[i] = self.class_labels[1]\n",
    "        \n",
    "        # for non-binary classification\n",
    "        else:\n",
    "            group_set = np.zeros((n, 1))\n",
    "            for i in range(n):\n",
    "                winning_class = 0\n",
    "                max_prob = 0\n",
    "                for r in range(k):\n",
    "                    likelihood = np.exp(- 0.5 * np.linalg.multi_dot([(feature_set[i] - mu_params[r]), np.linalg.inv(cov_params[r]), np.transpose(feature_set[i] - mu_params[r])])) / (np.power(2 * np.pi, d/2) * np.sqrt(np.linalg.det(cov_params[r])))\n",
    "                    class_prob = pi_params[r] * likelihood\n",
    "                    if class_prob > max_prob:\n",
    "                        winning_class = r\n",
    "                        max_prob = class_prob\n",
    "                group_set[i] = self.class_labels[winning_class]\n",
    "                \n",
    "        return group_set.ravel().astype(int)\n",
    "        "
   ]
  },
  {
   "cell_type": "markdown",
   "id": "76a4f3da",
   "metadata": {},
   "source": [
    "# Loss function"
   ]
  },
  {
   "cell_type": "code",
   "execution_count": 77,
   "id": "7a86aee5",
   "metadata": {},
   "outputs": [],
   "source": [
    "def loss(y, y_pred, type_of_loss=None):\n",
    "    y = np.array(y)\n",
    "    y_pred = np.array(y_pred)\n",
    "    if type_of_loss == 'mse':\n",
    "        loss = (y - y_pred) ** 2 / len(y)\n",
    "        return loss\n",
    "    elif type_of_loss == '0-1':\n",
    "        # binary classification\n",
    "        # assume that 1 is for positive\n",
    "        # however, we have to reassign the group numbers if we classify wine type 3\n",
    "        if len(np.unique(y_pred)) <= 2:\n",
    "            loss = np.sum(y != y_pred)\n",
    "            # false positive\n",
    "            type_i_error = np.sum(y_pred > y)\n",
    "            # false negative\n",
    "            type_ii_error = np.sum(y > y_pred)\n",
    "            return loss, type_i_error, type_ii_error\n",
    "        else:\n",
    "            loss = np.sum(y != y_pred)\n",
    "            return loss\n",
    "    else: \n",
    "        message = 'type of error not specified'\n",
    "        return message"
   ]
  },
  {
   "cell_type": "markdown",
   "id": "31d1f77c",
   "metadata": {},
   "source": [
    "# Visualize the chosen feature"
   ]
  },
  {
   "cell_type": "code",
   "execution_count": 78,
   "id": "c34d6ecf",
   "metadata": {},
   "outputs": [],
   "source": [
    "# Select two types of wine\n",
    "data_1 = data[data.iloc[:, 0].isin([1, 2])]\n",
    "class_labels = np.array([1, 2])\n",
    "# Choose one predictor\n",
    "feature_set = data_1.iloc[:, 1]\n",
    "group_set = data_1.iloc[:, 0]"
   ]
  },
  {
   "cell_type": "code",
   "execution_count": 79,
   "id": "dd34593e",
   "metadata": {
    "scrolled": true
   },
   "outputs": [
    {
     "data": {
      "text/plain": [
       "<AxesSubplot:>"
      ]
     },
     "execution_count": 79,
     "metadata": {},
     "output_type": "execute_result"
    },
    {
     "data": {
      "image/png": "[encoded data removed]",
      "text/plain": [
       "<Figure size 432x288 with 1 Axes>"
      ]
     },
     "metadata": {
      "needs_background": "light"
     },
     "output_type": "display_data"
    }
   ],
   "source": [
    "feature_set.plot()"
   ]
  },
  {
   "cell_type": "markdown",
   "id": "3b024078",
   "metadata": {},
   "source": [
    "The plot shows that class 2 is relatively low in the amount of feature 1."
   ]
  },
  {
   "cell_type": "markdown",
   "id": "ee7584fe",
   "metadata": {},
   "source": [
    "# Binary classification with one feature"
   ]
  },
  {
   "cell_type": "markdown",
   "id": "a3c0263f",
   "metadata": {},
   "source": [
    "## LDA: Training error"
   ]
  },
  {
   "cell_type": "code",
   "execution_count": 80,
   "id": "09dd9bb4",
   "metadata": {},
   "outputs": [
    {
     "name": "stdout",
     "output_type": "stream",
     "text": [
      "total_error      11\n",
      "type_i_error      7\n",
      "type_ii_error     4\n",
      "dtype: int64\n"
     ]
    }
   ],
   "source": [
    "lda = LinearDiscriminantAnalysis().fit(feature_set, group_set, class_labels)\n",
    "group_set_pred = lda.predict(feature_set)\n",
    "result = pd.Series(loss(group_set, group_set_pred, '0-1'), index = ['total_error', 'type_i_error', 'type_ii_error'])\n",
    "print(result)"
   ]
  },
  {
   "cell_type": "markdown",
   "id": "00de09bd",
   "metadata": {},
   "source": [
    "## LDA: LOOCV error"
   ]
  },
  {
   "cell_type": "code",
   "execution_count": 81,
   "id": "d927e7d2",
   "metadata": {},
   "outputs": [],
   "source": [
    "import math"
   ]
  },
  {
   "cell_type": "code",
   "execution_count": 82,
   "id": "dd7d9d5f",
   "metadata": {},
   "outputs": [
    {
     "name": "stdout",
     "output_type": "stream",
     "text": [
      "total_error      12\n",
      "type_i_error      7\n",
      "type_ii_error     5\n",
      "dtype: int64\n"
     ]
    }
   ],
   "source": [
    "n_train = data_1.shape[0]\n",
    "num_fold = n_train\n",
    "n_fold = math.floor(n_train / num_fold)\n",
    "\n",
    "total_error = 0\n",
    "type_i_error = 0\n",
    "type_ii_error = 0\n",
    "for cur_fold in range(num_fold):\n",
    "    feature_set_fold = feature_set.iloc[cur_fold * n_fold : (cur_fold + 1) * n_fold]\n",
    "    group_set_fold = group_set.iloc[cur_fold * n_fold : (cur_fold + 1) * n_fold]\n",
    "    feature_set_train_fold = feature_set.iloc[np.r_[0 : cur_fold * n_fold, (cur_fold + 1) * n_fold : n_train]]\n",
    "    group_set_train_fold = group_set.iloc[np.r_[0 : cur_fold * n_fold, (cur_fold + 1) * n_fold : n_train]]\n",
    "        \n",
    "    pr = LinearDiscriminantAnalysis().fit(feature_set_train_fold, group_set_train_fold, class_labels)\n",
    "    group_set_pred = pr.predict(feature_set_fold)\n",
    "    total_error += loss(group_set_fold, group_set_pred, '0-1')[0]\n",
    "    type_i_error += loss(group_set_fold, group_set_pred, '0-1')[1]\n",
    "    type_ii_error += loss(group_set_fold, group_set_pred, '0-1')[2]\n",
    "\n",
    "result = pd.Series([total_error, type_i_error, type_ii_error], index = ['total_error', 'type_i_error', 'type_ii_error'])\n",
    "print(result)"
   ]
  },
  {
   "cell_type": "markdown",
   "id": "ca67cfc5",
   "metadata": {},
   "source": [
    "## QDA: Training error"
   ]
  },
  {
   "cell_type": "code",
   "execution_count": 83,
   "id": "6742917f",
   "metadata": {},
   "outputs": [
    {
     "name": "stdout",
     "output_type": "stream",
     "text": [
      "total_error      12\n",
      "type_i_error      7\n",
      "type_ii_error     5\n",
      "dtype: int64\n"
     ]
    }
   ],
   "source": [
    "qda = QuadraticDiscriminantAnalysis().fit(feature_set, group_set, class_labels)\n",
    "group_set_pred = qda.predict(feature_set)\n",
    "result = pd.Series(loss(group_set, group_set_pred, '0-1'), index = ['total_error', 'type_i_error', 'type_ii_error'])\n",
    "print(result)"
   ]
  },
  {
   "cell_type": "markdown",
   "id": "ed50de43",
   "metadata": {},
   "source": [
    "## QDA: LOOCV error"
   ]
  },
  {
   "cell_type": "code",
   "execution_count": 84,
   "id": "522fe17a",
   "metadata": {},
   "outputs": [
    {
     "name": "stdout",
     "output_type": "stream",
     "text": [
      "total_error      12\n",
      "type_i_error      7\n",
      "type_ii_error     5\n",
      "dtype: int64\n"
     ]
    }
   ],
   "source": [
    "n_train = data_1.shape[0]\n",
    "num_fold = n_train\n",
    "n_fold = math.floor(n_train / num_fold)\n",
    "\n",
    "total_error = 0\n",
    "type_i_error = 0\n",
    "type_ii_error = 0\n",
    "for cur_fold in range(num_fold):\n",
    "    feature_set_fold = feature_set.iloc[cur_fold * n_fold : (cur_fold + 1) * n_fold]\n",
    "    group_set_fold = group_set.iloc[cur_fold * n_fold : (cur_fold + 1) * n_fold]\n",
    "    feature_set_train_fold = feature_set.iloc[np.r_[0 : cur_fold * n_fold, (cur_fold + 1) * n_fold : n_train]]\n",
    "    group_set_train_fold = group_set.iloc[np.r_[0 : cur_fold * n_fold, (cur_fold + 1) * n_fold : n_train]]\n",
    "        \n",
    "    pr = QuadraticDiscriminantAnalysis().fit(feature_set_train_fold, group_set_train_fold, class_labels)\n",
    "    group_set_pred = pr.predict(feature_set_fold)\n",
    "    total_error += loss(group_set_fold, group_set_pred, '0-1')[0]\n",
    "    type_i_error += loss(group_set_fold, group_set_pred, '0-1')[1]\n",
    "    type_ii_error += loss(group_set_fold, group_set_pred, '0-1')[2]\n",
    "\n",
    "result = pd.Series([total_error, type_i_error, type_ii_error], index = ['total_error', 'type_i_error', 'type_ii_error'])\n",
    "print(result)"
   ]
  },
  {
   "cell_type": "markdown",
   "id": "a133ca69",
   "metadata": {},
   "source": [
    "## NBG: Training error"
   ]
  },
  {
   "cell_type": "code",
   "execution_count": 85,
   "id": "a0d26dc0",
   "metadata": {},
   "outputs": [
    {
     "name": "stdout",
     "output_type": "stream",
     "text": [
      "total_error      12\n",
      "type_i_error      7\n",
      "type_ii_error     5\n",
      "dtype: int64\n"
     ]
    }
   ],
   "source": [
    "nbg = NaiveBayesGaussian().fit(feature_set, group_set, class_labels)\n",
    "group_set_pred = nbg.predict(feature_set)\n",
    "result = pd.Series(loss(group_set, group_set_pred, '0-1'), index = ['total_error', 'type_i_error', 'type_ii_error'])\n",
    "print(result)"
   ]
  },
  {
   "cell_type": "markdown",
   "id": "9acaf9ab",
   "metadata": {},
   "source": [
    "## NBG: LOOCV error"
   ]
  },
  {
   "cell_type": "code",
   "execution_count": 86,
   "id": "65f1d962",
   "metadata": {},
   "outputs": [
    {
     "name": "stdout",
     "output_type": "stream",
     "text": [
      "total_error      12\n",
      "type_i_error      7\n",
      "type_ii_error     5\n",
      "dtype: int64\n"
     ]
    }
   ],
   "source": [
    "n_train = data_1.shape[0]\n",
    "num_fold = n_train\n",
    "n_fold = math.floor(n_train / num_fold)\n",
    "\n",
    "total_error = 0\n",
    "type_i_error = 0\n",
    "type_ii_error = 0\n",
    "for cur_fold in range(num_fold):\n",
    "    feature_set_fold = feature_set.iloc[cur_fold * n_fold : (cur_fold + 1) * n_fold]\n",
    "    group_set_fold = group_set.iloc[cur_fold * n_fold : (cur_fold + 1) * n_fold]\n",
    "    feature_set_train_fold = feature_set.iloc[np.r_[0 : cur_fold * n_fold, (cur_fold + 1) * n_fold : n_train]]\n",
    "    group_set_train_fold = group_set.iloc[np.r_[0 : cur_fold * n_fold, (cur_fold + 1) * n_fold : n_train]]\n",
    "        \n",
    "    pr = NaiveBayesGaussian().fit(feature_set_train_fold, group_set_train_fold, class_labels)\n",
    "    group_set_pred = pr.predict(feature_set_fold)\n",
    "    total_error += loss(group_set_fold, group_set_pred, '0-1')[0]\n",
    "    type_i_error += loss(group_set_fold, group_set_pred, '0-1')[1]\n",
    "    type_ii_error += loss(group_set_fold, group_set_pred, '0-1')[2]\n",
    "\n",
    "result = pd.Series([total_error, type_i_error, type_ii_error], index = ['total_error', 'type_i_error', 'type_ii_error'])\n",
    "print(result)"
   ]
  },
  {
   "cell_type": "markdown",
   "id": "24d01656",
   "metadata": {},
   "source": [
    "## Performance of the classifiers"
   ]
  },
  {
   "cell_type": "markdown",
   "id": "95040ab8",
   "metadata": {},
   "source": [
    "We can't observe too much difference among the classifiers. I think the performance in general is not bad, because the sample size is over 120, and there are just over 10 which are miss classified."
   ]
  },
  {
   "cell_type": "markdown",
   "id": "d042c963",
   "metadata": {},
   "source": [
    "# Binary classification with 2 features"
   ]
  },
  {
   "cell_type": "code",
   "execution_count": 87,
   "id": "8a444de6",
   "metadata": {},
   "outputs": [],
   "source": [
    "# Select two types of wine\n",
    "data_1 = data[data.iloc[:, 0].isin([1, 2])]\n",
    "class_labels = np.array([1, 2])\n",
    "# Choose one predictor\n",
    "feature_set = data_1.iloc[:, 1 : 3]\n",
    "group_set = data_1.iloc[:, 0]"
   ]
  },
  {
   "cell_type": "markdown",
   "id": "e83a653c",
   "metadata": {},
   "source": [
    "## LDA: Training error"
   ]
  },
  {
   "cell_type": "code",
   "execution_count": 88,
   "id": "3a15602d",
   "metadata": {},
   "outputs": [
    {
     "name": "stdout",
     "output_type": "stream",
     "text": [
      "total_error      13\n",
      "type_i_error      7\n",
      "type_ii_error     6\n",
      "dtype: int64\n"
     ]
    }
   ],
   "source": [
    "lda = LinearDiscriminantAnalysis().fit(feature_set, group_set, class_labels)\n",
    "group_set_pred = lda.predict(feature_set)\n",
    "result = pd.Series(loss(group_set, group_set_pred, '0-1'), index = ['total_error', 'type_i_error', 'type_ii_error'])\n",
    "print(result)"
   ]
  },
  {
   "cell_type": "markdown",
   "id": "3846139e",
   "metadata": {},
   "source": [
    "## LDA: LOOCV error"
   ]
  },
  {
   "cell_type": "code",
   "execution_count": 89,
   "id": "88606ff2",
   "metadata": {},
   "outputs": [
    {
     "name": "stdout",
     "output_type": "stream",
     "text": [
      "total_error      13\n",
      "type_i_error      7\n",
      "type_ii_error     6\n",
      "dtype: int64\n"
     ]
    }
   ],
   "source": [
    "n_train = data_1.shape[0]\n",
    "num_fold = n_train\n",
    "n_fold = math.floor(n_train / num_fold)\n",
    "\n",
    "total_error = 0\n",
    "type_i_error = 0\n",
    "type_ii_error = 0\n",
    "for cur_fold in range(num_fold):\n",
    "    feature_set_fold = feature_set.iloc[cur_fold * n_fold : (cur_fold + 1) * n_fold]\n",
    "    group_set_fold = group_set.iloc[cur_fold * n_fold : (cur_fold + 1) * n_fold]\n",
    "    feature_set_train_fold = feature_set.iloc[np.r_[0 : cur_fold * n_fold, (cur_fold + 1) * n_fold : n_train]]\n",
    "    group_set_train_fold = group_set.iloc[np.r_[0 : cur_fold * n_fold, (cur_fold + 1) * n_fold : n_train]]\n",
    "        \n",
    "    pr = LinearDiscriminantAnalysis().fit(feature_set_train_fold, group_set_train_fold, class_labels)\n",
    "    group_set_pred = pr.predict(feature_set_fold)\n",
    "    total_error += loss(group_set_fold, group_set_pred, '0-1')[0]\n",
    "    type_i_error += loss(group_set_fold, group_set_pred, '0-1')[1]\n",
    "    type_ii_error += loss(group_set_fold, group_set_pred, '0-1')[2]\n",
    "\n",
    "result = pd.Series([total_error, type_i_error, type_ii_error], index = ['total_error', 'type_i_error', 'type_ii_error'])\n",
    "print(result)"
   ]
  },
  {
   "cell_type": "markdown",
   "id": "05f33d8b",
   "metadata": {},
   "source": [
    "## QDA: Training error"
   ]
  },
  {
   "cell_type": "code",
   "execution_count": 90,
   "id": "66bbbb28",
   "metadata": {},
   "outputs": [
    {
     "name": "stdout",
     "output_type": "stream",
     "text": [
      "total_error      7\n",
      "type_i_error     3\n",
      "type_ii_error    4\n",
      "dtype: int64\n"
     ]
    }
   ],
   "source": [
    "qda = QuadraticDiscriminantAnalysis().fit(feature_set, group_set, class_labels)\n",
    "group_set_pred = qda.predict(feature_set)\n",
    "result = pd.Series(loss(group_set, group_set_pred, '0-1'), index = ['total_error', 'type_i_error', 'type_ii_error'])\n",
    "print(result)"
   ]
  },
  {
   "cell_type": "markdown",
   "id": "ee9b5013",
   "metadata": {},
   "source": [
    "## QDA: LOOCV error"
   ]
  },
  {
   "cell_type": "code",
   "execution_count": 91,
   "id": "c7c2d4a6",
   "metadata": {},
   "outputs": [
    {
     "name": "stdout",
     "output_type": "stream",
     "text": [
      "total_error      7\n",
      "type_i_error     3\n",
      "type_ii_error    4\n",
      "dtype: int64\n"
     ]
    }
   ],
   "source": [
    "n_train = data_1.shape[0]\n",
    "num_fold = n_train\n",
    "n_fold = math.floor(n_train / num_fold)\n",
    "\n",
    "total_error = 0\n",
    "type_i_error = 0\n",
    "type_ii_error = 0\n",
    "for cur_fold in range(num_fold):\n",
    "    feature_set_fold = feature_set.iloc[cur_fold * n_fold : (cur_fold + 1) * n_fold]\n",
    "    group_set_fold = group_set.iloc[cur_fold * n_fold : (cur_fold + 1) * n_fold]\n",
    "    feature_set_train_fold = feature_set.iloc[np.r_[0 : cur_fold * n_fold, (cur_fold + 1) * n_fold : n_train]]\n",
    "    group_set_train_fold = group_set.iloc[np.r_[0 : cur_fold * n_fold, (cur_fold + 1) * n_fold : n_train]]\n",
    "        \n",
    "    pr = QuadraticDiscriminantAnalysis().fit(feature_set_train_fold, group_set_train_fold, class_labels)\n",
    "    group_set_pred = pr.predict(feature_set_fold)\n",
    "    total_error += loss(group_set_fold, group_set_pred, '0-1')[0]\n",
    "    type_i_error += loss(group_set_fold, group_set_pred, '0-1')[1]\n",
    "    type_ii_error += loss(group_set_fold, group_set_pred, '0-1')[2]\n",
    "\n",
    "result = pd.Series([total_error, type_i_error, type_ii_error], index = ['total_error', 'type_i_error', 'type_ii_error'])\n",
    "print(result)"
   ]
  },
  {
   "cell_type": "markdown",
   "id": "6f656b19",
   "metadata": {},
   "source": [
    "## NBG: Training error"
   ]
  },
  {
   "cell_type": "code",
   "execution_count": 92,
   "id": "0652953c",
   "metadata": {},
   "outputs": [
    {
     "name": "stdout",
     "output_type": "stream",
     "text": [
      "total_error      7\n",
      "type_i_error     3\n",
      "type_ii_error    4\n",
      "dtype: int64\n"
     ]
    }
   ],
   "source": [
    "nbg = NaiveBayesGaussian().fit(feature_set, group_set, class_labels)\n",
    "group_set_pred = nbg.predict(feature_set)\n",
    "result = pd.Series(loss(group_set, group_set_pred, '0-1'), index = ['total_error', 'type_i_error', 'type_ii_error'])\n",
    "print(result)"
   ]
  },
  {
   "cell_type": "markdown",
   "id": "82f39c04",
   "metadata": {},
   "source": [
    "## NBG: LOOCV error"
   ]
  },
  {
   "cell_type": "code",
   "execution_count": 93,
   "id": "bb54e7b4",
   "metadata": {},
   "outputs": [
    {
     "name": "stdout",
     "output_type": "stream",
     "text": [
      "total_error      8\n",
      "type_i_error     3\n",
      "type_ii_error    5\n",
      "dtype: int64\n"
     ]
    }
   ],
   "source": [
    "n_train = data_1.shape[0]\n",
    "num_fold = n_train\n",
    "n_fold = math.floor(n_train / num_fold)\n",
    "\n",
    "total_error = 0\n",
    "type_i_error = 0\n",
    "type_ii_error = 0\n",
    "for cur_fold in range(num_fold):\n",
    "    feature_set_fold = feature_set.iloc[cur_fold * n_fold : (cur_fold + 1) * n_fold]\n",
    "    group_set_fold = group_set.iloc[cur_fold * n_fold : (cur_fold + 1) * n_fold]\n",
    "    feature_set_train_fold = feature_set.iloc[np.r_[0 : cur_fold * n_fold, (cur_fold + 1) * n_fold : n_train]]\n",
    "    group_set_train_fold = group_set.iloc[np.r_[0 : cur_fold * n_fold, (cur_fold + 1) * n_fold : n_train]]\n",
    "        \n",
    "    pr = NaiveBayesGaussian().fit(feature_set_train_fold, group_set_train_fold, class_labels)\n",
    "    group_set_pred = pr.predict(feature_set_fold)\n",
    "    total_error += loss(group_set_fold, group_set_pred, '0-1')[0]\n",
    "    type_i_error += loss(group_set_fold, group_set_pred, '0-1')[1]\n",
    "    type_ii_error += loss(group_set_fold, group_set_pred, '0-1')[2]\n",
    "\n",
    "result = pd.Series([total_error, type_i_error, type_ii_error], index = ['total_error', 'type_i_error', 'type_ii_error'])\n",
    "print(result)"
   ]
  },
  {
   "cell_type": "markdown",
   "id": "cb4b5741",
   "metadata": {},
   "source": [
    "# 3-Classes classification with many features"
   ]
  },
  {
   "cell_type": "code",
   "execution_count": 103,
   "id": "82b8ed49",
   "metadata": {},
   "outputs": [],
   "source": [
    "group_set = data.iloc[:, 0]\n",
    "feature_set = data.iloc[:, 1:]\n",
    "class_labels = group_set.unique()"
   ]
  },
  {
   "cell_type": "markdown",
   "id": "57f5f71e",
   "metadata": {},
   "source": [
    "## LDA: Training error"
   ]
  },
  {
   "cell_type": "code",
   "execution_count": 104,
   "id": "39f3f8c6",
   "metadata": {},
   "outputs": [
    {
     "name": "stdout",
     "output_type": "stream",
     "text": [
      "total_error      0\n",
      "type_i_error     0\n",
      "type_ii_error    0\n",
      "dtype: int32\n"
     ]
    }
   ],
   "source": [
    "lda = LinearDiscriminantAnalysis().fit(feature_set, group_set, class_labels)\n",
    "group_set_pred = lda.predict(feature_set)\n",
    "result = pd.Series(loss(group_set, group_set_pred, '0-1'), index = ['total_error', 'type_i_error', 'type_ii_error'])\n",
    "print(result)"
   ]
  },
  {
   "cell_type": "markdown",
   "id": "3886cc77",
   "metadata": {},
   "source": [
    "## LDA: LOOCV error"
   ]
  },
  {
   "cell_type": "code",
   "execution_count": 106,
   "id": "ea2f6be4",
   "metadata": {},
   "outputs": [
    {
     "name": "stdout",
     "output_type": "stream",
     "text": [
      "total_error      1\n",
      "type_i_error     0\n",
      "type_ii_error    1\n",
      "dtype: int64\n"
     ]
    }
   ],
   "source": [
    "n_train = data.shape[0]\n",
    "num_fold = n_train\n",
    "n_fold = math.floor(n_train / num_fold)\n",
    "\n",
    "total_error = 0\n",
    "type_i_error = 0\n",
    "type_ii_error = 0\n",
    "for cur_fold in range(num_fold):\n",
    "    feature_set_fold = feature_set.iloc[cur_fold * n_fold : (cur_fold + 1) * n_fold]\n",
    "    group_set_fold = group_set.iloc[cur_fold * n_fold : (cur_fold + 1) * n_fold]\n",
    "    feature_set_train_fold = feature_set.iloc[np.r_[0 : cur_fold * n_fold, (cur_fold + 1) * n_fold : n_train]]\n",
    "    group_set_train_fold = group_set.iloc[np.r_[0 : cur_fold * n_fold, (cur_fold + 1) * n_fold : n_train]]\n",
    "        \n",
    "    pr = LinearDiscriminantAnalysis().fit(feature_set_train_fold, group_set_train_fold, class_labels)\n",
    "    group_set_pred = pr.predict(feature_set_fold)\n",
    "    total_error += loss(group_set_fold, group_set_pred, '0-1')[0]\n",
    "    type_i_error += loss(group_set_fold, group_set_pred, '0-1')[1]\n",
    "    type_ii_error += loss(group_set_fold, group_set_pred, '0-1')[2]\n",
    "\n",
    "result = pd.Series([total_error, type_i_error, type_ii_error], index = ['total_error', 'type_i_error', 'type_ii_error'])\n",
    "print(result)"
   ]
  },
  {
   "cell_type": "markdown",
   "id": "6723e49e",
   "metadata": {},
   "source": [
    "## QDA: Training error"
   ]
  },
  {
   "cell_type": "code",
   "execution_count": 107,
   "id": "5c269ec9",
   "metadata": {},
   "outputs": [
    {
     "name": "stdout",
     "output_type": "stream",
     "text": [
      "total_error      1\n",
      "type_i_error     1\n",
      "type_ii_error    1\n",
      "dtype: int32\n"
     ]
    }
   ],
   "source": [
    "qda = QuadraticDiscriminantAnalysis().fit(feature_set, group_set, class_labels)\n",
    "group_set_pred = qda.predict(feature_set)\n",
    "result = pd.Series(loss(group_set, group_set_pred, '0-1'), index = ['total_error', 'type_i_error', 'type_ii_error'])\n",
    "print(result)"
   ]
  },
  {
   "cell_type": "markdown",
   "id": "db34d7eb",
   "metadata": {},
   "source": [
    "## QDA: LOOCV error"
   ]
  },
  {
   "cell_type": "code",
   "execution_count": 99,
   "id": "e67f6e21",
   "metadata": {},
   "outputs": [
    {
     "name": "stdout",
     "output_type": "stream",
     "text": [
      "total_error      1\n",
      "type_i_error     0\n",
      "type_ii_error    1\n",
      "dtype: int64\n"
     ]
    }
   ],
   "source": [
    "n_train = data.shape[0]\n",
    "num_fold = n_train\n",
    "n_fold = math.floor(n_train / num_fold)\n",
    "\n",
    "total_error = 0\n",
    "type_i_error = 0\n",
    "type_ii_error = 0\n",
    "for cur_fold in range(num_fold):\n",
    "    feature_set_fold = feature_set.iloc[cur_fold * n_fold : (cur_fold + 1) * n_fold]\n",
    "    group_set_fold = group_set.iloc[cur_fold * n_fold : (cur_fold + 1) * n_fold]\n",
    "    feature_set_train_fold = feature_set.iloc[np.r_[0 : cur_fold * n_fold, (cur_fold + 1) * n_fold : n_train]]\n",
    "    group_set_train_fold = group_set.iloc[np.r_[0 : cur_fold * n_fold, (cur_fold + 1) * n_fold : n_train]]\n",
    "        \n",
    "    pr = QuadraticDiscriminantAnalysis().fit(feature_set_train_fold, group_set_train_fold, class_labels)\n",
    "    group_set_pred = pr.predict(feature_set_fold)\n",
    "    total_error += loss(group_set_fold, group_set_pred, '0-1')[0]\n",
    "    type_i_error += loss(group_set_fold, group_set_pred, '0-1')[1]\n",
    "    type_ii_error += loss(group_set_fold, group_set_pred, '0-1')[2]\n",
    "\n",
    "result = pd.Series([total_error, type_i_error, type_ii_error], index = ['total_error', 'type_i_error', 'type_ii_error'])\n",
    "print(result)"
   ]
  }
 ],
 "metadata": {
  "kernelspec": {
   "display_name": "Python 3",
   "language": "python",
   "name": "python3"
  },
  "language_info": {
   "codemirror_mode": {
    "name": "ipython",
    "version": 3
   },
   "file_extension": ".py",
   "mimetype": "text/x-python",
   "name": "python",
   "nbconvert_exporter": "python",
   "pygments_lexer": "ipython3",
   "version": "3.8.5"
  }
 },
 "nbformat": 4,
 "nbformat_minor": 5
}
