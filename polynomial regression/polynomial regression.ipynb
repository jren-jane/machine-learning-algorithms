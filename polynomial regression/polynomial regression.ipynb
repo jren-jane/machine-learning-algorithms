{
 "cells": [
  {
   "cell_type": "markdown",
   "id": "11feb353",
   "metadata": {},
   "source": [
    "# Polynomial regression"
   ]
  },
  {
   "cell_type": "markdown",
   "id": "992b116a",
   "metadata": {
    "heading_collapsed": true
   },
   "source": [
    "## Train-test split"
   ]
  },
  {
   "cell_type": "code",
   "execution_count": 1,
   "id": "326f0e93",
   "metadata": {
    "hidden": true
   },
   "outputs": [],
   "source": [
    "import numpy as np\n",
    "import pandas as pd\n",
    "import matplotlib.pyplot as plt\n",
    "%matplotlib inline\n",
    "\n",
    "data = pd.read_csv('boston.csv')"
   ]
  },
  {
   "cell_type": "code",
   "execution_count": 2,
   "id": "178c7179",
   "metadata": {
    "hidden": true,
    "scrolled": true
   },
   "outputs": [
    {
     "data": {
      "text/html": [
       "<div>\n",
       "<style scoped>\n",
       "    .dataframe tbody tr th:only-of-type {\n",
       "        vertical-align: middle;\n",
       "    }\n",
       "\n",
       "    .dataframe tbody tr th {\n",
       "        vertical-align: top;\n",
       "    }\n",
       "\n",
       "    .dataframe thead th {\n",
       "        text-align: right;\n",
       "    }\n",
       "</style>\n",
       "<table border=\"1\" class=\"dataframe\">\n",
       "  <thead>\n",
       "    <tr style=\"text-align: right;\">\n",
       "      <th></th>\n",
       "      <th>crim</th>\n",
       "      <th>zn</th>\n",
       "      <th>indus</th>\n",
       "      <th>chas</th>\n",
       "      <th>nox</th>\n",
       "      <th>rm</th>\n",
       "      <th>age</th>\n",
       "      <th>dis</th>\n",
       "      <th>rad</th>\n",
       "      <th>tax</th>\n",
       "      <th>ptratio</th>\n",
       "      <th>b</th>\n",
       "      <th>lstat</th>\n",
       "      <th>medv</th>\n",
       "    </tr>\n",
       "  </thead>\n",
       "  <tbody>\n",
       "    <tr>\n",
       "      <th>0</th>\n",
       "      <td>0.00632</td>\n",
       "      <td>18.0</td>\n",
       "      <td>2.31</td>\n",
       "      <td>0</td>\n",
       "      <td>0.538</td>\n",
       "      <td>6.575</td>\n",
       "      <td>65.2</td>\n",
       "      <td>4.0900</td>\n",
       "      <td>1</td>\n",
       "      <td>296</td>\n",
       "      <td>15.3</td>\n",
       "      <td>396.90</td>\n",
       "      <td>4.98</td>\n",
       "      <td>24.0</td>\n",
       "    </tr>\n",
       "    <tr>\n",
       "      <th>1</th>\n",
       "      <td>0.02731</td>\n",
       "      <td>0.0</td>\n",
       "      <td>7.07</td>\n",
       "      <td>0</td>\n",
       "      <td>0.469</td>\n",
       "      <td>6.421</td>\n",
       "      <td>78.9</td>\n",
       "      <td>4.9671</td>\n",
       "      <td>2</td>\n",
       "      <td>242</td>\n",
       "      <td>17.8</td>\n",
       "      <td>396.90</td>\n",
       "      <td>9.14</td>\n",
       "      <td>21.6</td>\n",
       "    </tr>\n",
       "    <tr>\n",
       "      <th>2</th>\n",
       "      <td>0.02729</td>\n",
       "      <td>0.0</td>\n",
       "      <td>7.07</td>\n",
       "      <td>0</td>\n",
       "      <td>0.469</td>\n",
       "      <td>7.185</td>\n",
       "      <td>61.1</td>\n",
       "      <td>4.9671</td>\n",
       "      <td>2</td>\n",
       "      <td>242</td>\n",
       "      <td>17.8</td>\n",
       "      <td>392.83</td>\n",
       "      <td>4.03</td>\n",
       "      <td>34.7</td>\n",
       "    </tr>\n",
       "    <tr>\n",
       "      <th>3</th>\n",
       "      <td>0.03237</td>\n",
       "      <td>0.0</td>\n",
       "      <td>2.18</td>\n",
       "      <td>0</td>\n",
       "      <td>0.458</td>\n",
       "      <td>6.998</td>\n",
       "      <td>45.8</td>\n",
       "      <td>6.0622</td>\n",
       "      <td>3</td>\n",
       "      <td>222</td>\n",
       "      <td>18.7</td>\n",
       "      <td>394.63</td>\n",
       "      <td>2.94</td>\n",
       "      <td>33.4</td>\n",
       "    </tr>\n",
       "    <tr>\n",
       "      <th>4</th>\n",
       "      <td>0.06905</td>\n",
       "      <td>0.0</td>\n",
       "      <td>2.18</td>\n",
       "      <td>0</td>\n",
       "      <td>0.458</td>\n",
       "      <td>7.147</td>\n",
       "      <td>54.2</td>\n",
       "      <td>6.0622</td>\n",
       "      <td>3</td>\n",
       "      <td>222</td>\n",
       "      <td>18.7</td>\n",
       "      <td>396.90</td>\n",
       "      <td>5.33</td>\n",
       "      <td>36.2</td>\n",
       "    </tr>\n",
       "  </tbody>\n",
       "</table>\n",
       "</div>"
      ],
      "text/plain": [
       "      crim    zn  indus  chas    nox     rm   age     dis  rad  tax  ptratio  \\\n",
       "0  0.00632  18.0   2.31     0  0.538  6.575  65.2  4.0900    1  296     15.3   \n",
       "1  0.02731   0.0   7.07     0  0.469  6.421  78.9  4.9671    2  242     17.8   \n",
       "2  0.02729   0.0   7.07     0  0.469  7.185  61.1  4.9671    2  242     17.8   \n",
       "3  0.03237   0.0   2.18     0  0.458  6.998  45.8  6.0622    3  222     18.7   \n",
       "4  0.06905   0.0   2.18     0  0.458  7.147  54.2  6.0622    3  222     18.7   \n",
       "\n",
       "        b  lstat  medv  \n",
       "0  396.90   4.98  24.0  \n",
       "1  396.90   9.14  21.6  \n",
       "2  392.83   4.03  34.7  \n",
       "3  394.63   2.94  33.4  \n",
       "4  396.90   5.33  36.2  "
      ]
     },
     "execution_count": 2,
     "metadata": {},
     "output_type": "execute_result"
    }
   ],
   "source": [
    "data.head()"
   ]
  },
  {
   "cell_type": "code",
   "execution_count": 3,
   "id": "996d320d",
   "metadata": {
    "hidden": true
   },
   "outputs": [],
   "source": [
    "def train_test_split(data, test_ratio):\n",
    "    shuffled_indices = np.random.permutation(len(data))\n",
    "    test_size = int(len(data) * test_ratio)\n",
    "    test_indices = shuffled_indices[:test_size]\n",
    "    train_indices = shuffled_indices[test_size:]\n",
    "    return data.iloc[train_indices], data.iloc[test_indices]"
   ]
  },
  {
   "cell_type": "code",
   "execution_count": 4,
   "id": "a7f4023a",
   "metadata": {
    "hidden": true,
    "scrolled": true
   },
   "outputs": [],
   "source": [
    "train_sample, test_sample = train_test_split(data, 0.2)"
   ]
  },
  {
   "cell_type": "code",
   "execution_count": 5,
   "id": "64226a13",
   "metadata": {
    "hidden": true
   },
   "outputs": [],
   "source": [
    "feature_size = data.shape[1]\n",
    "train_size = train_sample.shape[0]\n",
    "Y_train = train_sample['medv']\n",
    "X_train = train_sample.drop(['medv'], axis = 1)"
   ]
  },
  {
   "cell_type": "markdown",
   "id": "514b8975",
   "metadata": {
    "heading_collapsed": true
   },
   "source": [
    "## Predictor filtering"
   ]
  },
  {
   "cell_type": "markdown",
   "id": "d1d06cad",
   "metadata": {
    "hidden": true
   },
   "source": [
    "### Correlation with the target variable"
   ]
  },
  {
   "cell_type": "code",
   "execution_count": 6,
   "id": "817bec30",
   "metadata": {
    "hidden": true
   },
   "outputs": [],
   "source": [
    "# I avoid using the internal corr function, of course...\n",
    "def corr_pearson(X, Y):\n",
    "    corr_pearson = []\n",
    "    for j in range(X.shape[1]):\n",
    "        X_temp = X.iloc[:, j] - np.mean(X.iloc[:, j])\n",
    "        Y_temp = Y - np.mean(Y)\n",
    "        R_temp = np.dot(X_temp, Y_temp) / np.sqrt(np.dot(X_temp, X_temp) * np.dot(Y_temp, Y_temp))\n",
    "        corr_pearson.append(R_temp)\n",
    "    return corr_pearson\n",
    "    "
   ]
  },
  {
   "cell_type": "code",
   "execution_count": 7,
   "id": "3b7f15a7",
   "metadata": {
    "hidden": true
   },
   "outputs": [
    {
     "data": {
      "text/plain": [
       "[-0.331782646421365,\n",
       " 0.34232444638602477,\n",
       " -0.44379428912512137,\n",
       " 0.1823570142004498,\n",
       " -0.3836836266470075,\n",
       " 0.7003129406310663,\n",
       " -0.33969045122577773,\n",
       " 0.19074356968768696,\n",
       " -0.3090916299532313,\n",
       " -0.4141125599231345,\n",
       " -0.5007277460031369,\n",
       " 0.317093528597443,\n",
       " -0.7186536529838224]"
      ]
     },
     "execution_count": 7,
     "metadata": {},
     "output_type": "execute_result"
    }
   ],
   "source": [
    "corr_pearson(X_train, Y_train)"
   ]
  },
  {
   "cell_type": "code",
   "execution_count": 8,
   "id": "13925c3f",
   "metadata": {
    "hidden": true
   },
   "outputs": [],
   "source": [
    "absolute_values = [abs(number) for number in corr_pearson(X_train, Y_train)]"
   ]
  },
  {
   "cell_type": "code",
   "execution_count": 9,
   "id": "c0d692d5",
   "metadata": {
    "hidden": true
   },
   "outputs": [],
   "source": [
    "best_2_indices = np.argsort(absolute_values, axis=0)[-2:]"
   ]
  },
  {
   "cell_type": "code",
   "execution_count": 10,
   "id": "2e6b8e22",
   "metadata": {
    "hidden": true
   },
   "outputs": [
    {
     "data": {
      "text/plain": [
       "Index(['rm', 'lstat'], dtype='object')"
      ]
     },
     "execution_count": 10,
     "metadata": {},
     "output_type": "execute_result"
    }
   ],
   "source": [
    "best_2_names = data.columns[best_2_indices]\n",
    "best_2_names"
   ]
  },
  {
   "cell_type": "markdown",
   "id": "559bcf55",
   "metadata": {
    "hidden": true
   },
   "source": [
    "### Correlation matrix with all variables"
   ]
  },
  {
   "cell_type": "code",
   "execution_count": 11,
   "id": "537753c4",
   "metadata": {
    "hidden": true,
    "scrolled": false
   },
   "outputs": [],
   "source": [
    "import itertools as it"
   ]
  },
  {
   "cell_type": "code",
   "execution_count": 12,
   "id": "6f56ca27",
   "metadata": {
    "hidden": true
   },
   "outputs": [],
   "source": [
    "def corr_pearson_matrix(X):\n",
    "    corr_pearson_matrix = np.ones((X.shape[1], X.shape[1]))\n",
    "    for j, k in it.permutations(range(X.shape[1]), 2):\n",
    "        X_j_temp = X.iloc[:, j] - np.mean(X.iloc[:, j])\n",
    "        X_k_temp = X.iloc[:, k] - np.mean(X.iloc[:, k])\n",
    "        R_temp = np.dot(X_j_temp, X_k_temp) / np.sqrt(np.dot(X_j_temp, X_j_temp) * np.dot(X_k_temp, X_k_temp))\n",
    "        corr_pearson_matrix[j, k] = R_temp\n",
    "    return corr_pearson_matrix"
   ]
  },
  {
   "cell_type": "code",
   "execution_count": 13,
   "id": "c7fde1fe",
   "metadata": {
    "hidden": true,
    "scrolled": false
   },
   "outputs": [],
   "source": [
    "corr_train_matrix = corr_pearson_matrix(train_sample)"
   ]
  },
  {
   "cell_type": "code",
   "execution_count": 14,
   "id": "64c0e414",
   "metadata": {
    "hidden": true
   },
   "outputs": [
    {
     "data": {
      "image/png": "[encoded data removed]",
      "text/plain": [
       "<Figure size 432x288 with 2 Axes>"
      ]
     },
     "metadata": {
      "needs_background": "light"
     },
     "output_type": "display_data"
    }
   ],
   "source": [
    "import seaborn as sns\n",
    "\n",
    "corr_heatmap = sns.heatmap(corr_train_matrix)"
   ]
  },
  {
   "cell_type": "markdown",
   "id": "91414131",
   "metadata": {
    "hidden": true
   },
   "source": [
    "Looking at the last column of the heatmap, we choose two that are either the darkest or the brightest--5 and 12. "
   ]
  },
  {
   "cell_type": "markdown",
   "id": "85bf9716",
   "metadata": {
    "hidden": true
   },
   "source": [
    "If we observe the rest, I would say that (8, 9) is suspected to be linearly dependent. \n",
    "Let me print out their values."
   ]
  },
  {
   "cell_type": "code",
   "execution_count": 15,
   "id": "4cef0d9c",
   "metadata": {
    "hidden": true
   },
   "outputs": [
    {
     "data": {
      "text/plain": [
       "0.8952652678012551"
      ]
     },
     "execution_count": 15,
     "metadata": {},
     "output_type": "execute_result"
    }
   ],
   "source": [
    "corr_train_matrix[8, 9]"
   ]
  },
  {
   "cell_type": "markdown",
   "id": "04287e04",
   "metadata": {
    "heading_collapsed": true
   },
   "source": [
    "##  Multiple regression model based on X1 and X2"
   ]
  },
  {
   "cell_type": "code",
   "execution_count": 16,
   "id": "acfb9206",
   "metadata": {
    "hidden": true
   },
   "outputs": [],
   "source": [
    "regressors_ind = best_2_names\n",
    "explained_var_ind = \"medv\""
   ]
  },
  {
   "cell_type": "code",
   "execution_count": 17,
   "id": "39afa356",
   "metadata": {
    "hidden": true
   },
   "outputs": [],
   "source": [
    "def feature_normalize(df, mu=None, sigma=None):\n",
    "    # copy the dataframe\n",
    "    if df.size == 0:\n",
    "        return df, None, None\n",
    "    df_normalized = df.copy()\n",
    "    if mu is None and sigma is None:\n",
    "        mu = df_normalized.mean(axis=0)\n",
    "        sigma = df_normalized.std(axis=0, ddof=1)\n",
    "    df_normalized = (df_normalized - mu) / sigma\n",
    "    return df_normalized, mu, sigma"
   ]
  },
  {
   "cell_type": "code",
   "execution_count": 18,
   "id": "c13e2233",
   "metadata": {
    "hidden": true
   },
   "outputs": [],
   "source": [
    "X = train_sample[regressors_ind]\n",
    "\n",
    "X_norm = feature_normalize(X)[0]\n",
    "mu = feature_normalize(X)[1]\n",
    "sigma = feature_normalize(X)[2]\n",
    "\n",
    "X_train = X_norm.copy()\n",
    "\n",
    "n, d = X_train.shape\n",
    "X_train.insert(0, \"Ones\", np.ones((n, 1)))\n"
   ]
  },
  {
   "cell_type": "code",
   "execution_count": 19,
   "id": "178af7f2",
   "metadata": {
    "hidden": true
   },
   "outputs": [],
   "source": [
    "Y_train = pd.DataFrame(train_sample[explained_var_ind])\n"
   ]
  },
  {
   "cell_type": "code",
   "execution_count": 20,
   "id": "eaf3e100",
   "metadata": {
    "hidden": true
   },
   "outputs": [
    {
     "data": {
      "text/plain": [
       "array([405.        , 652.74590249, 155.25409751])"
      ]
     },
     "metadata": {},
     "output_type": "display_data"
    },
    {
     "data": {
      "text/plain": [
       "4.204371497695609"
      ]
     },
     "metadata": {},
     "output_type": "display_data"
    }
   ],
   "source": [
    "covXX = X_train.T.dot(X_train)\n",
    "eigs_covXX = np.linalg.eig(covXX)[0]\n",
    "cond_num_covXX = max(abs(eigs_covXX)) / min(abs(eigs_covXX))\n",
    "display(eigs_covXX)\n",
    "display(cond_num_covXX)"
   ]
  },
  {
   "cell_type": "code",
   "execution_count": 21,
   "id": "01f4ce01",
   "metadata": {
    "hidden": true
   },
   "outputs": [
    {
     "data": {
      "text/plain": [
       "array([[23.08098765],\n",
       "       [ 3.92926159],\n",
       "       [-4.3808601 ]])"
      ]
     },
     "execution_count": 21,
     "metadata": {},
     "output_type": "execute_result"
    }
   ],
   "source": [
    "beta_OLS_explicit_rm_lstat = np.linalg.inv(covXX).dot(X_train.T).dot(Y_train)\n",
    "beta_OLS_explicit_rm_lstat"
   ]
  },
  {
   "cell_type": "code",
   "execution_count": 22,
   "id": "ee464c9b",
   "metadata": {
    "hidden": true
   },
   "outputs": [
    {
     "data": {
      "text/plain": [
       "(array([23.08098765]), array([[ 3.92926159, -4.3808601 ]]))"
      ]
     },
     "metadata": {},
     "output_type": "display_data"
    },
    {
     "data": {
      "text/plain": [
       "medv    23.080988\n",
       "dtype: float64"
      ]
     },
     "metadata": {},
     "output_type": "display_data"
    }
   ],
   "source": [
    "from sklearn import linear_model\n",
    "\n",
    "regr = linear_model.LinearRegression()\n",
    "regr.fit(X_norm, Y_train)\n",
    "beta_OLS_water_ca = regr.intercept_, regr.coef_\n",
    "display(beta_OLS_water_ca)\n",
    "display(Y_train.mean())"
   ]
  },
  {
   "cell_type": "code",
   "execution_count": 23,
   "id": "a435b8da",
   "metadata": {
    "hidden": true
   },
   "outputs": [],
   "source": [
    "Y_hat_train = X_train.dot(beta_OLS_explicit_rm_lstat)"
   ]
  },
  {
   "cell_type": "code",
   "execution_count": 24,
   "id": "c6678b48",
   "metadata": {
    "hidden": true
   },
   "outputs": [],
   "source": [
    "def loss_l2(Y_hat, Y):\n",
    "    loss = np.mean(np.power(np.array(Y_hat) - np.array(Y), 2))\n",
    "    return loss"
   ]
  },
  {
   "cell_type": "code",
   "execution_count": 25,
   "id": "54a65bd2",
   "metadata": {
    "hidden": true
   },
   "outputs": [
    {
     "data": {
      "text/plain": [
       "33.62436793638125"
      ]
     },
     "execution_count": 25,
     "metadata": {},
     "output_type": "execute_result"
    }
   ],
   "source": [
    "loss_l2_train = loss_l2(Y_hat_train, Y_train)\n",
    "loss_l2_train"
   ]
  },
  {
   "cell_type": "code",
   "execution_count": 26,
   "id": "3848915b",
   "metadata": {
    "hidden": true
   },
   "outputs": [
    {
     "data": {
      "text/plain": [
       "18.51814260429716"
      ]
     },
     "execution_count": 26,
     "metadata": {},
     "output_type": "execute_result"
    }
   ],
   "source": [
    "X_test = test_sample[regressors_ind]\n",
    "\n",
    "X_test_norm = feature_normalize(X_test, mu, sigma)[0]\n",
    "\n",
    "X_test = X_test_norm.copy()\n",
    "n, d = X_test.shape\n",
    "X_test.insert(0, \"Ones\", np.ones((n, 1)))\n",
    "X_test\n",
    "\n",
    "Y_hat_test = X_test.dot(beta_OLS_explicit_rm_lstat)\n",
    "Y_test= pd.DataFrame(test_sample[explained_var_ind])\n",
    "\n",
    "loss_l2_test = loss_l2(Y_hat_test, Y_test)\n",
    "loss_l2_test"
   ]
  },
  {
   "cell_type": "code",
   "execution_count": 27,
   "id": "48e123f7",
   "metadata": {
    "hidden": true,
    "scrolled": true
   },
   "outputs": [
    {
     "data": {
      "image/png": "[encoded data removed]",
      "text/plain": [
       "<Figure size 432x288 with 1 Axes>"
      ]
     },
     "metadata": {
      "needs_background": "light"
     },
     "output_type": "display_data"
    }
   ],
   "source": [
    "X1 = np.arange(min(X_train[\"rm\"]), max(X_train[\"rm\"]), 0.1)\n",
    "X2 = np.arange(min(X_train[\"lstat\"]), max(X_train[\"lstat\"]), 0.1)\n",
    "X1, X2 = np.meshgrid(X1, X2)\n",
    "Z = beta_OLS_explicit_rm_lstat[0] + X1 * beta_OLS_explicit_rm_lstat[1] + X2 * beta_OLS_explicit_rm_lstat[2]\n",
    "fig = plt.figure()\n",
    "ax = fig.add_subplot(111, projection='3d')\n",
    "ax.scatter(X_norm[\"rm\"], X_norm[\"lstat\"], Y_train, color='red')\n",
    "ax.plot_surface(X1, X2, Z, cmap='inferno')\n",
    "ax.view_init(15, 60)\n",
    "plt.show()"
   ]
  },
  {
   "cell_type": "code",
   "execution_count": 28,
   "id": "678cd059",
   "metadata": {
    "hidden": true
   },
   "outputs": [
    {
     "data": {
      "image/png": "[encoded data removed]",
      "text/plain": [
       "<Figure size 432x288 with 1 Axes>"
      ]
     },
     "metadata": {
      "needs_background": "light"
     },
     "output_type": "display_data"
    }
   ],
   "source": [
    "X1 = np.arange(min(X_test[\"rm\"]), max(X_test[\"rm\"]), 0.1)\n",
    "X2 = np.arange(min(X_test[\"lstat\"]), max(X_test[\"lstat\"]), 0.1)\n",
    "X1, X2 = np.meshgrid(X1, X2)\n",
    "Z = beta_OLS_explicit_rm_lstat[0] + X1 * beta_OLS_explicit_rm_lstat[1] + X2 * beta_OLS_explicit_rm_lstat[2]\n",
    "fig = plt.figure()\n",
    "ax = fig.add_subplot(111, projection='3d')\n",
    "ax.scatter(X_test[\"rm\"], X_test[\"lstat\"], Y_test, color='red')\n",
    "ax.plot_surface(X1, X2, Z, cmap='inferno')\n",
    "ax.view_init(15, 60)\n",
    "plt.show()"
   ]
  },
  {
   "cell_type": "markdown",
   "id": "ce042c1e",
   "metadata": {
    "heading_collapsed": true
   },
   "source": [
    "## Polynomial regression models based on X1 and X2 "
   ]
  },
  {
   "cell_type": "code",
   "execution_count": 29,
   "id": "8598dd96",
   "metadata": {
    "hidden": true
   },
   "outputs": [],
   "source": [
    "X_train = train_sample[regressors_ind]\n",
    "Y_train = train_sample[\"medv\"]"
   ]
  },
  {
   "cell_type": "code",
   "execution_count": 30,
   "id": "3c9c5573",
   "metadata": {
    "hidden": true
   },
   "outputs": [],
   "source": [
    "X_test = test_sample[regressors_ind]\n",
    "Y_test = test_sample[\"medv\"]"
   ]
  },
  {
   "cell_type": "code",
   "execution_count": 31,
   "id": "c7d0e943",
   "metadata": {
    "hidden": true
   },
   "outputs": [],
   "source": [
    "def PolynomialFeatures(X_train, order):\n",
    "    import itertools\n",
    "    V_train = pd.DataFrame() \n",
    "    for index, row in X_train.iterrows():#遍历所有行\n",
    "        row_values = row.tolist()\n",
    "        row_poly_values = []\n",
    "        for o in range(order):#遍历所有阶\n",
    "            row_poly_values_of_this_degree = []\n",
    "            for c in itertools.combinations_with_replacement(row_values, o+1): #当前次数下，排列组合所有形式\n",
    "                result = 1\n",
    "                for i in c: #列表内求积，eg: x1*x1, x1*x2\n",
    "                    result = result * i  \n",
    "                row_poly_values_of_this_degree.append(result)\n",
    "            row_poly_values.extend(row_poly_values_of_this_degree)\n",
    "        V_train_a_row = pd.DataFrame(row_poly_values).T\n",
    "        V_train = V_train.append(V_train_a_row)\n",
    "    n, d = V_train.shape\n",
    "    V_train.index = range(n) #重建索引\n",
    "    V_train.columns = np.array(range(d))+1\n",
    "    V_train.insert(0, \"Ones\", np.ones((n, 1)))\n",
    "    V_train.to_numpy()\n",
    "    return V_train"
   ]
  },
  {
   "cell_type": "code",
   "execution_count": 32,
   "id": "57e248f1",
   "metadata": {
    "hidden": true
   },
   "outputs": [],
   "source": [
    "class PolynomialRegression():\n",
    "    def __init__(self):\n",
    "        self.coefficients = None\n",
    "        self.mu = None\n",
    "        self.sigma = None\n",
    "    \n",
    "    def fit(self, X_train, Y_train, order):\n",
    "        \n",
    "        V_train = PolynomialFeatures(X_train, order+1)\n",
    "        \n",
    "        normalized, self.mu, self.sigma = feature_normalize(V_train.iloc[:,1:])\n",
    "        V_train = np.c_[V_train.iloc[:,0], normalized]\n",
    "\n",
    "        self.coefficients = np.linalg.pinv(V_train.T.dot(V_train)).dot(V_train.T.dot(Y_train))\n",
    "        \n",
    "        Y_train_hat = V_train.dot(self.coefficients).ravel()\n",
    "        mse_train = (np.square(Y_train_hat - Y_train.ravel())).mean()\n",
    "\n",
    "        return self\n",
    "    \n",
    "    def predict(self, X_test): \n",
    "        \n",
    "        V_test = PolynomialFeatures(X_test, order+1) \n",
    "\n",
    "        normalized, _, _ = feature_normalize(V_test.iloc[:,1:], self.mu, self.sigma)\n",
    "        V_test = np.c_[V_test.iloc[:,0], normalized]\n",
    "        \n",
    "        Y_test_hat = V_test.dot(self.coefficients)\n",
    "\n",
    "        return Y_test_hat\n",
    "    \n",
    "    def score(self, X, Y):\n",
    "        Y_hat = self.predict(X)\n",
    "        return (np.square(Y_hat.ravel() - Y.ravel())).mean() #l2 loss function"
   ]
  },
  {
   "cell_type": "code",
   "execution_count": 129,
   "id": "c2bafc9e",
   "metadata": {
    "hidden": true
   },
   "outputs": [],
   "source": [
    "k = 6\n",
    "yh = np.zeros((len(X_train), k))\n",
    "score = np.zeros((1, k)) \n",
    "\n",
    "for order in range(k):\n",
    "    pr = PolynomialRegression().fit(X_train, Y_train, order)\n",
    "    yh[:, order] = pr.predict(X_train).ravel()\n",
    "    score[:, order] = pr.score(X_train, Y_train).ravel()"
   ]
  },
  {
   "cell_type": "code",
   "execution_count": 130,
   "id": "2b4e71fc",
   "metadata": {
    "hidden": true
   },
   "outputs": [
    {
     "data": {
      "text/plain": [
       "array([[33.62436794, 22.32772952, 20.7326886 , 18.63571068, 16.66494789,\n",
       "        15.90599189]])"
      ]
     },
     "execution_count": 130,
     "metadata": {},
     "output_type": "execute_result"
    }
   ],
   "source": [
    "score#training loss "
   ]
  },
  {
   "cell_type": "code",
   "execution_count": 136,
   "id": "74a3c81a",
   "metadata": {},
   "outputs": [
    {
     "data": {
      "text/plain": [
       "array([[ 23.08098765],\n",
       "       [-94.57114105],\n",
       "       [-93.30448252],\n",
       "       [169.56823807],\n",
       "       [151.69056799],\n",
       "       [ 26.81308553],\n",
       "       [-69.96508902],\n",
       "       [-71.18351466],\n",
       "       [-17.5569722 ],\n",
       "       [ -3.04961336]])"
      ]
     },
     "execution_count": 136,
     "metadata": {},
     "output_type": "execute_result"
    }
   ],
   "source": [
    "# Coefficient estimates for order 2\n",
    "pr = PolynomialRegression().fit(X_train, Y_train, 2)\n",
    "theta = pr.coefficients\n",
    "theta"
   ]
  },
  {
   "cell_type": "markdown",
   "id": "e26739fa",
   "metadata": {
    "heading_collapsed": true
   },
   "source": [
    "## Cross validation"
   ]
  },
  {
   "cell_type": "code",
   "execution_count": 35,
   "id": "c646401e",
   "metadata": {
    "hidden": true
   },
   "outputs": [],
   "source": [
    "X_train = train_sample[regressors_ind]\n",
    "Y_train = train_sample[\"medv\"]\n",
    "X_test = test_sample[regressors_ind]\n",
    "Y_test = test_sample[\"medv\"]"
   ]
  },
  {
   "cell_type": "code",
   "execution_count": 36,
   "id": "43ad2af7",
   "metadata": {
    "hidden": true,
    "scrolled": true
   },
   "outputs": [],
   "source": [
    "import math\n",
    "\n",
    "k = 6\n",
    "n_train = X_train.shape[0]\n",
    "n_test = X_test.shape[0]\n",
    "\n",
    "#LOOCV\n",
    "num_fold = n_train \n",
    "n_fold = math.floor(n_train / num_fold)\n",
    "\n",
    "MSE_train_fold = np.zeros((k, num_fold))\n",
    "CV_MSE_fold = np.zeros((k, num_fold))\n",
    "MSE_train = np.zeros((k, 1))\n",
    "CV_MSE = np.zeros((k, 1))\n",
    "Y_test_hat = np.zeros((n_test, k))\n",
    "MSE_test = np.zeros((k, 1))\n",
    "\n",
    "for order in range(k): \n",
    "    Y_train_hat = np.zeros((n_train - n_fold, num_fold))\n",
    "    Y_train_hat_fold = np.zeros((n_fold, num_fold))\n",
    "    X_train_hat = []\n",
    "    for cur_fold in range(num_fold):\n",
    "        X_fold = X_train.iloc[cur_fold * n_fold:(cur_fold + 1) * n_fold]\n",
    "        Y_fold = Y_train.iloc[cur_fold * n_fold:(cur_fold + 1) * n_fold]\n",
    "        X_train_fold = X_train.iloc[np.r_[0:cur_fold * n_fold, (cur_fold + 1) * n_fold:n_train]] \n",
    "        Y_train_fold = Y_train.iloc[np.r_[0:cur_fold * n_fold, (cur_fold + 1) * n_fold:n_train]]\n",
    "        \n",
    "        pr = PolynomialRegression().fit(X_train_fold, Y_train_fold, order)\n",
    "        MSE_train_fold[order, cur_fold] = pr.score(X_train_fold, Y_train_fold)\n",
    "        CV_MSE_fold[order, cur_fold] = pr.score(X_fold, Y_fold)\n",
    "\n",
    "    CV_MSE[order] = CV_MSE_fold[order,:].mean()\n",
    "    MSE_train[order] = MSE_train_fold[order, :].mean()\n",
    "    \n",
    "    pr = PolynomialRegression().fit(X_train, Y_train, order)\n",
    "    MSE_test[order] = pr.score(X_test, Y_test)"
   ]
  },
  {
   "cell_type": "code",
   "execution_count": 37,
   "id": "542a97b5",
   "metadata": {
    "hidden": true
   },
   "outputs": [
    {
     "data": {
      "text/plain": [
       "array([[ 30.06767988],\n",
       "       [ 21.73092542],\n",
       "       [ 27.829155  ],\n",
       "       [ 34.44111995],\n",
       "       [269.09892735],\n",
       "       [ 23.84276612]])"
      ]
     },
     "execution_count": 37,
     "metadata": {},
     "output_type": "execute_result"
    }
   ],
   "source": [
    "CV_MSE"
   ]
  },
  {
   "cell_type": "code",
   "execution_count": 38,
   "id": "22b02bdb",
   "metadata": {
    "hidden": true
   },
   "outputs": [
    {
     "data": {
      "text/plain": [
       "array([1], dtype=int64)"
      ]
     },
     "execution_count": 38,
     "metadata": {},
     "output_type": "execute_result"
    }
   ],
   "source": [
    "# Optimal degree of the polynomial\n",
    "p_opt = np.argsort(CV_MSE, axis=0)[0]\n",
    "p_opt"
   ]
  },
  {
   "cell_type": "code",
   "execution_count": 39,
   "id": "8c807f1f",
   "metadata": {
    "hidden": true
   },
   "outputs": [
    {
     "data": {
      "image/png": "[encoded data removed]",
      "text/plain": [
       "<Figure size 432x288 with 1 Axes>"
      ]
     },
     "metadata": {
      "needs_background": "light"
     },
     "output_type": "display_data"
    }
   ],
   "source": [
    "# Plots of the testing, CV, training errors\n",
    "plt.plot(MSE_train, color=\"magenta\")\n",
    "plt.plot(CV_MSE, color=\"blue\")\n",
    "plt.plot(MSE_test, color='green')\n",
    "plt.legend(('Training error','LOOCV error', 'Test error'))\n",
    "plt.show()"
   ]
  },
  {
   "cell_type": "markdown",
   "id": "74db48d5",
   "metadata": {
    "hidden": true
   },
   "source": [
    "None of the errors can be used as an estimate of statistical risk, because in a complete pipeline, we would need to use nested cross-validation for model selection and evaluation."
   ]
  },
  {
   "cell_type": "markdown",
   "id": "d4729803",
   "metadata": {
    "hidden": true
   },
   "source": [
    "The optimal degree chosen by the training error is 8, but by the cross-validation and by the testing error is 2. We can see that the training error is always decreasing with a higher degree of the polynomial, which means that the more flexible the model, the better it is able to fit the data (including the noise inside). But when the model fits too closely with the noises, it doesn't generalize well on new data. Therefore one tends to overfit the model when fitting the model in-sample and it is useful to use cross-validation (or the testing sample if we have it) to select the optimal degree of the polynomial."
   ]
  },
  {
   "cell_type": "code",
   "execution_count": 40,
   "id": "6f15cfa9",
   "metadata": {
    "hidden": true
   },
   "outputs": [
    {
     "data": {
      "text/plain": [
       "array([[19.97546633]])"
      ]
     },
     "execution_count": 40,
     "metadata": {},
     "output_type": "execute_result"
    }
   ],
   "source": [
    "MSE_train[p_opt]"
   ]
  },
  {
   "cell_type": "code",
   "execution_count": 41,
   "id": "74bc1943",
   "metadata": {
    "hidden": true,
    "scrolled": false
   },
   "outputs": [
    {
     "data": {
      "text/plain": [
       "array([[22.94152662]])"
      ]
     },
     "execution_count": 41,
     "metadata": {},
     "output_type": "execute_result"
    }
   ],
   "source": [
    "MSE_test[p_opt]"
   ]
  },
  {
   "cell_type": "markdown",
   "id": "8c2d8944",
   "metadata": {
    "hidden": true
   },
   "source": [
    "Comparing the training error and the testing error from a model of 2 degrees with the training error and testing error in the linear model in part 3, we can see that the error is much lower with the polynomial model. But this is normal since our data generating process is not linear."
   ]
  },
  {
   "cell_type": "markdown",
   "id": "da7b8b16",
   "metadata": {
    "heading_collapsed": true
   },
   "source": [
    "# Other methods"
   ]
  },
  {
   "cell_type": "markdown",
   "id": "670f815c",
   "metadata": {},
   "source": [
    "## Gradient descent with l2 loss"
   ]
  },
  {
   "cell_type": "code",
   "execution_count": 72,
   "id": "d20f7f99",
   "metadata": {
    "hidden": true
   },
   "outputs": [],
   "source": [
    "class PolynomialRegressionGD_l2():\n",
    "    def __init__(self):\n",
    "        self.coefficients = None\n",
    "        self.mu = None\n",
    "        self.sigma = None\n",
    "    \n",
    "    def fit(self, X_train, Y_train, order, eta, n_iterations):\n",
    "        n_train = X_train.shape[0]\n",
    "        V_train = PolynomialFeatures(X_train, order+1)\n",
    "        \n",
    "        normalized, self.mu, self.sigma = feature_normalize(V_train.iloc[:,1:])\n",
    "        V_train = np.c_[V_train.iloc[:,0], normalized]\n",
    "\n",
    "        theta = np.random.randn(V_train.shape[1], 1)\n",
    "        gradients = np.zeros((V_train.shape[1], 1))\n",
    "        Y_train = np.array(Y_train).reshape(-1, 1)\n",
    "        \n",
    "        for iteration in range(n_iterations):\n",
    "            gradients = 2/n_train * V_train.T.dot(V_train.dot(theta) - Y_train)\n",
    "            theta = theta - eta * gradients\n",
    "            \n",
    "        self.coefficients = theta\n",
    "        \n",
    "        Y_train_hat = (V_train.dot(self.coefficients)).ravel()\n",
    "        mse_train = (np.square(Y_train_hat - Y_train.ravel())).mean()\n",
    "\n",
    "        return self\n",
    "    \n",
    "    def predict(self, X_test): \n",
    "        \n",
    "        V_test = PolynomialFeatures(X_test, order+1) \n",
    "\n",
    "        normalized, _, _ = feature_normalize(V_test.iloc[:,1:], self.mu, self.sigma)\n",
    "        V_test = np.c_[V_test.iloc[:,0], normalized]\n",
    "        \n",
    "        Y_test_hat = V_test.dot(self.coefficients)\n",
    "\n",
    "        return Y_test_hat\n",
    "    \n",
    "    def score(self, X, Y):\n",
    "        Y_hat = self.predict(X)\n",
    "        return (np.square(Y_hat.ravel() - Y.ravel())).mean() #l2 loss function"
   ]
  },
  {
   "cell_type": "code",
   "execution_count": 155,
   "id": "75ec5fc7",
   "metadata": {
    "scrolled": true
   },
   "outputs": [
    {
     "data": {
      "text/plain": [
       "array([[23.08098765],\n",
       "       [-3.23129788],\n",
       "       [-0.03552333],\n",
       "       [ 1.95490827],\n",
       "       [-2.59678755],\n",
       "       [ 3.34889314],\n",
       "       [ 7.14211742],\n",
       "       [-6.10396821],\n",
       "       [ 4.38790223],\n",
       "       [-3.20658407]])"
      ]
     },
     "execution_count": 155,
     "metadata": {},
     "output_type": "execute_result"
    }
   ],
   "source": [
    "order = 2\n",
    "eta = 0.1\n",
    "n_iterations = 1000\n",
    "\n",
    "pr = PolynomialRegressionGD_l2().fit(X_train, Y_train, order, eta, n_iterations)\n",
    "yh = pr.predict(X_train).ravel()\n",
    "score = pr.score(X_train, Y_train).ravel()\n",
    "pr.coefficients"
   ]
  },
  {
   "cell_type": "code",
   "execution_count": 156,
   "id": "e72abbd3",
   "metadata": {},
   "outputs": [
    {
     "data": {
      "text/plain": [
       "14.155200541195411"
      ]
     },
     "execution_count": 156,
     "metadata": {},
     "output_type": "execute_result"
    }
   ],
   "source": [
    "score = pr.score(X_test, Y_test)\n",
    "score"
   ]
  },
  {
   "cell_type": "markdown",
   "id": "47d1b0bb",
   "metadata": {},
   "source": [
    "## Gradient descent with Huber loss"
   ]
  },
  {
   "cell_type": "code",
   "execution_count": 112,
   "id": "32ac45c7",
   "metadata": {},
   "outputs": [],
   "source": [
    "delta = 1.35 * np.std(Y_train)"
   ]
  },
  {
   "cell_type": "code",
   "execution_count": 113,
   "id": "71b3c9c2",
   "metadata": {},
   "outputs": [],
   "source": [
    "class PolynomialRegressionGD_huber():\n",
    "    def __init__(self):\n",
    "        self.coefficients = None\n",
    "        self.mu = None\n",
    "        self.sigma = None\n",
    "    \n",
    "    def fit(self, X_train, Y_train, order, eta, n_iterations):\n",
    "        \n",
    "        V_train = PolynomialFeatures(X_train, order+1)\n",
    "        \n",
    "        normalized, self.mu, self.sigma = feature_normalize(V_train.iloc[:,1:])\n",
    "        V_train = np.c_[V_train.iloc[:,0], normalized]\n",
    "\n",
    "        theta = np.random.randn(V_train.shape[1], 1)\n",
    "    \n",
    "        for iteration in range(n_iterations):\n",
    "            theta = theta.reshape(-1, 1)\n",
    "            error_vector = (np.dot(V_train, theta) - Y_train).ravel()\n",
    "            total_points = 0\n",
    "            gradients = np.zeros((V_train.shape[1], ))\n",
    "            for index, value in enumerate(error_vector):\n",
    "                total_points += 1\n",
    "                error = error_vector[index]\n",
    "                if error <= delta:\n",
    "                    gradient_temp = value * V_train[index, :]\n",
    "                else: \n",
    "                    gradient_temp = delta * abs(V_train[index, :])\n",
    "                gradients = np.add(gradients, gradient_temp.T)\n",
    "            gradients = gradients / total_points\n",
    "            theta = theta.ravel() - eta * gradients\n",
    "            \n",
    "        self.coefficients = theta\n",
    "        \n",
    "        Y_train_hat = V_train.dot(self.coefficients).ravel()\n",
    "        mse_train = (np.square(Y_train_hat - Y_train.ravel())).mean()\n",
    "\n",
    "        return self\n",
    "    \n",
    "    def predict(self, X_test): \n",
    "        \n",
    "        V_test = PolynomialFeatures(X_test, order+1) \n",
    "\n",
    "        normalized, _, _ = feature_normalize(V_test.iloc[:,1:], self.mu, self.sigma)\n",
    "        V_test = np.c_[V_test.iloc[:,0], normalized]\n",
    "        \n",
    "        Y_test_hat = V_test.dot(self.coefficients)\n",
    "\n",
    "        return Y_test_hat\n",
    "    \n",
    "    def score(self, X, Y):\n",
    "        Y_hat = self.predict(X)\n",
    "        return (np.square(Y_hat.ravel() - Y.ravel())).mean() #l2 loss function"
   ]
  },
  {
   "cell_type": "code",
   "execution_count": 157,
   "id": "82b645d4",
   "metadata": {},
   "outputs": [
    {
     "data": {
      "text/plain": [
       "array([23.12317167, -3.41736429, -0.53513378,  1.13730047, -2.42525231,\n",
       "        1.93230676,  7.97307034, -4.65919376,  2.60637079, -1.04069544])"
      ]
     },
     "execution_count": 157,
     "metadata": {},
     "output_type": "execute_result"
    }
   ],
   "source": [
    "order = 2\n",
    "eta = 0.1\n",
    "n_iterations = 1000\n",
    "\n",
    "pr = PolynomialRegressionGD_huber().fit(X_train, Y_train, order, eta, n_iterations)\n",
    "yh = pr.predict(X_train).ravel()\n",
    "score = pr.score(X_train, Y_train).ravel()\n",
    "pr.coefficients"
   ]
  },
  {
   "cell_type": "code",
   "execution_count": 158,
   "id": "1ca3c40a",
   "metadata": {},
   "outputs": [
    {
     "data": {
      "text/plain": [
       "13.672281141940063"
      ]
     },
     "execution_count": 158,
     "metadata": {},
     "output_type": "execute_result"
    }
   ],
   "source": [
    "score = pr.score(X_test, Y_test)\n",
    "score"
   ]
  },
  {
   "cell_type": "markdown",
   "id": "087d15a0",
   "metadata": {},
   "source": [
    "## Stochastic gradient descent with l2 loss"
   ]
  },
  {
   "cell_type": "code",
   "execution_count": 116,
   "id": "1892c834",
   "metadata": {},
   "outputs": [],
   "source": [
    "def learning_schedule(t):\n",
    "        t0, t1 = 5, 50\n",
    "        return t0 / (t + t1)\n",
    "\n",
    "class PolynomialRegressionSGD_l2():\n",
    "    def __init__(self):\n",
    "        self.coefficients = None\n",
    "        self.mu = None\n",
    "        self.sigma = None\n",
    "    \n",
    "    def fit(self, X_train, Y_train, order, n_epochs):\n",
    "        \n",
    "        V_train = PolynomialFeatures(X_train, order+1)\n",
    "        \n",
    "        normalized, self.mu, self.sigma = feature_normalize(V_train.iloc[:,1:])\n",
    "        V_train = np.c_[V_train.iloc[:,0], normalized]\n",
    "\n",
    "        np.random.seed(42)\n",
    "        \n",
    "        theta = np.random.randn(V_train.shape[1], 1)\n",
    "        \n",
    "        for epoch in range(n_epochs):\n",
    "            for i in range(n_train):\n",
    "                random_index = np.random.randint(n_train)\n",
    "                xi = V_train[random_index:random_index+1]\n",
    "                yi = Y_train[random_index:random_index+1]\n",
    "                gradients = 2 * xi.T.dot(xi.dot(theta) - yi)\n",
    "                eta = learning_schedule(epoch * n_train + i)\n",
    "                theta = theta - eta * gradients\n",
    "            \n",
    "        self.coefficients = theta\n",
    "        \n",
    "        Y_train_hat = V_train.dot(self.coefficients).ravel()\n",
    "        mse_train = (np.square(Y_train_hat - Y_train.ravel())).mean()\n",
    "\n",
    "        return self\n",
    "    \n",
    "    def predict(self, X_test): \n",
    "        \n",
    "        V_test = PolynomialFeatures(X_test, order+1) \n",
    "\n",
    "        normalized, _, _ = feature_normalize(V_test.iloc[:,1:], self.mu, self.sigma)\n",
    "        V_test = np.c_[V_test.iloc[:,0], normalized]\n",
    "        \n",
    "        Y_test_hat = V_test.dot(self.coefficients)\n",
    "\n",
    "        return Y_test_hat\n",
    "    \n",
    "    def score(self, X, Y):\n",
    "        Y_hat = self.predict(X)\n",
    "        return (np.square(Y_hat.ravel() - Y.ravel())).mean() #l2 loss function"
   ]
  },
  {
   "cell_type": "code",
   "execution_count": 159,
   "id": "417deb3b",
   "metadata": {},
   "outputs": [
    {
     "data": {
      "text/plain": [
       "array([[23.07128375],\n",
       "       [-0.52011989],\n",
       "       [ 2.7529903 ],\n",
       "       [ 2.98111116],\n",
       "       [-2.17039123],\n",
       "       [ 2.90850077],\n",
       "       [ 4.30945957],\n",
       "       [-6.46868593],\n",
       "       [ 1.25816972],\n",
       "       [-1.65318747]])"
      ]
     },
     "execution_count": 159,
     "metadata": {},
     "output_type": "execute_result"
    }
   ],
   "source": [
    "order = 2\n",
    "eta = 0.1\n",
    "n_epochs = 50\n",
    "\n",
    "pr = PolynomialRegressionSGD_l2().fit(X_train, Y_train, order, n_epochs)\n",
    "yh = pr.predict(X_train).ravel()\n",
    "score = pr.score(X_train, Y_train).ravel()\n",
    "pr.coefficients"
   ]
  },
  {
   "cell_type": "code",
   "execution_count": 160,
   "id": "24958d96",
   "metadata": {},
   "outputs": [
    {
     "data": {
      "text/plain": [
       "13.735501130405469"
      ]
     },
     "execution_count": 160,
     "metadata": {},
     "output_type": "execute_result"
    }
   ],
   "source": [
    "score = pr.score(X_test, Y_test)\n",
    "score"
   ]
  },
  {
   "cell_type": "markdown",
   "id": "f62af13e",
   "metadata": {},
   "source": [
    "## Stochastic gradient descent with Huber loss"
   ]
  },
  {
   "cell_type": "code",
   "execution_count": 119,
   "id": "19965059",
   "metadata": {},
   "outputs": [],
   "source": [
    "class PolynomialRegressionSGD_huber():\n",
    "    def __init__(self):\n",
    "        self.coefficients = None\n",
    "        self.mu = None\n",
    "        self.sigma = None\n",
    "    \n",
    "    def fit(self, X_train, Y_train, order, n_epochs):\n",
    "        \n",
    "        V_train = PolynomialFeatures(X_train, order+1)\n",
    "        \n",
    "        normalized, self.mu, self.sigma = feature_normalize(V_train.iloc[:,1:])\n",
    "        V_train = np.c_[V_train.iloc[:,0], normalized]\n",
    "\n",
    "        np.random.seed(42)\n",
    "        \n",
    "        theta = np.random.randn(V_train.shape[1], 1)\n",
    "        \n",
    "        for epoch in range(n_epochs):\n",
    "            for i in range(n_train):\n",
    "                random_index = np.random.randint(n_train)\n",
    "                xi = V_train[random_index:random_index+1]\n",
    "                yi = Y_train[random_index:random_index+1]\n",
    "                \n",
    "                delta = 1.35\n",
    "                theta = theta.reshape(-1, 1)\n",
    "                error_vector = (np.dot(xi, theta) - yi).ravel()\n",
    "                total_points = 0\n",
    "                gradients = np.zeros((xi.shape[1], ))\n",
    "                for index, value in enumerate(error_vector):\n",
    "                    total_points += 1\n",
    "                    error = error_vector[index]\n",
    "                    if error <= delta:\n",
    "                        gradient_temp = value * xi[index, :]\n",
    "                    else: \n",
    "                        gradient_temp = delta * abs(xi[index, :])\n",
    "                    gradients = np.add(gradients, gradient_temp.T)\n",
    "                gradients = gradients / total_points\n",
    "                eta = learning_schedule(epoch * n_train + i)\n",
    "                theta = theta.ravel() - eta * gradients\n",
    "            \n",
    "        self.coefficients = theta\n",
    "        \n",
    "        Y_train_hat = V_train.dot(self.coefficients).ravel()\n",
    "        mse_train = (np.square(Y_train_hat - Y_train.ravel())).mean()\n",
    "\n",
    "        return self\n",
    "    \n",
    "    def predict(self, X_test): \n",
    "        \n",
    "        V_test = PolynomialFeatures(X_test, order+1) \n",
    "\n",
    "        normalized, _, _ = feature_normalize(V_test.iloc[:,1:], self.mu, self.sigma)\n",
    "        V_test = np.c_[V_test.iloc[:,0], normalized]\n",
    "        \n",
    "        Y_test_hat = V_test.dot(self.coefficients)\n",
    "\n",
    "        return Y_test_hat\n",
    "    \n",
    "    def score(self, X, Y):\n",
    "        Y_hat = self.predict(X)\n",
    "        return (np.square(Y_hat.ravel() - Y.ravel())).mean() #l2 loss function"
   ]
  },
  {
   "cell_type": "code",
   "execution_count": 161,
   "id": "da3314f9",
   "metadata": {},
   "outputs": [
    {
     "data": {
      "text/plain": [
       "array([27.60693303, -3.46316041, -4.65593176,  0.82514807, -5.11387845,\n",
       "        0.54911258,  3.65385411, -3.24096954,  0.89315445,  2.88902816])"
      ]
     },
     "execution_count": 161,
     "metadata": {},
     "output_type": "execute_result"
    }
   ],
   "source": [
    "order = 2\n",
    "eta = 0.1\n",
    "n_epochs = 50\n",
    "\n",
    "pr = PolynomialRegressionSGD_huber().fit(X_train, Y_train, order, n_epochs)\n",
    "yh = pr.predict(X_train).ravel()\n",
    "score = pr.score(X_train, Y_train).ravel()\n",
    "pr.coefficients"
   ]
  },
  {
   "cell_type": "code",
   "execution_count": 162,
   "id": "cbb55e5e",
   "metadata": {},
   "outputs": [
    {
     "data": {
      "text/plain": [
       "56.279813032720995"
      ]
     },
     "execution_count": 162,
     "metadata": {},
     "output_type": "execute_result"
    }
   ],
   "source": [
    "score = pr.score(X_test, Y_test)\n",
    "score"
   ]
  }
 ],
 "metadata": {
  "kernelspec": {
   "display_name": "Python 3",
   "language": "python",
   "name": "python3"
  },
  "language_info": {
   "codemirror_mode": {
    "name": "ipython",
    "version": 3
   },
   "file_extension": ".py",
   "mimetype": "text/x-python",
   "name": "python",
   "nbconvert_exporter": "python",
   "pygments_lexer": "ipython3",
   "version": "3.8.5"
  },
  "toc": {
   "base_numbering": 1,
   "nav_menu": {},
   "number_sections": true,
   "sideBar": true,
   "skip_h1_title": false,
   "title_cell": "Table of Contents",
   "title_sidebar": "Contents",
   "toc_cell": false,
   "toc_position": {},
   "toc_section_display": true,
   "toc_window_display": false
  }
 },
 "nbformat": 4,
 "nbformat_minor": 5
}
